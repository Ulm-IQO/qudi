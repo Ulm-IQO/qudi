{
 "cells": [
  {
   "cell_type": "code",
   "execution_count": 1,
   "metadata": {
    "pycharm": {
     "name": "#%%\n"
    }
   },
   "outputs": [],
   "source": [
    "# Version: 0.0.1\n",
    "# Date:    2022-07-22\n",
    "# Author:  P. J. Vetter, Timo Joas\n",
    "# Email=  philipp.vetter@uni-ulm.de;"
   ]
  },
  {
   "cell_type": "code",
   "execution_count": 1,
   "metadata": {
    "pycharm": {
     "name": "#%%\n"
    }
   },
   "outputs": [],
   "source": [
    "# Simulation to investigate the robustness of the optimal control pulse. \n",
    "# Pulse units are abstracted away by imported ArbPulse class\n",
    "\n",
    "# The oc_element function reads in the pulse files and creates the corresponding pulse\n",
    "\n",
    "# all possible initial states are defined in the 'Initial State' section\n",
    "# density matrix of the m_s = 0 state: rho_ms0 \n",
    "# density matrix of the m_s = -1 state: rho_msm1\n",
    "# density matrix of the x state: rho_x\n",
    "# density matrix of the y state: rho_y\n",
    "\n",
    "# (The first run might take a bit longer due to the plot generation)"
   ]
  },
  {
   "cell_type": "markdown",
   "metadata": {
    "pycharm": {
     "name": "#%% md\n"
    }
   },
   "source": [
    "# Packages"
   ]
  },
  {
   "cell_type": "code",
   "execution_count": 1,
   "metadata": {
    "pycharm": {
     "name": "#%%\n"
    }
   },
   "outputs": [
    {
     "data": {
      "text/plain": [
       "'C:\\\\Software\\\\qudi\\\\user_scripts\\\\Timo\\\\own\\\\optimalcontrol'"
      ]
     },
     "execution_count": 1,
     "metadata": {},
     "output_type": "execute_result"
    }
   ],
   "source": [
    "import os\n",
    "os.getcwd()"
   ]
  },
  {
   "cell_type": "code",
   "execution_count": 2,
   "metadata": {
    "pycharm": {
     "name": "#%%\n"
    }
   },
   "outputs": [],
   "source": [
    "#%matplotlib notebook\n",
    "#%matplotlib notebook\n",
    "\n",
    "import qutip\n",
    "import numpy as np\n",
    "import matplotlib.pyplot as plt\n",
    "from scipy.optimize import curve_fit\n",
    "import os\n",
    "from scipy import interpolate\n",
    "import matplotlib as mpl\n",
    "\n",
    "from oc_simlib import TimeDependentSimulation, SimParameters, ArbPulse, PredefinedArbPulses\n",
    "\n",
    "plt.rcParams.update({'font.size': 30})  "
   ]
  },
  {
   "cell_type": "markdown",
   "metadata": {
    "pycharm": {
     "name": "#%% md\n"
    }
   },
   "source": [
    "# Library"
   ]
  },
  {
   "cell_type": "code",
   "execution_count": 3,
   "metadata": {
    "pycharm": {
     "name": "#%%\n"
    }
   },
   "outputs": [
    {
     "data": {
      "text/plain": [
       "0"
      ]
     },
     "execution_count": 3,
     "metadata": {},
     "output_type": "execute_result"
    }
   ],
   "source": [
    "def demod_iq_simple(samples, f_carrier, t):\n",
    "    # integrate the following equation over N periods and assume that f(I) << f\n",
    "    # s= I*sin(ft) + Q*cos(ft) | *sin\n",
    "        \n",
    "    f = f_carrier\n",
    "    t_per = 1/f\n",
    "    n_per = int(np.round(t[-1] / t_per))\n",
    "    idx_t_per = int(np.argmin(abs(t_per - t)))\n",
    "\n",
    "\n",
    "    i, q = [], []\n",
    "    for idx in range(0, n_per):\n",
    "        i_start = idx*idx_t_per\n",
    "        i_end = (idx+1)*idx_t_per\n",
    "        s = samples[i_start:i_end]\n",
    "        ts = 2*np.pi*f*t[i_start:i_end]\n",
    "\n",
    "        i.append(np.trapz(s*np.sin(ts))/np.pi)\n",
    "        q.append(np.trapz(s*np.cos(ts))/np.pi)\n",
    "    \n",
    "    return i,q\n",
    "\n",
    "def get_f_limits(f_res, f_centers_block, df=10e6, symm_block=False):\n",
    "    f_centers_block_mhz = 1e-6 * np.asarray(f_centers_block).flatten()\n",
    "    f_res_mhz = f_res*1e-6\n",
    "    df_mhz = df*1e-6\n",
    "    freqs = []\n",
    "    if symm_block:\n",
    "        deltas = []\n",
    "        for f_mhz in f_centers_block_mhz:\n",
    "            deltas.append(abs(f_mhz - f_res_mhz))\n",
    "        \n",
    "        f_centers = []\n",
    "        for d_mhz in deltas:\n",
    "            f_center_2_mhz_min = f_res_mhz - d_mhz\n",
    "            f_center_2_mhz_plus = f_res_mhz + d_mhz\n",
    "            f_centers.append(f_center_2_mhz_min)\n",
    "            f_centers.append(f_center_2_mhz_plus)\n",
    "    else:\n",
    "        f_centers = f_centers_block_mhz\n",
    "\n",
    "    for f in f_centers:\n",
    "        freqs.append([1e6*(f-df_mhz), 1e6*(f+df_mhz)])\n",
    "    return freqs\n",
    "    \n",
    "def calc_crosstalk_penalty(freqs, spin_pop, f_res, f_center_block, df, symm_block=False, fac_penalty=1):\n",
    "\n",
    "    \n",
    "    idxs = np.empty((0), dtype=int)\n",
    "    for (f_min, f_max) in get_f_limits(f_res, f_center_block, df, symm_block=symm_block):      \n",
    "        idxs = np.append(idxs, np.where(np.logical_and(freqs >= f_min, freqs <= f_max)))\n",
    "    \n",
    "    #return idxs\n",
    "    spin_pop = np.mean(spin_pop[idxs])\n",
    "    \n",
    "    # as in optimalcontrol_quocs.ipynb\n",
    "    fom_sim = (1 + fac_penalty*(abs(1-spin_pop)))\n",
    "    \n",
    "    return fom_sim\n",
    "\n",
    "def partial_trace(rho, sub=0, dims=None):\n",
    "    if dims is None:\n",
    "        dims = [[2,2],[2,2]]\n",
    "    return np.asarray(qutip.Qobj(rho, dims=dims).ptrace(sub))    \n",
    "\n",
    "def swap_basis_def(rho):\n",
    "    # Genkos state definition is different!\n",
    "    return np.rot90(rho,2).T\n",
    "\n",
    "def sample_pulse_timegrid(pulse, f_carrier, sample_rate=None):\n",
    "    timegrid_pulse = pulse.get_timegrid(unit='s')\n",
    "    t_pulse = timegrid_pulse[-1]\n",
    "    if sample_rate is None:\n",
    "        dt_sample = 1/pulsedmeasurementlogic.pulsegenerator().get_sample_rate()\n",
    "    else:\n",
    "        dt_sample = 1/sample_rate\n",
    "    timegrid_sampling = np.arange(0, t_pulse, dt_sample)\n",
    "    \n",
    "    return timegrid_sampling\n",
    "    \n",
    "\n",
    "def sample_pulse(pulse, f_carrier, sample_rate=None, phase_carrier_rad=0):\n",
    "    timegrid_pulse = pulse.get_timegrid(unit='s')\n",
    "    timegrid_sampling = sample_pulse_timegrid(pulse, f_carrier, sample_rate)\n",
    "    amplitude = pulse.get_data_ampl(unit='V')\n",
    "    phase = pulse.get_data_phase(unit='V')\n",
    "\n",
    "    \n",
    "    amplitude_func = interpolate.interp1d(timegrid_pulse, amplitude)\n",
    "    phase_func = interpolate.interp1d(timegrid_pulse, phase)\n",
    "    samples_arr = _get_sine_func(timegrid_sampling, amplitude_func, f_carrier, phase_carrier_rad, phase_func)\n",
    "    \n",
    "    return samples_arr\n",
    "\n",
    "\n",
    "def _get_sine_func(time_array, amplitude_func, frequency, phase_rad, phase_func):\n",
    "    samples_arr = amplitude_func(time_array - time_array[0]) * np.sin(2*np.pi * frequency * time_array + phase_rad) \\\n",
    "                  + phase_func(time_array - time_array[0]) * np.cos(2*np.pi * frequency * time_array + phase_rad)\n",
    "\n",
    "    return samples_arr\n",
    "\n",
    "\n",
    "def get_rescale_factor_ampl(pulse, f_carrier, max_ampl_v=0.25, sample_rate=None):\n",
    "    # shaddows qudi::sampling_func\n",
    "    \n",
    "    # sampling for the awg has an unknown pulse position and hence phase\n",
    "    # make sure that the pulse works for all phases by calculating rescale factor for worst case\n",
    "    phases_rad = np.linspace(0, 2*np.pi, 100)\n",
    "    samples_arr = sample_pulse(pulse, f_carrier, sample_rate=sample_rate)\n",
    "    for ph in phases_rad:\n",
    "        samples_curr = sample_pulse(pulse, f_carrier, phase_carrier_rad=ph, sample_rate=sample_rate)\n",
    "        if np.max(samples_curr) > np.max(samples_arr):\n",
    "            samples_arr = samples_curr\n",
    "            #logger.debug(f\"New max pulse ampl {np.max(samples_curr)} for phase {ph/np.pi} pi\")\n",
    "            \n",
    "    max_sample_before = np.max(samples_arr)\n",
    "    \n",
    "    # avoid re-scaling by the pg, todo: think of better way\n",
    "    import scipy\n",
    "    if max(abs(samples_arr)) > 0.25:\n",
    "        biggest_val = max([abs(np.min(samples_arr)), np.max(samples_arr)])\n",
    "        mapper = scipy.interpolate.interp1d([-biggest_val, biggest_val], [-max_ampl_v, max_ampl_v])\n",
    "        samples_arr = mapper(samples_arr)\n",
    "        \n",
    "    max_samples_after = np.max(samples_arr)\n",
    "    \n",
    "    return max_samples_after/max_sample_before\n",
    "    \n",
    "0"
   ]
  },
  {
   "cell_type": "markdown",
   "metadata": {
    "pycharm": {
     "name": "#%% md\n"
    }
   },
   "source": [
    "# Variables"
   ]
  },
  {
   "cell_type": "code",
   "execution_count": 5,
   "metadata": {
    "pycharm": {
     "name": "#%%\n"
    }
   },
   "outputs": [],
   "source": [
    "# magnetic field [G]\n",
    "B = 90"
   ]
  },
  {
   "cell_type": "markdown",
   "metadata": {
    "pycharm": {
     "name": "#%% md\n"
    }
   },
   "source": [
    "## Load pulses"
   ]
  },
  {
   "cell_type": "code",
   "execution_count": 16,
   "metadata": {},
   "outputs": [
    {
     "data": {
      "text/plain": [
       "0.19685039370078738"
      ]
     },
     "execution_count": 16,
     "metadata": {},
     "output_type": "execute_result"
    }
   ],
   "source": [
    "1/1.27*0.25"
   ]
  },
  {
   "cell_type": "code",
   "execution_count": 45,
   "metadata": {
    "pycharm": {
     "name": "#%%\n"
    }
   },
   "outputs": [
    {
     "data": {
      "text/plain": [
       "{'name': 'on_nv=1_',\n",
       " 'folder': 'C:\\\\Software\\\\qudi_data\\\\optimal_control_assets\\\\_fromJuelich\\\\20221013_1_pi\\\\rescaled_3',\n",
       " 'file': ['C:\\\\Software\\\\qudi_data\\\\optimal_control_assets\\\\_fromJuelich\\\\20221013_1_pi\\\\rescaled_3\\\\on_nv=1_amplitude.txt',\n",
       "  'C:\\\\Software\\\\qudi_data\\\\optimal_control_assets\\\\_fromJuelich\\\\20221013_1_pi\\\\rescaled_3\\\\on_nv=1_phase.txt'],\n",
       " 'timegrid_unit': 's',\n",
       " 'data_unit': 'V',\n",
       " 'data_ampl': array([ 0.00000000e+00,  1.19048352e-06,  4.72524847e-06, ...,\n",
       "        -5.33809674e-07, -1.20539718e-07, -0.00000000e+00]),\n",
       " 'data_phase': array([-0.00000000e+00, -2.81395009e-07, -1.09602479e-06, ...,\n",
       "         2.11664513e-06,  5.37418127e-07,  0.00000000e+00]),\n",
       " 'timegrid_ampl': array([0.00000000e+00, 4.00160064e-11, 8.00320128e-11, ...,\n",
       "        9.99199680e-08, 9.99599840e-08, 1.00000000e-07]),\n",
       " 'timegrid_phase': array([0.00000000e+00, 4.00160064e-11, 8.00320128e-11, ...,\n",
       "        9.99199680e-08, 9.99599840e-08, 1.00000000e-07])}"
      ]
     },
     "execution_count": 45,
     "metadata": {},
     "output_type": "execute_result"
    }
   ],
   "source": [
    "\n",
    "\n",
    "\n",
    "folder = r\"input_pulses\\rect\"\n",
    "name = \"rec_amp_20MHz_0.025mus_\"\n",
    "#pulse = ArbPulse.load_pulse(folder, name, unit_t='µs', unit_data='MHz')\n",
    "\n",
    "#folder = r\"input_pulses\"\n",
    "#name = \"on_nv=2_\"\n",
    "\n",
    "folder = r\"C:\\Software\\qudi_data\\optimal_control_assets\\20220727_1_guessFromReisserMsc\"\n",
    "name = \"opt_res_\"\n",
    "pulse = ArbPulse.load_pulse(folder, name, unit_t='s', unit_data='V',\n",
    "                            func_ampl_v_2_omega_mhz=lambda x: x/0.25*20,\n",
    "                            func_omega_mhz_2_ampl_v=lambda x: 1/(x/0.25*20))\n",
    "\n",
    "folder = r\"C:\\Software\\qudi_data\\optimal_control_assets\\_fromJuelich\\20221013_1_pi\\rescaled_3\"\n",
    "#folder = r\"C:\\Software\\qudi_data\\optimal_control_assets\"\n",
    "name = \"on_nv=1_\"\n",
    "#name = \"jul_res_on_nv=1_\"\n",
    "pulse = ArbPulse.load_pulse(folder, name, unit_t='s', unit_data='V',\n",
    "                            func_ampl_v_2_omega_mhz=lambda x: x/(1/1.27*0.25)*1/59.5e-9)\n",
    "pulse = ArbPulse.load_pulse(folder, name, unit_t='s', unit_data='V',\n",
    "                            func_ampl_v_2_omega_mhz=lambda x: x/(1/1.27*0.25)*1/59.5e-3)\n",
    "\n",
    "#pulse = ArbPulse.load_pulse(folder, name, unit_t='s', unit_data='V',\n",
    "#                            func_ampl_v_2_omega_mhz=lambda x: x/1*80)\n",
    "\n",
    "#folder = r\"C:\\Software\\qudi_data\\optimal_control_assets\\Reisser_MSc_pulse_1\"\n",
    "#name = \"Opt_Pulse_01_\"\n",
    "#pulse = ArbPulse.load_pulse(folder, name, unit_t='ns', unit_data='MHz')\n",
    "\n",
    "\n",
    "# loading experimental pulse\n",
    "# 0.25 = 20 MHz\n",
    "#pulse = ArbPulse.load_pulse(folder, name, unit_t='s',  func_ampl_v_2_omega_mhz=lambda x: x/0.25*20)\n",
    "\n",
    "\n",
    "#pulse = TimeDependentSimulation.load_pulse(folder, name, func_t_2_us=lambda t: t*1e6)\n",
    "#\n",
    "pulse.as_dict()\n",
    "\n",
    "\n"
   ]
  },
  {
   "cell_type": "code",
   "execution_count": 123,
   "metadata": {},
   "outputs": [
    {
     "data": {
      "text/plain": [
       "1.8956501125992653"
      ]
     },
     "execution_count": 123,
     "metadata": {},
     "output_type": "execute_result"
    }
   ],
   "source": [
    "(lambda x: x/(0.65*0.125)*1/64.9e-3)(1)/(lambda x: x/0.168*1/59.5e-3)(1)"
   ]
  },
  {
   "cell_type": "code",
   "execution_count": 125,
   "metadata": {},
   "outputs": [
    {
     "data": {
      "text/plain": [
       "2.2553484162895927"
      ]
     },
     "execution_count": 125,
     "metadata": {},
     "output_type": "execute_result"
    }
   ],
   "source": [
    "(0.168*1/59.5e-3)/((0.65*0.125)*1/64.9e-3)"
   ]
  },
  {
   "cell_type": "code",
   "execution_count": null,
   "metadata": {
    "pycharm": {
     "name": "#%%\n"
    }
   },
   "outputs": [],
   "source": [
    "pulse.as_dict()"
   ]
  },
  {
   "cell_type": "code",
   "execution_count": null,
   "metadata": {
    "pycharm": {
     "name": "#%%\n"
    }
   },
   "outputs": [],
   "source": [
    "len(pulse.as_dict()['timegrid_ampl'])"
   ]
  },
  {
   "cell_type": "markdown",
   "metadata": {
    "pycharm": {
     "name": "#%% md\n"
    }
   },
   "source": [
    "## Generate pulses"
   ]
  },
  {
   "cell_type": "code",
   "execution_count": 91,
   "metadata": {
    "pycharm": {
     "name": "#%%\n"
    }
   },
   "outputs": [],
   "source": [
    "\n",
    "pulse = PredefinedArbPulses.generate_levitt(20e6, phase=0)\n",
    "pulse = PredefinedArbPulses.generate_rect_pi(16e6, phase=0)\n",
    "\n",
    "#pulse['data_phase']\n",
    "#val_i, val_q = np.asarray([1,0])*1\n",
    "#np.asarray([np.pi/2, 0, np.pi/2]) + 0\n",
    "\n",
    "#data_ampl = np.asarray([0,0,0])\n",
    "#data_ampl[0:3] = 1\n",
    "#data_ampl"
   ]
  },
  {
   "cell_type": "markdown",
   "metadata": {
    "pycharm": {
     "name": "#%% md\n"
    }
   },
   "source": [
    "## Plot pulses"
   ]
  },
  {
   "cell_type": "code",
   "execution_count": 46,
   "metadata": {
    "pycharm": {
     "name": "#%%\n"
    }
   },
   "outputs": [
    {
     "data": {
      "image/png": "[encoded data removed]",
      "text/plain": [
       "<Figure size 432x288 with 2 Axes>"
      ]
     },
     "metadata": {},
     "output_type": "display_data"
    },
    {
     "data": {
      "text/plain": [
       "(0.110253256196438, 9.413219184502607)"
      ]
     },
     "execution_count": 46,
     "metadata": {},
     "output_type": "execute_result"
    }
   ],
   "source": [
    "import matplotlib.pyplot as plt\n",
    "    \n",
    "t_amplitude = pulse.get_timegrid(unit='us')\n",
    "t_phase = pulse.get_timegrid(unit='us')\n",
    "try:\n",
    "    amplitude = pulse.get_data_ampl(unit='V')\n",
    "    phase = pulse.get_data_phase(unit='V')\n",
    "    max_ampl = np.max([np.max(phase), np.max(amplitude)])\n",
    "except ValueError:\n",
    "    amplitude, phase, max_ampl = None, None, None\n",
    "    \n",
    "try:\n",
    "    amplitude_rabi = pulse.get_data_ampl(unit='MHz')\n",
    "    phase_rabi = pulse.get_data_phase(unit='MHz')\n",
    "    max_rabi = np.max([np.max(amplitude_rabi), np.max(phase_rabi)])\n",
    "except ValueError:\n",
    "    amplitude_rabi, phase_rabi, max_rabi = None, None, None\n",
    "\n",
    "\n",
    "\n",
    "try:\n",
    "    #plt.figure(figsize=(10,6))\n",
    "    fig, ax1 = plt.subplots()\n",
    "    if amplitude is not None:\n",
    "        ax1.plot(t_amplitude, amplitude, label=\"Ampl (I)\")\n",
    "        ax1.plot(t_phase, phase, label=\"Phase (Q)\")\n",
    "        ax1.set_ylabel(\"Rabi freq (V)\")\n",
    "        ax1.set_xlabel(\"time (us)\")\n",
    "    else:\n",
    "        ax1.get_yaxis().set_visible(False)\n",
    "        \n",
    "    ax2 = ax1.twinx()\n",
    "    if amplitude_rabi is not None:\n",
    "        ax2.plot(t_amplitude, amplitude_rabi, label=\"Ampl (I)\")\n",
    "        ax2.plot(t_phase, phase_rabi, label=\"Phase (Q)\")\n",
    "        ax2.set_ylabel(\"Rabi freq (MHz)\")\n",
    "    else:\n",
    "        ax2.get_yaxis().set_visible(False)\n",
    "    \n",
    "    # plt.plot(t_phase, phase+amplitude, label=\"I+Q\")\n",
    "    plt.legend(loc='best', prop={'size': 20})\n",
    "    plt.show()\n",
    "except:\n",
    "    logger.exception(\"\")\n",
    "    \n",
    "    \n",
    "max_ampl, max_rabi"
   ]
  },
  {
   "cell_type": "code",
   "execution_count": 47,
   "metadata": {},
   "outputs": [
    {
     "data": {
      "text/plain": [
       "1.8491243532503578"
      ]
     },
     "execution_count": 47,
     "metadata": {},
     "output_type": "execute_result"
    }
   ],
   "source": [
    "0.2038719696/0.11025325"
   ]
  },
  {
   "cell_type": "markdown",
   "metadata": {
    "pycharm": {
     "name": "#%% md\n"
    }
   },
   "source": [
    "# Parameters, Operators"
   ]
  },
  {
   "cell_type": "code",
   "execution_count": 8,
   "metadata": {
    "pycharm": {
     "name": "#%%\n"
    }
   },
   "outputs": [
    {
     "data": {
      "text/plain": [
       "2.8"
      ]
     },
     "execution_count": 8,
     "metadata": {},
     "output_type": "execute_result"
    }
   ],
   "source": [
    "\n",
    "simp = SimParameters()\n",
    "simp.gamma_nv"
   ]
  },
  {
   "cell_type": "markdown",
   "metadata": {
    "pycharm": {
     "name": "#%% md\n"
    }
   },
   "source": [
    "# Measurements"
   ]
  },
  {
   "cell_type": "code",
   "execution_count": null,
   "metadata": {
    "pycharm": {
     "name": "#%%\n"
    }
   },
   "outputs": [],
   "source": [
    "f_exp_mhz = 1e-6*exp_data[0,:] - (2710-2628)\n",
    "f_exp_mhz_mirr = 1e-6*exp_data[0,:][::-1] - (2710-2628)\n",
    "y_exp = (exp_data[1,:]*3.6)-2.55"
   ]
  },
  {
   "cell_type": "code",
   "execution_count": null,
   "metadata": {
    "pycharm": {
     "name": "#%%\n"
    }
   },
   "outputs": [],
   "source": [
    "\n",
    "\n",
    "#get_f_limits(1e6*f_mw, 1e6*f_block, 1e6*df_block, symm_block=True)\n",
    "#np.where(np.logical_and(freq_array >= 2700, freq_array <= 2720))"
   ]
  },
  {
   "cell_type": "markdown",
   "metadata": {
    "pycharm": {
     "name": "#%% md\n"
    }
   },
   "source": [
    "## Frequency Detuning"
   ]
  },
  {
   "cell_type": "code",
   "execution_count": 22,
   "metadata": {
    "pycharm": {
     "name": "#%%\n"
    }
   },
   "outputs": [],
   "source": [
    "\n",
    "#B = 86.07\n",
    "f_res = 2825e6\n",
    "B = abs(f_res*1e-6-simp.D)/simp.gamma_nv\n",
    "df = 150#120#120 # MHz\n",
    "\n",
    "#f_block = (f_res - 93e6)*1e-6 # MHz\n",
    "f_block = np.asarray([f_res*1e-6 - 95.6, 3018.4, 2935.6])\n",
    "df_block = 10\n",
    "fac_penalty = 100\n",
    "\n",
    "\n",
    "symm_block = True\n",
    "f_mw = simp.D-simp.gamma_nv * B\n",
    "\n",
    "n_f = np.min([int(df/0.25), 500])\n",
    "n_f= 150\n",
    "\n",
    "\n",
    "\n",
    "sim = TimeDependentSimulation()\n",
    "\n",
    "freq_array = np.linspace(simp.D - simp.gamma_nv * B - df, simp.D - simp.gamma_nv * B + df, n_f)\n",
    "\n",
    "data_freq_detuning = sim.run_sim_fsweep(freq_array, pulse, B, simp)\n",
    "\n",
    "penalty = calc_crosstalk_penalty(1e6*freq_array, data_freq_detuning, 1e6*f_mw, 1e6*f_block, 1e6*df_block,\n",
    "                                 symm_block=symm_block, fac_penalty=fac_penalty)\n"
   ]
  },
  {
   "cell_type": "code",
   "execution_count": 23,
   "metadata": {
    "pycharm": {
     "name": "#%%\n"
    }
   },
   "outputs": [
    {
     "data": {
      "image/png": "[encoded data removed]",
      "text/plain": [
       "<Figure size 864x504 with 1 Axes>"
      ]
     },
     "metadata": {},
     "output_type": "display_data"
    }
   ],
   "source": [
    "delta_hfs = 2.1 # MHz\n",
    "f_mw = f_res*1e-6  # MHz\n",
    "\n",
    "# value at the HFS values\n",
    "vals = []\n",
    "deltas = [0, -delta_hfs, delta_hfs]\n",
    "for delta in deltas:\n",
    "    idx = np.argmin(abs(freq_array-(f_mw+delta)))\n",
    "    vals.append(data_freq_detuning[idx])\n",
    "\n",
    "\n",
    "title_str = \"\"\n",
    "\n",
    "# visualize the results\n",
    "fig1, ax = plt.subplots(figsize=(12,7))\n",
    "#mpl.rcParams['figure.dpi'] = 600\n",
    "\n",
    "ax.plot(freq_array, data_freq_detuning, lw=4, label=r'NV${}^{-}~|m_s=0\\rangle$')\n",
    "#ax.plot(freq_array+2*(B-B_nv2)/2*simp.gamma_nv, data_freq_detuning, lw=4, label=r'NV${}^{-}~|m_s=0\\rangle$')\n",
    "#ax.plot(f_exp_mhz, y_exp, label=\"exp\")\n",
    "#ax.plot(f_exp_mhz_mirr, y_exp, label=\"mirrored(exp)\")\n",
    "#ax.set_xlim([2603,2653])\n",
    "\n",
    "# vertical dots at values of HFS transitions\n",
    "ax.scatter(f_mw+deltas[0], vals[0], color='black', label=f\"ds_0= {1e2*vals[0]:.1f} %\")\n",
    "ax.scatter(f_mw+deltas[1], vals[1], color='grey', label=f\"ds_-1= {1e2*vals[1]:.1f} %\", alpha=0.8)\n",
    "ax.scatter(f_mw+deltas[2], vals[2], color='blue', label=f\"ds_+1= {1e2*vals[2]:.1f} %\", alpha=0.5)\n",
    "\n",
    "ax.axvline(f_mw, label=f\"transition= {f_mw:.1f} MHz\")\n",
    "ax.axvspan(f_mw-2.1, f_mw+2.1, alpha=0.1, color='blue', label='15-N HFS')\n",
    "\n",
    "\n",
    "# blockbands\n",
    "f_lims = get_f_limits(1e6*f_mw, 1e6*f_block, 1e6*df_block, symm_block=symm_block)\n",
    "for f_min, f_max in f_lims:\n",
    "    f_center = (f_max + f_min) / 2\n",
    "    if 1e-6*f_center > freq_array[0] and 1e-6*f_center < freq_array[-1]: \n",
    "        ax.axvline(1e-6*f_center, label=f\"NV1 blockband ({1e-6*f_center:.1f} +- {df_block} MHz)\", color='red')\n",
    "        ax.axvspan(1e-6*f_min, 1e-6*f_max, alpha=0.1, color='red')\n",
    "\n",
    "title_str += f\"penalty(fac={fac_penalty})= {penalty:.3f}, delta= {sorted(np.around(abs(f_mw-f_block),decimals=2))} MHz\"\n",
    "        \n",
    "# grid\n",
    "ax.axhline(0, color='black')\n",
    "#ax.axhline(1, color='black')\n",
    "plt.grid(axis='x', color='0.5')\n",
    "plt.grid(axis='y', color='0.5')\n",
    "\n",
    "\n",
    "\n",
    "\n",
    "ax.set_xlabel(r'Frequency (MHz)')\n",
    "ax.set_ylabel(r'Spin state ()')\n",
    "plt.title(title_str)\n",
    "ax.legend(loc='best', prop={'size': 10})\n",
    "plt.show(fig1)"
   ]
  },
  {
   "cell_type": "markdown",
   "metadata": {
    "pycharm": {
     "name": "#%% md\n"
    }
   },
   "source": [
    "## Amplitude Error"
   ]
  },
  {
   "cell_type": "code",
   "execution_count": 25,
   "metadata": {},
   "outputs": [],
   "source": [
    "B= 90 #gauss\n",
    "\n",
    "sim = TimeDependentSimulation()\n",
    "\n",
    "# scanned amplitude steps\n",
    "amp_array = np.linspace(-0.35, 0.35, 50)\n",
    "data_amp_detuning = sim.run_sim_ampsweep(amp_array, pulse, B, simp)\n",
    "\n"
   ]
  },
  {
   "cell_type": "code",
   "execution_count": 26,
   "metadata": {
    "pycharm": {
     "name": "#%%\n"
    }
   },
   "outputs": [
    {
     "data": {
      "image/png": "[encoded data removed]",
      "text/plain": [
       "<Figure size 1440x720 with 1 Axes>"
      ]
     },
     "metadata": {},
     "output_type": "display_data"
    }
   ],
   "source": [
    "# visualize the results\n",
    "fig2, ax = plt.subplots(figsize=(20,10))\n",
    "ax.plot(amp_array*100, data_amp_detuning, lw=4, label=r'NV${}^{-}~|m_s=0\\rangle$')\n",
    "ax.set_xlabel(r'Amplitude Error (\\%)')\n",
    "ax.set_ylabel(r'Spin state ()')\n",
    "\n",
    "# value at the minimum\n",
    "vals_x, vals_y = [], []\n",
    "idx = np.argmin(data_amp_detuning)\n",
    "vals_x.append(100*amp_array[idx])\n",
    "vals_y.append(data_amp_detuning[idx])\n",
    "\n",
    "plt.scatter(vals_x, vals_y, label=f\"best, ampl_err= {vals_x[0]:.2f} %, s= {vals_y[0]:.3e}\")\n",
    "\n",
    "vals_x, vals_y = [], []\n",
    "idx = np.argmin(abs(amp_array))\n",
    "vals_x.append(amp_array[idx])\n",
    "vals_y.append(data_amp_detuning[idx])\n",
    "\n",
    "plt.scatter(vals_x, vals_y, label=f\"like calib, ampl_err= {vals_x[0]:.0f} %, s= {vals_y[0]:.3e}\")\n",
    "\n",
    "\n",
    "\n",
    "plt.legend()\n",
    "plt.show(fig2) "
   ]
  },
  {
   "cell_type": "code",
   "execution_count": null,
   "metadata": {
    "pycharm": {
     "name": "#%%\n"
    }
   },
   "outputs": [],
   "source": []
  }
 ],
 "metadata": {
  "kernelspec": {
   "display_name": "Python 3",
   "language": "python",
   "name": "python3"
  },
  "language_info": {
   "codemirror_mode": {
    "name": "ipython",
    "version": 3
   },
   "file_extension": ".py",
   "mimetype": "text/x-python",
   "name": "python",
   "nbconvert_exporter": "python",
   "pygments_lexer": "ipython3",
   "version": "3.6.5"
  },
  "toc": {
   "base_numbering": 1,
   "nav_menu": {},
   "number_sections": true,
   "sideBar": true,
   "skip_h1_title": false,
   "title_cell": "Table of Contents",
   "title_sidebar": "Contents",
   "toc_cell": false,
   "toc_position": {
    "height": "calc(100% - 180px)",
    "left": "10px",
    "top": "150px",
    "width": "288px"
   },
   "toc_section_display": true,
   "toc_window_display": true
  },
  "varInspector": {
   "cols": {
    "lenName": 16,
    "lenType": 16,
    "lenVar": 40
   },
   "kernels_config": {
    "python": {
     "delete_cmd_postfix": "",
     "delete_cmd_prefix": "del ",
     "library": "var_list.py",
     "varRefreshCmd": "print(var_dic_list())"
    },
    "r": {
     "delete_cmd_postfix": ") ",
     "delete_cmd_prefix": "rm(",
     "library": "var_list.r",
     "varRefreshCmd": "cat(var_dic_list()) "
    }
   },
   "types_to_exclude": [
    "module",
    "function",
    "builtin_function_or_method",
    "instance",
    "_Feature"
   ],
   "window_display": true
  }
 },
 "nbformat": 4,
 "nbformat_minor": 5
}
