{
 "cells": [
  {
   "cell_type": "markdown",
   "metadata": {},
   "source": [
    "# Packages"
   ]
  },
  {
   "cell_type": "code",
   "execution_count": 5,
   "metadata": {
    "ExecuteTime": {
     "end_time": "2023-10-12T16:31:57.046553+02:00",
     "start_time": "2023-10-12T16:31:57.046553Z"
    }
   },
   "outputs": [
    {
     "data": {
      "text/plain": [
       "0"
      ]
     },
     "execution_count": 5,
     "metadata": {},
     "output_type": "execute_result"
    }
   ],
   "source": [
    "from quocslib.optimalcontrolproblems.OneQubitProblem_2fields import OneQubit2Fields\n",
    "import time, datetime\n",
    "\n",
    "import numpy as np\n",
    "\n",
    "import os\n",
    "import sys\n",
    "import matplotlib.pyplot as plt\n",
    "import scipy\n",
    "import time\n",
    "import copy as cp\n",
    "import inspect\n",
    "import types\n",
    "from scipy.optimize import curve_fit\n",
    "from scipy.optimize import minimize\n",
    "from scipy import signal\n",
    "from scipy import linalg, interpolate\n",
    "from scipy.ndimage import gaussian_filter1d\n",
    "\n",
    "\n",
    "# import necessary stuff from quidi\n",
    "from logic.pulsed.pulse_objects import PulseBlock, PulseBlockEnsemble, PulseSequence\n",
    "from logic.pulsed.sampling_functions import DDMethods\n",
    "#from logic.pulsed.sampling_function_defs.sampling_functions_nvision import EnvelopeMethods as Evm\n",
    "from logic.pulsed.pulse_objects import PulseEnvelopeType as Evm\n",
    "from user_scripts.Timo.own.optimalcontrol.oc_simlib import TimeDependentSimulation, SimParameters, ArbPulse, PredefinedArbPulses\n",
    "\n",
    "import logging\n",
    "logging.basicConfig(filename='logfile.log', filemode='w', level=logging.DEBUG)\n",
    "logger = logging.getLogger(__name__)\n",
    "\n",
    "\n",
    "from PyQt5.QtGui import QGuiApplication\n",
    "from datetime import datetime as datetime_, timedelta\n",
    "\n",
    "        \n",
    "0"
   ]
  },
  {
   "cell_type": "markdown",
   "metadata": {},
   "source": [
    "Setup mathematica if needed"
   ]
  },
  {
   "cell_type": "code",
   "execution_count": 8,
   "metadata": {
    "ExecuteTime": {
     "end_time": "2023-10-05T21:01:21.777652+02:00",
     "start_time": "2023-10-05T21:01:21.777652Z"
    }
   },
   "outputs": [],
   "source": [
    "\n",
    "import os\n",
    "import copy as cp\n",
    "import matplotlib.pyplot as plt\n",
    "\n",
    "from wolframclient.evaluation import WolframLanguageSession\n",
    "from wolframclient.language import wl, wlexpr\n",
    "\n",
    "\n",
    "path_lib = os.getcwd() \n",
    "path_lib = os.path.abspath(path_lib + r\"\\\\user_scripts\\Timo\\own\\optimalcontrol\\mathematica\")\n",
    "fname_lib = 'CNOTTwoQubitsV6'  # lib name without .m extension\n",
    "try:\n",
    "    wolf.terminate()\n",
    "except: pass\n",
    "wolf = WolframLanguageSession()\n",
    "wsim = wl.CNOTTwoQubitsV6\n",
    "\n",
    "\n",
    "#print(wolf.evaluate(wl.StringReverse('dedaol lenrek marfloW')))"
   ]
  },
  {
   "cell_type": "code",
   "execution_count": 11,
   "metadata": {
    "ExecuteTime": {
     "end_time": "2023-10-05T21:01:22.004402+02:00",
     "start_time": "2023-10-05T21:01:22.004402Z"
    }
   },
   "outputs": [
    {
     "data": {
      "text/plain": [
       "'C:\\\\Users\\\\Setup3-PC\\\\Desktop\\\\qudi\\\\user_scripts\\\\Timo\\\\own\\\\optimalcontrol\\\\mathematica'"
      ]
     },
     "execution_count": 11,
     "metadata": {},
     "output_type": "execute_result"
    }
   ],
   "source": [
    "path_lib"
   ]
  },
  {
   "cell_type": "code",
   "execution_count": 14,
   "metadata": {
    "ExecuteTime": {
     "end_time": "2023-10-05T21:01:28.173291+02:00",
     "start_time": "2023-10-05T21:01:28.173291Z"
    }
   },
   "outputs": [],
   "source": [
    "wolf.evaluate(wl.SetDirectory(path_lib))\n",
    "wolf.evaluate(wl.Needs(fname_lib+'`'))\n",
    "wolf.evaluate(wl.Get(fname_lib+'.m'))  # For proper reloading"
   ]
  },
  {
   "cell_type": "markdown",
   "metadata": {},
   "source": [
    "# Library functions"
   ]
  },
  {
   "cell_type": "markdown",
   "metadata": {
    "heading_collapsed": true
   },
   "source": [
    "## Mathematica "
   ]
  },
  {
   "cell_type": "markdown",
   "metadata": {
    "hidden": true
   },
   "source": [
    "(shaddowed from simulate_from_mathematica)\n",
    "-  transformed unicode chars manually!\n",
    " Omega = \\u03a9\n",
    " delta = \\u03b4 \n",
    "\n",
    "- stripped sweeps that are not necesarry"
   ]
  },
  {
   "cell_type": "code",
   "execution_count": 7,
   "metadata": {
    "ExecuteTime": {
     "end_time": "2023-09-08T11:30:56.170908+02:00",
     "start_time": "2023-09-08T11:30:56.170908Z"
    },
    "hidden": true
   },
   "outputs": [
    {
     "data": {
      "text/plain": [
       "0"
      ]
     },
     "execution_count": 7,
     "metadata": {},
     "output_type": "execute_result"
    }
   ],
   "source": [
    "\n",
    "import copy as cp\n",
    "from collections import MutableMapping\n",
    "from logic.pulsed.predefined_generate_methods.multi_nv_methods import TomoRotations, TomoInit\n",
    "\n",
    "def swap_basis_def(rho):\n",
    "    # Genkos state definition is different!\n",
    "    return np.rot90(rho,2).T\n",
    "\n",
    "def setup_sim_params(dd_params=None, pi_pulse_params=None, init=None, gate=None, sim_params=None):\n",
    "\n",
    "    if not init:\n",
    "        init = TomoInit.none # 00\n",
    "    if not gate:\n",
    "        gate = TomoRotations.c2not1\n",
    "    if not dd_params:\n",
    "        dd_params = wolf.evaluate(wsim.loadSequenceCPMG(1))\n",
    "    if not pi_pulse_params:\n",
    "        pi_pulse_params = setup_pi_pulse_params()\n",
    "\n",
    "    rho_init = get_opt_rho({'exp_params':{'init_state': init}})\n",
    "\n",
    "    sim  ={'sim_backend': fname_lib,\n",
    "           'sim_finished': False,\n",
    "           'shift_ratio': None,\n",
    "           'dd_params': dd_params,\n",
    "           'pi_pulse_params': pi_pulse_params,\n",
    "           'rho_init': rho_init,\n",
    "           'params_input': sim_params,\n",
    "          # like in experimental data, allow to run same analysis code\n",
    "           'exp_params':{'init_state': init, 'rotation': gate}\n",
    "          }\n",
    "\n",
    "    return sim\n",
    "\n",
    "def run_wsim(sim_params):\n",
    "\n",
    "    shift_ratio = sim_params['shift_ratio']\n",
    "    input_sim_params = sim_params['params_input']\n",
    "    dd_params = sim_params['dd_params']\n",
    "    pulse_params_nv1, pulse_params_nv2 = sim_params['pi_pulse_params']\n",
    "    sim_params['result'] = {'rho': None}\n",
    "\n",
    "\n",
    "    rho_total = sim_params['rho_init']\n",
    "\n",
    "    if np.iscomplex(rho_total).any():\n",
    "        raise ValueError(\"Not tested complex input. Casting complex arrays to Mathematica could be buggy.\")\n",
    "\n",
    "    rho_in_1 = partial_trace(swap_basis_def(rho_total), 0)  # Mathematica can't handle numpy\n",
    "    rho_in_2 = partial_trace(swap_basis_def(rho_total), 1)    \n",
    "    rho_in_1 = np.asarray(np.real(rho_in_1), dtype=float).tolist()\n",
    "    rho_in_2 = np.asarray(np.real(rho_in_2), dtype=float).tolist()\n",
    "\n",
    "\n",
    "    #print(f\"rho to wolfram 1/2: {rho_in_1}, {rho_in_2}\")\n",
    "    #print(f\"rho to wolfram: {swap_basis_def(rho_total)}\")\n",
    "\n",
    "    if not shift_ratio:\n",
    "        shift_ratio = -1  # sequential pi pulses without gap NV1, NV2\n",
    "\n",
    "    #print(f\"dd to wolfram: {dd_params}, shift ratio= {shift_ratio}\")\n",
    "\n",
    "    # CALL Mathematica\n",
    "    wolf.evaluate(\n",
    "            wsim.setupSim(rho_in_1, rho_in_2, dd_params, pulse_params_nv1, pulse_params_nv2, shift_ratio))\n",
    "    if input_sim_params:\n",
    "        _set_sim_params(input_sim_params)\n",
    "    res = wolf.evaluate(\n",
    "            wsim.runSim(rho_in_1, rho_in_2))\n",
    "\n",
    "    res = np.asarray(res[0]) + 1j*np.asarray(res[1])\n",
    "\n",
    "    #print(f\"raw res from wolfram: {res}\")\n",
    "    res = swap_basis_def(res)\n",
    "\n",
    "    # alter sim_dict after run\n",
    "    sim_params['sim_finished'] = True\n",
    "    sim_params['wolfram_sim_params'] = fetch_sim_params()\n",
    "    sim_params['result'] = {'rho': res}\n",
    "\n",
    "    return res\n",
    "\n",
    "def run_sim_all_basis(sim_params, inits=None):\n",
    "\n",
    "    if inits is None:\n",
    "        inits = [TomoInit.none, TomoInit.ux180_on_1, TomoInit.ux180_on_2, TomoInit.ux180_on_both]\n",
    "\n",
    "    res = []\n",
    "    for init in inits:\n",
    "        qsim_i = cp.deepcopy(sim_params)\n",
    "        qsim_i = change_init(qsim_i, init)\n",
    "        run_wsim(qsim_i)\n",
    "\n",
    "        res.append(qsim_i)\n",
    "\n",
    "    return res\n",
    "\n",
    "def change_init(sim_params, init=None):\n",
    "\n",
    "    sim_params_init = setup_sim_params(init=init)\n",
    "    sim_params['rho_init'] = sim_params_init['rho_init']\n",
    "    sim_params['exp_params']['init_state'] = sim_params_init['exp_params']['init_state']\n",
    "\n",
    "    return sim_params\n",
    "\n",
    "\n",
    "\n",
    "def _set_sim_params(params):\n",
    "    \"\"\"\n",
    "    Directly set parameters of the Wolfram simulation. This will overwrite parameters defauled \n",
    "    in wolf::loadSimulationParameters.\n",
    "    \"\"\"\n",
    "    allowed_keys = ['gRun', '\\u03B41Run', '\\u03B42Run', '\\u03a91max', '\\u03a92max','TpiP1Correction',\n",
    "                    'TpiP2Correction', '\\u03a91RelCorrection', '\\u03a92RelCorrection', 'crossTalkRun',\n",
    "                   '\\u03c91Run', '\\u03c92Run']\n",
    "    done_keys = []\n",
    "\n",
    "    for key, val in params.items():\n",
    "        if key in allowed_keys:\n",
    "            wolf.evaluate(f'{key} = {val};')\n",
    "            res = wolf.evaluate(wlexpr(f'{key}'))\n",
    "\n",
    "            if res != val:\n",
    "                raise ValueError(f\"Couldn't set the value {key}. Try different (number) format.\")\n",
    "            done_keys.append(key)\n",
    "\n",
    "    non_handled_keys = set(params.keys()) - set(done_keys)\n",
    "    if len(non_handled_keys) > 0:\n",
    "        raise ValueError(f\"Unhandled sim params: {non_handled_keys}\")\n",
    "\n",
    "\n",
    "def fetch_sim_params():\n",
    "    sim_dict = wolf.evaluate(wsim.getSimulationParameters())\n",
    "    sim_dict = sanatize_wolf_dict(sim_dict)\n",
    "\n",
    "    return sim_dict\n",
    "\n",
    "def calc_sph_error(sim_res, qsim):\n",
    "    rho_opt = get_opt_rho(qsim, apply_rot=True)\n",
    "\n",
    "    res_1 = partial_trace(sim_res, 0)\n",
    "    rho_opt_1 = partial_trace(rho_opt, 0)\n",
    "\n",
    "    on_nv = 1\n",
    "    on_eq = True\n",
    "    err_sph = err_spherical(res_1, rho_opt_1, on_equator=on_eq)\n",
    "\n",
    "    return err_sph\n",
    "\n",
    "def sanatize_wolf_dict(wdict):\n",
    "\n",
    "    new_dict = {}\n",
    "    for key, val in dict(wdict).items():\n",
    "        new_key = str(key).replace(fname_lib, \"\")\n",
    "        new_key = new_key.replace(\"`\",\"\")\n",
    "        new_dict[new_key] = val\n",
    "\n",
    "    return new_dict\n",
    "\n",
    "def calc_n_pi(dd_param):\n",
    "    return dd_param[1]*dd_param[-1]\n",
    "\n",
    "def run_shift_ratio_sweep(qsim, ratios):\n",
    "\n",
    "    qsim_i = cp.deepcopy(qsim)\n",
    "    res = []\n",
    "    for sr in ratios:\n",
    "        qsim_i['shift_ratio'] = sr\n",
    "        res_i = run_sim_all_basis(qsim_i)\n",
    "        res.extend(res_i)\n",
    "\n",
    "    return res\n",
    "\n",
    "\n",
    "\n",
    "def calc_t_coupling(qsim):\n",
    "\n",
    "    ratio_tau = qsim['wolfram_sim_params']['\\u03c4ShiftRatioRunP2']\n",
    "    n_pi = calc_n_pi(qsim['dd_params'])\n",
    "    tau_free_1 = qsim['wolfram_sim_params']['\\u03c4freeP1']*1e-6 # us -> s\n",
    "    tau_free_2 = qsim['wolfram_sim_params']['\\u03c4freeP2']*1e-6 # us -> s\n",
    "\n",
    "    if tau_free_1 != tau_free_2:\n",
    "        raise ValueError(\"Didn't check that correct for unequal taus on NV1/2\")\n",
    "\n",
    "    # todo: is this equal to the time I find automatically from gRun in sim for non given shift?\n",
    "    tau_eff = abs(n_pi*(tau_free_1 - ratio_tau*2*tau_free_2))\n",
    "\n",
    "    return tau_eff\n",
    "\n",
    "def t_coupling_2_shift_ratio(t_evol, qsim):\n",
    "    n_pi = calc_n_pi(qsim['dd_params'])\n",
    "    g = qsim['wolfram_sim_params']['g']*1e6\n",
    "    t_pi = qsim['wolfram_sim_params']['TpiP1Run']*1e-6\n",
    "    tau_free_1 = qsim['wolfram_sim_params']['\\u03c4freeP1']*1e-6\n",
    "    tau_free_2 = qsim['wolfram_sim_params']['\\u03c4freeP2']*1e-6 # us -> s\n",
    "\n",
    "    if tau_free_1 != tau_free_2:\n",
    "        raise ValueError(\"Didn't check that correct for unequal taus on NV1/2\")\n",
    "\n",
    "    tau_evol = t_evol / n_pi\n",
    "\n",
    "    shift_ratio = (tau_free_1-tau_evol)/(2*tau_free_2)\n",
    "    \"\"\"\n",
    "    tau_full_g = 0.25/(g/(2*np.pi))/n_pi + 2* t_pi\n",
    "    tau_exp = t_evol/n_pi\n",
    "    shift_full_g = t_pi/tau_full_g\n",
    "    if tau_exp > tau_full_g:\n",
    "        raise ValueError(\"Desired coupling not possible\")\n",
    "\n",
    "    shift_ratio = 0.5 - tau_exp*(0.5-shift_full_g)/(0.5*tau1)\n",
    "    \"\"\"\n",
    "    if shift_ratio > 0.5 or shift_ratio < 0:\n",
    "        print(f\"tau_free_1: {tau_free_1}, tau_free_2 {tau_free_2}, tau_evol: {tau_evol} \")\n",
    "        raise ValueError(f\"Invalid shift ration result {shift_ratio}\")\n",
    "\n",
    "    return shift_ratio\n",
    "\n",
    "def _is_00(qsim):\n",
    "    if qsim['exp_params']['init_state'] == TomoInit.none:\n",
    "        return True\n",
    "    return False\n",
    "\n",
    "def _is_01(qsim):\n",
    "    if qsim['exp_params']['init_state'] == TomoInit.ux180_on_2:\n",
    "        return True\n",
    "    return False\n",
    "\n",
    "def _is_10(qsim):\n",
    "    if qsim['exp_params']['init_state'] == TomoInit.ux180_on_1:\n",
    "        return True\n",
    "    return False\n",
    "\n",
    "def _is_11(qsim):\n",
    "    if qsim['exp_params']['init_state'] == TomoInit.ux180_on_both:\n",
    "        return True\n",
    "    return False\n",
    "\n",
    "\n",
    "def _idx_2_state_filter(idx):\n",
    "    if idx == 0:\n",
    "        return _is_00, \"0,0\"\n",
    "    elif idx == 1:\n",
    "        return _is_01, \"0,1\"\n",
    "    elif idx == 2:\n",
    "        return _is_10, \"1,0\"\n",
    "    elif idx == 3:\n",
    "        return _is_11 , \"1,1\"\n",
    "    else:\n",
    "        raise ValueError\n",
    "\n",
    "def filter_res_list(res_list, idx_init=0):\n",
    "\n",
    "    res_tuple_i = list(filter(_idx_2_state_filter(idx_init)[0], res_list))\n",
    "\n",
    "    return res_tuple_i\n",
    "\n",
    "\n",
    "def _colors_per_init(idx_init=0, on_nv=1):\n",
    "    i = idx_init\n",
    "    len_inits = 4\n",
    "    #color = plt.cm.Blues(0.5+0.5*i/len_inits) if on_nv==1 else plt.cm.Oranges(0.5+0.5*i/len_inits)\n",
    "\n",
    "\n",
    "    color = plt.cm.winter(0.5+0.5*i/len_inits) if on_nv==1 else plt.cm.Oranges(0.5+0.5*i/len_inits)\n",
    "\n",
    "    return color\n",
    "\n",
    "def dd_2_str(dd_params):\n",
    "    return f\"{dd_params[4]}-{dd_params[5]}\"\n",
    "\n",
    "\n",
    "def delete_keys_from_dict(dictionary, keys):\n",
    "    keys_set = set(keys)  # Just an optimization for the \"if key in keys\" lookup.\n",
    "\n",
    "    modified_dict = {}\n",
    "    for key, value in dictionary.items():\n",
    "        if key not in keys_set:\n",
    "            if isinstance(value, MutableMapping):\n",
    "                modified_dict[key] = delete_keys_from_dict(value, keys_set)\n",
    "            else:\n",
    "                modified_dict[key] = cp.deepcopy(value) \n",
    "    return modified_dict\n",
    "\n",
    "\n",
    "\n",
    "\n",
    "\n",
    "def check_nv_params_equal(qsim, param='\\u03c41Run'):\n",
    "\n",
    "    key1 = param\n",
    "    key2 = param.replace('2','1')\n",
    "\n",
    "    val1 = qsim['params_input'][key1]\n",
    "    val2 = qsim['params_input'][key2]\n",
    "\n",
    "    if val1 != val2:\n",
    "        raise ValueError(f\"unequal params: {key1}: {val1} / {key2}: {val2}\")\n",
    "\n",
    "def setup_pi_pulse_params(shape='rect'):\n",
    "    if shape == 'rect':\n",
    "        params_nv1 = 'rect'\n",
    "        params_nv2 = 'rect'\n",
    "    elif shape == 'optimal_both':\n",
    "        params_nv1 = 'optimal'\n",
    "        params_nv2 = 'optimal'\n",
    "    elif shape == 'optimal_nv2':\n",
    "        params_nv1 = 'rect'\n",
    "        params_nv2 = 'optimal'\n",
    "    else:\n",
    "        raise ValueError\n",
    "    return params_nv1, params_nv2\n",
    "\n",
    "\n",
    "0"
   ]
  },
  {
   "cell_type": "code",
   "execution_count": null,
   "metadata": {
    "hidden": true
   },
   "outputs": [],
   "source": []
  },
  {
   "cell_type": "markdown",
   "metadata": {},
   "source": [
    "## this nb"
   ]
  },
  {
   "cell_type": "code",
   "execution_count": 8,
   "metadata": {
    "ExecuteTime": {
     "end_time": "2023-10-12T16:31:59.375193+02:00",
     "start_time": "2023-10-12T16:31:59.375193Z"
    }
   },
   "outputs": [
    {
     "data": {
      "text/plain": [
       "0"
      ]
     },
     "execution_count": 8,
     "metadata": {},
     "output_type": "execute_result"
    }
   ],
   "source": [
    "def upload_qmeas():\n",
    "    qmeas = cp.deepcopy(script_params['generate_parameters'])\n",
    "    experiment = qmeas['experiment']\n",
    "    exp_name = qmeas['name']\n",
    "    try:\n",
    "        optimize_time = qmeas['optimize_time'] \n",
    "    except KeyError:\n",
    "        optimize_time = None\n",
    "    qmeas.pop('optimize_time', None)\n",
    "    qmeas.pop('experiment', None)\n",
    "    #logger.debug(f\"Generating exp: {qmeas}\")\n",
    "    \n",
    "    handle_global_gen_params(qmeas)\n",
    "        \n",
    "    # generate the sequence\n",
    "    logger.info(\"Trigged seq generation, sleeping...\")\n",
    "    if uglobals.abort.is_set():\n",
    "        return\n",
    "    try:\n",
    "        pulsedmasterlogic.generate_predefined_sequence(experiment, kwarg_dict=qmeas)  \n",
    "    except:\n",
    "        uglobals.abort.set()\n",
    "    \n",
    "    while seqgen_busy() and not uglobals.abort.is_set():     \n",
    "        time.sleep(1)\n",
    "    #logger.debug(f\"{pulsedmasterlogic.status_dict}\")\n",
    "    # upload the sequence\n",
    "    if not uglobals.abort.is_set():\n",
    "        pulsedmasterlogic.sample_ensemble(exp_name, True)\n",
    "    #logger.info(\"Starting seq sampling\")\n",
    "    while seqgen_busy() and not uglobals.abort.is_set():     \n",
    "        time.sleep(1)\n",
    " \n",
    "def pulses_from_quocs_to_disk():\n",
    "    controlslogic.are_pulses_calculated = False\n",
    "    pulses = get_pulse_from_logic(get_best=False)\n",
    "\n",
    "    for idx, pulse in enumerate(pulses):\n",
    "        t_amplitude = pulse.get_timegrid(unit='s')\n",
    "        t_phase = pulse.get_timegrid(unit='s')\n",
    "        amplitude = pulse.get_data_ampl(unit='V')\n",
    "        phase = pulse.get_data_phase(unit='V')\n",
    "\n",
    "\n",
    "        # save the pulses as .txt files (predefined methods doesn't allow us to upload a numpy array as \n",
    "        # parameter)\n",
    "        data_ampl = np.column_stack((t_amplitude, amplitude))\n",
    "        data_phase = np.column_stack((t_phase, phase))\n",
    "        if len(pulses) == 1:\n",
    "            name_ampl, name_phase = filename + \"amplitude.txt\", filename + \"phase.txt\"\n",
    "        else:\n",
    "            if script_params['multi_pulse_2_name_function']:\n",
    "                name_ampl = script_params['multi_pulse_2_name_function'](idx, filename) + \"_amplitude.txt\"\n",
    "                name_phase = script_params['multi_pulse_2_name_function'](idx, filename) + \"_phase.txt\"\n",
    "            else:\n",
    "                name_ampl, name_phase =f\"p{idx+1}_amplitude.txt\", f\"p{idx+1}_phase.txt\"\n",
    "\n",
    "        # save_pulse() here, because data contains time info\n",
    "        save_pulse(folder_path + '/tmp_pulses', data_ampl, data_phase, name=f\"idx={it_val}_\",\n",
    "                  name_ampl=name_ampl, name_phase=name_phase)\n",
    "        save_pulse(folder_path, data_ampl, data_phase, name=\"\",\n",
    "                  name_ampl=name_ampl, name_phase=name_phase)\n",
    "        \n",
    "        \n",
    "\n",
    "    if script_params['pulse_prepare_function']:\n",
    "        script_params['pulse_prepare_function']()\n",
    "\n",
    "        \n",
    "def seqgen_busy():\n",
    "    pm = pulsedmasterlogic\n",
    "    return pm.status_dict['sampload_busy'] or pm.status_dict['sampling_ensemble_busy'] or pm.status_dict['loading_busy'] or pm.status_dict['predefined_generation_busy']\n",
    "    \n",
    "  \n",
    "def qWait(t_ms):\n",
    "    end = datetime_.now() + timedelta(milliseconds=t_ms)\n",
    "    while datetime_.now() < end:\n",
    "        QGuiApplication.processEvents()\n",
    "        \n",
    "def list_2_csv(in_list, line_delimiter=\";\"):\n",
    "    \"\"\"\n",
    "    :param line_delimter: if given lists of lists, will create lines per out list \n",
    "                          that are seperated by the line_delimiter\n",
    "    \"\"\"\n",
    "    str_list = \"\"\n",
    "    \n",
    "    if type(in_list) != list:\n",
    "        in_list = [in_list]\n",
    "        \n",
    "    for el in in_list:\n",
    "        if type(el) == list:\n",
    "            str_list += f\"{list_2_csv(el)}{line_delimiter} \" \n",
    "        else:\n",
    "            str_list += f\"{repr(el)}, \"\n",
    "        #str_list += f\"{el}, \"\n",
    "\n",
    "        \n",
    "    if len(str_list) > 0:\n",
    "        str_list = str_list[:-2]\n",
    "        \n",
    "    return str_list\n",
    "\n",
    "def dict_2_header_str(in_dict):\n",
    "    out_str = \"\"\n",
    "    for key, val in in_dict.items():\n",
    "        out_str += f\"{key}: {val}\\n\"\n",
    "        \n",
    "    return out_str\n",
    "\n",
    "def get_pulse_filename(path, name=\"\", name_ampl=\"amplitude.txt\", name_phase=\"phase.txt\"):\n",
    "    return os.path.abspath(path + \"/\" + name + name_ampl), os.path.abspath(path + \"/\" + name + name_phase)\n",
    "\n",
    "\n",
    "def lambda_2_str(func):\n",
    "    if type(func) is types.FunctionType:\n",
    "        try:\n",
    "            funcString = inspect.getsourcelines(func)[0][0]\n",
    "            funcString.strip(\"['\\n']\").split(\"=\")[1]\n",
    "            return funcString\n",
    "        except IndexError:\n",
    "            return str(func) + '_LAMBDA_CONV_FAIL'\n",
    "    else:\n",
    "        raise ValueError(\"\")\n",
    "\n",
    "def save_pulse(path, data_ampl, data_phase, name=\"\", name_ampl=\"amplitude.txt\", name_phase=\"phase.txt\"):\n",
    "    header_dict = {}\n",
    "    \n",
    "    def _lambda_2_str(dict_in):\n",
    "        dict_out = cp.deepcopy(dict_in)\n",
    "        for key, val in dict_in.items():\n",
    "            if type(val) is types.FunctionType:\n",
    "                funcString = lambda_2_str(val)\n",
    "                dict_out[key] = funcString\n",
    "        \n",
    "        return dict_out\n",
    "    \n",
    "    try:\n",
    "        now = datetime.datetime.now() # current date and time\n",
    "        header_dict['timestamp'] = now.strftime(\"%Y/%m/%d-%H:%M:%S\")\n",
    "        header_dict['script_parameters'] = _lambda_2_str(script_params)\n",
    "        header_dict.update(opti_comm_dict['optimization_dictionary'])\n",
    "        \n",
    "        fname_ampl, fname_phase = get_pulse_filename(path, name=name, name_ampl=name_ampl, name_phase=name_phase)\n",
    "        \n",
    "        if not os.path.exists(path):\n",
    "            os.mkdir(path)\n",
    "        \n",
    "        if data_ampl is not None:\n",
    "            try:\n",
    "                os.remove(fname_ampl)\n",
    "            except IOError:\n",
    "                pass\n",
    "            np.savetxt(fname_ampl,  data_ampl,  header=dict_2_header_str(header_dict))\n",
    "        if data_phase is not None:\n",
    "            try:\n",
    "                os.remove(fname_phase)\n",
    "            except IOError:\n",
    "                pass\n",
    "            np.savetxt(fname_phase, data_phase, header=dict_2_header_str(header_dict))\n",
    "    except:\n",
    "        logger.exception(\"\")\n",
    "\n",
    "def pulse_save(path, pulse, name=\"opt_res_\", name_ampl=\"amplitude.txt\", name_phase=\"phase.txt\"):\n",
    "\n",
    "    t_amplitude = pulse.get_timegrid(unit='s')\n",
    "    t_phase = pulse.get_timegrid(unit='s')\n",
    "    amplitude = pulse.get_data_ampl(unit='V')\n",
    "    phase = pulse.get_data_phase(unit='V')\n",
    "\n",
    "    data_ampl = np.column_stack((t_amplitude, amplitude))\n",
    "    data_phase = np.column_stack((t_phase, phase))\n",
    "\n",
    "    save_pulse(path, data_ampl, data_phase, name=name, name_ampl=name_ampl, name_phase=name_phase)\n",
    "\n",
    "        \n",
    "def save_optimization_result(path, name=\"opt_res_\"):\n",
    "    try:\n",
    "        # save best pulse\n",
    "        pulses = get_pulse_from_logic(get_best=True)\n",
    "        for idx, pulse in enumerate(pulses):\n",
    "            \n",
    "            if len(pulses) == 1:\n",
    "                name_ampl, name_phase = filename + \"amplitude.txt\", filename + \"phase.txt\"\n",
    "            else:\n",
    "                if script_params['multi_pulse_2_name_function']:\n",
    "                    name_ampl = script_params['multi_pulse_2_name_function'](idx, filename) + \"_amplitude.txt\"\n",
    "                    name_phase = script_params['multi_pulse_2_name_function'](idx, filename) + \"_phase.txt\"\n",
    "                else:\n",
    "                    name_ampl, name_phase =f\"p{idx+1}_amplitude.txt\", f\"p{idx+1}_phase.txt\"\n",
    "                    \n",
    "         \n",
    "            \n",
    "            # save fom by same function as pulse\n",
    "            save_pulse(path, fom_all, None, name=name, name_ampl='fom.txt', name_phase='')\n",
    "\n",
    "\n",
    "            t_amplitude = pulse.get_timegrid(unit='s')\n",
    "            t_phase = pulse.get_timegrid(unit='s')\n",
    "            amplitude = pulse.get_data_ampl(unit='V')\n",
    "            phase = pulse.get_data_phase(unit='V')\n",
    "\n",
    "            data_ampl = np.column_stack((t_amplitude, amplitude))\n",
    "            data_phase = np.column_stack((t_phase, phase))\n",
    "\n",
    "            save_pulse(path, data_ampl, data_phase, name=name, name_ampl=name_ampl, name_phase=name_phase)\n",
    "        \n",
    "        if script_params['pulse_prepare_function']:\n",
    "            script_params['pulse_prepare_function']()\n",
    "        \n",
    "    except:\n",
    "        logger.exception(\"\")\n",
    "        \n",
    "def interpolate_2_timegrid(pulse, timegrid_new, timegrid_unit='s'):\n",
    "    \"\"\"\n",
    "    Put pulse on new timegrid. \n",
    "    If pulse shorter than new timegrid, zero pad. Else raise.\n",
    "    \"\"\"\n",
    "    pulse.set_unit_time(timegrid_unit)\n",
    "    \n",
    "    amplitude_func = scipy.interpolate.interp1d(pulse.timegrid, pulse.get_data_ampl(unit=pulse.data_unit),\n",
    "                                                fill_value=0, bounds_error=False)\n",
    "    phase_func = scipy.interpolate.interp1d(pulse.timegrid, pulse.get_data_phase(unit=pulse.data_unit),\n",
    "                                            fill_value=0, bounds_error=False)\n",
    "    \n",
    "    pulse_new = copy_pulse(pulse)\n",
    "    if timegrid_unit != pulse.timegrid_unit:\n",
    "        raise NotImplemented # may rescale the old pulse first\n",
    "    if timegrid_new[-1] < pulse.timegrid[-1]:\n",
    "        # this would work, but probably not intended\n",
    "        raise ValueError(\"Too short new timegrid would cut pulse.\")\n",
    "    \n",
    "    pulse_new._data_ampl = amplitude_func(timegrid_new - timegrid_new[0])\n",
    "    pulse_new._data_phase = phase_func(timegrid_new - timegrid_new[0])\n",
    "    pulse_new._timegrid_ampl = timegrid_new\n",
    "    pulse_new._timegrid_phase = timegrid_new\n",
    "        \n",
    "    return pulse_new\n",
    "\n",
    "def scale_power(pulse, factor=1):    \n",
    "    pulse_new = cp.deepcopy(pulse)\n",
    "    \n",
    "    pulse_new._data_ampl = factor*pulse_new._data_ampl\n",
    "    pulse_new._data_phase = factor*pulse_new._data_phase\n",
    "    pulse_new._timegrid_ampl = 1/factor*pulse_new._timegrid_ampl\n",
    "    pulse_new._timegrid_phase = 1/factor*pulse_new._timegrid_phase\n",
    "    \n",
    "    # invalidate old data fields\n",
    "    pulse_new._folder = None\n",
    "    pulse_new._file = None\n",
    "    pulse_new._file_ampl = None\n",
    "    pulse_new._file_phase = None\n",
    "    \n",
    "    return pulse_new\n",
    "    \n",
    "        \n",
    "\n",
    "def _get_sine_func(time_array, amplitude_func, frequency, phase_rad, phase_func):\n",
    "    samples_arr = amplitude_func(time_array - time_array[0]) * np.sin(2*np.pi * frequency * time_array + phase_rad) \\\n",
    "                  + phase_func(time_array - time_array[0]) * np.cos(2*np.pi * frequency * time_array + phase_rad)\n",
    "\n",
    "    return samples_arr\n",
    "\n",
    "def sample_pulse(pulse, f_carrier, phase_carrier_rad=0):\n",
    "    \n",
    "    timegrid_pulse = pulse.get_timegrid(unit='s')\n",
    "    t_pulse = timegrid_pulse[-1]\n",
    "    \n",
    "    dt_sample = 1/pulsedmeasurementlogic.pulsegenerator().get_sample_rate()\n",
    "    timegrid_sampling = np.arange(0, t_pulse, dt_sample)\n",
    "    amplitude = pulse.get_data_ampl(unit='V')\n",
    "    phase = pulse.get_data_phase(unit='V')\n",
    "\n",
    "    \n",
    "    amplitude_func = interpolate.interp1d(timegrid_pulse, amplitude)\n",
    "    phase_func = interpolate.interp1d(timegrid_pulse, phase)\n",
    "    samples_arr = _get_sine_func(timegrid_sampling, amplitude_func, f_carrier, phase_carrier_rad, phase_func)\n",
    "    \n",
    "    return samples_arr\n",
    "\n",
    "def get_rescale_factor_ampl(pulse, f_carrier, max_ampl_v=0.25):\n",
    "    # shaddows qudi::sampling_func\n",
    "    \n",
    "    # sampling for the awg has an unknown pulse position and hence phase\n",
    "    # make sure that the pulse works for all phases by calculating rescale factor for worst case\n",
    "    phases_rad = np.linspace(0, 2*np.pi, 100)\n",
    "    samples_arr = sample_pulse(pulse, f_carrier)\n",
    "    for ph in phases_rad:\n",
    "        samples_curr = sample_pulse(pulse, f_carrier, phase_carrier_rad=ph)\n",
    "        if np.max(samples_curr) > np.max(samples_arr):\n",
    "            samples_arr = samples_curr\n",
    "            #logger.debug(f\"New max pulse ampl {np.max(samples_curr)} for phase {ph/np.pi} pi\")\n",
    "            \n",
    "    max_sample_before = np.max(samples_arr)\n",
    "    \n",
    "    # avoid re-scaling by the pg, todo: think of better way\n",
    "    import scipy\n",
    "    if max(abs(samples_arr)) > 0.25:\n",
    "        biggest_val = max([abs(np.min(samples_arr)), np.max(samples_arr)])\n",
    "        mapper = scipy.interpolate.interp1d([-biggest_val, biggest_val], [-max_ampl_v, max_ampl_v])\n",
    "        samples_arr = mapper(samples_arr)\n",
    "        \n",
    "    max_samples_after = np.max(samples_arr)\n",
    "    if max_samples_after == 0.:\n",
    "        return 1\n",
    "    \n",
    "    return max_samples_after/max_sample_before\n",
    "    \n",
    "        \n",
    "def get_pulse_from_logic(get_best=False, pulses=None):\n",
    "    \n",
    "    if pulses is None:\n",
    "        if get_best:\n",
    "            optimizer_obj = optimizationlogic.optimization_obj\n",
    "            best_dict = optimizer_obj.opt_alg_obj.get_best_controls()\n",
    "\n",
    "            pulses, timegrids, parameters = best_dict['pulses'], best_dict['timegrids'], best_dict['parameters']\n",
    "        else:\n",
    "            pulses, parameters, timegrids = controlslogic.pulses, controlslogic.parameters, controlslogic.timegrids\n",
    "    else:\n",
    "        pass # todo\n",
    "    n_pulses = int(len(pulses)/2)\n",
    "    \n",
    "    ret_pulses = []\n",
    "    \n",
    "    for idx in range(n_pulses):\n",
    "        # save pulse as raw from logic\n",
    "        fname_tmp = '.tmp_pulse_'\n",
    "        fname_tmp_ampl, fname_tmp_ph = get_pulse_filename(folder_path, name=fname_tmp)\n",
    "\n",
    "        data_ampl = np.column_stack((timegrids[0], pulses[0+2*idx]))\n",
    "        data_phase = np.column_stack((timegrids[0], pulses[1+2*idx]))\n",
    "        save_pulse(folder_path, data_ampl, data_phase, name=fname_tmp)\n",
    "\n",
    "        # reload as a pulse object\n",
    "        pulse = ArbPulse.load_pulse(folder_path, fname_tmp, unit_t='s', unit_data='V')\n",
    "        os.remove(fname_tmp_ampl)\n",
    "        os.remove(fname_tmp_ph)\n",
    "\n",
    "        fac = get_rescale_factor_ampl(pulse, f_res, max_ampl_v=ampl_max)\n",
    "        if fac != 1:\n",
    "            logger.warning(f\"Rescaling pulses with fac={fac} prior to saving and sampling.\")\n",
    "\n",
    "        pulse._data_ampl  = fac*pulse._data_ampl\n",
    "        pulse._data_phase = fac*pulse._data_phase\n",
    "        \n",
    "        ret_pulses.append(pulse)\n",
    "    \n",
    "    return ret_pulses\n",
    "\n",
    "# todo: to lib\n",
    "def copy_pulse(pulse):\n",
    "    \"\"\"\n",
    "    (deep) copy pulse. Keep data.\n",
    "    \"\"\"\n",
    "    pulse_new = cp.deepcopy(pulse)\n",
    "\n",
    "    # invalidate old data fields\n",
    "    pulse_new._folder = None\n",
    "    pulse_new._file = None\n",
    "    pulse_new._file_ampl = None\n",
    "    pulse_new._file_phase = None\n",
    "\n",
    "    return pulse_new\n",
    "\n",
    "# todo: to lib\n",
    "def shift_phase(pulse, phi_rad):\n",
    "      \n",
    "    pulse_new = copy_pulse(pulse)\n",
    "    if phi_rad%(2*np.pi)==0:\n",
    "        pass\n",
    "    elif phi_rad%(2*np.pi)==np.pi/2:\n",
    "        pulse_new._data_ampl = pulse._data_phase\n",
    "        pulse_new._data_phase = pulse._data_ampl\n",
    "    elif phi_rad%(2*np.pi)==np.pi:\n",
    "        pulse_new._data_ampl = -pulse._data_ampl\n",
    "        pulse_new._data_phase = -pulse._data_phase\n",
    "    elif phi_rad%(2*np.pi)==3*np.pi/2:\n",
    "        pulse_new._data_ampl = -pulse._data_phase\n",
    "        pulse_new._data_phase = -pulse._data_ampl\n",
    "    else:\n",
    "        raise ValueError\n",
    "    \n",
    "    return pulse_new\n",
    "\n",
    "\n",
    "# todo: to lib\n",
    "def generate_idle(t_idle=10e-9, n_timebins=10):\n",
    "    idle_pulse = PredefinedArbPulses.generate_rect_pi(1e6, n_t=n_timebins, t_pulse=t_idle)\n",
    "    idle_pulse.name = 'idle'\n",
    "    \n",
    "    idle_pulse._data_ampl[:] = 0\n",
    "    idle_pulse._data_phase[:] = 0\n",
    "    idle_pulse._func_ampl_v_2_omega_mhz = lambda x:0*x\n",
    "    idle_pulse._func_omega_mhz_2_ampl_v = lambda x:0*x\n",
    "    \n",
    "    return idle_pulse\n",
    "\n",
    "def exp_oc_nrep_from_pulse(pulse, t_gap=0e-9, n_rep=1, pi_x_initread=0, omega_rabi_initread=None,\n",
    "                           dd_type=DDMethods.SE, symmetrize=False):\n",
    "    if pi_x_initread >0:\n",
    "        if omega_rabi_initread is None:\n",
    "            # maximum available Rabi drive in arb pulse\n",
    "            omega_rabi_initread = np.max([pulse.get_data_ampl(unit=\"Hz\"), pulse.get_data_phase(unit=\"Hz\")])\n",
    "        init_pulse = PredefinedArbPulses.generate_rect_pi_x(omega_rabi_initread, n_t=len(pulse.timegrid),\n",
    "                                                           pix=pi_x_initread)\n",
    "        # assume that calibration of loaded pulse is valid also for new pi2 pulses\n",
    "        init_pulse._func_ampl_v_2_omega_mhz = pulse._func_ampl_v_2_omega_mhz\n",
    "        init_pulse._func_omega_mhz_2_ampl_v = pulse._func_omega_mhz_2_ampl_v\n",
    "    \n",
    "    if symmetrize:\n",
    "        idle_pulse = generate_idle(t_gap/2, n_timebins=10)\n",
    "    else:\n",
    "        idle_pulse = generate_idle(t_gap, n_timebins=10)\n",
    "        \n",
    "    if n_rep == 0:\n",
    "        return idle_pulse\n",
    "    \n",
    "\n",
    "    res_exp = None\n",
    "    \n",
    "    for idx in range(n_rep):\n",
    "        phase_rad = dd_type.phases[idx%dd_type.suborder]/360*(2*np.pi)\n",
    "        base_block = shift_phase(pulse, phase_rad)\n",
    "        if t_gap > 0.:\n",
    "            if symmetrize:\n",
    "                base_block = ArbPulse.concatenate(idle_pulse, base_block)\n",
    "                base_block = ArbPulse.concatenate(base_block, idle_pulse)\n",
    "            else:\n",
    "                base_block = ArbPulse.concatenate(base_block, idle_pulse)    \n",
    "\n",
    "            res_exp = ArbPulse.concatenate(res_exp, base_block)\n",
    "    \n",
    "    if pi_x_initread>0:\n",
    "        res_exp = ArbPulse.concatenate(init_pulse, res_exp)\n",
    "        res_exp = ArbPulse.concatenate(res_exp, init_pulse)\n",
    "    \n",
    "    return res_exp\n",
    "    \n",
    "def handle_global_gen_params(qmeas):\n",
    "    \"\"\"\n",
    "    If qmeas contains global generation parameters, set them in the sequence generator and delete them from dict.\n",
    "    Keeping them would provoke an error in the generation method due to unknown kwarg.\n",
    "    \"\"\"\n",
    "    subdict = dict([(key, qmeas.get(key)) for key in pulsedmasterlogic.generation_parameters if key in qmeas])\n",
    "    pulsedmasterlogic.set_generation_parameters(subdict)\n",
    "    \n",
    "    for (key, val) in subdict.items():\n",
    "        qmeas.pop(key, None)\n",
    "    \n",
    "    return subdict\n",
    "\n",
    "0"
   ]
  },
  {
   "cell_type": "code",
   "execution_count": 242,
   "metadata": {
    "ExecuteTime": {
     "end_time": "2023-10-13T17:19:12.870578+02:00",
     "start_time": "2023-10-13T17:19:12.870578Z"
    },
    "code_folding": [
     104
    ]
   },
   "outputs": [
    {
     "data": {
      "text/plain": [
       "0"
      ]
     },
     "execution_count": 242,
     "metadata": {},
     "output_type": "execute_result"
    }
   ],
   "source": [
    "# qmeas and fom functions\n",
    "def setup_sts_oc_pi(folder_path, filename, length_oc):\n",
    "    dictparamsall = pulsedmasterlogic.generate_method_params\n",
    "    \n",
    "    dict_qst = dictparamsall[\"sts_oc\"]\n",
    "    dict_qst[\"experiment\"] = 'sts_oc'\n",
    "    dict_qst[\"name\"] = 'stsoc'\n",
    "    dict_qst[\"length\"] = length_oc\n",
    "    dict_qst[\"filename_amplitude\"] = os.path.basename(get_pulse_filename(folder_path, name=filename)[0])\n",
    "    dict_qst[\"filename_phase\"] = os.path.basename(get_pulse_filename(folder_path, name=filename)[1])\n",
    "    dict_qst[\"folder_path\"] = folder_path\n",
    "    \n",
    "\n",
    "    \n",
    "    return dict_qst\n",
    "\n",
    "def setup_oc_npi(folder_path, filename, length_oc, n_start=1, n_step=1, n_n=4, t_gap=0e-9, phases_oc=[0],\n",
    "                init_end_pix=0, init_end_phases_deg=[0], symmetrize=True, dd_type=DDMethods.SE,\n",
    "                alternating_end_phase=False):\n",
    "    dictparamsall = pulsedmasterlogic.generate_method_params\n",
    "    \n",
    "    dict_qst = dictparamsall[\"oc_nrep\"]\n",
    "    dict_qst[\"experiment\"] = 'oc_nrep'\n",
    "    dict_qst[\"name\"] = 'oc_nrep'\n",
    "    dict_qst[\"filename_amplitude\"] = os.path.basename(get_pulse_filename(folder_path, name=filename)[0])\n",
    "    dict_qst[\"filename_phase\"] = os.path.basename(get_pulse_filename(folder_path, name=filename)[1])\n",
    "    dict_qst[\"folder_path\"] = folder_path\n",
    "    \n",
    "    dict_qst['n_start'] = n_start\n",
    "    dict_qst['n_step'] = n_step\n",
    "    dict_qst['t_gap'] = t_gap\n",
    "    dict_qst['phases'] = list_2_csv(phases_oc)\n",
    "    dict_qst['init_end_pix'] = init_end_pix\n",
    "    dict_qst['init_end_phases_deg'] = list_2_csv(init_end_phases_deg)\n",
    "    dict_qst['num_of_points'] = n_n\n",
    "    dict_qst[\"dd_type\"] = dd_type\n",
    "    \n",
    "    dict_qst[\"alternating\"] = True\n",
    "    if alternating_end_phase:\n",
    "        dict_qst[\"alternating\"] = False\n",
    "        dict_qst[\"alternating_end_phase\"] = True\n",
    "        \n",
    "    dict_qst[\"symmetric_tgap\"] = symmetrize\n",
    "    dict_qst[\"vs_rect_pulse\"] = False\n",
    "    \n",
    "    \n",
    "    return dict_qst\n",
    "\n",
    "def setup_oc_proctomo(folder_path, filename, length_oc):\n",
    "    dictparamsall = pulsedmasterlogic.generate_method_params\n",
    "    \n",
    "    dict_qst = dictparamsall[\"qst_state_oc\"]\n",
    "    dict_qst[\"experiment\"] = 'qst_state_oc'\n",
    "    dict_qst[\"name\"] = 'qststateoc'\n",
    "    dict_qst[\"length\"] = length_oc\n",
    "    dict_qst[\"filename_amplitude\"] = os.path.basename(get_pulse_filename(folder_path, name=filename)[0])\n",
    "    dict_qst[\"filename_phase\"] = os.path.basename(get_pulse_filename(folder_path, name=filename)[1])\n",
    "    dict_qst[\"folder_path\"] = folder_path\n",
    "    \n",
    "    return dict_qst\n",
    "\n",
    "def setup_sts_oc_cnot(folder_path, filename, length_oc, tau_dd_fix, tau_cnot,\n",
    "                      dd_type_cnot=DDMethods.SE, dd_order=1,\n",
    "                      f_mw_2=[], rabi_period_mw_2=[], ampl_mw_2=[]):\n",
    "    \n",
    "    # get from common object defined in other notebook\n",
    "    if f_mw_2 == []:\n",
    "        f_mw_2 = [common.mw_freq_2[0]]\n",
    "    if ampl_mw_2 == []:\n",
    "        ampl_mw_2 = [common.mw_amps_2[0]]\n",
    "    if rabi_period_mw_2 == []:\n",
    "        rabi_period_mw_2 = [common.rabi_period_2[0]]\n",
    "    \n",
    "    dictparamsall = pulsedmasterlogic.generate_method_params\n",
    "    \n",
    "    dict_qst = dictparamsall[\"tomography_single\"]\n",
    "      \n",
    "    dict_qst['experiment'] = 'tomography_single'\n",
    "    dict_qst['name'] = f'sts_cnot'  \n",
    "    dict_qst['microwave_amplitude'] = common.mw_amp\n",
    "    dict_qst['microwave_frequency'] = common.mw_freq\n",
    "    dict_qst['rabi_period'] = common.rabi_period\n",
    "    \n",
    "    \n",
    "    rots = [TomoRotations.c2not1, TomoRotations.c2not1, TomoRotations.c2not1, TomoRotations.c2not1]\n",
    "    inits = [TomoInit.none, TomoInit.ux180_on_1, TomoInit.ux180_on_2, TomoInit.ux180_on_both]\n",
    "\n",
    "    dict_qst['rotations'] = str(rots)\n",
    "    dict_qst['init_states'] = str(inits)\n",
    "    \n",
    "    dict_qst['cnot_kwargs'] = {'tau_dd_fix': tau_dd_fix} \n",
    "    dict_qst['cnot_kwargs']['env_type'] = Evm(Evm.optimal)\n",
    "    dict_qst['tau_cnot'] = tau_cnot\n",
    "    dict_qst['dd_type_cnot'] = dd_type_cnot\n",
    "    dict_qst['dd_order'] = dd_order\n",
    "    dict_qst['alternating'] = True\n",
    "    \n",
    "\n",
    "    dict_qst['f_mw_2'] = list_2_csv(f_mw_2)\n",
    "    dict_qst['rabi_period_mw_2'] = list_2_csv(rabi_period_mw_2)\n",
    "    dict_qst['ampl_mw_2'] = list_2_csv(ampl_mw_2)            \n",
    "    \n",
    "    return dict_qst\n",
    "    \n",
    "def setup_oc_crosstalk(folder_path, filename, length_oc,\n",
    "                      f_mw_2=[], rabi_period_mw_2=[], ampl_mw_2=[],\n",
    "                      on_nv=\"1\"):\n",
    "    # do pi on nv1 (f_res set in sequencegenerator)\n",
    "    # check crosstalk by: oc_pi_on_nv1, (1/ pi)_on_nv2 => should be unaffected => bright/dark\n",
    "    # 1st datapoint for reference: (1/ pi)_on_nv2 => gives small crosstalk by rect pi only\n",
    "    \n",
    "    # get from common object defined in other notebook\n",
    "    if f_mw_2 == []:\n",
    "        f_mw_2 = [common.mw_freq_2[0]]\n",
    "    if ampl_mw_2 == []:\n",
    "        ampl_mw_2 = [common.mw_amps_2[0]]\n",
    "    if rabi_period_mw_2 == []:\n",
    "        rabi_period_mw_2 = [common.rabi_period_2[0]]\n",
    "    \n",
    "    dictparamsall = pulsedmasterlogic.generate_method_params\n",
    "    \n",
    "    dict_qst = dictparamsall[\"tomography_single\"]\n",
    "      \n",
    "    dict_qst['experiment'] = 'tomography_single'\n",
    "    dict_qst['name'] = f'oc_crosstalk'  \n",
    "    dict_qst['microwave_amplitude'] = common.mw_amp\n",
    "    dict_qst['microwave_frequency'] = common.mw_freq\n",
    "    dict_qst['rabi_period'] = common.rabi_period\n",
    "    \n",
    "    \n",
    "  \n",
    "    if on_nv==\"1\":\n",
    "        rots = [TomoRotations.none, TomoRotations.none]\n",
    "        inits = [TomoInit.none, TomoInit.ux180_on_1]\n",
    "    elif on_nv == \"1,2\":\n",
    "        rots = [TomoRotations.none, TomoRotations.none, TomoRotations.none]\n",
    "        inits = [TomoInit.none, TomoInit.ux180_on_1, TomoInit.ux180_on_2]\n",
    "    else:\n",
    "        raise ValueError\n",
    "\n",
    "    dict_qst['rotations'] = str(rots)\n",
    "    dict_qst['init_states'] = str(inits)\n",
    "   \n",
    "    dict_qst['init_state_kwargs'] = {'env_type': Evm.optimal}\n",
    "    dict_qst['alternating'] = True\n",
    "    dict_qst['pi_on_nv'] = on_nv\n",
    "    \n",
    "\n",
    "    dict_qst['f_mw_2'] = list_2_csv(f_mw_2)\n",
    "    dict_qst['rabi_period_mw_2'] = list_2_csv(rabi_period_mw_2)\n",
    "    dict_qst['ampl_mw_2'] = list_2_csv(ampl_mw_2)            \n",
    "    \n",
    "    return dict_qst\n",
    "\n",
    "def setup_oc_randbench(folder_path, filename, length_oc,\n",
    "                      f_mw_2=[], rabi_period_mw_2=[], ampl_mw_2=[], x_min=None, x_max=1, rand_max=20,\n",
    "                      to_basis_pair_rot=None):\n",
    "\n",
    "    # get from common object defined in other notebook\n",
    "    if f_mw_2 == []:\n",
    "        f_mw_2 = [common.mw_freq_2[0]]\n",
    "    if ampl_mw_2 == []:\n",
    "        ampl_mw_2 = [common.mw_amps_2[0]]\n",
    "    if rabi_period_mw_2 == []:\n",
    "        rabi_period_mw_2 = [common.rabi_period_2[0]]\n",
    "    \n",
    "    dictparamsall = pulsedmasterlogic.generate_method_params\n",
    "    \n",
    "    dict_qst = dictparamsall[\"rand_benchmark\"]\n",
    "      \n",
    "    # todo: replace fixed params\n",
    "    data_dir = r\"C:\\Users\\Setup3-PC\\Desktop\\qudi\\user_scripts\\Timo\\own\\rand_benchmark\"\n",
    "    fname = '20230814-0932-50_rb_seq_2q_ncxfix_noCNOT_noNVTranspile.json'  # no pi4\n",
    "    #fname = '20230606-1417-44_rb_seq_2q_ncxfix_noCNOT.json'  # incl pi4\n",
    "    fname = '20230606-1417-44_rb_seq_2q_ncxfix_noCNOT_optParam1Qs.json'  # incl optimized uneven pulses\n",
    "    fname = '20230914-1200-43_rb_seq_2q_ncxfix_decomp=ferlemann_opt1Qs_noCNOT.json'\n",
    "    fname = '20230914-1200-43_rb_seq_2q_ncxfix_decomp=ferlemann_opt1Qs.json'\n",
    "    \n",
    "    dd_cnot_tau_fix = common.dd_tau  # set 'None' for deer_dd_par_tau\n",
    "    dd_order =  common.dd_order #15\n",
    "    dd_type =  common.dd_type #DDMethods.SE   #DDMethods.XY8\n",
    "    dd_cnot_tau = -212e-9  # 60 G\n",
    "    dd_cnot_tau = -267e-9  # 100 G\n",
    "    \n",
    "\n",
    "    dict_qst = setup_rand_benchmark_params(rotations=data_dir + \"/\" + fname, x_min=x_min, x_max=x_max, rand_max=rand_max,\n",
    "                                     f_mw_2=f_mw_2, ampl_mw_2=ampl_mw_2, rabi_period_mw_2=rabi_period_mw_2,\n",
    "                                     tau_cnot=dd_cnot_tau, dd_type_cnot=dd_type, dd_order=dd_order,\n",
    "                                     tau_dd_fix=dd_cnot_tau_fix, prepend_ref=True,\n",
    "                                     simultaneous_rb=False, alternating=True, xticks_ncliff=True, \n",
    "                                     to_basis_pair_rot=to_basis_pair_rot,\n",
    "                                     charge_init=False)\n",
    "     \n",
    "    dict_qst['alternating'] = True\n",
    "    \n",
    "    dict_qst['incl_detuned_ref'] = (0.42, rand_max)\n",
    "    \n",
    "    dict_qst['f_mw_2'] = list_2_csv(f_mw_2)\n",
    "    dict_qst['rabi_period_mw_2'] = list_2_csv(rabi_period_mw_2)\n",
    "    dict_qst['ampl_mw_2'] = list_2_csv(ampl_mw_2)            \n",
    "    \n",
    "    return dict_qst\n",
    "\n",
    "def add_ddxdd(qmeas, ddxdd=True, dd_parallel=False, dd_rabi_period=None,\n",
    "             oc_mwx=False, par_drive_oc=True, oc_1q=True, oc_cphase=False):\n",
    "    \n",
    "    new_qmeas = cp.deepcopy(qmeas)\n",
    "    \n",
    "    def _func_par_drive_oc(on_nv):\n",
    "        if on_nv == [1] or on_nv == 1:\n",
    "            return [1,2]\n",
    "        elif on_nv == [2] or on_nv == 2:\n",
    "            return [2,1]\n",
    "        elif on_nv == [1,2]:\n",
    "            return [1,2]\n",
    "        elif on_nv == [2,1]:\n",
    "            return [2,1]\n",
    "        else:\n",
    "            raise ValueError(f\"Not supported nv id: {on_nv}\")\n",
    "        \n",
    "    env_type = Evm(Evm.from_gen_settings)\n",
    "    if oc_1q:\n",
    "        env_type = Evm(Evm.optimal)\n",
    "    if oc_cphase:\n",
    "        new_qmeas['cnot_kwargs']['env_type'] = Evm(Evm.optimal)\n",
    "        \n",
    "    if par_drive_oc:\n",
    "        env_type.parameters['par_drive_on_func'] = _func_par_drive_oc\n",
    "    else:\n",
    "        env_type.parameters['par_drive_on_func'] = None\n",
    "        \n",
    "    if ddxdd:\n",
    "        comp_type = Comp(Comp.mw_ddxdd)\n",
    "    else:\n",
    "        comp_type = Comp.bare            \n",
    "    \n",
    "    # defualt init\n",
    "    comp_type.parameters['dd_parallel'] = False\n",
    "    comp_type.parameters['dd_ampl_2'] = None\n",
    "    comp_type.parameters['ampl'] = None\n",
    "    \n",
    "    #comp_type.parameters['ampl'] = 1e-11\n",
    "    #comp_type.parameters['dd_ampl_2'] = 1e-11   # to test without decoupling on NV2\n",
    "    comp_type.parameters['dd_type'] =   DDMethods.MW_DD_XY4s #\n",
    "    comp_type.parameters['dd_type_2'] = DDMethods.MW_DD_XY4s_leave_02\n",
    "    comp_type.parameters['dd_type_2'] = DDMethods.XY4_leave_2i\n",
    "    \n",
    "    if dd_parallel:\n",
    "        comp_type.parameters['dd_parallel'] = True\n",
    "        comp_type.parameters['dd_type_2'] = comp_type.parameters['dd_type'] \n",
    "        # balance slower Rabi for double drive\n",
    "        comp_type.parameters['dd_rabi_period'] =  dd_rabi_period # \n",
    "    \n",
    "    comp_type.parameters['dd_order'] = 1 \n",
    "    comp_type.parameters['dd_tau'] = 300e-9 \n",
    "    comp_type.parameters['rabi_period'] = None # 37e-9*2 # 26.4e-9*2\n",
    "    comp_type.parameters['rabi_phase'] = 90\n",
    "    \n",
    "    if oc_mwx:\n",
    "        comp_type.parameters['env_type_gate'] = env_type\n",
    "        new_qmeas['env_type'] = Evm.from_gen_settings\n",
    "    else:\n",
    "        new_qmeas['env_type'] = env_type\n",
    "        comp_type.parameters['env_type_gate'] = None\n",
    "    \n",
    "    \n",
    "    new_qmeas['comp_type'] = comp_type\n",
    "    \n",
    "    return new_qmeas\n",
    "\n",
    "def setup_fom_func_sts_oc_pi():\n",
    "    script_params['fom_func_params'] = locals()\n",
    "    def calc_fom():\n",
    "        signal_data = pulsedmeasurementlogic.signal_data\n",
    "        up_norm = signal_data[1,0] / signal_data[1,0]\n",
    "        down_norm = signal_data[1,1] / signal_data[1,0]\n",
    "\n",
    "        return np.real(1 - (up_norm - down_norm))\n",
    "    \n",
    "    return calc_fom\n",
    "\n",
    "def setup_fom_func_randbench():\n",
    "    script_params['fom_func_params'] = locals()\n",
    "    def calc_fom():\n",
    "        signal_data = pulsedmeasurementlogic.signal_data\n",
    "        \n",
    "        ref_mw = signal_data[1,0]\n",
    "        ref_alt = signal_data[2,0]\n",
    "        \n",
    "        data_mw = signal_data[1,1:]\n",
    "        data_alt = signal_data[2,1:]\n",
    "\n",
    "        return np.mean(1 - (data_mw-data_alt)/(ref_mw-ref_alt))\n",
    "    \n",
    "    return calc_fom\n",
    "\n",
    "def setup_fom_func_randbench_inv(cond_x_func=None):\n",
    "    script_params['fom_func_params'] = locals()\n",
    "    def calc_fom():\n",
    "        signal_data = pulsedmeasurementlogic.signal_data\n",
    "        \n",
    "        ref_mw = signal_data[1,0]\n",
    "        ref_alt = signal_data[2,0]\n",
    "        x_ticks = signal_data[0]\n",
    "        \n",
    "        if cond_x_func is None:\n",
    "            data_mw = signal_data[1,1:]\n",
    "            data_alt = signal_data[2,1:]\n",
    "        else:\n",
    "            idx_cond = [index for index, val in enumerate(x_ticks) if cond_x_func(val)]\n",
    "            data_mw = signal_data[1,idx_cond]\n",
    "            data_alt = signal_data[2,idx_cond] \n",
    "\n",
    "        return np.mean(data_mw-data_alt)\n",
    "    \n",
    "    return calc_fom\n",
    "\n",
    "def setup_fom_func_randbench_baseline():\n",
    "    script_params['fom_func_params'] = locals()\n",
    "    def calc_fom():\n",
    "        signal_data = pulsedmeasurementlogic.signal_data\n",
    "\n",
    "        ref_mw = signal_data[1,0]\n",
    "        ref_alt = signal_data[2,0]\n",
    "        full_contr = (ref_mw-ref_alt)\n",
    "        x_ticks = signal_data[0]\n",
    "\n",
    "        data_mw = signal_data[1,1:]\n",
    "        data_alt = signal_data[2,1:]\n",
    "\n",
    "        idx_ref_baseline = [index for index, val in enumerate(x_ticks) if val >0 and val<1]\n",
    "        idx_data = [index for index, val in enumerate(x_ticks) if val >=1]\n",
    "\n",
    "        data_mw = signal_data[1,idx_data]\n",
    "        data_alt = signal_data[2,idx_data]\n",
    "\n",
    "        baseline_mw = signal_data[1,idx_ref_baseline]\n",
    "        baseline_alt = signal_data[2,idx_ref_baseline]\n",
    "\n",
    "        # maximise data-baseline => minimize 1 - (data-baseline)\n",
    "        return np.mean(1 - ((data_mw-data_alt)/full_contr - (baseline_mw-baseline_alt)/full_contr))\n",
    "    \n",
    "    return calc_fom\n",
    "\n",
    "def setup_fom_func_oc_npi(dd_type=DDMethods.SE):\n",
    "    script_params['fom_func_params'] = locals()\n",
    "\n",
    "        \n",
    "    def calc_fom():\n",
    "        # signal_data[0,:] = xaxis\n",
    "        # signal_data[1,:] = yaxis (alternating flattened)\n",
    "        try:\n",
    "            signal_data = pulsedmeasurementlogic.signal_data\n",
    "            #logger.debug(f\"Signal: {signal_data}\")\n",
    "            n_pi = len(signal_data[0,:])\n",
    "            if dd_type is DDMethods.SE:\n",
    "                fom_perfect = np.tile(np.asarray([0,1]), int(n_pi/2))\n",
    "            elif dd_type is DDMethods.XY8:\n",
    "                fom_perfect = np.tile(np.asarray([0,0,1,1,1,0,0,1]), int(n_pi/8))\n",
    "        \n",
    "            n_pi_even = np.where(n_pi%2==0)\n",
    "\n",
    "            data_mw = signal_data[1,:]\n",
    "            data_alt = signal_data[2,:]\n",
    "            data_norm = data_mw/data_alt\n",
    "            data_mw_0 = (data_norm)[fom_perfect==1]  # normed in state |0>\n",
    "            data_mw_1 = (data_norm)[fom_perfect==0]  # normed in state |1>\n",
    "            \n",
    "            err = abs(data_norm - fom_perfect)\n",
    "            \n",
    "            logger.debug(f\"n_pi={n_pi}, fom_perfect= {fom_perfect}, data= {data_norm}, err= {err}\")\n",
    "            return np.mean(1 - (data_mw_0 - data_mw_1))\n",
    "        \n",
    "            #data_mw_0 = (data_norm)[n_pi%2==0]  # normed in state |0>\n",
    "            #data_mw_1 = (data_norm)[n_pi%2==1]  # normed in state |1>\n",
    "\n",
    "            #return np.mean(1 - (data_mw_0 - data_mw_1))\n",
    "        except:\n",
    "            logger.exception(\"\")\n",
    "            return np.nan\n",
    "    \n",
    "    return calc_fom\n",
    "\n",
    "\n",
    "def setup_fom_func_sts_cnot():\n",
    "    script_params['fom_func_params'] = locals()\n",
    "    # todo: this doesn't norm the data onto some reference contrast (eg. NV1, NV2 -> slow pi on each)\n",
    "    # do we need norming?\n",
    "    def calc_fom():\n",
    "        try:\n",
    "            signal_data = pulsedmeasurementlogic.signal_data\n",
    "            #logger.debug(f\"Signal: {signal_data}\")\n",
    "            n_pi = len(signal_data[0,:])\n",
    "            # init= 00, 10, 01, 11\n",
    "            fom_perfect = np.tile(np.asarray([1,1,-1,1,-1,-1,1,-1]), int(n_pi/8))\n",
    "\n",
    "            data_mw = signal_data[1,:]\n",
    "            data_alt = signal_data[2,:]\n",
    "            data_delta = (data_mw-data_alt)\n",
    "            data_mw_0 = (data_delta)[fom_perfect==1]  # normed in state |0>\n",
    "            data_mw_1 = (data_delta)[fom_perfect==-1]  # normed in state |1>\n",
    "            data_mw_0 = np.pad(data_mw_0, (0,len(data_mw_1) -len(data_mw_0)), mode='constant', constant_values=1)\n",
    "\n",
    "\n",
    "            err = abs(data_delta - fom_perfect)\n",
    "\n",
    "            logger.debug(f\"n_pi={n_pi}, fom_perfect= {fom_perfect}, data= {data_delta}, err= {err}\")\n",
    "            return np.mean(err)\n",
    "\n",
    "        except:\n",
    "            logger.exception(\"\")\n",
    "            return np.nan\n",
    "        \n",
    "    return calc_fom\n",
    "\n",
    "\n",
    "def setup_fom_func_oc_crosstalk():\n",
    "    script_params['fom_func_params'] = locals()\n",
    "    # todo: this doesn't norm the data onto some reference contrast (eg. NV1, NV2 -> slow pi on each)\n",
    "    # do we need norming?\n",
    "    def calc_fom():\n",
    "        try:\n",
    "            signal_data = pulsedmeasurementlogic.signal_data\n",
    "            #logger.debug(f\"Signal: {signal_data}\")\n",
    "            # init= 0, oc_pi_on1\n",
    "            n_pi = len(signal_data[0,:])\n",
    "            data_mw = signal_data[1,:]\n",
    "            data_alt = signal_data[2,:]\n",
    "            data_delta = (data_mw-data_alt)\n",
    "\n",
    "            # ref mes nv1 without oc_pi: -1\n",
    "            # ref mes nv2 wihout  oc_pi: -2\n",
    "            # fom should be 1 on nv1: 1\n",
    "            # fom should be 1 on nv2: 1\n",
    "            # discard value: np.nan\n",
    "            if n_pi == 2:\n",
    "                # single nv\n",
    "                fom_perfect = np.asarray([-1, 1])\n",
    "                # oc_pi_on1 can not have less crosstalk than ref mes, because both use rect pi pulse\n",
    "                # => perfect mw_1/data_ref=1     \n",
    "            elif n_pi == 6:\n",
    "                # on both nvs\n",
    "                fom_perfect = np.asarray([-1,-2, np.nan, 1, 2, np.nan])\n",
    "            else:\n",
    "                raise ValueError\n",
    "            \n",
    "            data_ref_nv1 = (data_delta)[fom_perfect==-1]  \n",
    "            data_ref_nv2 = (data_delta)[fom_perfect==-2]  \n",
    "            data_mw_nv1 = (data_delta)[fom_perfect==1]  \n",
    "            data_mw_nv2 = (data_delta)[fom_perfect==2]  \n",
    "            \n",
    "            if n_pi == 2:\n",
    "                err = 1 - (abs(data_mw_nv1/data_ref_nv1))\n",
    "            elif n_pi == 6:\n",
    "                err = [abs(1 - abs(data_mw_nv1/data_ref_nv1))]\n",
    "                err.append(abs(1 - abs(data_mw_nv2/data_ref_nv2)))\n",
    "             \n",
    "            logger.debug(f\"fom_perfect= {fom_perfect}, data= {data_delta}, err= {err}\")\n",
    "            return np.mean(err)\n",
    "\n",
    "        except:\n",
    "            logger.exception(\"\")\n",
    "            return np.nan\n",
    "        \n",
    "    return calc_fom\n",
    "\n",
    "def _debug_pulse_2_seq(pulse, func_pulse_2_seq=None, **func_kwargs):\n",
    "    seq = func_pulse_2_seq(pulse, **func_kwargs)\n",
    "    \n",
    "    return seq\n",
    "\n",
    "def setup_fom_simulation_sigz(f_res, func_pulse_2_seq=None, scan_kwarg_key=None, scan_list=[], scan_fom_target=[],\n",
    "                              **func_kwargs):\n",
    "    \n",
    "    script_params['fom_func_params'] = locals()\n",
    "    \n",
    "    def fom_func(pulse, func_volt_2_rabi=None):\n",
    "        # sim units are MHz!\n",
    "        simp = SimParameters()\n",
    "\n",
    "        B_gauss = (simp.D - f_res*1e-6)/ simp.gamma_nv\n",
    "\n",
    "        # copy for safety, data units may change\n",
    "        pulse_sim = copy_pulse(pulse)\n",
    "        pulse_sim._func_ampl_v_2_omega_mhz = func_volt_2_rabi\n",
    "        logger.debug(f\"func V->MHz: {func_volt_2_rabi}\")\n",
    "        \n",
    "        if func_pulse_2_seq is None:\n",
    "            seqs = [pulse_sim]\n",
    "        else:\n",
    "            if scan_kwarg_key is None:\n",
    "                logger.debug(f\"Pulse to seq with params: {func_kwargs}\")\n",
    "                seqs = [func_pulse_2_seq(pulse_sim, **func_kwargs)]\n",
    "            else:\n",
    "                seqs = []\n",
    "                for param_val in scan_list:\n",
    "                    func_kwargs[scan_kwarg_key] = param_val\n",
    "                    logger.debug(f\"Pulse to seq with params: {func_kwargs}\")\n",
    "                    seqs.append(func_pulse_2_seq(pulse_sim, **func_kwargs))\n",
    "\n",
    "        try:\n",
    "            sim = TimeDependentSimulation()\n",
    "\n",
    "            freq_array = np.asarray([f_res])/1e6  # MHz\n",
    "            logger.debug(f\"Sim at f= {freq_array}\")\n",
    "            pops, foms = [], []\n",
    "            for idx, seq in enumerate(seqs):\n",
    "                spin_pop_vs_delta = sim.run_sim_fsweep(freq_array, seq, B_gauss, simp)\n",
    "                spin_pop = np.mean(spin_pop_vs_delta)\n",
    "                try:\n",
    "                    fom = abs(scan_fom_target[idx] - spin_pop)\n",
    "                    logger.debug(f\"Fom= {fom}, diff to target {spin_pop} - {scan_fom_target[idx]}\")\n",
    "                except IndexError:\n",
    "                    fom = spin_pop\n",
    "                pops.append(spin_pop)\n",
    "                foms.append(fom)\n",
    "                logger.debug(f\"=> spin pop {spin_pop}/ fom: {fom}\")\n",
    "                \n",
    "            fom_res = np.mean(foms)\n",
    "            logger.debug(f\"Foms= {foms}, Total mean fom {fom_res}\")\n",
    "            return fom_res\n",
    "\n",
    "        except Exception as e:\n",
    "            logger.exception(f\"Couldn't simulate pulse response: \")\n",
    "            raise\n",
    "            return np.nan\n",
    "            \n",
    "        \n",
    "    \n",
    "    return fom_func\n",
    "    \n",
    "\n",
    "def get_f_block_sim_array(f_res, f_centers_block, df, n_f, symm_block=False):\n",
    "    f_centers_block_mhz = 1e-6 * np.asarray(f_centers_block).flatten()\n",
    "    f_res_mhz = f_res*1e-6\n",
    "    df_mhz = df*1e-6\n",
    "    if symm_block:\n",
    "        deltas = []\n",
    "        for f_mhz in f_centers_block_mhz:\n",
    "            deltas.append(abs(f_mhz - f_res_mhz))\n",
    "\n",
    "        f_centers = []\n",
    "        for d_mhz in deltas:\n",
    "            f_center_2_mhz_min = f_res_mhz - d_mhz\n",
    "            f_center_2_mhz_plus = f_res_mhz + d_mhz\n",
    "            f_centers.append(f_center_2_mhz_min)\n",
    "            f_centers.append(f_center_2_mhz_plus)\n",
    "    else:\n",
    "        f_centers = f_centers_block_mhz\n",
    "\n",
    "    freqs = []\n",
    "    for f in f_centers:\n",
    "        len_range = int(np.ceil(n_f/len(f_centers)))\n",
    "        f_range = np.linspace(f-df_mhz, f+df_mhz, len_range)\n",
    "        logger.debug(f\"for f_center= {f}: f_range-f_center= {abs(f_range - f)}\")\n",
    "        if np.min(abs(f_range - f)) > 0.1:\n",
    "            f_range = np.insert(f_range, 0, f)\n",
    "        logger.debug(f\"adding {f_range}\")\n",
    "        freqs.extend(list(f_range))\n",
    "    freq_array = 1e6*np.asarray(freqs)\n",
    "\n",
    "    return freq_array # Hz\n",
    "\n",
    "def add_penalty_freq_bandstop(fom_func, f_res, f_center_block, df=10e6, n_f_sim=50, fac_penalty=1,\n",
    "                              symm_block=True, first_fom_req_pulse=False):\n",
    "    \n",
    "    script_params['fom_func_params'].update(locals())\n",
    "    \n",
    "    def extend_fom(pulse, func_volt_2_rabi=None):\n",
    "        if first_fom_req_pulse:\n",
    "            exp_fom = fom_func(pulse, func_volt_2_rabi=func_volt_2_rabi)\n",
    "        else:\n",
    "            exp_fom = fom_func()\n",
    "\n",
    "        # sim units are MHz!\n",
    "        simp = SimParameters()\n",
    "\n",
    "\n",
    "        B_gauss = (simp.D - f_res*1e-6)/ simp.gamma_nv\n",
    "\n",
    "        # copy for safety, data units might change in simulation\n",
    "        pulse_sim = copy_pulse(pulse)\n",
    "        pulse_sim._func_ampl_v_2_omega_mhz = func_volt_2_rabi\n",
    "\n",
    "        try:\n",
    "            sim = TimeDependentSimulation()\n",
    "            \n",
    "            freq_array_mhz = 1e-6*get_f_block_sim_array(f_res, f_center_block, df, n_f_sim, symm_block=symm_block)\n",
    "            data_freq_detuning = sim.run_sim_fsweep(freq_array_mhz, pulse_sim, B_gauss, simp)\n",
    "            spin_pop = np.mean(data_freq_detuning)\n",
    "\n",
    "\n",
    "        except Exception as e:\n",
    "            logger.exception(f\"Couldn't simulate pulse response: \")\n",
    "            return np.nan\n",
    "\n",
    "        # in the blockband, spin_pop should be uneffected (=1)\n",
    "        fom_sim = (1 + fac_penalty*(abs(1-spin_pop)))\n",
    "        fom_hybrid = exp_fom * fom_sim\n",
    "        logger.debug(f\"FOM: {fom_hybrid} <= Exp: {exp_fom}, Sim: {fom_sim},  factor= {fac_penalty}\")\n",
    "        logger.debug(f\"Block bands: {sorted(freq_array)}, nf= {len(freq_array_mhz)}\")\n",
    "        return fom_hybrid\n",
    "\n",
    "\n",
    "    return extend_fom\n",
    "\n",
    "def add_penalty_exp_crosstalk(fom_func, fac_penalty=1, first_fom_req_pulse=False):\n",
    "    script_params['fom_func_params'].update(locals())\n",
    "\n",
    "    def extend_fom(pulse, func_volt_2_rabi=None):\n",
    "        if first_fom_req_pulse:\n",
    "            fom = fom_func(pulse, func_volt_2_rabi=func_volt_2_rabi)\n",
    "        else:\n",
    "            fom = fom_func()\n",
    "\n",
    "        try:\n",
    "            # penalty in in [0,inf]\n",
    "            pen_fom_func = setup_fom_func_oc_crosstalk()\n",
    "            pen_fom = pen_fom_func()\n",
    "            \n",
    "        except Exception as e:\n",
    "            logger.exception(f\"Couldn't obtain pentalty: \")\n",
    "            return np.nan\n",
    "\n",
    "        pen_fom = 1+fac_penalty*abs(pen_fom)\n",
    "\n",
    "        fom_hybrid = pen_fom * fom\n",
    "        \n",
    "        logger.debug(f\"FOM: {fom_hybrid} <= 1st: {fom}, Pen: {pen_fom},  factor= {fac_penalty}\")\n",
    "        return fom_hybrid\n",
    "\n",
    "\n",
    "    return extend_fom\n",
    "    \n",
    "\n",
    "def add_penalty_tomo_freq_bandstop(fom_func, f_res, f_center_block, df=10e6, n_f_sim=50, fac_penalty=1,\n",
    "                              symm_block=True, first_fom_req_pulse=False):\n",
    "    \n",
    "    script_params['fom_func_params'].update(locals())\n",
    "    \n",
    "\n",
    "    def extend_fom(pulse, func_volt_2_rabi=None):\n",
    "        if first_fom_req_pulse:\n",
    "            exp_fom = fom_func(pulse, func_volt_2_rabi=func_volt_2_rabi)\n",
    "        else:\n",
    "            exp_fom = fom_func()\n",
    "\n",
    "        # sim units are MHz!\n",
    "        simp = SimParameters()\n",
    "\n",
    "\n",
    "        B_gauss = (simp.D - f_res*1e-6)/ simp.gamma_nv\n",
    "\n",
    "        # copy for safety, data units might change in simulation\n",
    "        pulse_sim = copy_pulse(pulse)\n",
    "        pulse_sim._func_ampl_v_2_omega_mhz = func_volt_2_rabi\n",
    "\n",
    "        try:\n",
    "            freq_array = get_f_block_sim_array(f_res, f_center_block, df, n_f_sim, symm_block=symm_block)\n",
    "            logger.debug(f\"Tomo at delta= {freq_array-f_res}\")\n",
    "            chi_avg =  sim_process_tomo_avg(pulse_sim,  B_gauss, deltas=freq_array-f_res)\n",
    "            fom = np.real(1 - fidelity_chi_pi_x(chi_avg, u_target='1'))\n",
    "\n",
    "        except Exception as e:\n",
    "            logger.exception(f\"Couldn't simulate pulse response: \")\n",
    "            return np.nan\n",
    "\n",
    "        # in the blockband, spin_pop should be uneffected (=1)\n",
    "        fom_sim = fac_penalty*fom\n",
    "        fom_hybrid = exp_fom * fom_sim\n",
    "        logger.debug(f\"FOM: {fom_hybrid} <= Exp: {exp_fom}, Sim: {fom_sim},  factor= {fac_penalty}\")\n",
    "        logger.debug(f\"Block bands: {sorted(freq_array)}, nf= {len(freq_array)}\")\n",
    "        return fom_hybrid\n",
    "\n",
    "\n",
    "    return extend_fom\n",
    "\n",
    "\n",
    "def setup_fom_func_oc_proctomo(rho_mode='v1'):\n",
    "    script_params['fom_func_params'] = locals()\n",
    "    def calc_fom():\n",
    "        signal_data = pulsedmeasurementlogic.signal_data\n",
    "\n",
    "        E1 = signal_data[1,2:6]\n",
    "        E0 = signal_data[1,6:10]\n",
    "        E2 = signal_data[1,10:14]\n",
    "        E3 = signal_data[1,14:18]\n",
    "\n",
    "        # normalize the rabi measurments with m_s=0 and m_s=-1 state measurement\n",
    "        norm_max = signal_data[1,0]\n",
    "        norm_min = signal_data[1,1]\n",
    "\n",
    "        E0 = (E0 - norm_min) / (norm_max-norm_min)\n",
    "        E1 = (E1 - norm_min) / (norm_max-norm_min)\n",
    "        E2 = (E2 - norm_min) / (norm_max-norm_min)\n",
    "        E3 = (E3 - norm_min) / (norm_max-norm_min)\n",
    "\n",
    "        # calculate the density matrices\n",
    "        rho0 = calculate_rho(E0)\n",
    "        rho1 = calculate_rho(E1)\n",
    "        rho2 = calculate_rho(E2)\n",
    "        rho3 = calculate_rho(E3)\n",
    "        \n",
    "        logger.debug(f\"Measured rho {rho0},{rho1},{rho2},{rho3}\")\n",
    "        \n",
    "        # quadratic maximum likelihood estimation of the density matrices\n",
    "        rho0_est = rho_phy_corr(rho0)\n",
    "        rho1_est = rho_phy_corr(rho1)\n",
    "        rho2_est = rho_phy_corr(rho2)\n",
    "        rho3_est = rho_phy_corr(rho3)\n",
    "        \n",
    "        logger.debug(f\"Reconstruted rho {rho0_est},{rho1_est},{rho2_est},{rho3_est}\")\n",
    "        \n",
    "        if rho_mode == 'v2':\n",
    "            rho0_est = construct_physical_state(scipy.optimize.minimize(\n",
    "                RMS_discrepancy_state,x0 = [0,0,1,1,0,0],\n",
    "                bounds=((-1,1),(-1,1),(-1,1),(0,1),(0,1),(0,1)),\n",
    "                args=rho0).x)\n",
    "            rho1_est = construct_physical_state(scipy.optimize.minimize(\n",
    "                RMS_discrepancy_state,x0 = [0,0,1,1,0,0],\n",
    "                bounds=((-1,1),(-1,1),(-1,1),(0,1),(0,1),(0,1)),\n",
    "                args=rho1).x)\n",
    "            rho2_est = construct_physical_state(scipy.optimize.minimize(\n",
    "                RMS_discrepancy_state,x0 = [0,0,1,1,0,0],\n",
    "                bounds=((-1,1),(-1,1),(-1,1),(0,1),(0,1),(0,1)),\n",
    "                args=rho2).x)\n",
    "            rho3_est = construct_physical_state(scipy.optimize.minimize(\n",
    "                RMS_discrepancy_state,x0 = [0,0,1,1,0,0],\n",
    "                bounds=((-1,1),(-1,1),(-1,1),(0,1),(0,1),(0,1)),\n",
    "                args=rho3).x)\n",
    "        \n",
    "        logger.debug(f\"Reconstruted rho_phys {rho0_est},{rho1_est},{rho2_est},{rho3_est}\")\n",
    "        \n",
    "        # calculate chi matrix (Qunatum Process Tomography)\n",
    "        chi = calc_chi(rho0_est,rho1_est,rho2_est,rho3_est)\n",
    "        \n",
    "        logger.debug(f\"Reconstructed process matrix: {chi}\")\n",
    "\n",
    "        # calculate the fom\n",
    "        fom = np.real(1 - fidelity_chi_pi_x(chi))\n",
    "        \n",
    "        return fom\n",
    "        \n",
    "    return calc_fom\n",
    "\n",
    "def setup_fom_simulation_proctomo(f_res, delta_hfs=2.1e6):\n",
    "    script_params['fom_func_params'] = locals()\n",
    "    \n",
    "    def fom_func(pulse, func_volt_2_rabi=None):\n",
    "        try:\n",
    "            # sim units are MHz!\n",
    "            B_gauss = (simp.D - f_res*1e-6)/ simp.gamma_nv\n",
    "            pulse_sim = copy_pulse(pulse)\n",
    "            pulse_sim._func_ampl_v_2_omega_mhz = func_volt_2_rabi\n",
    "            \n",
    "            chi_avg = sim_process_tomo_avg_hfs(pulse_sim,  B_gauss, delta_hfs=delta_hfs)\n",
    "            fom = np.real(1 - fidelity_chi_pi_x(chi_avg))\n",
    "\n",
    "            return fom\n",
    "        \n",
    "        except Exception as e:\n",
    "            logger.exception(f\"Couldn't simulate pulse process tomo: \")\n",
    "            raise\n",
    "            return np.nan\n",
    "                \n",
    "    return fom_func\n",
    "\n",
    "def setup_fom_simulation_mathematica(f_res1, f_res2, g_dip=15e3, deltas=None, dd_type=DDMethods.XY8, \n",
    "                                     dd_order=1, omega_rabi_rect=20e6):\n",
    "    script_params['fom_func_params'] = locals()\n",
    "    \n",
    "    if deltas is None:\n",
    "        deltas = [0]\n",
    "\n",
    "    def fom_func(pulse, func_volt_2_rabi=None):\n",
    "        try:\n",
    "            \n",
    "            if dd_type == DDMethods.CPMG:\n",
    "                dd_params = wolf.evaluate(wsim.loadSequenceCPMG(dd_order))\n",
    "            elif dd_type == DDMethods.XY8:\n",
    "                dd_params = wolf.evaluate(wsim.loadSequenceXY8(dd_order))\n",
    "            else:\n",
    "                raise NotImplemented(\"\")\n",
    "            pulse_params = setup_pi_pulse_params('optimal_both')\n",
    "            \n",
    "            f_res1_mhz = f_res1/1e6\n",
    "            f_res2_mhz = f_res2/1e6\n",
    "            delta_f_mhz = 0#2*np.pi*0.2  # MHz rad\n",
    "            omega_rabi_mhz = omega_rabi_rect/1e6 # MHz rad\n",
    "            crosstalk = 1\n",
    "            \n",
    "            rhos = []\n",
    "            \n",
    "            for delta in deltas:\n",
    "                delta_f_mhz = delta/1e6\n",
    "                wsim_params = {'gRun':2*np.pi*g_dip/1e6, 'crossTalkRun':crosstalk,\n",
    "                               '\\u03b41Run':2*np.pi*delta_f_mhz, '\\u03b42Run':2*np.pi*delta_f_mhz,\n",
    "                               '\\u03a91max':2*np.pi*omega_rabi_mhz, '\\u03a92max':2*np.pi*omega_rabi_mhz,#\n",
    "                               '\\u03c91Run':2*np.pi*f_res1_mhz, '\\u03c92Run':2*np.pi*f_res2_mhz,\n",
    "                              }\n",
    "                # todo: think of other init states\n",
    "                qsim = setup_sim_params(dd_params, pi_pulse_params=pulse_params,\n",
    "                                        init=TomoInit.ux180_on_2, sim_params=wsim_params)\n",
    "                                \n",
    "                rho = run_wsim(qsim)\n",
    "\n",
    "                rhos.append(rho)\n",
    "                                \n",
    "                script_params['wolf_sim_params_last'] = qsim\n",
    "                logger.debug(f\"Sim params: {wsim_params.values()}\")  # cant display unicode in keys()\n",
    "                logger.debug(f\"For delta= {delta_f_mhz} MHz, rho= {rho}\")\n",
    "                \n",
    "            rho_avg = sum(rhos)/len(deltas)\n",
    "            logger.debug(f\"Mathematica loaded pulse timestamp: {qsim['wolfram_sim_params']['pulseParamsP1']['fileTimestamp']}\")\n",
    "            logger.debug(f\"rho_avg= {rho_avg}\")\n",
    "            \n",
    "            func_ampl_v_2_2pimhz = qsim['wolfram_sim_params']['pulseParamsP1']['func_ampl_v_2_rabi_2piMHz']\n",
    "            if func_volt_2_rabi(1)*2*np.pi != func_ampl_v_2_2pimhz:\n",
    "                raise ValueError(f\"ampl_2_rabi calibration does not fit wolfram simulation: {func_ampl_v_2_2pimhz} 2pi MHz\")\n",
    "            file_ampl, file_phase = get_pulse_filename(folder_path, filename)\n",
    "            file_wolf_ampl, file_wolf_phase = qsim['wolfram_sim_params']['pulseParamsP1']['fileAmpl'], qsim['wolfram_sim_params']['pulseParamsP1']['filePhase']\n",
    "            if file_wolf_ampl != file_ampl or file_wolf_phase != file_phase:\n",
    "                raise ValueError(f\"File set as file destination {file_ampl} does not fit to the Mathematica loaded: {file_wolf_ampl}\")\n",
    "            \n",
    "            rho_opt = get_opt_rho(qsim, True)\n",
    "            # todo: sph_err on NV1 only \n",
    "            fidelity, sph_err = state_fidelity(rho_avg, rho_opt), calc_sph_error(rho_avg, qsim)\n",
    "            fom = abs(1-fidelity)\n",
    "            return fom\n",
    "        \n",
    "        except Exception as e:\n",
    "            logger.exception(f\"Couldn't simulate pulse process tomo: \")\n",
    "            raise\n",
    "            return np.nan\n",
    "                \n",
    "    return fom_func\n",
    "\n",
    "\n",
    "0"
   ]
  },
  {
   "cell_type": "code",
   "execution_count": 92,
   "metadata": {
    "ExecuteTime": {
     "end_time": "2023-10-09T21:43:51.302882+02:00",
     "start_time": "2023-10-09T21:43:51.302882Z"
    }
   },
   "outputs": [
    {
     "data": {
      "text/plain": [
       "0"
      ]
     },
     "execution_count": 92,
     "metadata": {},
     "output_type": "execute_result"
    }
   ],
   "source": [
    "\n",
    "#np.mean((data_mw-data_alt)/full_contr), np.mean((baseline_mw-baseline_alt)/full_contr)\n",
    "0"
   ]
  },
  {
   "cell_type": "markdown",
   "metadata": {},
   "source": [
    "## Others"
   ]
  },
  {
   "cell_type": "code",
   "execution_count": 14,
   "metadata": {
    "ExecuteTime": {
     "end_time": "2023-10-12T16:32:01.709180+02:00",
     "start_time": "2023-10-12T16:32:01.709180Z"
    }
   },
   "outputs": [
    {
     "data": {
      "text/plain": [
       "0"
      ]
     },
     "execution_count": 14,
     "metadata": {},
     "output_type": "execute_result"
    }
   ],
   "source": [
    "# shaddows philipp_optimization.ipynb\n",
    "\n",
    "def calculate_rho(rho_data):\n",
    "    rho_data[2] = (rho_data[2] - 0.5) * 2\n",
    "    rho_data[3] = (rho_data[3] - 0.5) * 2\n",
    "    \n",
    "    rho_return = np.zeros([2,2], dtype = complex)\n",
    "    rho_return[0,0] = 1/2 + 1/2 * (rho_data[0] - rho_data[1])\n",
    "    rho_return[0,1] = 1/2 * (rho_data[3] + 1j * rho_data[2])\n",
    "    rho_return[1,0] = 1/2 * (rho_data[3] - 1j * rho_data[2])\n",
    "    rho_return[1,1] = 1/2 - 1/2 * (rho_data[0] - rho_data[1])\n",
    "    \n",
    "    return rho_return\n",
    "\n",
    "def rho_min(rho):\n",
    "    #find a physically correct density matrix\n",
    "    \n",
    "    sigma = np.zeros((2,2))\n",
    "    # substitute constant values; rho[0,0]) and rho[1,1] are always real!\n",
    "    a = np.real(1 + (-1 + rho[0,0]) * rho[0,0] + (-1 + rho[1,1]) * rho[1,1] + 2 * np.abs(rho[0,1]))**2\n",
    "    b = np.real(-rho[0,0] + rho[1,1])\n",
    "    c = -2 * np.real(rho[0,1])\n",
    "    d = - 2 * np.imag(rho[0,1])\n",
    "\n",
    "    n1 = np.arctan2([-c] , [-b])\n",
    "    n1 = n1[0]\n",
    "    n2 = np.arctan2([c], [b])\n",
    "    n2 = n2[0]\n",
    "    x1 = -np.arccos(- np.sqrt((b**2 + c**2)/(b**2 + c**2 + d**2)))\n",
    "    x2 = np.arccos(- np.sqrt((b**2 + c**2)/(b**2 + c**2 + d**2)))\n",
    "\n",
    "    sigma[0,0] = a + b * np.cos(n1) * np.cos(x1) + c * np.cos(x1) * np.sin(n1) + d * np.sin(x1)\n",
    "    sigma[0,1] = a + b * np.cos(n1) * np.cos(x2) + c * np.cos(x2) * np.sin(n1) + d * np.sin(x2)\n",
    "    sigma[1,0] = a + b * np.cos(n2) * np.cos(x1) + c * np.cos(x1) * np.sin(n2) + d * np.sin(x1)\n",
    "    sigma[1,1] = a + b * np.cos(n2) * np.cos(x2) + c * np.cos(x2) * np.sin(n2) + d * np.sin(x2)\n",
    "\n",
    "    pos_min = np.unravel_index(np.argmin(sigma), np.shape(sigma))\n",
    "    n_min = int(pos_min[0])\n",
    "    x_min = int(pos_min[1])\n",
    "\n",
    "    if n_min == 0 and x_min == 0:\n",
    "        rho_return = rho_parameterized(n1,x1)\n",
    "    elif n_min == 0 and x_min == 1:\n",
    "        rho_return = rho_parameterized(n1,x2)\n",
    "    elif n_min == 1 and x_min == 0:\n",
    "        rho_return = rho_parameterized(n2,x1)\n",
    "    elif n_min == 1 and x_min == 1:\n",
    "        rho_return = rho_parameterized(n2,x2)\n",
    "        \n",
    "    return rho_return\n",
    "\n",
    "def rho_phy_corr(rho):\n",
    "    # enforces trace=1\n",
    "    rho_corr = (rho + np.matrix.getH(rho))/2\n",
    "    rho_corr = rho_corr/np.trace(rho_corr)\n",
    "    return rho_corr    \n",
    "\n",
    "def calc_chi(rho0_chi,rho1_chi,rho2_chi,rho3_chi):\n",
    "    #\"Quantum State Tomography: calculate matrix Chi from given density matrices rho1,..,rho4\"\n",
    "    sigx = np.array([[0,1],[1,0]])\n",
    "\n",
    "    #Defintion of Matrix M\n",
    "\n",
    "    M=np.zeros([8,8],dtype=complex)\n",
    "    M[0,0]=0\n",
    "    M[0,1]=0\n",
    "    M[0,2]=0\n",
    "    M[0,3]=0\n",
    "    M[0,4]=0\n",
    "    M[0,5]=0\n",
    "    M[0,6]=1\n",
    "    M[0,7]=0\n",
    "\n",
    "    M[1,0]=0\n",
    "    M[1,1]=0\n",
    "    M[1,2]=0\n",
    "    M[1,3]=0\n",
    "    M[1,4]=0\n",
    "    M[1,5]=0\n",
    "    M[1,6]=0\n",
    "    M[1,7]=1\n",
    "\n",
    "    M[2,0]=1\n",
    "    M[2,1]=0\n",
    "    M[2,2]=0\n",
    "    M[2,3]=0\n",
    "    M[2,4]=0\n",
    "    M[2,5]=0\n",
    "    M[2,6]=0\n",
    "    M[2,7]=0\n",
    "\n",
    "    M[3,0]=0\n",
    "    M[3,1]=1\n",
    "    M[3,2]=0\n",
    "    M[3,3]=0\n",
    "    M[3,4]=0\n",
    "    M[3,5]=0\n",
    "    M[3,6]=0\n",
    "    M[3,7]=0\n",
    "\n",
    "    M[4,0]=0.5\n",
    "    M[4,1]=0\n",
    "    M[4,2]=-0.5j\n",
    "    M[4,3]=0\n",
    "    M[4,4]=0.5j\n",
    "    M[4,5]=0\n",
    "    M[4,6]=0.5\n",
    "    M[4,7]=0\n",
    "\n",
    "    M[5,0]=0\n",
    "    M[5,1]=0.5\n",
    "    M[5,2]=0\n",
    "    M[5,3]=-0.5j\n",
    "    M[5,4]=0\n",
    "    M[5,5]=0.5j\n",
    "    M[5,6]=0\n",
    "    M[5,7]=0.5\n",
    "\n",
    "    M[6,0]=0.5\n",
    "    M[6,1]=0\n",
    "    M[6,2]=-0.5\n",
    "    M[6,3]=0\n",
    "    M[6,4]=-0.5\n",
    "    M[6,5]=0\n",
    "    M[6,6]=0.5\n",
    "    M[6,7]=0\n",
    "\n",
    "    M[7,0]=0\n",
    "    M[7,1]=0.5\n",
    "    M[7,2]=0\n",
    "    M[7,3]=-0.5\n",
    "    M[7,4]=0\n",
    "    M[7,5]=-0.5\n",
    "    M[7,6]=0\n",
    "    M[7,7]=0.5\n",
    "\n",
    "    #calculate inverse of matrix M\n",
    "    Minv = np.linalg.inv(M)\n",
    "    \n",
    "    #convert matrices rho1,...,rho4 to one 8x2 matrix\n",
    "    rho_chi=np.zeros([8,2],dtype=complex)\n",
    "    rho_chi[0,0]=rho0_chi[0,0]\n",
    "    rho_chi[0,1]=rho0_chi[0,1]\n",
    "    rho_chi[1,0]=rho0_chi[1,0]\n",
    "    rho_chi[1,1]=rho0_chi[1,1]\n",
    "\n",
    "    rho_chi[2,0]=rho1_chi[0,0]\n",
    "    rho_chi[2,1]=rho1_chi[0,1]\n",
    "    rho_chi[3,0]=rho1_chi[1,0]\n",
    "    rho_chi[3,1]=rho1_chi[1,1]\n",
    "\n",
    "    rho_chi[4,0]=rho2_chi[0,0]\n",
    "    rho_chi[4,1]=rho2_chi[0,1]\n",
    "    rho_chi[5,0]=rho2_chi[1,0]\n",
    "    rho_chi[5,1]=rho2_chi[1,1]\n",
    "\n",
    "    rho_chi[6,0]=rho3_chi[0,0]\n",
    "    rho_chi[6,1]=rho3_chi[0,1]\n",
    "    rho_chi[7,0]=rho3_chi[1,0]\n",
    "    rho_chi[7,1]=rho3_chi[1,1]\n",
    "    \n",
    "    #Minv times rho\n",
    "    rhoprime = np.matmul(Minv,rho_chi)\n",
    "    #convert rhoprime (8x2) into a 4x4 matrix\n",
    "    rhoM=np.zeros([4,4],dtype=complex)\n",
    "    rhoM[0:2,0:2]=rhoprime[0:2,0:2]\n",
    "    rhoM[0:2,2:4]=rhoprime[2:4,0:2]\n",
    "    rhoM[2:4,0:2]=rhoprime[4:6,0:2]\n",
    "    rhoM[2:4,2:4]=rhoprime[6:9,0:2]\n",
    "    \n",
    "    #Definition of Lambda\n",
    "    Lambda=np.zeros([4,4],dtype=complex)\n",
    "    Lambda[0:2,0:2]=np.identity(2)\n",
    "    Lambda[2:4,0:2]=sigx\n",
    "    Lambda[0:2,2:4]=sigx\n",
    "    Lambda[2:4,2:4]=-np.identity(2)\n",
    "    Lambda = Lambda * 0.5\n",
    "    \n",
    "    #calculate Chi\n",
    "    chi = np.matmul(Lambda,np.matmul(rhoM,Lambda))                    \n",
    "    \n",
    "    return chi\n",
    "\n",
    "\n",
    "def fidelity_chi_pi_x(chi, u_target='x'):\n",
    "    #\"calculate fidelity of Sx pi-pulse\"\n",
    "    #Definition of pauli and spin matrices\n",
    "    sigx = np.array([[0,1],[1,0]])\n",
    "    sigy = np.array([[0,-1j],[1j,0]])\n",
    "    sigz = np.array([[1,0],[0,-1]])\n",
    "\n",
    "    Sx = 0.5 * sigx\n",
    "    Sy = 0.5 * sigy\n",
    "    Sz= 0.5 * sigz\n",
    "\n",
    "    #initial state\n",
    "    init1 = np.array([[0,0],[0,1]])\n",
    "    init2 = np.array([[1,0],[0,0]])\n",
    "    init3 = np.matmul(np.matmul(linalg.expm(-1j*np.pi/2*Sx),init1),linalg.expm(1j*np.pi/2*Sx))\n",
    "    init4 = np.matmul(np.matmul(linalg.expm(-1j*np.pi/2*Sy),init1),linalg.expm(1j*np.pi/2*Sy))\n",
    "\n",
    "    #time evolution operator\n",
    "    U = linalg.expm(-1j * np.pi * Sx)\n",
    "\n",
    "    #final state\n",
    "    final1 = np.matmul(np.matmul(U,init1),U.conj().transpose())\n",
    "    final2 = np.matmul(np.matmul(U,init2),U.conj().transpose())\n",
    "    final3 = np.matmul(np.matmul(U,init3),U.conj().transpose())\n",
    "    final4 = np.matmul(np.matmul(U,init4),U.conj().transpose())\n",
    "    \n",
    "    #calculate theoretical chi of Sx pi-pulse\n",
    "    if u_target == 'x':\n",
    "        chi_theo = calc_chi(final1,final2,final3,final4)\n",
    "    elif u_target == '1':\n",
    "        chi_theo = calc_chi(init1,init2,init3,init4)\n",
    "    else:\n",
    "        raise NotImplemented\n",
    "    \n",
    "    # calculate figure of merit = gate fidelity\n",
    "    #fom = np.real(np.trace(np.matmul(chi_theo.conj().transpose(),chi)))\n",
    "    fom = 1 - 1/4 * np.trace(np.sqrt(np.matmul((chi-chi_theo).conj().transpose(),(chi - chi_theo))))\n",
    "    \n",
    "    return fom\n",
    "\n",
    "\n",
    "\n",
    "# construct a physical state \n",
    "def construct_physical_state(params):\n",
    "    \n",
    "    # Pauli matrices\n",
    "    sigma_I = np.array([[1,0],[0, 1]], dtype='complex')\n",
    "    sigma_x = np.array([[0, 1],[1, 0]], dtype='complex')\n",
    "    sigma_y = np.array([[0,-1],[1, 0]], dtype='complex') * 1.j\n",
    "    sigma_z = np.array([[1, 0],[0,-1]], dtype='complex')\n",
    "    pauli = [sigma_I, sigma_x, sigma_y, sigma_z]\n",
    "\n",
    "\n",
    "    \n",
    "    # extract the parameters\n",
    "    alpha, beta, gamma, a, p_depha, p_depol = params\n",
    "    \n",
    "    # starting state (diagonalized)\n",
    "    rho_phys_0 = np.array([[a,0],[0,1-a]])\n",
    "    \n",
    "    # calculate the rotation matrices\n",
    "    Rot_x = np.array([[np.cos(alpha/2), -1.j*np.sin(alpha/2)],\n",
    "                      [-1.j*np.sin(alpha/2), np.cos(alpha/2)]])\n",
    "    Rot_y = np.array([[np.cos(beta/2), -np.sin(beta/2)],\n",
    "                      [np.sin(beta/2), np.cos(beta/2)]])\n",
    "    Rot_z = np.array([[np.exp(-1.j*gamma/2), 0],\n",
    "                      [0, np.exp(1.j*gamma/2)]])\n",
    "    \n",
    "    # construct a unitary matrix\n",
    "    U = np.dot(Rot_z,np.dot(Rot_y,Rot_x))\n",
    "    \n",
    "    # unitary transformation\n",
    "    rho_phys = np.dot(U,np.dot(rho_phys_0,np.matrix.getH(U)))\n",
    "    \n",
    "    # consider dephasing\n",
    "    Kraus_op_depha = []\n",
    "    Kraus_op_depha.append(np.sqrt(1-p_depha/2) * pauli[0])\n",
    "    Kraus_op_depha.append(np.sqrt(p_depha/2) * pauli[3])\n",
    "\n",
    "    rho_tmp = np.zeros((2,2))\n",
    "    for kk in range(len(Kraus_op_depha)):\n",
    "\n",
    "        rho_tmp = rho_tmp + np.dot(Kraus_op_depha[kk],\n",
    "                                   np.dot(rho_phys,np.matrix.getH(Kraus_op_depha[kk])))\n",
    "\n",
    "    rho_phys = rho_tmp\n",
    "        \n",
    "    # consider depolarization\n",
    "    Kraus_op_depol = []\n",
    "    Kraus_op_depol.append(np.sqrt(1-3*p_depol/4) * pauli[0])\n",
    "    Kraus_op_depol.append(np.sqrt(p_depol)/2 * pauli[1])\n",
    "    Kraus_op_depol.append(np.sqrt(p_depol)/2 * pauli[2])\n",
    "    Kraus_op_depol.append(np.sqrt(p_depol)/2 * pauli[3])\n",
    "    \n",
    "    rho_tmp = np.zeros((2,2))\n",
    "    for kk in range(len(Kraus_op_depol)):\n",
    "        rho_tmp = rho_tmp + np.dot(Kraus_op_depol[kk],\n",
    "                                   np.dot(rho_phys,np.matrix.getH(Kraus_op_depol[kk])))\n",
    "\n",
    "    rho_phys = rho_tmp\n",
    "        \n",
    "    return rho_phys\n",
    "\n",
    "\n",
    "\n",
    "# minimize the RMS discrepancy and calculate the physical guess for the state\n",
    "def RMS_discrepancy_state(params, LGST_estimate):\n",
    "    \n",
    "    rms_dis_state_arg = LGST_estimate - construct_physical_state(params)\n",
    "    \n",
    "    rms_dis_state_val = np.trace(np.dot(np.matrix.getH(rms_dis_state_arg),\n",
    "                                        rms_dis_state_arg))\n",
    "        \n",
    "    return np.real(rms_dis_state_val)\n",
    "\n",
    "\n",
    "# calculate the physical guess for rho\n",
    "#construct_physical_state(optimize.minimize(\n",
    "#    RMS_discrepancy_state,x0 = [0,0,1,1,0,0],\n",
    "#    bounds=((-1,1),(-1,1),(-1,1),(0,1),(0,1),(0,1)),\n",
    "#    args=rho_0).x)\n",
    "\n",
    "0"
   ]
  },
  {
   "cell_type": "code",
   "execution_count": 17,
   "metadata": {
    "ExecuteTime": {
     "end_time": "2023-10-12T16:32:02.686909+02:00",
     "start_time": "2023-10-12T16:32:02.686909Z"
    }
   },
   "outputs": [
    {
     "data": {
      "text/plain": [
       "-179"
      ]
     },
     "execution_count": 17,
     "metadata": {},
     "output_type": "execute_result"
    }
   ],
   "source": [
    "# shaddows postprocess_qdplot.iypnb\n",
    "\n",
    "#import lmfit\n",
    "import qutip\n",
    "\n",
    "def tomography_1q_from_2rabi(fit_dict, pmes_rabi_ref):\n",
    "    if len(fit_dict) != 2:\n",
    "        raise ValueError\n",
    "    \n",
    "  \n",
    "    fit_x = [val['fit_res'] for (key, val) in fit_dict.items() if val['exp_params']['rabi_phase_deg'] == 0][0]\n",
    "    fit_y = [val['fit_res'] for (key, val) in fit_dict.items() if val['exp_params']['rabi_phase_deg'] == 90][0]\n",
    "    \n",
    "    \n",
    "    ampl0, ampl1, y0s =  fits_2_tomo_params(fit_x, fit_y, pmes_rabi_ref)\n",
    "    \n",
    "    #return (ampl0, ampl1, y0s)\n",
    "    return _tomo_1q_rabi(ampl0, ampl1, y0s)\n",
    "\n",
    "    \n",
    "    \n",
    "def tomography_2q_from_2rabi(fit_dict, pmes_rabi_ref_0, pmes_rabi_ref_1):\n",
    "    pass\n",
    "\n",
    "\n",
    "def _tomo_1q_rabi(ampls_0=[0, 0], ampls_1=[0, 0], y0=[0,0]):\n",
    "    # input the fit results to Rabi oscillations driven around the X and Y axis\n",
    "    # result is a density matrix reconstructed from a linear square solution to\n",
    "    # the overdetermined system given by Neumann PhD (3.24)\n",
    "    # a*x=b where x=[a,b,c,d] with variable names like in (3.21)\n",
    "    \n",
    "    y0x = y0[0]\n",
    "    y0y = y0[1]\n",
    "    A0x = ampls_0[0]\n",
    "    A0y = ampls_0[1]\n",
    "    A1x = ampls_1[0]\n",
    "    A1y = ampls_1[1]\n",
    "    \n",
    "    a = np.zeros((6, 4))\n",
    "    a[0,0] = 1/2\n",
    "    a[0,3] = 1/2\n",
    "    a[1,0] = 1/2\n",
    "    a[1,3] = 1/2\n",
    "    a[2,0] = -1/2\n",
    "    a[2,3] = 1/2\n",
    "    a[3,0] = -1/2\n",
    "    a[3,3] = 1/2\n",
    "    a[4,2] = 1     # TODO: Attention: -1 if like in PhD Neumann\n",
    "    a[5,1] = 1\n",
    "    \n",
    "    b = [y0x, y0y, A0x, A0y, A1x, A1y]\n",
    "    \n",
    "    x, _, _, _= np.linalg.lstsq(a, b)\n",
    "    \n",
    "    rho = np.zeros((2,2), dtype=complex)\n",
    "    a,b,c,d = x[0], x[1], x[2], x[3]\n",
    "    rho[0,0] = a\n",
    "    rho[0,1] = complex(b, c)\n",
    "    rho[1,0] = complex(b, -c)\n",
    "    rho[1,1] = d\n",
    "    \n",
    "    return rho\n",
    "   \n",
    "\n",
    "def norm_cts_2_pop(i_cts, cts_max=1, cts_min=0.7, is_ampl=False, to_0_state=False):\n",
    "    from scipy.interpolate import interp1d\n",
    "    \n",
    "    # norm to_0_state -> rabi starts in 1 (like fluorescence)\n",
    "    # otherwise -> rabi starts in 0 (like usual state def)\n",
    "   \n",
    "    if is_ampl:\n",
    "        normed_range = [1,0] if to_0_state else [-1, 0]\n",
    "        mapper = interp1d([cts_max-cts_min,0], normed_range, fill_value='extrapolate')\n",
    "    else:\n",
    "        normed_range = [1,0] if to_0_state else [0, 1]\n",
    "        mapper = interp1d([cts_max,cts_min],normed_range, fill_value='extrapolate')\n",
    "    return mapper(i_cts)\n",
    "\n",
    "def fits_2_tomo_params(fit_rabi_x, fit_rabi_y, pmes_rabi_ref):\n",
    "    \n",
    "    f_x = fit_rabi_x\n",
    "    f_y = fit_rabi_y\n",
    "    \n",
    "    cts_max = np.max(pmes_rabi_ref['fit_values']['y'])\n",
    "    cts_min = np.min(pmes_rabi_ref['fit_values']['y'])\n",
    "\n",
    "    ampls_0 = norm_cts_2_pop([f_x[0], f_y[0]], cts_min=cts_min, cts_max=cts_max, is_ampl=True)\n",
    "    ampls_1 = norm_cts_2_pop([f_x[1], f_y[1]], cts_min=cts_min, cts_max=cts_max, is_ampl=True)\n",
    "    y0s = norm_cts_2_pop([f_x[2], f_y[2]], cts_min=cts_min, cts_max=cts_max)\n",
    "    \n",
    "    \n",
    "    logger.debug(f\"Norming fit params to least-squared a0,a1,y0= {[f_x[0], f_y[0]]}, \\\n",
    "                 {[f_x[1], f_y[1]]},{[f_x[2], f_y[2]]} -> {ampls_0},{ampls_1},{y0s}\")\n",
    "    #if ampls_0 < 0 or ampls_1 > 1 or ampls_1 < 0 or ampls_1 > 1:\n",
    "    #    logger.warning(\"Found unreasonable Rabi amplitudes. Norm error?\")\n",
    "    \n",
    "    return ampls_0, ampls_1, y0s\n",
    "\n",
    "\n",
    "def fit_rabis(pmes_list, zdata='delta'):\n",
    "    \n",
    "    p_raw = pmes_list\n",
    "    \n",
    "    \"\"\"\n",
    "    Using a fit 'expression' to fix the frequencies of the two sines seem broken.\n",
    "    So instead: 1. find the frequency in a 'sine' fit and 2. fix this in a 'sine_2x' fit\n",
    "    \"\"\"\n",
    "\n",
    "    y_val_idx = None\n",
    "    fit_on = zdata #'delta'\n",
    "    fit_meth = 'sine'\n",
    "    fit_vals = ['frequency', 'None', 'None']\n",
    "\n",
    "    for i, p in enumerate(p_raw):\n",
    "        z_i = get_z(p, mode=zdata)\n",
    "        tau_i = p['data']['tau']\n",
    "        ampl_guess = (np.max(z_i) - np.min(z_i))/2\n",
    "        offset_guess = np.mean(z_i)\n",
    "        f_min = 1/np.max(tau_i)\n",
    "        \n",
    "        # for some reason, giving min, max boundaries for fit confuses the initial guess\n",
    "        # so manually get value form fft\n",
    "        fft_x, fft_delta = compute_ft(x_val=tau_i,\n",
    "                          y_val=z_i)\n",
    "        f_guess = fft_x[np.argmax(fft_delta)]\n",
    "\n",
    "        p_raw[i]['fit_edit_params'] = [lmfit.Parameter('frequency', vary=True, value=f_guess, min=f_min, max=10*f_min),\n",
    "                                    #lmfit.Parameter('phase', value=0, vary=True, min=-np.pi, max=np.pi),\n",
    "                                    lmfit.Parameter('beta', value=1, vary=False),\n",
    "                                    #lmfit.Parameter('lifetime', value=np.inf, vary=False)\n",
    "                                    #lmfit.Parameter('lifetime', value=10e-6, vary=True, min=10e-9),\n",
    "                                    #lmfit.Parameter('amplitude', value=ampl_guess, vary=True, min=0),\n",
    "                                    #lmfit.Parameter('offset', value=offset_guess, vary=True)\n",
    "                                   ]\n",
    "\n",
    "    _, f, _, _, _ = pulsed_series_2_1d_fit_array(p_raw, fit_meth=fit_meth, fit_on=fit_on, fit_vals=fit_vals,\n",
    "                                                    idx_var_x=y_val_idx, ordered_x=False)\n",
    "   \n",
    "    for i, fres in enumerate(f):\n",
    "        # Debug\n",
    "        #x = np.asarray(p_raw[i]['data']['tau'])\n",
    "        #y = np.asarray(get_z(p_raw[i], mode=zdata))\n",
    "        #logger.debug(f\"X: {x}, Y: {y}\")\n",
    "        \n",
    "        #qdplotlogic.set_data(x, y, plot_index=i%3)\n",
    "        #logger.debug(f\"[{i}]: Fitted f= {fres}, sine_1x init: {p_raw[i]['fit_edit_params']}, full: {p_raw[i]['fit_res']}\")\n",
    "        \n",
    "        #\"\"\"\n",
    "        p_raw[i]['fit_edit_params'] = [lmfit.Parameter('s1_frequency', value=fres, vary=False),\n",
    "                                       lmfit.Parameter('s2_frequency', value=fres, vary=False),\n",
    "                                       lmfit.Parameter('s1_phase', value=np.pi/2, vary=False),\n",
    "                                       lmfit.Parameter('s2_phase', value=0, vary=False),\n",
    "                                       lmfit.Parameter('lifetime', value=np.inf, vary=False)]\n",
    "\n",
    "    \n",
    "    y_val_idx = None\n",
    "\n",
    "    fit_on = zdata #'delta'\n",
    "    fit_meth = 'sine_2x'\n",
    "    fit_vals = ['Amplitude 1', 'Amplitude 2', 'Offset']\n",
    "    #\"\"\"\n",
    "\n",
    "    _, a1s, a2s, y0s, _ = pulsed_series_2_1d_fit_array(p_raw, fit_meth=fit_meth, fit_on=fit_on, fit_vals=fit_vals,\n",
    "                                                    idx_var_x=y_val_idx, ordered_x=False)\n",
    "    \n",
    "\n",
    "    fit_rabi = {}\n",
    "    rabi_ref = {}\n",
    "\n",
    "    logger.debug(f\"Fit rabi on {len(a1s)} loaded tomographic rabis.\")\n",
    "    \n",
    "    # find whether all mes are a tomography of |00>\n",
    "    is_tomo_00 = False\n",
    "    inits = []\n",
    "    for idx, a1 in enumerate(a1s):\n",
    "        try:\n",
    "            params = p_raw[idx]['exp_params']\n",
    "            inits.append(params['init_state'])\n",
    "        except:\n",
    "            logger.exception(f\"Error while loading mes params from file: {p_raw[idx]['file']}\")\n",
    "    is_tomo_00 =  all([i==TomoInit.none for i in inits])\n",
    "    if is_tomo_00:\n",
    "        logger.warning(f\"Set is a tomography of |00>. Taking reference measurements as tomographic data as well.\\\n",
    "                       Make sure to have 0, 90 deg phases for \")\n",
    "    \n",
    "    # sort reference (init=0, rot=0) and tomographic measurements\n",
    "    for idx, a1 in enumerate(a1s):\n",
    "        try:\n",
    "            params = p_raw[idx]['exp_params']\n",
    "        \n",
    "            on_nv = params['rabi_on_nv']\n",
    "            init = params['init_state']\n",
    "            rotation = params['rotation']\n",
    "            phase = params['rabi_phase_deg']\n",
    "        \n",
    "        except:\n",
    "            logger.exception(f\"Error while loading mes params from file: {p_raw[idx]['file']}\")\n",
    "        fit_res = [a1, a2s[idx], y0s[idx]]\n",
    "        \n",
    "        mes_key = '/fail'\n",
    "        \n",
    "        if not isinstance(rotation, Enum) or not isinstance(init, Enum):\n",
    "            logger.warning(f\"Found non enum type init_state/rotation in file, did parsing fail? {p_raw[idx]['file']}\")\n",
    "        \n",
    "        if is_tomo_00:\n",
    "            is_tomo_mes = True\n",
    "        else:\n",
    "            is_tomo_mes = (init != TomoInit.none)\n",
    "        \n",
    "        if is_tomo_mes:\n",
    "            if  params['rabi_phase_deg'] == 0:\n",
    "                mes_key = f'rabi{on_nv}_{init.name}_{rotation.name}_x'\n",
    "                fit_rabi[mes_key] = {'fit_res': fit_res, 'exp_params': params}\n",
    "            elif params['rabi_phase_deg'] == 90:\n",
    "                mes_key = f'rabi{on_nv}_{init.name}_{rotation.name}_y'\n",
    "                fit_rabi[mes_key] = {'fit_res': fit_res, 'exp_params': params}\n",
    "        \n",
    "        if init == TomoInit.none and rotation == TomoRotations.none and phase == 0:\n",
    "            mes_key = f\"rabi_ref_on_{on_nv}\"\n",
    "            rabi_ref[mes_key] = p_raw[idx]\n",
    "\n",
    "        \n",
    "        logger.debug(f\"Sorted= {mes_key!='/fail'} for params init={init}, rot={rotation}, on_nv={on_nv} => {mes_key} on file: {p_raw[idx]['file']}\")\n",
    "            \n",
    "    return fit_rabi, rabi_ref\n",
    "\n",
    "\n",
    "def plot_rabis_for_tomo(pmes_list, ref_rabis, idx_plot=0, zdata='delta'):\n",
    "    \n",
    "    \n",
    "    pmes = pmes_list[idx_plot]\n",
    "    try:\n",
    "        on_nv = pmes['exp_params']['rabi_on_nv']\n",
    "        for pmes_rabi_ref in ref_rabis:\n",
    "            if pmes_rabi_ref['exp_params']['rabi_on_nv'] == on_nv:\n",
    "                break\n",
    "        logger.debug(f\"For mes from {pmes['file']} on nv {on_nv} take ref rabi: {pmes_rabi_ref['file']}\")\n",
    "    except Exception as e:\n",
    "        logger.warning(f\"Couldn't auto find ref rabi: {str(e)}\")\n",
    "        pmes_rabi_ref = ref_rabis[0]\n",
    "        on_nv = '/na'\n",
    "    \n",
    "    p_tau = pmes['data']['tau']\n",
    "    p_y = get_z(pmes, mode=zdata)\n",
    "    p_tau_fit = pmes['fit_values']['x']\n",
    "    p_y_fit = pmes['fit_values']['y']\n",
    "    \n",
    "    p_tau_full_osci =  pmes_rabi_ref['data']['tau']\n",
    "    p_y_full_osci = get_z(pmes_rabi_ref, mode=zdata)\n",
    "    p_tau_full_osci_fit =  pmes_rabi_ref['fit_values']['x']\n",
    "    p_y_full_osci_fit =  pmes_rabi_ref['fit_values']['y']\n",
    "\n",
    "    # for a perfect pi2 init, (cts_max-cts_min)/2 = ampls_1[0 or 1] and ampls_0(0 and 1) == 0\n",
    "    cts_max = np.max(pmes_rabi_ref['fit_values']['y'])\n",
    "    cts_min = np.min(pmes_rabi_ref['fit_values']['y'])\n",
    "    cts_ampl = (cts_max-cts_min)/2\n",
    "    p_cts_max = np.max(p_y_fit)\n",
    "    p_cts_min = np.min(p_y_fit)\n",
    "    p_cts_ampl = (p_cts_max-p_cts_min)/2\n",
    "    \n",
    "    logger.debug(f\"Fit on ref rabi, min/max= {cts_min}/{cts_max}. Data min/max= {np.min(p_y_full_osci)}/{np.max(p_y_full_osci)}\")\n",
    "    \n",
    "    plt.figure(figsize=(12,4))\n",
    "    plt.subplot(121)\n",
    "    \n",
    "    plt.title(\"Normed\")\n",
    "    plt.plot(1e9*p_tau_fit, norm_cts_2_pop(p_y_fit, cts_min=cts_min, cts_max=cts_max),\n",
    "             color='blue', marker='')#, label=f\"fit idx={idx_plot} Rabi\")\n",
    "    plt.plot(1e9*p_tau, norm_cts_2_pop(p_y, cts_min=cts_min, cts_max=cts_max),\n",
    "             color='blue', marker='o', linestyle='None', label=f\"tomo idx={idx_plot}, ampl= {p_cts_ampl:.3f}\")\n",
    "    \n",
    "    plt.plot(1e9*p_tau_full_osci_fit, norm_cts_2_pop(p_y_full_osci_fit, cts_min=cts_min, cts_max=cts_max),\n",
    "             color='orange', marker='', alpha=0.5)#, label=f\"fit ref Rabi {on_nv}\")\n",
    "    plt.plot(1e9*p_tau_full_osci, norm_cts_2_pop(p_y_full_osci, cts_min=cts_min, cts_max=cts_max),\n",
    "             color='orange', marker='o', linestyle='None', label=f\"ref Rabi, ampl= {cts_ampl:.3f}\", alpha=0.5)\n",
    "    plt.ylabel(\"$<\\Psi|1>$\")\n",
    "    plt.xlabel(\"tau (ns)\")\n",
    "    plt.legend()\n",
    "    \n",
    "    plt.subplot(122)\n",
    "    plt.title(\"Raw data\")\n",
    "    plt.plot(1e9*p_tau, p_y,  color='blue',label=f\"idx={idx_plot} Rabi, raw\")\n",
    "    plt.plot(1e9*p_tau_fit,  p_y_fit, color='blue', marker='') # label=f\"fit idx={idx_plot} Rabi raw\",, )\n",
    "    plt.plot(1e9*p_tau_full_osci, p_y_full_osci, color='orange', label=\"ref Rabi, raw\", alpha=0.5)\n",
    "    plt.legend()\n",
    "\n",
    "    plt.show()\n",
    "\n",
    "\n",
    "def _get_fit_rabi_pairs(rabi_entry, fit_dict):\n",
    "    search_params = rabi_entry['exp_params']\n",
    "    \n",
    "    found = {}\n",
    "    for (key, val) in fit_dict.items():\n",
    "        i_params = val['exp_params']\n",
    "        if i_params['rotation'] == search_params['rotation'] \\\n",
    "            and i_params['init_state'] == search_params['init_state'] \\\n",
    "            and i_params['rabi_on_nv'] == search_params['rabi_on_nv']:\n",
    "            found[key] = val\n",
    "    \n",
    "    if len(found) != 2:\n",
    "        raise ValueError(f\"Couldn't find x,y rabi. So far: {found.keys()}\")\n",
    "    \n",
    "    return found\n",
    "    \n",
    "def state_fidelity(rho, rho_opt):\n",
    "    \"\"\"\n",
    "    Using Jozsa (1994) definition cited by wikipedia. Different from Nielsen, Chuang by **2!\n",
    "    \"\"\"\n",
    "    for r in [rho, rho_opt]:\n",
    "        f_self = qutip.fidelity(qutip.Qobj(r),qutip.Qobj(r)) \n",
    "    \n",
    "        if f_self < 0.90:\n",
    "            raise ValueError(f\"Input rho is not well normalized. F(rho, rho)= {f_self}. tr(rho)= {np.trace(r)}\")\n",
    "        \n",
    "    return qutip.fidelity(qutip.Qobj(rho),qutip.Qobj(rho_opt))**2\n",
    "\n",
    "\"\"\"\n",
    "depreacted, use from double_nv.ipynb\n",
    "def get_u_gate(p_mes):\n",
    "    \n",
    "    from qutip.qip.operations import cnot\n",
    "    \n",
    "    rotation= p_mes['exp_params']['rotation']\n",
    "    \n",
    "    u = None\n",
    "    if rotation == TomoRotations.c2not1:\n",
    "        u = np.asarray(cnot(control=1, target=0))\n",
    "    elif rotation == TomoRotations.c1not2:\n",
    "        u = np.asarray(cnot(control=0, target=1))\n",
    "    else:\n",
    "        raise NotImplemented(f\"Unknown rot: {rotation}\")\n",
    "        \n",
    "    return u\n",
    "\"\"\"\n",
    "def get_opt_rho(p_mes, apply_rot=False):\n",
    "    init= p_mes['exp_params']['init_state']\n",
    "    \n",
    "    rho_1, rho_2 = None, None\n",
    "    if init == TomoInit.ux180_on_1:\n",
    "        rho_1 = np.asarray([[0 , 0],\n",
    "                            [0, 1]])\n",
    "        rho_2 = np.asarray([[1 , 0],\n",
    "                            [0, 0]])\n",
    "    elif init == TomoInit.ux180_on_2:\n",
    "        rho_2 = np.asarray([[0 , 0],\n",
    "                            [0, 1]])\n",
    "        rho_1 = np.asarray([[1 , 0],\n",
    "                            [0, 0]])\n",
    "    elif init == TomoInit.none:\n",
    "        rho_2 = np.asarray([[1 , 0],\n",
    "                            [0, 0]])\n",
    "        rho_1 = np.asarray([[1 , 0],\n",
    "                            [0, 0]])\n",
    "    elif init == TomoInit.ux180_on_both:\n",
    "        rho_2 = np.asarray([[0 , 0],\n",
    "                            [0, 1]])\n",
    "        rho_1 = np.asarray([[0 , 0],\n",
    "                            [0, 1]])\n",
    "    else:\n",
    "        raise NotImplemented\n",
    "    rho = np.kron(rho_1, rho_2)\n",
    "    \n",
    "    if apply_rot:\n",
    "        u = get_u_gate(p_mes)\n",
    "        rho = np.matmul(np.matmul(u,rho),u.conj().T)\n",
    "    \n",
    "    return rho\n",
    "\n",
    "def partial_trace(rho, sub=0):\n",
    "    return np.asarray(qutip.Qobj(rho, dims=[[2,2],[2,2]]).ptrace(sub))    \n",
    "\n",
    "def to_cartesian(rho):\n",
    "    sigx = np.asarray(qutip.sigmax())\n",
    "    sigy = np.asarray(qutip.sigmay())\n",
    "    sigz = np.asarray(qutip.sigmaz())\n",
    "    x = np.real(np.trace(np.matmul(np.asarray(rho), sigx)))\n",
    "    y = np.real(np.trace(np.matmul(np.asarray(rho), sigy)))\n",
    "    z = np.real(np.trace(np.matmul(np.asarray(rho), sigz)))\n",
    "    \n",
    "    return x,y,z\n",
    "\n",
    "def to_spherical(rho, rad_by_pi=False, no_decoherence=False):\n",
    "    rthetaphi = np.asarray(cart_2_spherical(to_cartesian(rho), rad_by_pi=rad_by_pi))\n",
    "    if no_decoherence:\n",
    "        rthetaphi[0] = 1\n",
    "    return rthetaphi\n",
    "\n",
    "def sanatize_angle_range(angle, in_deg=True):\n",
    "    \"\"\"\n",
    "    Ensure angle is between -180 and 180\n",
    "    \"\"\"\n",
    "    max_angle = 360 if in_deg else 2*np.pi\n",
    "    \n",
    "    angle =  angle % max_angle \n",
    "\n",
    "    if (angle > max_angle/2):\n",
    "        angle -= max_angle\n",
    "        \n",
    "    return angle\n",
    "\n",
    "\n",
    "def cart_2_spherical(xyz, rad_by_pi=False):\n",
    "    \"\"\"\n",
    "    From cartesian to spherical coordinated, in rad or rad/pi\n",
    "    \"\"\"\n",
    "    xy = xyz[0]**2 + xyz[1]**2\n",
    "    r = np.sqrt(xy + xyz[2]**2)\n",
    "    theta = np.arctan2(np.sqrt(xy), xyz[2]) # for elevation angle defined from Z-axis down\n",
    "    #theta = np.arctan2(xyz[:,2], np.sqrt(xy)) # for elevation angle defined from XY-plane up\n",
    "    phi = np.arctan2(xyz[1], xyz[0])\n",
    "    \n",
    "    theta = sanatize_angle_range(theta, in_deg=False)\n",
    "    phi = sanatize_angle_range(phi, in_deg=False)\n",
    "    \n",
    "    if rad_by_pi:\n",
    "        theta = theta / np.pi\n",
    "        phi = phi / np.pi\n",
    "    return r, theta, phi \n",
    "\n",
    "def spherical_2_cart(rthetaphi, in_deg=False):\n",
    "    r = rthetaphi[0]\n",
    "    theta = rthetaphi[1]\n",
    "    phi = rthetaphi[2]\n",
    "    \n",
    "    if in_deg:\n",
    "        theta = 2*np.pi*theta/360\n",
    "        phi =  2*np.pi*phi/360\n",
    "    return [\n",
    "         r * np.sin(theta) * np.cos(phi),\n",
    "         r * np.sin(theta) * np.sin(phi),\n",
    "         r * np.cos(theta)\n",
    "    ]\n",
    "\n",
    "\n",
    "def err_spherical(rho, rho_opt,  on_equator=True, to_deg=True):\n",
    "    if on_equator:\n",
    "        u =  np.conjugate(np.sqrt(1/2)*np.asarray([[1,1],[-1,1]]))\n",
    "    else:\n",
    "        u = np.eye((2))\n",
    "    rho_equator = qutip.Qobj(np.matmul(np.matmul(u, rho), u.conj().T))\n",
    "    vec = np.asarray(to_spherical(rho_equator, rad_by_pi=False))\n",
    "    \n",
    "    rho_eq_opt = qutip.Qobj(np.matmul(np.matmul(u, rho_opt), u.conj().T))\n",
    "    vec_opt = np.asarray(to_spherical(rho_eq_opt, rad_by_pi=False))\n",
    "    \n",
    "    vec_err =  vec-vec_opt\n",
    "    \n",
    "    vec_err[1] = sanatize_angle_range(vec_err[1], in_deg=False)\n",
    "    vec_err[2] = sanatize_angle_range(vec_err[2], in_deg=False)\n",
    "    \n",
    "    if to_deg:\n",
    "        vec_err[1] = rad_2_deg(vec_err[1])\n",
    "        vec_err[2] = rad_2_deg(vec_err[2])\n",
    "        \n",
    "    return vec_err\n",
    "        \n",
    "\n",
    "def rad_2_deg(phi):\n",
    "    return 180*phi/np.pi\n",
    "\n",
    "rad_2_deg(np.pi/2)\n",
    "sanatize_angle_range(181)"
   ]
  },
  {
   "cell_type": "markdown",
   "metadata": {},
   "source": [
    "# QuOCS and Qudi with Noise"
   ]
  },
  {
   "cell_type": "markdown",
   "metadata": {},
   "source": [
    "## Creation of the optimization dictionary"
   ]
  },
  {
   "cell_type": "markdown",
   "metadata": {},
   "source": [
    "The optimization dictionary contains all the settings compulsory for the optimization algorithm in order to run a proper optimization."
   ]
  },
  {
   "cell_type": "code",
   "execution_count": 20,
   "metadata": {
    "ExecuteTime": {
     "end_time": "2023-10-12T16:32:04.563033+02:00",
     "start_time": "2023-10-12T16:32:04.563033Z"
    }
   },
   "outputs": [],
   "source": [
    "optimization_client_name = \"test_dCRAB_Noisy_2_control_fields\"\n",
    "\n",
    "optimization_dictionary = {\"optimization_client_name\": optimization_client_name,\n",
    "                           'opti_algorithm_module': 'quocslib.optimalalgorithms.dCRABNoisyAlgorithm', \n",
    "                           'opti_algorithm_class': 'DCrabNoisyAlgorithm', \n",
    "                          }\n",
    "\n",
    "# Total number of dCRAB superiteration\n",
    "super_iteration_number = 10000000\n",
    "# Maximum number of iteration per super-iteration (in max_eval_total: maximale anzahl von evaluation steps gesamt)\n",
    "maximum_function_evaluations_number = 5000\n",
    "\n",
    "optimization_dictionary['parameters'] = []\n",
    "script_params = {}"
   ]
  },
  {
   "cell_type": "markdown",
   "metadata": {},
   "source": [
    "To activate the drift compensation and the re-evaluation steps add"
   ]
  },
  {
   "cell_type": "code",
   "execution_count": 23,
   "metadata": {
    "ExecuteTime": {
     "end_time": "2023-10-12T16:32:05.862024+02:00",
     "start_time": "2023-10-12T16:32:05.862024Z"
    }
   },
   "outputs": [
    {
     "data": {
      "text/plain": [
       "{'algorithm_name': 'dCRAB', 'super_iteration_number': 10000000, 'FoM_goal': 1e-05, 'total_time_lim': 99999, 'compensate_drift': {'compensate_after_SI': True, 'compensate_after_minutes': 30, 'num_average': 2}, 're_evaluation': {'re_evaluation_steps': [0.3, 0.5, 0.51]}}"
      ]
     },
     "execution_count": 23,
     "metadata": {},
     "output_type": "execute_result"
    }
   ],
   "source": [
    "optimization_dictionary['algorithm_settings'] = {\"algorithm_name\": \"dCRAB\",\n",
    "                                                 \"super_iteration_number\": super_iteration_number,\n",
    "                                                 #\"max_eval_total\": super_iteration_number * maximum_function_evaluations_number,\n",
    "                                                 \"FoM_goal\": 0.00001,\n",
    "                                                 \"total_time_lim\": 99999,  # minutes\n",
    "                                                 \"compensate_drift\": {  \n",
    "                                                    \"compensate_after_SI\": True,\n",
    "                                                    \"compensate_after_minutes\": 30,\n",
    "                                                    \"num_average\": 2,\n",
    "                                                 },\n",
    "                                                 #\"random_number_generator\":{\n",
    "                                                 #    \"seed_number\":420   # fix only to debug!\n",
    "                                                 #},\n",
    "                                                 \"re_evaluation\": {\n",
    "                                                     \"re_evaluation_steps\": [0.3, 0.5, 0.51]\n",
    "                                                 }\n",
    "}\n",
    "optimization_dictionary['algorithm_settings'] "
   ]
  },
  {
   "cell_type": "markdown",
   "metadata": {},
   "source": [
    "### Times"
   ]
  },
  {
   "cell_type": "code",
   "execution_count": 269,
   "metadata": {
    "ExecuteTime": {
     "end_time": "2023-10-13T19:59:32.820820+02:00",
     "start_time": "2023-10-13T19:59:32.820820Z"
    }
   },
   "outputs": [
    {
     "data": {
      "text/plain": [
       "([4.24e-08, 4.07e-08], [0.3, 0.21], 0.6719339622641508, 4.97e-08, 9.94e-08)"
      ]
     },
     "execution_count": 269,
     "metadata": {},
     "output_type": "execute_result"
    }
   ],
   "source": [
    "# if loading from file, get params from there!\n",
    "\n",
    "# need to be rect t_rabi, not shaped!\n",
    "t_rabi_rect = [45.7e-9, 47.28e-9] #OLD, 60 G, \n",
    "t_rabi_rect = [42.4e-9, 40.7e-9] #[50e-9, 70e-9] #61.4e-9 #48.03e-09\n",
    "ampl_rect = [0.3, 0.21] #[0.17, 0.2]#0.98*0.7648*0.25  # V \n",
    "\n",
    "#t_rabi_rect = [91.1e-9, 90.1e-9]\n",
    "#ampl_rect = [common.mw_amp, common.mw_amps_2[0]]\n",
    "\n",
    "ratio_rabi12 = (1/t_rabi_rect[0]/ampl_rect[0])/(1/t_rabi_rect[1]/ampl_rect[1])\n",
    "\n",
    "ampl_max = 0.4  # V\n",
    "pix_pulse = 0.25\n",
    "t_oc_pulse = 32.5e-9 # 150e-9 #1.0000000000000001e-07\n",
    "n_timebins = 1000\n",
    "\n",
    "\n",
    "# Optimize Rabi pulse from double_nv.ipynb. OC pulse length == guess pulse length\n",
    "pix_pulse = 0.25\n",
    "pix_pulse = 1\n",
    "#pix_pulse = 0.25\n",
    "rabi_periods_guess_shaped = [common.rabi_period, common.rabi_period_2[0]]\n",
    "t_oc_pulse = 0.5*np.max(rabi_periods_guess_shaped)*pix_pulse\n",
    "\n",
    "rabi_periods_guess_shaped = [2*common.rabi_period, 2*common.rabi_period_2[0]]\n",
    "\n",
    "if not np.isclose(np.max(rabi_periods_guess_shaped), np.mean(rabi_periods_guess_shaped), rtol=2e-2):\n",
    "    logger.warning(f\"Can't set common t_oc_pulse because guess pulse lengths differ {rabi_periods_guess_shaped}\")\n",
    "\n",
    "\n",
    "time_p = {'time_name': 'time_p', 'initial_value': t_oc_pulse} # pulse length\n",
    "optimization_dictionary['times'] = [time_p]\n",
    "optimization_dictionary['oc_pulse_params'] = {'t_rabi_rect': t_rabi_rect, 't_oc_pulse': t_oc_pulse,\n",
    "                                              'ampl_max': ampl_max, 'ampl_rect': ampl_rect, 'exp_common': common.__dict__}\n",
    "\n",
    "t_rabi_rect, ampl_rect, ratio_rabi12, t_oc_pulse, t_oc_pulse*1/(0.5*pix_pulse)"
   ]
  },
  {
   "cell_type": "code",
   "execution_count": 39,
   "metadata": {
    "ExecuteTime": {
     "end_time": "2023-10-06T16:03:17.215618+02:00",
     "start_time": "2023-10-06T16:03:17.215618Z"
    }
   },
   "outputs": [
    {
     "data": {
      "text/plain": [
       "True"
      ]
     },
     "execution_count": 39,
     "metadata": {},
     "output_type": "execute_result"
    }
   ],
   "source": [
    "np.max(rabi_periods_guess_shaped - np.mean(rabi_periods_guess_shaped)) > 1e-9"
   ]
  },
  {
   "cell_type": "code",
   "execution_count": 170,
   "metadata": {
    "ExecuteTime": {
     "end_time": "2023-09-25T21:55:57.180144+02:00",
     "start_time": "2023-09-25T21:55:57.180144Z"
    }
   },
   "outputs": [
    {
     "data": {
      "text/plain": [
       "0.05250772413793103"
      ]
     },
     "execution_count": 170,
     "metadata": {},
     "output_type": "execute_result"
    }
   ],
   "source": [
    "t_rabi_rect[0]/t_oc_pulse*pix_pulse/2*ampl_rect[0]"
   ]
  },
  {
   "cell_type": "markdown",
   "metadata": {},
   "source": [
    "### Pulses"
   ]
  },
  {
   "cell_type": "markdown",
   "metadata": {},
   "source": [
    "#### Generate from predefined function"
   ]
  },
  {
   "cell_type": "code",
   "execution_count": null,
   "metadata": {
    "ExecuteTime": {
     "end_time": "2023-08-10T11:04:46.955877+02:00",
     "start_time": "2023-08-10T11:04:46.955877Z"
    }
   },
   "outputs": [],
   "source": []
  },
  {
   "cell_type": "markdown",
   "metadata": {},
   "source": [
    "Levitt composite pulse"
   ]
  },
  {
   "cell_type": "code",
   "execution_count": 35,
   "metadata": {
    "ExecuteTime": {
     "end_time": "2023-09-13T17:06:01.978908+02:00",
     "start_time": "2023-09-13T17:06:01.978908Z"
    }
   },
   "outputs": [
    {
     "data": {
      "text/plain": [
       "'levitt_phi=0.0pi'"
      ]
     },
     "execution_count": 35,
     "metadata": {},
     "output_type": "execute_result"
    }
   ],
   "source": [
    "\n",
    "\n",
    "pulse = PredefinedArbPulses.generate_levitt(20e6, n_t=1000)\n",
    "pulse._func_omega_mhz_2_ampl_v = lambda x: x/20*0.25\n",
    "\n",
    "from scipy.ndimage import gaussian_filter1d\n",
    "pulse._data_ampl = gaussian_filter1d(pulse._data_ampl, 5)\n",
    "pulse._data_phase = gaussian_filter1d(pulse._data_phase, 5)\n",
    "\n",
    "pulse.name\n",
    "\n"
   ]
  },
  {
   "cell_type": "markdown",
   "metadata": {},
   "source": [
    "Rect pulse"
   ]
  },
  {
   "cell_type": "code",
   "execution_count": 38,
   "metadata": {
    "ExecuteTime": {
     "end_time": "2023-09-13T17:06:02.570482+02:00",
     "start_time": "2023-09-13T17:06:02.570482Z"
    }
   },
   "outputs": [
    {
     "data": {
      "text/plain": [
       "'rect_phi=0.0pi'"
      ]
     },
     "execution_count": 38,
     "metadata": {},
     "output_type": "execute_result"
    }
   ],
   "source": [
    "# pi pulse with fixed lentgh\n",
    "pulse = PredefinedArbPulses.generate_rect_pi(20e6, n_t=n_timebins, t_pulse=t_oc_pulse)\n",
    "# hard pi pulse with auto lentgh\n",
    "pulse = PredefinedArbPulses.generate_rect_pi(20e6, n_t=1000)\n",
    "pulse._func_omega_mhz_2_ampl_v = lambda x: x/20*0.25\n",
    "\n",
    "fname = 'dummy' # to make loadable below\n",
    "\n",
    "pulse.name"
   ]
  },
  {
   "cell_type": "code",
   "execution_count": 41,
   "metadata": {
    "ExecuteTime": {
     "end_time": "2023-09-13T17:06:03.049757+02:00",
     "start_time": "2023-09-13T17:06:03.049757Z"
    }
   },
   "outputs": [],
   "source": [
    "pulse.timegrid\n",
    "timegrid = np.linspace(0, 200e-9, n_timebins)\n",
    "\n",
    "pulse = interpolate_2_timegrid(pulse, timegrid)\n",
    "#pulse.timegrid, np.max(pulse._data_ampl)"
   ]
  },
  {
   "cell_type": "code",
   "execution_count": 44,
   "metadata": {
    "ExecuteTime": {
     "end_time": "2023-09-13T17:06:03.954664+02:00",
     "start_time": "2023-09-13T17:06:03.954664Z"
    }
   },
   "outputs": [
    {
     "data": {
      "text/plain": [
       "'rect_phi=0.0pi'"
      ]
     },
     "execution_count": 44,
     "metadata": {},
     "output_type": "execute_result"
    }
   ],
   "source": [
    "pulse = PredefinedArbPulses.generate_rect_pi_x(10e6, n_t=len(pulse.timegrid),\n",
    "                                                       pix=1)\n",
    "pulse._func_ampl_v_2_omega_mhz = lambda x: x/0.25*(1e-6/78.2e-9)\n",
    "pulse._func_omega_mhz_2_ampl_v=lambda y: y/(1e-6/78.2e-9)*0.25\n",
    "\n",
    "pulse.name"
   ]
  },
  {
   "cell_type": "markdown",
   "metadata": {},
   "source": [
    "Sin_n, Parabola"
   ]
  },
  {
   "cell_type": "code",
   "execution_count": 272,
   "metadata": {
    "ExecuteTime": {
     "end_time": "2023-10-13T19:59:39.751949+02:00",
     "start_time": "2023-10-13T19:59:39.751949Z"
    },
    "code_folding": [
     41,
     76
    ]
   },
   "outputs": [
    {
     "data": {
      "text/plain": [
       "('sinn_n=1', 0.288)"
      ]
     },
     "execution_count": 272,
     "metadata": {},
     "output_type": "execute_result"
    }
   ],
   "source": [
    "import math\n",
    "# todo move to lib\n",
    "\n",
    "def generate_sin_n(omega_rabi, n=1, k=1, ampl=1.0, n_t=1000, pix=1):\n",
    "    \n",
    "    \"\"\"\n",
    "\n",
    "    \"\"\"\n",
    "    omega_mhz = omega_rabi * 1e-6\n",
    "    amp = omega_mhz*ampl\n",
    "    get_t_pix = PredefinedArbPulses.get_t_pix\n",
    "    \n",
    "    tsin = np.sqrt(np.pi)*math.gamma(1+n/2)/math.gamma((1+n)/2)\n",
    "    \n",
    "    tpi_us = get_t_pix(omega_mhz, pix=1)   #*tsin   # Genkos Gamma correction \n",
    "    pulse_area_rect = tpi_us * omega_mhz\n",
    "    timegrid_us = np.linspace(0, pix*tpi_us, n_t)\n",
    "    \n",
    "    #tt = k*tpi_us*tsin*np.sin(n)\n",
    "    tt = tpi_us\n",
    "    \n",
    "    #samples = amp*np.pi/tpi_us* np.sin(1/pix*np.pi*timegrid_us/tt)**n\n",
    "    \n",
    "    t_rel = timegrid_us / np.max(timegrid_us)\n",
    "    samples = amp* np.sin(np.pi*t_rel) **n\n",
    "    data_phase = np.zeros((len(timegrid_us)))  # Q\n",
    "    \n",
    "    pulse = ArbPulse()\n",
    "    pulse.name = f'sinn_n={n}'\n",
    "\n",
    "    pulse.timegrid_unit = 'us'\n",
    "    pulse.data_unit = 'MHz'\n",
    "\n",
    "    pulse._data_ampl = np.real(samples)\n",
    "    pulse._data_phase = data_phase\n",
    "    pulse._timegrid_ampl = timegrid_us\n",
    "    pulse._timegrid_phase = timegrid_us \n",
    "    \n",
    "   \n",
    "    return pulse\n",
    "\n",
    "\n",
    "def generate_sin_n_OLD(omega_rabi, n=1, k=1, ampl=1.0, n_t=1000, pix=1):\n",
    "    \n",
    "    \"\"\"\n",
    "    Todo: Double check, especially for pix!=1\n",
    "    todo: Genkos Mathematica has complex correction terms\n",
    "    \"\"\"\n",
    "    omega_mhz = omega_rabi * 1e-6\n",
    "    amp = omega_mhz*ampl*0.021241901 # empirical correction for n=2, k=1, Omega=15 MHz\n",
    "    get_t_pix = PredefinedArbPulses.get_t_pix\n",
    "    \n",
    "    tsin = np.sqrt(np.pi)*math.gamma(1+n/2)/math.gamma((1+n)/2)\n",
    "    \n",
    "    tpi_us = get_t_pix(omega_mhz, pix=1)   #*tsin   # Genkos Gamma correction \n",
    "    pulse_area_rect = tpi_us * omega_mhz\n",
    "    timegrid_us = np.linspace(0, pix*tpi_us, n_t)\n",
    "    \n",
    "    #tt = k*tpi_us*tsin*np.sin(n)\n",
    "    tt = tpi_us\n",
    "    \n",
    "    samples = amp*np.pi/tpi_us* np.sin(1/pix*np.pi*timegrid_us/tt)**n\n",
    "    data_phase = np.zeros((len(timegrid_us)))  # Q\n",
    "    \n",
    "    pulse = ArbPulse()\n",
    "    pulse.name = f'sinn_n={n}'\n",
    "\n",
    "    pulse.timegrid_unit = 'us'\n",
    "    pulse.data_unit = 'MHz'\n",
    "\n",
    "    pulse._data_ampl = np.real(samples)\n",
    "    pulse._data_phase = data_phase\n",
    "    pulse._timegrid_ampl = timegrid_us\n",
    "    pulse._timegrid_phase = timegrid_us \n",
    "\n",
    "    return pulse\n",
    "\n",
    "def generate_parabola(omega_rabi, p=1, ampl=1.0, n_t=1000, pix=1.):\n",
    "    \n",
    "    omega_mhz = omega_rabi * 1e-6\n",
    "    amp = omega_mhz*ampl*1.5  # empirical correction for p=1\n",
    "    get_t_pix = PredefinedArbPulses.get_t_pix\n",
    "    \n",
    "    tpi_us = get_t_pix(omega_mhz, pix=1)   #*tsin   # Genkos Gamma correction \n",
    "    pulse_area_rect = tpi_us * omega_mhz\n",
    "    timegrid_us = np.linspace(0, pix*tpi_us, n_t)\n",
    "    \n",
    "    \n",
    "    samples = amp*(1. - (2. * (np.arange(timegrid_us.size) / timegrid_us.size - 0.5)) ** (2 * p))\n",
    "    data_phase = np.zeros((len(timegrid_us)))  # Q\n",
    "    \n",
    "    pulse = ArbPulse()\n",
    "    pulse.name = f'parabola_p={p}'\n",
    "\n",
    "    pulse.timegrid_unit = 'us'\n",
    "    pulse.data_unit = 'MHz'\n",
    "\n",
    "    pulse._data_ampl = np.real(samples)\n",
    "    pulse._data_phase = data_phase\n",
    "    pulse._timegrid_ampl = timegrid_us\n",
    "    pulse._timegrid_phase = timegrid_us \n",
    "\n",
    "    return pulse\n",
    "\n",
    "def add_rabi_transfer_func(pulse, nv):\n",
    "    if nv == 1 or nv == 2:\n",
    "        idx_nv = nv-1\n",
    "    else:\n",
    "        raise ValueError\n",
    "        \n",
    "    ampl_rect = optimization_dictionary['oc_pulse_params']['ampl_rect']\n",
    "    t_rabi_rect = optimization_dictionary['oc_pulse_params']['t_rabi_rect']\n",
    "    \n",
    "    pulse._func_ampl_v_2_omega_mhz = lambda x: x/ampl_rect[idx_nv]*(1e-6/t_rabi_rect[idx_nv])\n",
    "    pulse._func_omega_mhz_2_ampl_v =  lambda y: y/(1e-6/t_rabi_rect[idx_nv])*ampl_rect[idx_nv]\n",
    "\n",
    "\n",
    "\n",
    "def rescale_data_lin_2_new_max(pulse, new_max=1):\n",
    "    pulse.set_unit_data('V')\n",
    "    max_bare = np.max(pulse.get_data_ampl('V'))\n",
    "   \n",
    "    fac = new_max/max_bare\n",
    "    \n",
    "    pulse._data_ampl  = fac*pulse._data_ampl\n",
    "    pulse._data_phase = fac*pulse._data_phase\n",
    "    \n",
    "    return fac\n",
    "    \n",
    "pix = pix_pulse #2.25 # 0.25 is so weak, might not drive all HFS lines\n",
    "scale_ampl = 5.14/2  # from comparing with wavefile generated from double_nv.ipynb\n",
    "\n",
    "# directly fix (max) amplitude of guess pulses\n",
    "peak_ampls = common.mw_amp, common.mw_amps_2[0]\n",
    "    \n",
    "#pulse = generate_sin_n(pix*0.5/t_oc_pulse, n_t=n_timebins, pix=pix)\n",
    "pulse = generate_sin_n(pix*0.5/t_oc_pulse, n_t=n_timebins, pix=pix, ampl=scale_ampl*1*pix)\n",
    "add_rabi_transfer_func(pulse, nv=1)\n",
    "# for guess pulses with fixed amplitude\n",
    "rescale_data_lin_2_new_max(pulse, new_max=peak_ampls[0])\n",
    "\n",
    "\n",
    "#pulse = generate_parabola(pix*0.5/t_oc_pulse, n_t=n_timebins, pix=pix, ampl=scale_ampl*pix)\n",
    "#pulse._func_ampl_v_2_omega_mhz = lambda x: x/ampl_rect[0]*(1e-6/t_rabi_rect[0])\n",
    "#pulse._func_omega_mhz_2_ampl_v=  lambda y: y/(1e-6/t_rabi_rect[0])*ampl_rect[0]\n",
    "\n",
    "pulse.name, np.max(pulse.get_data_ampl(\"V\"))\n",
    "\n"
   ]
  },
  {
   "cell_type": "code",
   "execution_count": 275,
   "metadata": {
    "ExecuteTime": {
     "end_time": "2023-10-13T19:59:40.608177+02:00",
     "start_time": "2023-10-13T19:59:40.608177Z"
    }
   },
   "outputs": [
    {
     "data": {
      "text/plain": [
       "4.97e-08"
      ]
     },
     "execution_count": 275,
     "metadata": {},
     "output_type": "execute_result"
    }
   ],
   "source": [
    "t_oc_pulse"
   ]
  },
  {
   "cell_type": "markdown",
   "metadata": {
    "ExecuteTime": {
     "end_time": "2023-08-24T09:11:02.275056+02:00",
     "start_time": "2023-08-24T09:11:02.275056Z"
    }
   },
   "source": [
    "#### Generate 2nd pulse"
   ]
  },
  {
   "cell_type": "code",
   "execution_count": 278,
   "metadata": {
    "ExecuteTime": {
     "end_time": "2023-10-13T19:59:41.654961+02:00",
     "start_time": "2023-10-13T19:59:41.654961Z"
    }
   },
   "outputs": [
    {
     "data": {
      "text/plain": [
       "('sinn_n=1', 0.2016)"
      ]
     },
     "execution_count": 278,
     "metadata": {},
     "output_type": "execute_result"
    }
   ],
   "source": [
    "#fname =  r\"x_on_nv=2_\"\n",
    "#fname = 'opt_res_'\n",
    "\n",
    "#pulse2 = ArbPulse.load_pulse(folder, fname, unit_t='s', unit_data='V',\n",
    "#                            func_ampl_v_2_omega_mhz=lambda x: x/ampl_rect[1]*(1e-6/t_rabi_rect[1]),\n",
    "#                            func_omega_mhz_2_ampl_v=lambda y: y/(1e-6/t_rabi_rect[1])*ampl_rect[1]\n",
    "#)\n",
    "# debug: near zero pulse in sim\n",
    "#pulse2 = ArbPulse.load_pulse(folder, fname, unit_t='s', unit_data='V',\n",
    "#                            func_ampl_v_2_omega_mhz=lambda x: x*0.0001,\n",
    "#                            func_omega_mhz_2_ampl_v=lambda y: y/(1e-6/t_rabi_rect[1])*ampl_rect[1]\n",
    "#)\n",
    "\n",
    "# zero pulse (guess for identity)\n",
    "\n",
    "# NV2\n",
    "#pulse2 = ArbPulse.load_pulse(folder, fname, unit_t='s', unit_data='V',\n",
    "#                            func_ampl_v_2_omega_mhz=lambda x: x/ampl_rect[0]*(1e-6/t_rabi_rect[0]),\n",
    "#                            func_omega_mhz_2_ampl_v=lambda y: y/(1e-6/t_rabi_rect[0])*ampl_rect[0]\n",
    "#)\n",
    "pix = pix_pulse\n",
    "scale_ampl = 0.8*5.14/2  # 5.14/2 from comparing with wavefile generated from double_nv.ipynb\n",
    "peak_ampls = common.mw_amp, common.mw_amps_2[0]\n",
    "    \n",
    "    \n",
    "\n",
    "pulse2 = generate_parabola(pix*0.5/t_oc_pulse, n_t=n_timebins, pix=pix, ampl=scale_ampl*1*pix)\n",
    "add_rabi_transfer_func(pulse2, nv=2)\n",
    "pulse2._data_ampl =0.01 *pulse2._data_ampl\n",
    "pulse2._data_phase =0.01 *pulse2._data_phase\n",
    "\n",
    "\n",
    "\n",
    "\n",
    "# NV1\n",
    "#pulse4 = ArbPulse.load_pulse(folder, fname, unit_t='s', unit_data='V',\n",
    "#                            func_ampl_v_2_omega_mhz=lambda x: x/ampl_rect[1]*(1e-6/t_rabi_rect[1]),\n",
    "#                            func_omega_mhz_2_ampl_v=lambda y: y/(1e-6/t_rabi_rect[1])*ampl_rect[1]\n",
    "#)\n",
    "pulse4 = generate_parabola(pix*0.5/t_oc_pulse, n_t=n_timebins, pix=pix, ampl=scale_ampl*1*pix)\n",
    "add_rabi_transfer_func(pulse4, nv=1)\n",
    "\n",
    "pulse4._data_ampl =0.01 *pulse4._data_ampl\n",
    "pulse4._data_phase =0.01 *pulse4._data_phase\n",
    "\n",
    "\n",
    "# mirrored pulse (guess for other line)\n",
    "# NV2\n",
    "pulse3 = generate_parabola(pix*0.5/t_oc_pulse, n_t=n_timebins, pix=pix, ampl=scale_ampl*1*pix)\n",
    "pulse3 = generate_sin_n(pix*0.5/t_oc_pulse, n_t=n_timebins, pix=pix, ampl=scale_ampl*1*pix)\n",
    "add_rabi_transfer_func(pulse3, nv=2)\n",
    "# for guess pulses with fixed amplitude\n",
    "rescale_data_lin_2_new_max(pulse3, new_max=peak_ampls[1])\n",
    "\n",
    "\n",
    "#pulse3 = ArbPulse.load_pulse(folder, fname, unit_t='s', unit_data='V',\n",
    "#                            func_ampl_v_2_omega_mhz=lambda x: x/ampl_rect[1]*(1e-6/t_rabi_rect[1]),\n",
    "#                            func_omega_mhz_2_ampl_v=lambda y: y/(1e-6/t_rabi_rect[1])*ampl_rect[1]\n",
    "#)\n",
    "#pulse3._data_ampl =ratio_rabi12 *pulse3._data_ampl\n",
    "#pulse3._data_phase =ratio_rabi12 *pulse3._data_phase\n",
    "\n",
    "# NV1 and NV2\n",
    "pulse5 = generate_sin_n(pix*0.5/t_oc_pulse, n_t=n_timebins, pix=pix, ampl=scale_ampl*1*pix)\n",
    "add_rabi_transfer_func(pulse5, nv=1)\n",
    "rescale_data_lin_2_new_max(pulse5, new_max=peak_ampls[0])\n",
    "\n",
    "pulse6 = generate_sin_n(pix*0.5/t_oc_pulse, n_t=n_timebins, pix=pix, ampl=scale_ampl*1*pix)\n",
    "add_rabi_transfer_func(pulse6, nv=2)\n",
    "rescale_data_lin_2_new_max(pulse6, new_max=peak_ampls[1])\n",
    "\n",
    "\n",
    "\n",
    "\n",
    "\n",
    "\n",
    "\n",
    "\n",
    "# zero pulse (guess for identity)\n",
    "\n",
    "#pulse2 = PredefinedArbPulses.generate_rect_pi(0.01e6, n_t=n_timebins, t_pulse=t_oc_pulse)\n",
    "#pulse2._func_omega_mhz_2_ampl_v = lambda y: y/(1e-6/t_rabi_rect[1])*ampl_rect[1]\n",
    "\n",
    "\n",
    "#pulse4 = PredefinedArbPulses.generate_rect_pi(0.01e6, n_t=n_timebins, t_pulse=t_oc_pulse)\n",
    "#pulse4._func_omega_mhz_2_ampl_v = lambda y: y/(1e-6/t_rabi_rect[0])*ampl_rect[0]\n",
    "\n",
    "#fname = 'dummy' # to make loadable below\n",
    "pulse3.name, np.max(pulse3.get_data_ampl(\"V\"))\n",
    "\n"
   ]
  },
  {
   "cell_type": "markdown",
   "metadata": {},
   "source": [
    "#### Load initial guess from extern\n",
    "... or with fname=None assume slow rect pulse."
   ]
  },
  {
   "cell_type": "code",
   "execution_count": 35,
   "metadata": {
    "ExecuteTime": {
     "end_time": "2023-09-25T21:36:06.952676+02:00",
     "start_time": "2023-09-25T21:36:06.952676Z"
    }
   },
   "outputs": [
    {
     "data": {
      "text/plain": [
       "{'pix=0.0,0.5_p2_on_nv=1_par=2_', 'pix=0.5,0.0_p2_on_nv=2_par=1_', 'pix=0.5,0.0_p1_on_nv=1_par=2_', 'pix=0.0,0.5_p1_on_nv=2_par=1_'}"
      ]
     },
     "execution_count": 35,
     "metadata": {},
     "output_type": "execute_result"
    }
   ],
   "source": [
    "folder = r\"C:\\Software\\qudi_data\\optimal_control_assets\\20230916_fromMediumSlowPulses_opt1qs_1\"\n",
    "\n",
    "filter_strs = ['txt', \"=\", \"0.25\"]\n",
    "filter_strs = ['txt', \"=\", \"0.5\"]\n",
    "fnames = Tk_file.list_mult_pulsed_mes(folder, filter_strs=filter_strs, incl_subdir=False)\n",
    "\n",
    "fname_ampl, fname_ph = \"amplitude.txt\", 'phase.txt'\n",
    "\n",
    "fnames = set([os.path.basename(f.replace(fname_ampl, \"\").replace(fname_ph,\"\")) for f in fnames])\n",
    "#fnames = sorted(fnames, key= lambda x: Tk_string.params_from_str(x, keys=['idx'])['idx'] )[-20:]\n",
    "fnames\n"
   ]
  },
  {
   "cell_type": "code",
   "execution_count": 267,
   "metadata": {
    "ExecuteTime": {
     "end_time": "2023-09-21T16:54:28.067881+02:00",
     "start_time": "2023-09-21T16:54:28.067881Z"
    }
   },
   "outputs": [],
   "source": [
    "pulse = None   # pix pulse on NV1\n",
    "pulse2 = None  # in parallel to pulse, should yield identity on NV2\n",
    "pulse3 = None  # pix pulse on NV2\n",
    "pulse4 = None  # in parallel to pulse3, should yield identity on NV1\n",
    "\n",
    "#folder = r\"C:\\Software\\qudi_data\\optimal_control_assets\"\n",
    "folder = r\"C:\\Software\\qudi_data\\optimal_control_assets\\20220725_2_lessClipping\"\n",
    "folder = r\"C:\\Software\\qudi_data\\optimal_control_assets\\20220726_1_NV1_penalty_fac=1\"\n",
    "\n",
    "#fname =  r\"on_nv=2_\"\n",
    "fname = r\"opt_res_\"\n",
    "\n",
    "folder = r\"C:\\Software\\qudi_data\\optimal_control_assets\\Reisser_MSc_pulse_1\"\n",
    "fname = r\"Opt_Pulse_01_\"\n",
    "\n",
    "# ONLY for loading Reisser pulse\n",
    "#pulse = ArbPulse.load_pulse(folder, fname, unit_t='ns', unit_data='MHz',\n",
    "#                                func_omega_mhz_2_ampl_v=lambda y: y/13.849* 0.25 * 13.849/20)\n",
    "\n",
    "    \n",
    "folder = r\"C:\\Software\\qudi_data\\optimal_control_assets\\20220726_1_NV1_penalty_fac=1\"\n",
    "folder = r\"C:\\Software\\qudi_data\\optimal_control_assets\\Reisser_MSc_pulse_1\"\n",
    "folder =  r\"C:\\Software\\qudi_data\\optimal_control_assets\\20220727_1_guessFromReisserMsc\"\n",
    "folder = r\"C:\\Software\\qudi_data\\optimal_control_assets\\_from_setup9\\20220831_3_nv2_rabiMax=15MHz_guessFromReisser_110ns_pen=10\"\n",
    "folder = r\"C:\\Software\\qudi_data\\optimal_control_assets\\_from_setup9\\20220729_1_guessFromReisserMsc_penalty_fac=100\"\n",
    "folder = r\"C:\\Software\\qudi_data\\optimal_control_assets\\20220922_1_wolf_simOnly_100ns_from20220729_1\"\n",
    "\n",
    "#folder = r\"C:\\Software\\qudi_data\\optimal_control_assets\\20220914_1_onEq_pen=100\"\n",
    "#folder = r\"C:\\Software\\qudi_data\\optimal_control_assets\\20220912_1_procTomo_100ns_pen=100\"\n",
    "folder = r\"C:\\Software\\qudi_data\\optimal_control_assets\\_from_setup9\\20220729_1_guessFromReisserMsc_penalty_fac=100\\rescale_nv2\"\n",
    "folder = r\"C:\\Software\\qudi_data\\optimal_control_assets\\20230817_optRes_t_oc_pi4=32.5ns_lowAmplGuess_1\"\n",
    "#folder = r\"C:\\Software\\qudi_data\\optimal_control_assets\\_fromJuelich\\20221019_1_pix_on_both\"\n",
    "#folder = r\"C:\\Software\\qudi_data\\optimal_control_assets\\_fromJuelich\\20221011_2_mybest\"\n",
    "\n",
    "#fname =  r\"x_on_nv=1_\"\n",
    "#fname = r\"opt_res_\"\n",
    "#fname = r\"jul_res_on_nv=1_\"\n",
    "fname = r\"on_nv=1_par=2_\"\n",
    "\n",
    "pulse = ArbPulse.load_pulse(folder, fname, unit_t='s', unit_data='V',\n",
    "                            func_ampl_v_2_omega_mhz=lambda x: x/ampl_rect[0]*(1e-6/t_rabi_rect[0]),\n",
    "                            func_omega_mhz_2_ampl_v=lambda y: y/(1e-6/t_rabi_rect[0])*ampl_rect[0]\n",
    ")\n",
    "\n",
    "#pulse = ArbPulse.load_pulse(folder, fname, unit_t='s', unit_data='V',\n",
    "#                            func_ampl_v_2_omega_mhz=lambda x: x/0.24*(1e-6/49.3e-9),\n",
    "#                            func_omega_mhz_2_ampl_v=lambda y: y/(1e-6/49.3e-9)*0.24\n",
    "#                            )\n",
    "#pulse = scale_power(pulse, factor=0.9)\n",
    "\n",
    "#pulse = ArbPulse.load_pulse(folder, fname, unit_t='s', unit_data='V',\n",
    "#                            func_ampl_v_2_omega_mhz=lambda x: x/0.25*(1e-6/50e-9),\n",
    "#                            func_omega_mhz_2_ampl_v=lambda y: y/(1e-6/50e-9)*0.25\n",
    "#                            )\n",
    "#pulse = scale_power(pulse, factor=13/18.37)\n",
    "\n",
    "#folder = r\"C:\\Software\\qudi_data\\optimal_control_assets\\20220818_procTomo_fromWeak_1\"\n",
    "#fname = r\"opt_res_\"\n",
    "#\n",
    "#pulse = ArbPulse.load_pulse(folder, fname, unit_t='s', unit_data='V',\n",
    "#                            func_ampl_v_2_omega_mhz=lambda x: x/0.25*25,\n",
    "#                            func_omega_mhz_2_ampl_v=lambda x: 1/(x/0.25*25))\n",
    "\n",
    "\n",
    "#pulse = ArbPulse.load_pulse(folder, fname, unit_t='s', unit_data='V')\n",
    "\n",
    "\n",
    "\n",
    "# rescale amplitude if needed, BETTER DO BELOW IN RESPECTIVE SECTION\n",
    "# previous t_rabi/ current t_rabi\n",
    "#pulse._data_ampl  = 22.4/50*pulse._data_ampl\n",
    "#pulse._data_phase = 22.4/50*pulse._data_phase\n",
    "\n",
    "\n",
    "pulse.name, pulse3"
   ]
  },
  {
   "cell_type": "markdown",
   "metadata": {},
   "source": [
    "#### Load 1st + 2nd from extern"
   ]
  },
  {
   "cell_type": "code",
   "execution_count": 459,
   "metadata": {
    "ExecuteTime": {
     "end_time": "2023-09-09T20:16:31.174507+02:00",
     "start_time": "2023-09-09T20:16:31.174507Z"
    }
   },
   "outputs": [
    {
     "data": {
      "text/plain": [
       "0.5"
      ]
     },
     "execution_count": 459,
     "metadata": {},
     "output_type": "execute_result"
    }
   ],
   "source": []
  },
  {
   "cell_type": "code",
   "execution_count": 71,
   "metadata": {
    "ExecuteTime": {
     "end_time": "2023-09-26T16:36:23.437259+02:00",
     "start_time": "2023-09-26T16:36:23.436256Z"
    }
   },
   "outputs": [
    {
     "data": {
      "text/plain": [
       "{'pix=0.0,0.5_p2_on_nv=1_par=2_', 'pix=0.0,0.5_p1_on_nv=2_par=1_', 'pix=0.5,0.0_p2_on_nv=2_par=1_', 'pix=0.5,0.0_p1_on_nv=1_par=2_'}"
      ]
     },
     "execution_count": 71,
     "metadata": {},
     "output_type": "execute_result"
    }
   ],
   "source": [
    "folder = r\"C:\\Software\\qudi_data\\optimal_control_assets\\20230916_fromOC_opt1qs_ncliff=3_reOptimize_2.1\"\n",
    "folder = r\"C:\\Software\\qudi_data\\optimal_control_assets\\20230926_fromMediumSlowPulses_baselineFOM_1\"\n",
    "\n",
    "fname_ampl, fname_ph = \"amplitude.txt\", 'phase.txt'\n",
    "\n",
    "\n",
    "\n",
    "filter_strs = ['txt', \"=\", f\"{pix_pulse}\"]\n",
    "try:\n",
    "    fnames = Tk_file.list_mult_pulsed_mes(folder, filter_strs=filter_strs, incl_subdir=False)\n",
    "    fnames = set([os.path.basename(f.replace(fname_ampl, \"\").replace(fname_ph,\"\")) for f in fnames])\n",
    "\n",
    "    pulses, ampls = {}, {}\n",
    "    for idx, fname in enumerate(fnames):\n",
    "        ampl_rect_i = ampl_rect[0] if \"on_nv=1\" in fname else ampl_rect[1] \n",
    "        t_rabi_rect_i = t_rabi_rect[0] if \"on_nv=1\" in fname else t_rabi_rect[1] \n",
    "\n",
    "\n",
    "        pulse = ArbPulse.load_pulse(folder, fname, unit_t='s', unit_data='V',\n",
    "                                func_ampl_v_2_omega_mhz=lambda x: x/ampl_rect_i*(1e-6/t_rabi_rect_i),\n",
    "                                func_omega_mhz_2_ampl_v=lambda y: y/(1e-6/t_rabi_rect_i)*ampl_rect_i\n",
    "        )\n",
    "\n",
    "        if 'on_nv=1' in fname and f\"{pix_pulse},0.0\" in fname and 'p1' in fname:\n",
    "            pulse_idx = 0\n",
    "        elif 'on_nv=2' in fname and f\"{pix_pulse},0.0\" in fname and 'p2' in fname:\n",
    "            pulse_idx = 1\n",
    "        elif 'on_nv=2' in fname and f\"0.0,{pix_pulse}\" in fname and 'p1' in fname:\n",
    "            pulse_idx = 2\n",
    "        elif 'on_nv=1' in fname and f\"0.0,{pix_pulse}\" in fname and 'p2' in fname:\n",
    "            pulse_idx = 3\n",
    "            \n",
    "        elif 'on_nv=1' in fname and f\"{pix_pulse},{pix_pulse}\" in fname and 'p1' in fname:\n",
    "            pulse_idx = 4\n",
    "        elif 'on_nv=2' in fname and f\"{pix_pulse},{pix_pulse}\" in fname and 'p2' in fname:\n",
    "            pulse_idx = 5\n",
    "        else:\n",
    "            raise ValueError\n",
    "\n",
    "        pulses[pulse_idx] = pulse\n",
    "        ampls[pulse_idx] = ampl_rect_i\n",
    "\n",
    "except:\n",
    "    logger.exception(f\"Can't understand pulse {fname}\")\n",
    "\n",
    "pulse, pulse2, pulse3, pulse4 = pulses[0], pulses[1], pulses[2], pulses[3]\n",
    "\n",
    "#pulse, pulse2, pulse3, pulse4, pulse5, pulse6 = pulses[0], pulses[1], pulses[2], pulses[3],  pulses[4],  pulses[5]\n",
    "#fnames, ampls\n",
    "fnames"
   ]
  },
  {
   "cell_type": "code",
   "execution_count": 597,
   "metadata": {
    "ExecuteTime": {
     "end_time": "2023-09-09T20:27:23.071667+02:00",
     "start_time": "2023-09-09T20:27:23.071667Z"
    }
   },
   "outputs": [
    {
     "data": {
      "text/plain": [
       "'pix=0.5,0.5_p1_on_nv=1_par=2_'"
      ]
     },
     "execution_count": 597,
     "metadata": {},
     "output_type": "execute_result"
    }
   ],
   "source": [
    "fname = list(fnames)[-2]\n",
    "fname\n",
    "#'on_nv=1' in fname and f\"{pix_pulse},{pix_pulse}\" in fname and 'p1' in fname"
   ]
  },
  {
   "cell_type": "code",
   "execution_count": 158,
   "metadata": {
    "ExecuteTime": {
     "end_time": "2023-09-20T10:23:42.661209+02:00",
     "start_time": "2023-09-20T10:23:42.661209Z"
    }
   },
   "outputs": [
    {
     "data": {
      "text/plain": [
       "'File ID is 0x000000000000000001dd0000000cae68\\n'"
      ]
     },
     "execution_count": 158,
     "metadata": {},
     "output_type": "execute_result"
    }
   ],
   "source": [
    "from os import popen\n",
    "\n",
    "fname = pulses_to_optimize[0]._file_ampl\n",
    "\n",
    "popen(fr\"fsutil file queryfileid {fname}\").read()"
   ]
  },
  {
   "cell_type": "markdown",
   "metadata": {},
   "source": [
    "### Set initial guess"
   ]
  },
  {
   "cell_type": "code",
   "execution_count": 281,
   "metadata": {
    "ExecuteTime": {
     "end_time": "2023-10-13T19:59:51.043774+02:00",
     "start_time": "2023-10-13T19:59:51.043774Z"
    },
    "code_folding": [
     53
    ]
   },
   "outputs": [
    {
     "data": {
      "text/plain": [
       "['list_function', 'list_function', 'list_function', 'list_function', 'list_function', 'list_function', 'list_function', 'list_function']"
      ]
     },
     "execution_count": 281,
     "metadata": {},
     "output_type": "execute_result"
    }
   ],
   "source": [
    "pulses_to_optimize = [pulse, pulse2, pulse3, pulse4] # two targets [pix, 0], [0,pix]\n",
    "#pulses_to_optimize = [pulse, pulse2, pulse3, pulse4, pulse5, pulse6] # two targets [pix, 0], [0,pix], [pix,pix]\n",
    "#pulses_to_optimize = [pulse5, pulse6] # two targets fix=[pix, 0], fix=[0,pix], [pix,pix]\n",
    "\n",
    "#pulses_to_optimize = [pulse, pulse3]   # for pulse with target [pix, pix]\n",
    "#pulses_to_optimize = [pulse, pulse2]   # for pulse with target [pix, 0]\n",
    "\n",
    "\n",
    "#pulses_to_optimize = [None, None, None, None]  # all rect guess\n",
    "\n",
    "vec_number = 2   #2-3\n",
    "upper_freq_lim = 8 #4  #8\n",
    "# start with lower freq=4, higher ampl variation to verify working at all\n",
    "\n",
    "guess_ampl_factor = 3  # empirical factor giving locality of start simplex\n",
    "\n",
    "def prep_init_guess_pulse(pulse, gauss_filter_n=0, ampl_oc_guess=0.1):\n",
    "\n",
    "    len_oc_pulse = optimization_dictionary['times'][0]['initial_value']\n",
    "    timegrid = np.linspace(0, len_oc_pulse, n_timebins)\n",
    "    pulse_dict_list = []\n",
    "    \n",
    "    if pulse is not None:\n",
    "        try:        \n",
    "            pulse = pulse\n",
    "            logger.info(f\"pulse timegrid[-1] {pulse.timegrid[-1]} {pulse.timegrid_unit}, timegrid[-1] {timegrid[-1]}\")\n",
    "            pulse = interpolate_2_timegrid(pulse, timegrid)\n",
    "\n",
    "            \n",
    "            if gauss_filter_n != 0:\n",
    "                optimization_dictionary['oc_pulse_params']['init_pulse_gauss_filter_n'] = gauss_filter_n\n",
    "                pulse._data_ampl = gaussian_filter1d(pulse._data_ampl, gauss_filter_n)\n",
    "                pulse._data_phase = gaussian_filter1d(pulse._data_phase, gauss_filter_n)\n",
    "\n",
    "            timegrid_ampl = pulse.get_timegrid(unit='s')\n",
    "\n",
    "            if n_timebins != len(timegrid_ampl) or not np.isclose(len_oc_pulse,timegrid_ampl[-1]):\n",
    "                raise RuntimeError(f\"Timegrid of loaded init pulse ({timegrid_ampl[-1]}@{len(timegrid_ampl)})\"\n",
    "                                    f\"doesn't match settings ({len_oc_pulse}@{n_timebins}) after interpolation\" \n",
    "                                    f\"Unexpected!\")\n",
    "        except:\n",
    "            logger.exception(\"\")\n",
    "            fname = None\n",
    "\n",
    "        try:\n",
    "            pulse_dict = get_basic_pulse_dict(pulse_type='Amplitude', ampl_oc_guess=ampl_oc_guess)\n",
    "            initial_guess_ampl = {'function_type': 'list_function', 'list_function': pulse.get_data_ampl(unit='V')}\n",
    "            pulse_dict['initial_guess'] = initial_guess_ampl\n",
    "            pulse_dict_list.append(pulse_dict)\n",
    "            \n",
    "            pulse_dict = get_basic_pulse_dict(pulse_type='Phase', ampl_oc_guess=ampl_oc_guess)\n",
    "            initial_guess_phase = {'function_type': 'list_function', 'list_function': pulse.get_data_phase(unit='V')}\n",
    "            pulse_dict['initial_guess'] = initial_guess_phase\n",
    "            pulse_dict_list.append(pulse_dict)\n",
    "            \n",
    "            logger.info(f\"Setting {pulse.name}\")\n",
    "        except:\n",
    "            logger.exception(\"\")\n",
    "        # ATTENTION: ONLY FOR DEBUG\n",
    "        #initial_guess_ampl = {'function_type': 'list_function', 'list_function': 1/1.4*pulse['data_ampl']}\n",
    "        #initial_guess_phase = {'function_type': 'list_function', 'list_function': 1/1.4*pulse['data_phase']}\n",
    "    if pulse is None:\n",
    "        logger.info(\"No pulse provided, init guess from weak rect.\")\n",
    "        pulse = ArbPulse()\n",
    "        pulse._timegrid_ampl = timegrid\n",
    "        pulse._timegrid_phase = timegrid\n",
    "        pulse._data_ampl = np.ones(timegrid.size)*ampl_oc_guess\n",
    "        pulse._data_phase = np.ones(timegrid.size)*0\n",
    "        pulse.timegrid_unit = 's'\n",
    "        pulse.data_unit = 'V'\n",
    "        pulse.name = 'weak_rect'\n",
    "        \n",
    "        pulse_dict = get_basic_pulse_dict(pulse_type='Amplitude')\n",
    "        initial_guess_ampl = {'function_type': 'lambda_function', 'lambda_function': f'lambda t: {ampl_oc_guess} + 0.0*t'}\n",
    "        pulse_dict['initial_guess'] = initial_guess_ampl\n",
    "        pulse_dict_list.append(pulse_dict)\n",
    "        pulse_dict = get_basic_pulse_dict(pulse_type='Phase')\n",
    "        initial_guess_phase = {'function_type': 'lambda_function', 'lambda_function': f'lambda t: {0} + 0.0*t'}\n",
    "        pulse_dict['initial_guess'] = initial_guess_phase\n",
    "        pulse_dict_list.append(pulse_dict)\n",
    "        \n",
    "    return pulse, pulse_dict_list\n",
    "\n",
    "def get_basic_pulse_dict(pulse_type='Amplitude', ampl_oc_guess=0.1):\n",
    "    pulse_dict = {'pulse_name': pulse_type, \n",
    "                           'upper_limit':ampl_max, \n",
    "                           'lower_limit': -ampl_max, \n",
    "                           'bins_number': n_timebins, \n",
    "                           'time_name': 'time_p', \n",
    "                           'amplitude_variation': 0.5*ampl_oc_guess, # added to guess amp, to create 3 points for start simplex\n",
    "                           'basis': {'basis_name': 'Fourier', \n",
    "                                     'basis_class': 'Fourier', \n",
    "                                     'basis_module': 'quocslib.pulses.basis.Fourier', \n",
    "                                     'basis_vector_number': vec_number, # number of frequencies within the below defined range\n",
    "                                     'random_super_parameter_distribution': \n",
    "                                     {'distribution_name': 'Uniform', 'distribution_class': 'Uniform', \n",
    "                                           'distribution_module': 'quocslib.pulses.superparameter.Uniform', \n",
    "                                           'lower_limit': 0.0, 'upper_limit': upper_freq_lim} # number of oscillations within pulse\n",
    "                                    }, \n",
    "                           'scaling_function': {'function_type': 'lambda_function', 'lambda_function': 'lambda t: 1.0 + 0.0*t'}, \n",
    "                           'initial_guess': None,\n",
    "                           'shrink_ampl_lim': True\n",
    "                          }\n",
    "    return pulse_dict\n",
    "\n",
    "\n",
    "    \n",
    "try:\n",
    "    pulse_dict_list = []\n",
    "    \"\"\"\n",
    "    pulse, p_dict =  prep_init_guess_pulse(pulse, gauss_filter_n=0)\n",
    "    pulse_dict_list.extend(p_dict)\n",
    "    optimization_dictionary['oc_pulse_params']['init_guess_name'] = [pulse.name]\n",
    "\n",
    "    if pulse2 != None:\n",
    "        pulse2, p_dict =  prep_init_guess_pulse(pulse2, gauss_filter_n=0)\n",
    "        p_dict[0]['pulse_name'] = p_dict[0]['pulse_name'] + '_2'\n",
    "        p_dict[1]['pulse_name'] = p_dict[1]['pulse_name'] + '_2'\n",
    "        pulse_dict_list.extend(p_dict)\n",
    "        optimization_dictionary['oc_pulse_params']['init_guess_name'] = [pulse.name, pulse2.name]\n",
    "    \"\"\"\n",
    "    #\"\"\"\n",
    "    \n",
    "    # todo: re-think ampl guess\n",
    "    ampl_guess = []\n",
    "    for idx in range(len(pulses_to_optimize)):\n",
    "        nv_idx = idx % 2\n",
    "        ampl_guess.append(guess_ampl_factor*t_rabi_rect[nv_idx]/t_oc_pulse*pix_pulse/2*ampl_rect[nv_idx])\n",
    "\n",
    "    \n",
    "    for idx, p in enumerate(pulses_to_optimize): \n",
    "        p_i, p_dict_i =  prep_init_guess_pulse(p, gauss_filter_n=0, \n",
    "                                               ampl_oc_guess=ampl_guess[idx])\n",
    "        p_dict_i[0]['pulse_name'] = p_dict_i[0]['pulse_name'] + f'_{idx+1}'\n",
    "        p_dict_i[1]['pulse_name'] = p_dict_i[1]['pulse_name'] + f'_{idx+1}'\n",
    "        pulse_dict_list.extend(p_dict_i)\n",
    "    \n",
    "    p_names = []\n",
    "    for p in pulses_to_optimize:\n",
    "        if p is not None:\n",
    "            ampl_max = optimization_dictionary['oc_pulse_params']['ampl_max']\n",
    "            p_ampl = p.get_data_ampl('V')\n",
    "            if np.max(p_ampl) > ampl_max or np.min(p_ampl) < -ampl_max:\n",
    "                logger.warning(f\"Init pulse {p} has too high amplidue [{np.min(p_ampl)}, {np.max(p_ampl)}], \" \\\n",
    "                               \"will be shrinked\")\n",
    "            \n",
    "            p_names.append(p.name)\n",
    "        else:\n",
    "            p_names.append(\"auto_weak\")\n",
    "    \n",
    "    optimization_dictionary['oc_pulse_params']['init_guess_name'] = p_names\n",
    "    #optimization_dictionary['oc_pulse_params']['init_guess_name'] = [p.name for p in pulses_to_optimize if p]\n",
    "    #\"\"\"\n",
    "except:\n",
    "    logger.exception(\"\")\n",
    "       \n",
    "optimization_dictionary['pulses'] = pulse_dict_list\n",
    "\n",
    "\n",
    "#optimization_dictionary['oc_pulse_params']['init_guess_name']\n",
    "[p['initial_guess']['function_type'] for p in pulse_dict_list]"
   ]
  },
  {
   "cell_type": "code",
   "execution_count": 499,
   "metadata": {
    "ExecuteTime": {
     "end_time": "2023-09-22T17:58:21.353900+02:00",
     "start_time": "2023-09-22T17:58:21.353900Z"
    }
   },
   "outputs": [
    {
     "data": {
      "text/plain": [
       "(['sinn_n=1', 'parabola_p=1', 'sinn_n=1', 'parabola_p=1'], [0.21003089655172413, 0.2656858237547892, 0.21003089655172413, 0.2656858237547892])"
      ]
     },
     "execution_count": 499,
     "metadata": {},
     "output_type": "execute_result"
    }
   ],
   "source": [
    "optimization_dictionary['oc_pulse_params']['init_guess_name'], ampl_guess"
   ]
  },
  {
   "cell_type": "code",
   "execution_count": 578,
   "metadata": {
    "ExecuteTime": {
     "end_time": "2023-09-06T16:14:03.141177+02:00",
     "start_time": "2023-09-06T16:14:03.141177Z"
    }
   },
   "outputs": [
    {
     "data": {
      "text/plain": [
       "(2.507988382031937, 2.5946978271875265)"
      ]
     },
     "execution_count": 578,
     "metadata": {},
     "output_type": "execute_result"
    }
   ],
   "source": [
    "ampl_guess[0]/common.mw_amp, ampl_guess[1]/common.mw_amps_2[0]\n",
    "#ampl_rect, common.mw_amp, common.mw_amps_2"
   ]
  },
  {
   "cell_type": "code",
   "execution_count": 878,
   "metadata": {
    "ExecuteTime": {
     "end_time": "2023-09-05T11:32:35.506122+02:00",
     "start_time": "2023-09-05T11:32:35.506122Z"
    }
   },
   "outputs": [
    {
     "data": {
      "text/plain": [
       "array([0.        , 0.00030851, 0.00061701, 0.00092549, 0.00123393,\n",
       "       0.00154233, 0.00185067, 0.00215894, 0.00246713, 0.00277523,\n",
       "       0.00308324, 0.00339113, 0.00369889, 0.00400652, 0.004314  ,\n",
       "       0.00462132, 0.00492848, 0.00523545, 0.00554223, 0.00584881,\n",
       "       0.00615517, 0.00646131, 0.00676721, 0.00707286, 0.00737825,\n",
       "       0.00768338, 0.00798822, 0.00829277, 0.00859701, 0.00890094,\n",
       "       0.00920454, 0.0095078 , 0.00981071, 0.01011327, 0.01041545,\n",
       "       0.01071726, 0.01101867, 0.01131968, 0.01162027, 0.01192044,\n",
       "       0.01222017, 0.01251945, 0.01281826, 0.01311661, 0.01341448,\n",
       "       0.01371185, 0.01400873, 0.01430509, 0.01460092, 0.01489622,\n",
       "       0.01519098, 0.01548518, 0.01577881, 0.01607187, 0.01636433,\n",
       "       0.01665619, 0.01694743, 0.01723806, 0.01752805, 0.0178174 ,\n",
       "       0.0181061 , 0.01839414, 0.0186815 , 0.01896818, 0.01925416,\n",
       "       0.01953944, 0.01982401, 0.02010785, 0.02039094, 0.02067328,\n",
       "       0.02095486, 0.02123567, 0.02151571, 0.02179496, 0.02207341,\n",
       "       0.02235106, 0.02262788, 0.02290388, 0.02317904, 0.02345335,\n",
       "       0.0237268 , 0.02399937, 0.02427106, 0.02454186, 0.02481175,\n",
       "       0.02508074, 0.02534881, 0.02561596, 0.02588216, 0.02614742,\n",
       "       0.02641172, 0.02667505, 0.0269374 , 0.02719877, 0.02745915,\n",
       "       0.0277185 , 0.02797683, 0.02823414, 0.02849041, 0.02874564,\n",
       "       0.02899982, 0.02925294, 0.02950498, 0.02975594, 0.03000582,\n",
       "       0.0302546 , 0.03050226, 0.03074882, 0.03099423, 0.0312385 ,\n",
       "       0.03148163, 0.0317236 , 0.03196441, 0.03220404, 0.0324425 ,\n",
       "       0.03267977, 0.03291585, 0.03315072, 0.03338437, 0.03361681,\n",
       "       0.03384801, 0.03407797, 0.03430667, 0.0345341 , 0.03476027,\n",
       "       0.03498517, 0.03520878, 0.03543111, 0.03565213, 0.03587186,\n",
       "       0.03609027, 0.03630735, 0.03652311, 0.03673753, 0.03695061,\n",
       "       0.03716232, 0.03737266, 0.03758162, 0.03778921, 0.03799542,\n",
       "       0.03820023, 0.03840365, 0.03860566, 0.03880625, 0.03900543,\n",
       "       0.03920317, 0.03939949, 0.03959435, 0.03978777, 0.03997971,\n",
       "       0.04017017, 0.04035917, 0.04054669, 0.04073273, 0.04091727,\n",
       "       0.04110031, 0.04128185, 0.04146188, 0.04164039, 0.04181738,\n",
       "       0.04199283, 0.04216675, 0.0423391 , 0.04250989, 0.04267913,\n",
       "       0.0428468 , 0.0430129 , 0.04317743, 0.04334037, 0.04350173,\n",
       "       0.0436615 , 0.04381967, 0.04397623, 0.04413118, 0.04428452,\n",
       "       0.04443623, 0.04458629, 0.04473471, 0.04488149, 0.04502663,\n",
       "       0.04517013, 0.04531196, 0.04545214, 0.04559066, 0.0457275 ,\n",
       "       0.04586267, 0.04599616, 0.04612797, 0.04625809, 0.04638649,\n",
       "       0.04651318, 0.04663817, 0.04676145, 0.04688302, 0.04700287,\n",
       "       0.047121  , 0.0472374 , 0.04735208, 0.04746502, 0.04757622,\n",
       "       0.04768568, 0.04779339, 0.04789935, 0.04800353, 0.04810595,\n",
       "       0.0482066 , 0.04830549, 0.04840261, 0.04849796, 0.04859154,\n",
       "       0.04868333, 0.04877334, 0.04886157, 0.048948  , 0.04903265,\n",
       "       0.04911549, 0.04919652, 0.04927573, 0.04935314, 0.04942874,\n",
       "       0.04950253, 0.04957451, 0.04964467, 0.04971301, 0.04977954,\n",
       "       0.04984424, 0.04990711, 0.04996816, 0.05002738, 0.05008476,\n",
       "       0.05014028, 0.05019396, 0.0502458 , 0.0502958 , 0.05034396,\n",
       "       0.05039028, 0.05043475, 0.05047738, 0.05051815, 0.05055708,\n",
       "       0.05059415, 0.05062938, 0.05066274, 0.05069423, 0.05072385,\n",
       "       0.05075161, 0.05077752, 0.05080156, 0.05082375, 0.05084407,\n",
       "       0.05086253, 0.05087913, 0.05089387, 0.05090674, 0.05091775,\n",
       "       0.05092689, 0.05093416, 0.05093953, 0.05094305, 0.05094469,\n",
       "       0.05094447, 0.05094239, 0.05093843, 0.05093262, 0.05092494,\n",
       "       0.05091539, 0.05090398, 0.05089071, 0.05087557, 0.05085857,\n",
       "       0.05083967, 0.05081891, 0.05079629, 0.0507718 , 0.05074546,\n",
       "       0.05071726, 0.0506872 , 0.05065529, 0.05062152, 0.0505859 ,\n",
       "       0.05054842, 0.0505091 , 0.05046792, 0.05042489, 0.05037998,\n",
       "       0.05033323, 0.05028463, 0.0502342 , 0.05018192, 0.05012781,\n",
       "       0.05007186, 0.05001408, 0.04995446, 0.04989302, 0.04982975,\n",
       "       0.04976466, 0.04969774, 0.04962897, 0.04955838, 0.04948597,\n",
       "       0.04941176, 0.04933573, 0.0492579 , 0.04917826, 0.04909682,\n",
       "       0.04901359, 0.04892855, 0.04884173, 0.04875312, 0.04866273,\n",
       "       0.04857053, 0.04847654, 0.04838077, 0.04828323, 0.04818393,\n",
       "       0.04808286, 0.04798002, 0.04787543, 0.04776909, 0.047661  ,\n",
       "       0.04755116, 0.04743959, 0.04732627, 0.04721122, 0.04709441,\n",
       "       0.04697588, 0.04685562, 0.04673365, 0.04660997, 0.04648458,\n",
       "       0.04635748, 0.04622869, 0.04609821, 0.04596604, 0.04583219,\n",
       "       0.04569666, 0.04555945, 0.04542056, 0.04527999, 0.04513776,\n",
       "       0.04499388, 0.04484835, 0.04470118, 0.04455237, 0.04440193,\n",
       "       0.04424987, 0.04409618, 0.04394088, 0.04378397, 0.04362546,\n",
       "       0.04346535, 0.04330361, 0.04314029, 0.04297539, 0.04280892,\n",
       "       0.04264088, 0.04247128, 0.04230012, 0.04212742, 0.04195317,\n",
       "       0.04177738, 0.04160007, 0.04142123, 0.04124088, 0.04105899,\n",
       "       0.04087559, 0.0406907 , 0.04050431, 0.04031645, 0.0401271 ,\n",
       "       0.03993629, 0.03974401, 0.03955028, 0.0393551 , 0.03915848,\n",
       "       0.03896042, 0.03876094, 0.03856003, 0.03835769, 0.03815394,\n",
       "       0.0379488 , 0.03774227, 0.03753435, 0.03732506, 0.03711441,\n",
       "       0.03690239, 0.03668903, 0.03647432, 0.03625827, 0.0360409 ,\n",
       "       0.0358222 , 0.03560218, 0.03538084, 0.03515821, 0.0349343 ,\n",
       "       0.0347091 , 0.03448263, 0.0342549 , 0.03402592, 0.03379568,\n",
       "       0.03356422, 0.03333152, 0.0330976 , 0.03286247, 0.03262613,\n",
       "       0.03238858, 0.03214984, 0.03190992, 0.03166884, 0.0314266 ,\n",
       "       0.0311832 , 0.03093867, 0.030693  , 0.0304462 , 0.0301983 ,\n",
       "       0.02994928, 0.02969917, 0.02944797, 0.02919568, 0.02894231,\n",
       "       0.02868788, 0.02843241, 0.02817589, 0.02791834, 0.02765977,\n",
       "       0.02740018, 0.02713959, 0.02687801, 0.02661544, 0.0263519 ,\n",
       "       0.02608739, 0.02582193, 0.0255555 , 0.02528814, 0.02501985,\n",
       "       0.02475065, 0.02448053, 0.02420953, 0.02393763, 0.02366487,\n",
       "       0.02339123, 0.02311674, 0.0228414 , 0.02256522, 0.02228822,\n",
       "       0.02201038, 0.02173174, 0.02145231, 0.02117208, 0.02089109,\n",
       "       0.02060932, 0.02032681, 0.02004355, 0.01975955, 0.01947483,\n",
       "       0.0191894 , 0.01890327, 0.01861644, 0.01832892, 0.01804073,\n",
       "       0.01775188, 0.01746237, 0.01717223, 0.01688146, 0.01659007,\n",
       "       0.01629807, 0.01600547, 0.01571229, 0.01541854, 0.01512422,\n",
       "       0.01482934, 0.01453392, 0.01423796, 0.01394148, 0.01364449,\n",
       "       0.013347  , 0.01304902, 0.01275056, 0.01245163, 0.01215225,\n",
       "       0.01185242, 0.01155216, 0.01125148, 0.01095038, 0.01064889,\n",
       "       0.010347  , 0.01004472, 0.00974208, 0.00943909, 0.00913574,\n",
       "       0.00883206, 0.00852806, 0.00822375, 0.00791914, 0.00761423,\n",
       "       0.00730905, 0.0070036 , 0.00669789, 0.00639194, 0.00608574,\n",
       "       0.00577933, 0.0054727 , 0.00516588, 0.00485886, 0.00455167,\n",
       "       0.00424431, 0.00393679, 0.00362913, 0.00332134, 0.00301343,\n",
       "       0.0027054 , 0.00239728, 0.00208907, 0.00178078, 0.00147242,\n",
       "       0.00116401, 0.00085556, 0.00054708, 0.00023858, 0.        ,\n",
       "       0.        , 0.        , 0.        , 0.        , 0.        ,\n",
       "       0.        , 0.        , 0.        , 0.        , 0.        ,\n",
       "       0.        , 0.        , 0.        , 0.        , 0.        ,\n",
       "       0.        , 0.        , 0.        , 0.        , 0.        ,\n",
       "       0.        , 0.        , 0.        , 0.        , 0.        ,\n",
       "       0.        , 0.        , 0.        , 0.        , 0.        ,\n",
       "       0.        , 0.        , 0.        , 0.        , 0.        ,\n",
       "       0.        , 0.        , 0.        , 0.        , 0.        ,\n",
       "       0.        , 0.        , 0.        , 0.        , 0.        ,\n",
       "       0.        , 0.        , 0.        , 0.        , 0.        ,\n",
       "       0.        , 0.        , 0.        , 0.        , 0.        ,\n",
       "       0.        , 0.        , 0.        , 0.        , 0.        ,\n",
       "       0.        , 0.        , 0.        , 0.        , 0.        ,\n",
       "       0.        , 0.        , 0.        , 0.        , 0.        ,\n",
       "       0.        , 0.        , 0.        , 0.        , 0.        ,\n",
       "       0.        , 0.        , 0.        , 0.        , 0.        ,\n",
       "       0.        , 0.        , 0.        , 0.        , 0.        ,\n",
       "       0.        , 0.        , 0.        , 0.        , 0.        ,\n",
       "       0.        , 0.        , 0.        , 0.        , 0.        ,\n",
       "       0.        , 0.        , 0.        , 0.        , 0.        ,\n",
       "       0.        , 0.        , 0.        , 0.        , 0.        ,\n",
       "       0.        , 0.        , 0.        , 0.        , 0.        ,\n",
       "       0.        , 0.        , 0.        , 0.        , 0.        ,\n",
       "       0.        , 0.        , 0.        , 0.        , 0.        ,\n",
       "       0.        , 0.        , 0.        , 0.        , 0.        ,\n",
       "       0.        , 0.        , 0.        , 0.        , 0.        ,\n",
       "       0.        , 0.        , 0.        , 0.        , 0.        ,\n",
       "       0.        , 0.        , 0.        , 0.        , 0.        ,\n",
       "       0.        , 0.        , 0.        , 0.        , 0.        ,\n",
       "       0.        , 0.        , 0.        , 0.        , 0.        ,\n",
       "       0.        , 0.        , 0.        , 0.        , 0.        ,\n",
       "       0.        , 0.        , 0.        , 0.        , 0.        ,\n",
       "       0.        , 0.        , 0.        , 0.        , 0.        ,\n",
       "       0.        , 0.        , 0.        , 0.        , 0.        ,\n",
       "       0.        , 0.        , 0.        , 0.        , 0.        ,\n",
       "       0.        , 0.        , 0.        , 0.        , 0.        ,\n",
       "       0.        , 0.        , 0.        , 0.        , 0.        ,\n",
       "       0.        , 0.        , 0.        , 0.        , 0.        ,\n",
       "       0.        , 0.        , 0.        , 0.        , 0.        ,\n",
       "       0.        , 0.        , 0.        , 0.        , 0.        ,\n",
       "       0.        , 0.        , 0.        , 0.        , 0.        ,\n",
       "       0.        , 0.        , 0.        , 0.        , 0.        ,\n",
       "       0.        , 0.        , 0.        , 0.        , 0.        ,\n",
       "       0.        , 0.        , 0.        , 0.        , 0.        ,\n",
       "       0.        , 0.        , 0.        , 0.        , 0.        ,\n",
       "       0.        , 0.        , 0.        , 0.        , 0.        ,\n",
       "       0.        , 0.        , 0.        , 0.        , 0.        ,\n",
       "       0.        , 0.        , 0.        , 0.        , 0.        ,\n",
       "       0.        , 0.        , 0.        , 0.        , 0.        ,\n",
       "       0.        , 0.        , 0.        , 0.        , 0.        ,\n",
       "       0.        , 0.        , 0.        , 0.        , 0.        ,\n",
       "       0.        , 0.        , 0.        , 0.        , 0.        ,\n",
       "       0.        , 0.        , 0.        , 0.        , 0.        ,\n",
       "       0.        , 0.        , 0.        , 0.        , 0.        ,\n",
       "       0.        , 0.        , 0.        , 0.        , 0.        ,\n",
       "       0.        , 0.        , 0.        , 0.        , 0.        ,\n",
       "       0.        , 0.        , 0.        , 0.        , 0.        ,\n",
       "       0.        , 0.        , 0.        , 0.        , 0.        ,\n",
       "       0.        , 0.        , 0.        , 0.        , 0.        ,\n",
       "       0.        , 0.        , 0.        , 0.        , 0.        ,\n",
       "       0.        , 0.        , 0.        , 0.        , 0.        ,\n",
       "       0.        , 0.        , 0.        , 0.        , 0.        ,\n",
       "       0.        , 0.        , 0.        , 0.        , 0.        ,\n",
       "       0.        , 0.        , 0.        , 0.        , 0.        ,\n",
       "       0.        , 0.        , 0.        , 0.        , 0.        ,\n",
       "       0.        , 0.        , 0.        , 0.        , 0.        ,\n",
       "       0.        , 0.        , 0.        , 0.        , 0.        ,\n",
       "       0.        , 0.        , 0.        , 0.        , 0.        ,\n",
       "       0.        , 0.        , 0.        , 0.        , 0.        ,\n",
       "       0.        , 0.        , 0.        , 0.        , 0.        ,\n",
       "       0.        , 0.        , 0.        , 0.        , 0.        ,\n",
       "       0.        , 0.        , 0.        , 0.        , 0.        ,\n",
       "       0.        , 0.        , 0.        , 0.        , 0.        ,\n",
       "       0.        , 0.        , 0.        , 0.        , 0.        ,\n",
       "       0.        , 0.        , 0.        , 0.        , 0.        ,\n",
       "       0.        , 0.        , 0.        , 0.        , 0.        ,\n",
       "       0.        , 0.        , 0.        , 0.        , 0.        ,\n",
       "       0.        , 0.        , 0.        , 0.        , 0.        ,\n",
       "       0.        , 0.        , 0.        , 0.        , 0.        ,\n",
       "       0.        , 0.        , 0.        , 0.        , 0.        ,\n",
       "       0.        , 0.        , 0.        , 0.        , 0.        ,\n",
       "       0.        , 0.        , 0.        , 0.        , 0.        ,\n",
       "       0.        , 0.        , 0.        , 0.        , 0.        ,\n",
       "       0.        , 0.        , 0.        , 0.        , 0.        ,\n",
       "       0.        , 0.        , 0.        , 0.        , 0.        ,\n",
       "       0.        , 0.        , 0.        , 0.        , 0.        ,\n",
       "       0.        , 0.        , 0.        , 0.        , 0.        ,\n",
       "       0.        , 0.        , 0.        , 0.        , 0.        ,\n",
       "       0.        , 0.        , 0.        , 0.        , 0.        ,\n",
       "       0.        , 0.        , 0.        , 0.        , 0.        ,\n",
       "       0.        , 0.        , 0.        , 0.        , 0.        ,\n",
       "       0.        , 0.        , 0.        , 0.        , 0.        ,\n",
       "       0.        , 0.        , 0.        , 0.        , 0.        ,\n",
       "       0.        , 0.        , 0.        , 0.        , 0.        ,\n",
       "       0.        , 0.        , 0.        , 0.        , 0.        ,\n",
       "       0.        , 0.        , 0.        , 0.        , 0.        ])"
      ]
     },
     "execution_count": 878,
     "metadata": {},
     "output_type": "execute_result"
    }
   ],
   "source": [
    "optimization_dictionary['oc_pulse_params'],\n",
    "optimization_dictionary['pulses'][0]['initial_guess']['list_function']"
   ]
  },
  {
   "cell_type": "markdown",
   "metadata": {},
   "source": [
    "### Plot init guess"
   ]
  },
  {
   "cell_type": "code",
   "execution_count": 335,
   "metadata": {
    "ExecuteTime": {
     "end_time": "2023-09-03T19:46:48.935874+02:00",
     "start_time": "2023-09-03T19:46:48.935874Z"
    }
   },
   "outputs": [
    {
     "data": {
      "text/plain": [
       "(array([0.        , 0.00030342, 0.00060685, 0.00091026, 0.00121367,\n",
       "       0.00151706, 0.00182044, 0.0021238 , 0.00242714, 0.00273046]), array([0.        , 0.000371  , 0.000742  , 0.00111299, 0.00148396,\n",
       "       0.00185493, 0.00222587, 0.0025968 , 0.00296769, 0.00333856]))"
      ]
     },
     "execution_count": 335,
     "metadata": {},
     "output_type": "execute_result"
    }
   ],
   "source": [
    "len_oc_pulse = optimization_dictionary['times'][0]['initial_value']\n",
    "timegrid = np.linspace(0, len_oc_pulse, n_timebins)\n",
    "pulse_dict_list = []\n",
    "\n",
    "\n",
    "pulse = pulse\n",
    "logger.info(f\"pulse timegrid[-1] {pulse.timegrid[-1]} {pulse.timegrid_unit}, timegrid[-1] {timegrid[-1]}\")\n",
    "pulse.get_data_ampl('V')[:10], pulse3.get_data_ampl('V')[:10]"
   ]
  },
  {
   "cell_type": "code",
   "execution_count": 317,
   "metadata": {
    "ExecuteTime": {
     "end_time": "2023-09-25T22:30:39.435074+02:00",
     "start_time": "2023-09-25T22:30:39.434071Z"
    }
   },
   "outputs": [
    {
     "data": {
      "text/plain": [
       "(0.07837663680000001, 9.53172866520788)"
      ]
     },
     "execution_count": 317,
     "metadata": {},
     "output_type": "execute_result"
    },
    {
     "data": {
      "image/png": "[encoded data removed]"
     },
     "metadata": {
      "image/png": {
       "height": 993,
       "width": 2035
      }
     },
     "output_type": "display_data"
    }
   ],
   "source": [
    "import matplotlib.pyplot as plt\n",
    "\n",
    "p_plot = pulse\n",
    "p_plot = pulses_to_optimize[0] #pulses_test[2]\n",
    "\n",
    "t_amplitude = p_plot.get_timegrid(unit='us')\n",
    "t_phase = p_plot.get_timegrid(unit='us')\n",
    "try:\n",
    "    amplitude = p_plot.get_data_ampl(unit='V')\n",
    "    phase = p_plot.get_data_phase(unit='V')\n",
    "    max_ampl = np.max([np.max(phase), np.max(amplitude)])\n",
    "except ValueError:\n",
    "    amplitude, phase, max_ampl = None, None, None\n",
    "    \n",
    "try:\n",
    "    amplitude_rabi = p_plot.get_data_ampl(unit='MHz')\n",
    "    phase_rabi = p_plot.get_data_phase(unit='MHz')\n",
    "    max_rabi = np.max([np.max(amplitude_rabi), np.max(phase_rabi)])\n",
    "except ValueError:\n",
    "    amplitude_rabi, phase_rabi, max_rabi = None, None, None\n",
    "\n",
    "\n",
    "\n",
    "try:\n",
    "    #plt.figure(figsize=(10,6))\n",
    "    fig, ax1 = plt.subplots()\n",
    "    if amplitude is not None:\n",
    "        ax1.plot(t_amplitude, amplitude, label=\"Ampl (I)\")\n",
    "        ax1.plot(t_phase, phase, label=\"Phase (Q)\")\n",
    "        ax1.set_ylabel(\"Rabi freq (V)\")\n",
    "        ax1.set_xlabel(\"time (us)\")\n",
    "    else:\n",
    "        ax1.get_yaxis().set_visible(False)\n",
    "        \n",
    "    ax2 = ax1.twinx()\n",
    "    if amplitude_rabi is not None:\n",
    "        ax2.plot(t_amplitude, amplitude_rabi, label=\"Ampl (I)\")\n",
    "        ax2.plot(t_phase, phase_rabi, label=\"Phase (Q)\")\n",
    "        ax2.set_ylabel(\"Rabi freq (MHz)\")\n",
    "    else:\n",
    "        ax2.get_yaxis().set_visible(False)\n",
    "    \n",
    "    # plt.plot(t_phase, phase+amplitude, label=\"I+Q\")\n",
    "    plt.legend(loc='best', prop={'size': 20})\n",
    "    plt.show()\n",
    "except:\n",
    "    logger.exception(\"\")\n",
    "    \n",
    "    \n",
    "max_ampl, max_rabi"
   ]
  },
  {
   "cell_type": "markdown",
   "metadata": {},
   "source": [
    "Plot samples pulse and check whether amplitude rescaling is needed."
   ]
  },
  {
   "cell_type": "code",
   "execution_count": 1027,
   "metadata": {
    "ExecuteTime": {
     "end_time": "2023-08-10T11:19:21.812148+02:00",
     "start_time": "2023-08-10T11:19:21.812148Z"
    }
   },
   "outputs": [
    {
     "data": {
      "text/plain": [
       "(0.017521694167378234, 1.0)"
      ]
     },
     "execution_count": 1027,
     "metadata": {},
     "output_type": "execute_result"
    },
    {
     "data": {
      "image/png": "[encoded data removed]"
     },
     "metadata": {
      "image/png": {
       "height": 906,
       "width": 1816
      }
     },
     "output_type": "display_data"
    }
   ],
   "source": [
    "f_res = 2500e6\n",
    "\n",
    "max_old = np.max(sample_pulse(p_plot, f_res))\n",
    "\n",
    "fac = get_rescale_factor_ampl(p_plot, f_res, max_ampl_v=ampl_max)\n",
    "samples = sample_pulse(p_plot, f_res)\n",
    "\n",
    "pulse_new = cp.deepcopy(p_plot)\n",
    "pulse_new._data_ampl  = fac*pulse_new._data_ampl\n",
    "pulse_new._data_phase = fac*pulse_new._data_phase\n",
    "samples_new = sample_pulse(pulse_new, f_res)\n",
    "\n",
    "\n",
    "max_new = np.max(sample_pulse(pulse_new, f_res))\n",
    "\n",
    "\n",
    "plt.plot(samples, label=\"old\")\n",
    "plt.plot(samples_new, label=f\"rescaled= {fac:.3f}\", alpha=0.9)\n",
    "plt.axhline(ampl_max, color='red', label=f'AWG limit= {ampl_max}')\n",
    "plt.axhline(-ampl_max, color='red')\n",
    "\n",
    "plt.legend()\n",
    "plt.show()\n",
    "\n",
    "np.max(samples), fac"
   ]
  },
  {
   "cell_type": "markdown",
   "metadata": {},
   "source": [
    "### Pulse preperation (optional)\n",
    "Quocs will during optimization create 2 files per pulse that should be optimized. If those need to be manipulated (eg. to synthesize pi pulses out of of optimized pi2 pulses), use an optional pulse prepeartion function here."
   ]
  },
  {
   "cell_type": "code",
   "execution_count": 365,
   "metadata": {
    "ExecuteTime": {
     "end_time": "2023-08-09T09:23:25.545320+02:00",
     "start_time": "2023-08-09T09:23:25.545320Z"
    }
   },
   "outputs": [],
   "source": [
    "filename = 'pix=0.25,0_p0_'"
   ]
  },
  {
   "cell_type": "code",
   "execution_count": 35,
   "metadata": {
    "ExecuteTime": {
     "end_time": "2023-10-12T16:32:18.616802+02:00",
     "start_time": "2023-10-12T16:32:18.616802Z"
    }
   },
   "outputs": [
    {
     "data": {
      "text/plain": [
       "0"
      ]
     },
     "execution_count": 35,
     "metadata": {},
     "output_type": "execute_result"
    }
   ],
   "source": [
    "try:\n",
    "    \n",
    "    def synth_longer_mirror_pulses(folder_path, key, idx_key_list=None, factors=[1], filenames=[],\n",
    "                            name_ampl=\"amplitude.txt\", name_phase=\"phase.txt\", names_only=False):\n",
    "        \n",
    "        func1 = synth_longer_pulses(folder_path, key, idx_key_list=idx_key_list, factors=factors, filenames=filenames,\n",
    "                            name_ampl=name_ampl, name_phase=name_phase)\n",
    "        new_files = synth_longer_pulses_fnames(folder_path, filenames=files, \n",
    "                                            key='pix', factors=factors_nrep)\n",
    "        \n",
    "        func2 = mirror_pulse_1_on_2(folder_path, filenames=filenames + new_files,\n",
    "                            name_ampl=name_ampl, name_phase=name_phase)\n",
    "        \n",
    "        def _prep_func():\n",
    "            func1()\n",
    "            func2()\n",
    "            \n",
    "        return _prep_func\n",
    "        \n",
    "    def synth_longer_pulses(folder_path, key, idx_key_list=None, factors=[1], filenames=[],\n",
    "                            name_ampl=\"amplitude.txt\", name_phase=\"phase.txt\", names_only=False):\n",
    "        \n",
    "        new_names = []\n",
    "        def _prep_func():            \n",
    "            for filename in filenames:\n",
    "                for factor in factors:\n",
    "                    fname_new = _get_fname_longer_pulse(filename, key='pix', \n",
    "                                                        factors=[factor], idx_key_list=idx_key_list)[0]\n",
    "                    if not names_only:\n",
    "                        pulse = ArbPulse.load_pulse(folder_path, filename, unit_t='s', unit_data='V')\n",
    "                        pulse_new = tile_pulse(pulse, factor)\n",
    "                        pulse_save(folder_path, pulse_new, name=fname_new,\n",
    "                                   name_ampl=name_ampl, name_phase=name_phase)\n",
    "                    new_names.append(fname_new)\n",
    "        \n",
    "        if not names_only:\n",
    "            return _prep_func\n",
    "        else:\n",
    "            _prep_func()\n",
    "            return new_names\n",
    "        \n",
    "    \n",
    "    def mirror_pulse_1_on_2(folder_path, filenames=[],\n",
    "                        name_ampl=\"amplitude.txt\", name_phase=\"phase.txt\", names_only=False):\n",
    "        # use with care,Rabi frequencies different on mirrored line!\n",
    "        new_names = []\n",
    "        def _prep_func():\n",
    "            for filename in filenames:\n",
    "                fname_new = mirror_nvs_name(filename)\n",
    "                if not names_only:\n",
    "                    pulse = ArbPulse.load_pulse(folder_path, filename, unit_t='s', unit_data='V')\n",
    "                    pulse_save(folder_path, pulse, name=fname_new,\n",
    "                               name_ampl=name_ampl, name_phase=name_phase)\n",
    "                new_names.append(fname_new)\n",
    "\n",
    "        if not names_only:\n",
    "            return _prep_func\n",
    "        else:\n",
    "            _prep_func()\n",
    "            return new_names\n",
    "    \n",
    "\n",
    "    def _get_fname_longer_pulse(fname, key, factors=[1], idx_key_list=0):\n",
    "        Tk_string.params_from_str(fname, [key]), filename\n",
    "\n",
    "        pix_length = Tk_string.params_from_str(fname, [key])[key]\n",
    "        if idx_key_list is not None:\n",
    "            pix_length = pix_length[idx_key_list]\n",
    "        pix_length\n",
    "\n",
    "        target_length = [pix_length*fac for fac in factors]\n",
    "\n",
    "        substrs = fname.split(f\"{key}=\")\n",
    "        var_str = substrs[1].split(\"_\", 1)\n",
    "\n",
    "        total_str = substrs[0] + f\"{key}=\" + var_str[0] + \"_\" + var_str[1]\n",
    "        #fname_ampl\n",
    "\n",
    "        new_strs = []\n",
    "        for fac in factors:\n",
    "            new_var = [fac*float(val) for val in Tk_string.find_num_in_str(var_str[0])]\n",
    "            new_var_str = str(new_var).strip(\"[\").strip(\"]\").replace(\" \",\"\")\n",
    "\n",
    "            total_new_str = substrs[0] + f\"{key}=\" + new_var_str + \"_\" + var_str[1]\n",
    "            new_strs.append(total_new_str)\n",
    "\n",
    "        return new_strs\n",
    "\n",
    "\n",
    "    def tile_pulse(pulse, nreps):\n",
    "        # todo: move into ArbPulse class\n",
    "\n",
    "        p_longer = cp.deepcopy(pulse)\n",
    "        p_longer._file_ampl, p_longer._file_phase = None, None\n",
    "        p_longer.length_pix = int(nreps)*p_longer.length_pix \n",
    "\n",
    "        timegrid = pulse._timegrid_ampl\n",
    "\n",
    "        dt = timegrid[1]-timegrid[0]\n",
    "        # linspace seems to create rounding errors\n",
    "        #new_timegrid = np.linspace(timegrid[0], int(nreps)*timegrid[-1]+int(nreps-1)*dt, int(nreps)*len(timegrid))\n",
    "\n",
    "        new_timegrid = timegrid\n",
    "\n",
    "        for i in range(int(nreps)-1):\n",
    "            last_samples = new_timegrid[-len(timegrid):]\n",
    "            new_timegrid = np.concatenate([new_timegrid, \n",
    "                                       last_samples + timegrid[-1] + dt])\n",
    "\n",
    "        assert all(np.equal(timegrid, new_timegrid[:len(timegrid)]))\n",
    "\n",
    "        p_longer._timegrid_ampl = new_timegrid\n",
    "        p_longer._timegrid_phase = new_timegrid\n",
    "        p_longer._data_ampl = np.tile(pulse._data_ampl, int(nreps))\n",
    "        p_longer._data_phase = np.tile(pulse._data_phase, int(nreps))\n",
    "\n",
    "        return p_longer\n",
    "    \n",
    "                \n",
    "    def _manipulate_param_in_name(filename, key, manipulate_func):\n",
    "        if not f\"{key}=\" in filename:\n",
    "            return filename\n",
    "            \n",
    "        substrs = filename.split(f\"{key}=\")\n",
    "        var_str = substrs[1].split(\"_\", 1)\n",
    "        if len(var_str) ==1:\n",
    "            var_str.append(\"\")\n",
    "        param_str = Tk_string.params_from_str(filename, [key], seperators=[\"=\",\"_\"])[key]\n",
    "        manipulated_str = manipulate_func(param_str)\n",
    "        manipulated_str = str(manipulated_str).strip(\"[\").strip(\"]\").replace(\" \",\"\")\n",
    "        total_new_str = substrs[0] + f\"{key}=\" + manipulated_str \n",
    "        if var_str[1] != \"\":\n",
    "            total_new_str = total_new_str + \"_\" + var_str[1]\n",
    "        return total_new_str\n",
    "    \n",
    "    def multi_pulse_2_name_pix_1(pulse_idx, filename):\n",
    "\n",
    "\n",
    "        filename_swapped = _swap_pix_filename(filename)\n",
    "        filename_par = _make_par_pix_filename(filename)\n",
    "        \n",
    "        if pulse_idx == 0:\n",
    "            return f\"{filename}p1_on_nv=1_par=2\"\n",
    "        elif pulse_idx ==1:\n",
    "            return f\"{filename}p2_on_nv=2_par=1\"\n",
    "        elif pulse_idx ==2:\n",
    "            return f\"{filename_swapped}_p1_on_nv=2_par=1\"\n",
    "        elif pulse_idx ==3:\n",
    "            return f\"{filename_swapped}_p2_on_nv=1_par=2\"\n",
    "        elif pulse_idx == 4:\n",
    "            return f\"{filename_par}_p1_on_nv=1_par=2\"\n",
    "        elif pulse_idx == 5:\n",
    "            return f\"{filename_par}_p2_on_nv=2_par=1\"\n",
    "        else:\n",
    "            raise ValueError\n",
    "            \n",
    "    def multi_pulse_2_name_pix_2(pulse_idx, filename):\n",
    "        # no correction pulsese\n",
    "\n",
    "        #filename_swapped = _swap_pix_filename(filename)\n",
    "        \n",
    "        if pulse_idx == 0:\n",
    "            return f\"{filename}p1_on_nv=1\"\n",
    "        elif pulse_idx ==1:\n",
    "            return f\"{filename}_p1_on_nv=2\"\n",
    "        else:\n",
    "            raise ValueError\n",
    "    \n",
    "    def multi_pulse_2_name_pix_par_2(pulse_idx, filename):\n",
    "\n",
    "\n",
    "        filename_swapped = _swap_pix_filename(filename)\n",
    "        \n",
    "        if pulse_idx == 0:\n",
    "            return f\"{filename}p1_on_nv=1_par=2\"\n",
    "        elif pulse_idx ==1:\n",
    "            return f\"{filename}p2_on_nv=2_par=1\"\n",
    "        else:\n",
    "            raise ValueError\n",
    "    \n",
    "    def _swap_pix_filename(filename):\n",
    "        return _manipulate_param_in_name(filename, 'pix', lambda x: x[::-1])\n",
    "    \n",
    "    def _make_par_pix_filename(filename):\n",
    "        return _manipulate_param_in_name(filename, 'pix', lambda x: [x[0], x[0]])\n",
    "    \n",
    "    def _swap_nv(nv):\n",
    "        if nv==1:\n",
    "            return 2\n",
    "        elif nv==2:\n",
    "            return 1\n",
    "        else:\n",
    "            raise ValueError\n",
    "\n",
    "    def swap_nvs_name(filename):\n",
    "        for key in ['on_nv', 'par']:\n",
    "            filename = _manipulate_param_in_name(filename, key, _swap_nv)\n",
    "        return filename\n",
    "    \n",
    "    def mirror_nvs_name(filename):\n",
    "        for key in ['on_nv', 'par']:\n",
    "            filename = _manipulate_param_in_name(filename, key, _swap_nv)\n",
    "        filename = _manipulate_param_in_name(filename, 'pix', lambda x: x[::-1])\n",
    "        return filename\n",
    "    \n",
    "\n",
    "    \n",
    "    \n",
    "    \n",
    "    \n",
    "except:\n",
    "    logger.exception(\"\")\n",
    "\n",
    "0\n"
   ]
  },
  {
   "cell_type": "code",
   "execution_count": 62,
   "metadata": {
    "ExecuteTime": {
     "end_time": "2023-10-05T21:02:20.622469+02:00",
     "start_time": "2023-10-05T21:02:20.622469Z"
    }
   },
   "outputs": [],
   "source": [
    "script_params['multi_pulse_2_name_function']#(3, filename)\n",
    "script_params['multi_pulse_2_name_function'](4, filename)"
   ]
  },
  {
   "cell_type": "code",
   "execution_count": 65,
   "metadata": {
    "ExecuteTime": {
     "end_time": "2023-10-05T21:02:21.587519+02:00",
     "start_time": "2023-10-05T21:02:21.587519Z"
    }
   },
   "outputs": [
    {
     "data": {
      "text/plain": [
       "'pix=0.5,0.5_p2_on_nv=2_par=1'"
      ]
     },
     "execution_count": 65,
     "metadata": {},
     "output_type": "execute_result"
    }
   ],
   "source": [
    "multi_pulse_2_name_pix_1(5, filename)\n"
   ]
  },
  {
   "cell_type": "code",
   "execution_count": 158,
   "metadata": {
    "ExecuteTime": {
     "end_time": "2023-08-23T18:53:29.414805+02:00",
     "start_time": "2023-08-23T18:53:29.414805Z"
    }
   },
   "outputs": [
    {
     "name": "stderr",
     "output_type": "stream",
     "text": [
      "Traceback (most recent call last):\n",
      "  File \"C:\\Users\\Setup3-PC\\Desktop\\qudi\\logic\\jupyterkernel\\qzmqkernel.py\", line 679, in run_code\n",
      "    exec(code_obj, self.user_global_ns, self.user_ns)\n",
      "  File \"<ipython-input-158-9c3a3a7bb1c6>\", line 1, in <module>\n",
      "    script_params['multi_pulse_2_name_function']\n",
      "KeyError: 'multi_pulse_2_name_function'\n"
     ]
    }
   ],
   "source": [
    "script_params['multi_pulse_2_name_function']"
   ]
  },
  {
   "cell_type": "code",
   "execution_count": 603,
   "metadata": {
    "ExecuteTime": {
     "end_time": "2023-08-09T15:31:36.592483+02:00",
     "start_time": "2023-08-09T15:31:36.591480Z"
    }
   },
   "outputs": [
    {
     "data": {
      "text/plain": [
       "'pix=0.0,0.5_p1_on_nv=1_par=2_'"
      ]
     },
     "execution_count": 603,
     "metadata": {},
     "output_type": "execute_result"
    }
   ],
   "source": [
    "_swap_pix_filename('pix=0.5,0.0_p1_on_nv=1_par=2_')\n"
   ]
  },
  {
   "cell_type": "code",
   "execution_count": 1529,
   "metadata": {
    "ExecuteTime": {
     "end_time": "2023-08-09T14:16:14.919679+02:00",
     "start_time": "2023-08-09T14:16:14.919679Z"
    }
   },
   "outputs": [
    {
     "data": {
      "text/plain": [
       "('pix=0.25,0.0_', 'pix=0.0,0.25', 'pix=0.25,0.0_')"
      ]
     },
     "execution_count": 1529,
     "metadata": {},
     "output_type": "execute_result"
    }
   ],
   "source": [
    "filename, (filename), swap_nvs_name(filename)"
   ]
  },
  {
   "cell_type": "code",
   "execution_count": 1499,
   "metadata": {
    "ExecuteTime": {
     "end_time": "2023-08-09T14:06:40.402353+02:00",
     "start_time": "2023-08-09T14:06:40.402353Z"
    }
   },
   "outputs": [
    {
     "data": {
      "text/plain": [
       "('pix=0.25,0.0_', 'pix=0.25,0.0_p1_on_nv=1_par=2', 'pix=0.25,0.0_p2_on_nv=2_par=1')"
      ]
     },
     "execution_count": 1499,
     "metadata": {},
     "output_type": "execute_result"
    }
   ],
   "source": [
    "filename, script_params['multi_pulse_2_name_function'](0, filename), script_params['multi_pulse_2_name_function'](1, filename)"
   ]
  },
  {
   "cell_type": "code",
   "execution_count": 1430,
   "metadata": {
    "ExecuteTime": {
     "end_time": "2023-08-09T13:45:56.505371+02:00",
     "start_time": "2023-08-09T13:45:56.505371Z"
    }
   },
   "outputs": [
    {
     "data": {
      "text/plain": [
       "('pix=0.0,0.25_p2_on_nv=2_par=1', 'pix=0.0,0.25_p2_on_nv=1_par=2')"
      ]
     },
     "execution_count": 1430,
     "metadata": {},
     "output_type": "execute_result"
    }
   ],
   "source": [
    "testname = multi_pulse_2_name_pix_1(1, filename)\n",
    "testname, swap_nvs_name(testname)"
   ]
  },
  {
   "cell_type": "code",
   "execution_count": 1283,
   "metadata": {
    "ExecuteTime": {
     "end_time": "2023-08-09T13:31:26.871994+02:00",
     "start_time": "2023-08-09T13:31:26.871994Z"
    }
   },
   "outputs": [
    {
     "data": {
      "text/plain": [
       "(['0.25,0', ''], 'pix=0.25,0')"
      ]
     },
     "execution_count": 1283,
     "metadata": {},
     "output_type": "execute_result"
    }
   ],
   "source": [
    "var_str, filename"
   ]
  },
  {
   "cell_type": "code",
   "execution_count": 1181,
   "metadata": {
    "ExecuteTime": {
     "end_time": "2023-08-09T11:35:18.761610+02:00",
     "start_time": "2023-08-09T11:35:18.761610Z"
    }
   },
   "outputs": [],
   "source": [
    "script_params['pulse_prepare_function']()"
   ]
  },
  {
   "cell_type": "markdown",
   "metadata": {},
   "source": [
    "### Init & Transfer to Qudi-QuOCS"
   ]
  },
  {
   "cell_type": "code",
   "execution_count": 284,
   "metadata": {
    "ExecuteTime": {
     "end_time": "2023-10-13T20:00:00.184396+02:00",
     "start_time": "2023-10-13T20:00:00.184396Z"
    }
   },
   "outputs": [
    {
     "data": {
      "text/plain": [
       "({'algorithm_name': 'dCRAB', 'super_iteration_number': 10000000, 'FoM_goal': 1e-05, 'total_time_lim': 99999, 'compensate_drift': {'compensate_after_SI': True, 'compensate_after_minutes': 30, 'num_average': 2}, 're_evaluation': {'re_evaluation_steps': [0.3, 0.5, 0.51]}, 'dsm_settings': {'general_settings': {'dsm_algorithm_name': 'NelderMead', 'is_adaptive': False}, 'stopping_criteria': {'time_lim': 1360.0, 'change_based_stop': {'cbs_funct_evals': 300, 'cbs_change': 0.02}}}, 'optimization_direction': 'minimization', 'max_eval_total': 10000000000}, 0.02)"
      ]
     },
     "execution_count": 284,
     "metadata": {},
     "output_type": "execute_result"
    }
   ],
   "source": [
    "optimization_dictionary['algorithm_settings'][\"dsm_settings\"] = {'general_settings': {\n",
    "                                                \"dsm_algorithm_name\": \"NelderMead\", \n",
    "                                                #\"dsm_algorithm_name\": \"CMAES\", \n",
    "                                                'is_adaptive': False\n",
    "                                            }, \n",
    "                                            'stopping_criteria': {\n",
    "                                                #\"max_eval\": 100,\n",
    "                                                #\"time_lim\": 5*60,  # (min), experimental\n",
    "                                                \"time_lim\": 800*1.7,  # (min), experimental, long\n",
    "                                                #\"time_lim\": 30*3, # (min), simulation\n",
    "                                                #\"xatol\": 1e-10, \n",
    "                                                #\"frtol\": 1e-10,\n",
    "                                                \"change_based_stop\": {\n",
    "                                                    \"cbs_funct_evals\": 300,  # calc gradient over n\n",
    "                                                    \"cbs_change\": script_params['readout_noise']      # stop if slope below, should ~ 2*std(FOM)\n",
    "                                                }\n",
    "                                            }\n",
    "}\n",
    "optimization_dictionary['algorithm_settings'], script_params['readout_noise']\n"
   ]
  },
  {
   "cell_type": "code",
   "execution_count": 287,
   "metadata": {
    "ExecuteTime": {
     "end_time": "2023-10-13T20:00:00.670689+02:00",
     "start_time": "2023-10-13T20:00:00.670689Z"
    }
   },
   "outputs": [],
   "source": [
    "opti_comm_dict = {\"optimization_dictionary\": optimization_dictionary}\n",
    "optimizationlogic.load_opti_comm_dict(opti_comm_dict)"
   ]
  },
  {
   "cell_type": "markdown",
   "metadata": {},
   "source": [
    "Press \"Start\" in the gui and see whether errors are logged."
   ]
  },
  {
   "cell_type": "markdown",
   "metadata": {},
   "source": [
    "Print the optimization dictionary also here. If the GUI is not showing the optimization dictionary, restart the Kernel."
   ]
  },
  {
   "cell_type": "code",
   "execution_count": 227,
   "metadata": {
    "ExecuteTime": {
     "end_time": "2023-08-17T15:15:10.056548+02:00",
     "start_time": "2023-08-17T15:15:10.056548Z"
    }
   },
   "outputs": [
    {
     "data": {
      "text/plain": [
       "dict_keys(['general_settings', 'stopping_criteria'])"
      ]
     },
     "execution_count": 227,
     "metadata": {},
     "output_type": "execute_result"
    }
   ],
   "source": [
    "optimalcontrol.opti_comm_dict['optimization_dictionary']['algorithm_settings']['dsm_settings'].keys()"
   ]
  },
  {
   "cell_type": "markdown",
   "metadata": {},
   "source": [
    "## Save (rescaled) pulse to disk"
   ]
  },
  {
   "cell_type": "markdown",
   "metadata": {},
   "source": [
    "1. When loading, keep ampl_rect, t_rabi_rect like in calibration of old pulse\n",
    "2. Do rescaling here with new calibration => keeps the Rabi frequency constant, but scales ampl (V)\n",
    "3. Save again with new calibration"
   ]
  },
  {
   "cell_type": "code",
   "execution_count": 857,
   "metadata": {},
   "outputs": [],
   "source": [
    "def rescale_data_linear(pulse, ampl_rect, t_rabi):\n",
    "    pulse.set_unit_data('V')\n",
    "\n",
    "\n",
    "    _func_new = lambda x: x/ampl_rect*(1e-6/t_rabi)\n",
    "    _func_inv_new = lambda y: y/(1e-6/t_rabi)*ampl_rect\n",
    "    \n",
    "    fac = pulse._func_ampl_v_2_omega_mhz(1)/_func_new(1)\n",
    "    \n",
    "    pulse._data_ampl  = fac*pulse._data_ampl\n",
    "    pulse._data_phase = fac*pulse._data_phase\n",
    "    \n",
    "    pulse._func_ampl_v_2_omega_mhz = _func_new\n",
    "    pulse._func_omega_mhz_2_ampl_v = _func_inv_new\n",
    "    \n",
    "    return fac\n",
    "\n",
    "\n"
   ]
  },
  {
   "cell_type": "code",
   "execution_count": 860,
   "metadata": {},
   "outputs": [
    {
     "data": {
      "text/plain": [
       "([1.25e-08, 1.25e-08], [1, 1])"
      ]
     },
     "execution_count": 860,
     "metadata": {},
     "output_type": "execute_result"
    }
   ],
   "source": [
    "t_rabi_rect, ampl_rect"
   ]
  },
  {
   "cell_type": "code",
   "execution_count": 863,
   "metadata": {},
   "outputs": [
    {
     "data": {
      "text/plain": [
       "190.47619047619048"
      ]
     },
     "execution_count": 863,
     "metadata": {},
     "output_type": "execute_result"
    }
   ],
   "source": [
    "cal_new(1)"
   ]
  },
  {
   "cell_type": "code",
   "execution_count": 866,
   "metadata": {},
   "outputs": [
    {
     "data": {
      "text/plain": [
       "2.380952380952381"
      ]
     },
     "execution_count": 866,
     "metadata": {},
     "output_type": "execute_result"
    }
   ],
   "source": [
    "factor_mes = 0.42 # 1.0\n",
    "t_rabi_rect_new = 12.5e-9 # 64.9e-9 #22.4e-9\n",
    "ampl_rect_new = factor_mes*1 #0.65*0.1250 # 0.25\n",
    "\n",
    "cal = pulse._func_ampl_v_2_omega_mhz  # MHz/V\n",
    "cal_new = lambda x: x/ampl_rect_new*(1e-6/t_rabi_rect_new)\n",
    "\n",
    "cal_new(1)/cal(1)"
   ]
  },
  {
   "cell_type": "code",
   "execution_count": 872,
   "metadata": {},
   "outputs": [
    {
     "data": {
      "text/plain": [
       "{'t_rabi_rect': [1.25e-08], 't_oc_pulse': 2e-07, 'ampl_max': 0.23, 'ampl_rect': [0.42]}"
      ]
     },
     "execution_count": 872,
     "metadata": {},
     "output_type": "execute_result"
    }
   ],
   "source": [
    "rescale_data_linear(pulse, ampl_rect_new, t_rabi_rect_new)\n",
    "\n",
    "t_rabi_rect = [t_rabi_rect_new]\n",
    "ampl_rect = [ampl_rect_new]\n",
    "\n",
    "optimization_dictionary['oc_pulse_params'] = {'t_rabi_rect': t_rabi_rect, 't_oc_pulse': t_oc_pulse,\n",
    "                                              'ampl_max': ampl_max, 'ampl_rect': ampl_rect}\n",
    "opti_comm_dict['optimization_dictionary'] = optimization_dictionary['oc_pulse_params']\n",
    "\n",
    "optimization_dictionary['oc_pulse_params']"
   ]
  },
  {
   "cell_type": "code",
   "execution_count": 377,
   "metadata": {},
   "outputs": [
    {
     "data": {
      "text/plain": [
       "0.5"
      ]
     },
     "execution_count": 377,
     "metadata": {},
     "output_type": "execute_result"
    }
   ],
   "source": []
  },
  {
   "cell_type": "code",
   "execution_count": 365,
   "metadata": {},
   "outputs": [
    {
     "data": {
      "text/plain": [
       "140.79999999999998"
      ]
     },
     "execution_count": 365,
     "metadata": {},
     "output_type": "execute_result"
    }
   ],
   "source": [
    "pulse._func_ampl_v_2_omega_mhz(1)"
   ]
  },
  {
   "cell_type": "code",
   "execution_count": 266,
   "metadata": {},
   "outputs": [
    {
     "data": {
      "text/plain": [
       "{'optimization_client_name': 'test_dCRAB_Noisy_2_control_fields', 'opti_algorithm_module': 'quocslib.optimalalgorithms.dCRABNoisyAlgorithm', 'opti_algorithm_class': 'DCrabNoisyAlgorithm', 'algorithm_settings': {'algorithm_name': 'dCRAB', 'super_iteration_number': 10000000, 'FoM_goal': 1e-05, 'total_time_lim': 99999, 'compensate_drift': {'compensate_after_SI': True, 'compensate_after_minutes': 25}, 'random_number_generator': {'seed_number': 420}, 'dsm_settings': {'general_settings': {'dsm_algorithm_name': 'NelderMead', 'is_adaptive': False}, 'stopping_criteria': {'time_lim': 300, 'change_based_stop': {'cbs_funct_evals': 500, 'cbs_change': 0.01}}}}, 'times': [{'time_name': 'time_p', 'initial_value': 1e-07}], 'oc_pulse_params': {'t_rabi_rect': 5.95e-08, 't_oc_pulse': 1e-07, 'ampl_max': 0.23, 'ampl_rect': 0.168}}"
      ]
     },
     "execution_count": 266,
     "metadata": {},
     "output_type": "execute_result"
    }
   ],
   "source": [
    "opti_comm_dict['optimization_dictionary']"
   ]
  },
  {
   "cell_type": "code",
   "execution_count": 83,
   "metadata": {
    "ExecuteTime": {
     "end_time": "2023-08-08T09:49:05.131701+02:00",
     "start_time": "2023-08-08T09:49:05.131701Z"
    }
   },
   "outputs": [],
   "source": [
    "opti_comm_dict = {\"optimization_dictionary\": optimization_dictionary}\n",
    "\n",
    "folder_path = r'C:\\Software\\qudi_data\\optimal_control_assets'\n",
    "try:\n",
    "    pulse_save(folder_path, pulse, name=\"new_\", name_ampl=\"amplitude.txt\", name_phase=\"phase.txt\")\n",
    "except:\n",
    "    logger.exception(\"\")"
   ]
  },
  {
   "cell_type": "markdown",
   "metadata": {},
   "source": [
    "# Measurement"
   ]
  },
  {
   "cell_type": "markdown",
   "metadata": {},
   "source": [
    "Run a normal rect Rabi with all analysis and MW generation parameters before. Then run with commented out the dicts below in order to keep all the respective pulsed settings."
   ]
  },
  {
   "cell_type": "code",
   "execution_count": 347,
   "metadata": {
    "ExecuteTime": {
     "end_time": "2023-09-21T17:01:32.225491+02:00",
     "start_time": "2023-09-21T17:01:32.225491Z"
    }
   },
   "outputs": [
    {
     "data": {
      "text/plain": [
       "(0.5, 6.97e-08)"
      ]
     },
     "execution_count": 347,
     "metadata": {},
     "output_type": "execute_result"
    }
   ],
   "source": [
    "pix_pulse, common.rabi_period"
   ]
  },
  {
   "cell_type": "code",
   "execution_count": 290,
   "metadata": {
    "ExecuteTime": {
     "end_time": "2023-10-13T20:00:35.335191+02:00",
     "start_time": "2023-10-13T20:00:35.335191Z"
    }
   },
   "outputs": [
    {
     "data": {
      "text/plain": [
       "('pix=1.0,0.0_', OrderedDict([('laser_channel', 'd_ch1'), ('sync_channel', ''), ('gate_channel', 'a_ch2'), ('microwave_channel', 'a_ch1'), ('microwave_frequency', 2570990000.0), ('microwave_amplitude', 0.48), ('rabi_period', 4.487e-08), ('laser_length', 3e-06), ('laser_delay', 5e-07), ('wait_time', 1e-06), ('analog_trigger_voltage', 0.25), ('optimal_control_assets_path', 'C:\\\\Software\\\\qudi_data\\\\optimal_control_assets'), ('pulse_envelope', PulseEnvelopeType(sin_n))), ('t_laser_fci_red', 2.5e-06), ('t_laser_fci_green', 5e-07), ('t_wait_fci', 1e-06), ('t_safety_fci', 1e-06), ('laser_read_red_ch', 'd_ch3'), ('done_fci_ch', 'd_ch1'), ('add_gate_ch', 'd_ch4')]))"
      ]
     },
     "execution_count": 290,
     "metadata": {},
     "output_type": "execute_result"
    }
   ],
   "source": [
    "simp = SimParameters() \n",
    "\n",
    "script_params['runtime_per_epoch'] = 1.5*60  # 5*60 s\n",
    "script_params['runtime_per_epoch'] = 0.5*60  # 5*60 s\n",
    "script_params['runtime_per_epoch'] = 1.5*60  # 5*60 s\n",
    "\n",
    "#script_params['runtime_per_epoch'] = 1.7*60  # 5*60 s\n",
    "script_params['readout_noise'] = 0.02 #24  # std_dev of fom, controls convergence in iteration\n",
    "#script_params['readout_noise'] = 0.015\n",
    "# for 40s of procTomo\n",
    "#script_params['readout_noise'] = 0.023 # for 4*40s, procTomo\n",
    "\n",
    "# needs to be smaller than the actual pulse length time_p due to the interpolation\n",
    "script_params['length_oc'] = t_oc_pulse - 1e-9\n",
    "script_params['is_noisy'] = True\n",
    "\n",
    "# file paths \n",
    "folder_path = r'C:\\Software\\qudi_data\\optimal_control_assets'\n",
    "filename= f\"pix={pix_pulse:.1f},0.0_\"                # single kron(X,1) pulses with par correction applied\n",
    "#filename= f\"pix={pix_pulse:.2f},0.0_\"  \n",
    "#filename= f\"pix={pix_pulse:.1f}_\"                   # single kron(X) pulses, no correction\n",
    "#filename= f\"pix={pix_pulse:.1f},{pix_pulse:.1f}_\"   # only parallel kron(X,X) pulses\n",
    "\n",
    "# pg generation settings\n",
    "p_generation_dict = pulsedmasterlogic.generation_parameters\n",
    "#p_generation_dict[\"laser_channel\"] = \"d_ch2\" \n",
    "#p_generation_dict[\"sync_channel\"] = \"d_ch1\" \n",
    "#p_generation_dict[\"gate_channel\"] = None#\"d_ch1\" \n",
    "#p_generation_dict[\"microwave_channel\"] = \"a_ch1\"\n",
    "#p_generation_dict[\"microwave_amplitude\"] = 0.25\n",
    "#p_generation_dict[\"microwave_frequency\"] = 2822.3e6\n",
    "#p_generation_dict[\"rabi_period\"] = 82.7e-9\n",
    "#p_generation_dict[\"laser_length\"] = 3e-06\n",
    "#p_generation_dict[\"laser_delay\"] = 0.2e-6\n",
    "#p_generation_dict[\"wait_time\"] = 1e-06\n",
    "#p_generation_dict[\"analog_trigger_voltage\"] = 0.0\n",
    "\n",
    "# load the general measurement parameters for the predefined measurements\n",
    "pulsedmasterlogic.set_generation_parameters(p_generation_dict)\n",
    "script_params['pulsed_generation_params'] = pulsedmasterlogic.generation_parameters\n",
    "\n",
    "filename, script_params['pulsed_generation_params']"
   ]
  },
  {
   "cell_type": "markdown",
   "metadata": {},
   "source": [
    "## Set measurement sequence and fom"
   ]
  },
  {
   "cell_type": "code",
   "execution_count": 293,
   "metadata": {
    "ExecuteTime": {
     "end_time": "2023-10-13T20:00:37.003628+02:00",
     "start_time": "2023-10-13T20:00:37.003628Z"
    },
    "scrolled": true
   },
   "outputs": [
    {
     "data": {
      "text/plain": [
       "OrderedDict([('name', 'rand_benchmark_1q'), ('experiment', 'rand_benchmark'), ('savetag', 'rand_benchmark'), ('microwave_amplitude', 0.48), ('microwave_frequency', 2570990000.0), ('rabi_period', 4.487e-08), ('rotations_file', 'C:\\\\Users\\\\Setup3-PC\\\\Desktop\\\\qudi\\\\user_scripts\\\\Timo\\\\own\\\\rand_benchmark/20230914-1200-43_rb_seq_2q_ncxfix_decomp=ferlemann_opt1Qs.json'), ('xticks', '0, 1.0, 1.0001, 1.0002, 1.0003, 1.0004, 1.0005, 1.0006, 1.0007, 1.0008, 1.0009'), ('rotations', '<TomoRotations.none: 0>; <TomoRotations.ux90_on_1: 1>, <TomoRotations.uy90min_on_2: 10>, <TomoRotations.ux180min_on_2: 16>, <TomoRotations.c2phase1_dd: 23>, <TomoRotations.ux90_on_1: 1>, <TomoRotations.uy90min_on_2: 10>, <TomoRotations.uy90min_on_1: 9>, <TomoRotations.none: 0>, <TomoRotations.ux90min_on_1: 7>, <TomoRotations.ux90min_on_2: 8>, <TomoRotations.uy90_on_2: 4>, <TomoRotations.c2phase1_dd: 23>, <TomoRotations.ux90min_on_1: 7>, <TomoRotations.uy90min_on_2: 10>, <TomoRotations.uy90_on_1: 3>, <TomoRotations.ux90_on_2: 2>, <TomoRotations.none: 0>, <TomoRotations.none: 0>; <TomoRotations.uy90_on_1: 3>, <TomoRotations.ux90_on_2: 2>, <TomoRotations.ux90min_on_1: 7>, <TomoRotations.uy90_on_2: 4>, <TomoRotations.c2phase1_dd: 23>, <TomoRotations.ux90_on_1: 1>, <TomoRotations.ux90_on_2: 2>, <TomoRotations.uy90min_on_1: 9>, <TomoRotations.none: 0>, <TomoRotations.ux90min_on_1: 7>, <TomoRotations.uy90min_on_2: 10>, <TomoRotations.ux90min_on_2: 8>, <TomoRotations.c2phase1_dd: 23>, <TomoRotations.ux90_on_1: 1>, <TomoRotations.uy90min_on_2: 10>, <TomoRotations.uy180_on_1: 13>, <TomoRotations.ux180min_on_2: 16>, <TomoRotations.none: 0>, <TomoRotations.none: 0>; <TomoRotations.ux180min_on_1: 15>, <TomoRotations.ux180min_on_2: 16>, <TomoRotations.c2phase1_dd: 23>, <TomoRotations.ux90_on_1: 1>, <TomoRotations.ux90_on_2: 2>, <TomoRotations.uy90min_on_1: 9>, <TomoRotations.none: 0>, <TomoRotations.ux90min_on_1: 7>, <TomoRotations.uy90min_on_2: 10>, <TomoRotations.ux90min_on_2: 8>, <TomoRotations.c2phase1_dd: 23>, <TomoRotations.ux90min_on_1: 7>, <TomoRotations.ux90min_on_2: 8>, <TomoRotations.uy90_on_1: 3>, <TomoRotations.uy90_on_2: 4>, <TomoRotations.ux90min_on_1: 7>, <TomoRotations.ux90min_on_2: 8>, <TomoRotations.none: 0>, <TomoRotations.none: 0>; <TomoRotations.ux90min_on_1: 7>, <TomoRotations.ux90min_on_2: 8>, <TomoRotations.uy90_on_2: 4>, <TomoRotations.c2phase1_dd: 23>, <TomoRotations.ux180_on_1: 11>, <TomoRotations.uy90min_on_2: 10>, <TomoRotations.none: 0>, <TomoRotations.ux90_on_1: 1>, <TomoRotations.ux90min_on_2: 8>, <TomoRotations.uy90_on_1: 3>, <TomoRotations.uy90_on_2: 4>, <TomoRotations.ux90_on_1: 1>, <TomoRotations.c2phase1_dd: 23>, <TomoRotations.ux90_on_1: 1>, <TomoRotations.uy90min_on_2: 10>, <TomoRotations.uy90min_on_1: 9>, <TomoRotations.none: 0>, <TomoRotations.none: 0>; <TomoRotations.uy90_on_1: 3>, <TomoRotations.uy180min_on_2: 18>, <TomoRotations.ux90_on_1: 1>, <TomoRotations.ux180min_on_2: 16>, <TomoRotations.c2phase1_dd: 23>, <TomoRotations.ux180_on_1: 11>, <TomoRotations.ux90_on_2: 2>, <TomoRotations.none: 0>, <TomoRotations.ux90_on_1: 1>, <TomoRotations.uy90min_on_2: 10>, <TomoRotations.uy90_on_1: 3>, <TomoRotations.ux90min_on_2: 8>, <TomoRotations.ux90_on_1: 1>, <TomoRotations.c2phase1_dd: 23>, <TomoRotations.ux90min_on_1: 7>, <TomoRotations.ux90_on_2: 2>, <TomoRotations.none: 0>, <TomoRotations.uy90_on_2: 4>, <TomoRotations.ux90min_on_2: 8>, <TomoRotations.none: 0>; <TomoRotations.uy90min_on_1: 9>, <TomoRotations.uy180min_on_2: 18>, <TomoRotations.ux180min_on_2: 16>, <TomoRotations.c2phase1_dd: 23>, <TomoRotations.uy90min_on_1: 9>, <TomoRotations.ux90_on_2: 2>, <TomoRotations.ux90min_on_1: 7>, <TomoRotations.uy90_on_2: 4>, <TomoRotations.ux90_on_2: 2>, <TomoRotations.none: 0>, <TomoRotations.uy90_on_1: 3>, <TomoRotations.uy180_on_2: 14>, <TomoRotations.c2phase1_dd: 23>, <TomoRotations.uy90_on_1: 3>, <TomoRotations.ux90_on_2: 2>, <TomoRotations.ux90_on_1: 1>, <TomoRotations.uy90_on_2: 4>, <TomoRotations.none: 0>, <TomoRotations.ux90min_on_2: 8>, <TomoRotations.none: 0>; <TomoRotations.ux90_on_1: 1>, <TomoRotations.uy90_on_2: 4>, <TomoRotations.uy90_on_1: 3>, <TomoRotations.c2phase1_dd: 23>, <TomoRotations.ux90_on_1: 1>, <TomoRotations.uy90min_on_2: 10>, <TomoRotations.uy90min_on_1: 9>, <TomoRotations.none: 0>, <TomoRotations.ux90min_on_1: 7>, <TomoRotations.ux90min_on_2: 8>, <TomoRotations.uy90_on_2: 4>, <TomoRotations.c2phase1_dd: 23>, <TomoRotations.ux180_on_1: 11>, <TomoRotations.uy90min_on_2: 10>, <TomoRotations.uy90_on_1: 3>, <TomoRotations.ux90min_on_2: 8>, <TomoRotations.none: 0>, <TomoRotations.none: 0>; <TomoRotations.ux180min_on_1: 15>, <TomoRotations.ux90_on_2: 2>, <TomoRotations.uy90_on_2: 4>, <TomoRotations.c2phase1_dd: 23>, <TomoRotations.ux180_on_1: 11>, <TomoRotations.ux90_on_2: 2>, <TomoRotations.uy90_on_2: 4>, <TomoRotations.ux90_on_2: 2>, <TomoRotations.none: 0>, <TomoRotations.ux90_on_1: 1>, <TomoRotations.uy180_on_2: 14>, <TomoRotations.uy90_on_1: 3>, <TomoRotations.ux90_on_1: 1>, <TomoRotations.c2phase1_dd: 23>, <TomoRotations.ux90min_on_1: 7>, <TomoRotations.uy90min_on_2: 10>, <TomoRotations.uy90_on_1: 3>, <TomoRotations.ux180min_on_2: 16>, <TomoRotations.ux90min_on_1: 7>, <TomoRotations.none: 0>, <TomoRotations.none: 0>; <TomoRotations.ux180min_on_1: 15>, <TomoRotations.uy180min_on_2: 18>, <TomoRotations.ux180min_on_2: 16>, <TomoRotations.c2phase1_dd: 23>, <TomoRotations.ux180_on_1: 11>, <TomoRotations.ux90_on_2: 2>, <TomoRotations.uy90_on_2: 4>, <TomoRotations.ux90_on_2: 2>, <TomoRotations.none: 0>, <TomoRotations.ux90_on_1: 1>, <TomoRotations.uy180_on_2: 14>, <TomoRotations.uy90_on_1: 3>, <TomoRotations.ux90_on_1: 1>, <TomoRotations.c2phase1_dd: 23>, <TomoRotations.ux90min_on_1: 7>, <TomoRotations.ux90_on_2: 2>, <TomoRotations.uy90_on_1: 3>, <TomoRotations.uy90_on_2: 4>, <TomoRotations.ux90min_on_1: 7>, <TomoRotations.ux90min_on_2: 8>, <TomoRotations.none: 0>, <TomoRotations.none: 0>; <TomoRotations.ux180min_on_1: 15>, <TomoRotations.uy90min_on_2: 10>, <TomoRotations.ux180min_on_2: 16>, <TomoRotations.c2phase1_dd: 23>, <TomoRotations.ux90_on_1: 1>, <TomoRotations.uy90min_on_2: 10>, <TomoRotations.uy90min_on_1: 9>, <TomoRotations.none: 0>, <TomoRotations.ux90min_on_1: 7>, <TomoRotations.ux90min_on_2: 8>, <TomoRotations.uy90_on_2: 4>, <TomoRotations.c2phase1_dd: 23>, <TomoRotations.ux90min_on_1: 7>, <TomoRotations.uy90min_on_2: 10>, <TomoRotations.uy90_on_1: 3>, <TomoRotations.ux90_on_2: 2>, <TomoRotations.ux90min_on_1: 7>, <TomoRotations.none: 0>, <TomoRotations.none: 0>'), ('init_state_kwargs', {}), ('cnot_kwargs', {'tau_dd_fix': 8e-07, 'env_type': PulseEnvelopeType(optimal))}), ('tau_cnot', -2.67e-07), ('dd_type_cnot', <DDMethods.XY8: [0.0, 90.0, 0.0, 90.0, 90.0, 0.0, 90.0, 0.0]>), ('dd_order', 1), ('alternating', True), ('f_mw_2', '2990840000.0'), ('rabi_period_mw_2', '4.18e-08'), ('ampl_mw_2', '0.336'), ('mirror_1q_pulses', False), ('measurement_time', None), ('optimize_time', 1800), ('freq_optimize_time', None), ('fit_experiment', 'decay_exp'), ('pulse_envelope', PulseEnvelopeType(sin_n))), ('incl_detuned_ref', (0.42, 10)), ('env_type', PulseEnvelopeType(_from_gen_settings))), ('comp_type', PulseCompositeType(bare)))])"
      ]
     },
     "execution_count": 293,
     "metadata": {},
     "output_type": "execute_result"
    }
   ],
   "source": [
    "   \n",
    "script_params['pulse_prepare_function'] = None\n",
    "script_params['fom_func_volt_2_rabi'] = None\n",
    "\n",
    "try:\n",
    "\n",
    "    #qmeas = setup_sts_oc_pi(folder_path, filename, script_params['length_oc'])\n",
    "    #qmeas = setup_oc_proctomo(folder_path, filename, script_params['length_oc'])\n",
    "\n",
    "    #qmeas = setup_oc_npi(folder_path, filename, script_params['length_oc'])\n",
    "    # for OC pulse on NV2 (control): from states 0, 1\n",
    "    #qmeas = setup_oc_npi(folder_path, filename, script_params['length_oc'], t_gap=0.25/2.1e6, n_n=4)\n",
    "    #qmeas = setup_oc_npi(folder_path, filename, script_params['length_oc'], t_gap=1/2.1e6, n_n=8)\n",
    "    #qmeas = setup_oc_npi(folder_path, filename, script_params['length_oc'], t_gap=0, n_n=4)\n",
    "    #qmeas = setup_oc_npi(folder_path, filename, script_params['length_oc'],\n",
    "    #                     t_gap=750e-9, n_n=8,init_end_pix=0.5,\n",
    "    #                     symmetrize=True, dd_type=DDMethods.XY8, alternating_end_phase=True)\n",
    "    to_basis_pair_rot = np.pi/2\n",
    "    to_basis_pair_rot = None\n",
    "    \n",
    "    qmeas =  setup_oc_randbench(folder_path, filename, script_params['length_oc'], x_min=1, x_max=1, rand_max=10,\n",
    "                               to_basis_pair_rot=to_basis_pair_rot)\n",
    "    \n",
    "    # optimizting pi pulse in ddxdd emperiment or just enable OC inside rand bench\n",
    "    qmeas = add_ddxdd(qmeas, dd_parallel=True)\n",
    "    qmeas = add_ddxdd(qmeas, ddxdd=False, dd_parallel=False,\n",
    "                      oc_1q=False, oc_cphase=True)\n",
    "    #qmeas = add_ddxdd(qmeas, dd_parallel=False, par_drive_oc=True)\n",
    "    \n",
    "    # for OC pulse on NV1 (target): from states X,Y\n",
    "    # todo: IS IT ENOUGH to do pi2X-MWX-pi2X and pi2Y-MWY-pi2Y or do we need pi2X-MWY-pi2X (spin lock)\n",
    "    #qmeas = setup_oc_npi(folder_path, filename, script_params['length_oc'], t_gap=1/2.1e6, n_n=8,\n",
    "    #                     phases_oc=[0], init_end_pix=0.5, init_end_phases_deg=[0])\n",
    "    #                   # phases_oc=[0, 90], init_end_pix=0.5, init_end_phases_deg=[0, 90])\n",
    "    # From simulated ProcTomo: OC pi from ResserMsc is roughly Y pulse\n",
    "    # => need to adapt phases\n",
    "    #qmeas = setup_oc_npi(folder_path, filename, script_params['length_oc'], n_n=4, t_gap=2/2*1/2.1e6, \n",
    "    #                    #phases_oc=[0,90], init_end_pix=0.5, init_end_phases_deg=[0, 90])\n",
    "    #                     phases_oc=[0], init_end_pix=0.5, init_end_phases_deg=[0])\n",
    "\n",
    "    qmeas['optimize_time'] = 30*60\n",
    "\n",
    "    f_res = 2825.3e6                 # ms=-1 NV1\n",
    "    f_block = [f_res + 96e6, 2935.6e6]  # ms=-1 NV2, ms=+1 NV2\n",
    "    #f_block = [f_res+ 96e6] \n",
    "    #fom_func = setup_fom_func_oc_npi(dd_type=DDMethods.XY8)\n",
    "    #fom_func = setup_fom_func_oc_proctomo(rho_mode='v1')\n",
    "    fom_func = setup_fom_func_randbench_baseline()\n",
    "\n",
    "    # add penalty to fom and register parameters\n",
    "    script_params['fom_func_volt_2_rabi'] = lambda y: y/ampl_rect*(1e-6/t_rabi_rect)\n",
    "    script_params['fom_func_volt_2_rabi'] = None # no simulated property\n",
    "\n",
    "    #fom_func = add_penalty_freq_bandstop(fom_func, f_res, f_block, fac_penalty=100, symm_block=True, n_f_sim=75)\n",
    "\n",
    "\n",
    "    script_params['generate_parameters'] = qmeas\n",
    "    script_params['fom_function'] = fom_func\n",
    "    \n",
    "    \n",
    "    # pulse preperation (from quocs -> qudi)\n",
    "    synth_long_pulses = True\n",
    "    factors_nrep =  [2]\n",
    "    factors_nrep =  [1]\n",
    "    n_pulses = len(pulses_to_optimize)\n",
    "    optimize_single_par_pulse = True\n",
    "    optimize_single_par_pulse = False\n",
    "    \n",
    "    if synth_long_pulses and not optimize_single_par_pulse:\n",
    "        script_params['multi_pulse_2_name_function'] = multi_pulse_2_name_pix_1\n",
    "        files = []\n",
    "        for idx in range(n_pulses):\n",
    "            filename_expand_p = script_params['multi_pulse_2_name_function'](idx, filename) + \"_\"\n",
    "            files.append(filename_expand_p)\n",
    "\n",
    "        script_params['pulse_prepare_function'] = synth_longer_pulses(folder_path, filenames=files, \n",
    "                                                                      key='pix', factors=factors_nrep)\n",
    "    \n",
    "    if optimize_single_par_pulse:\n",
    "        script_params['multi_pulse_2_name_function'] = multi_pulse_2_name_pix_par_2\n",
    "    \n",
    "    #script_params['multi_pulse_2_name_function'] = multi_pulse_2_name_pix_2\n",
    "    \n",
    "except:\n",
    "    logger.exception(\"\")\n",
    "qmeas\n",
    "\n",
    "#qmeas['comp_type'], script_params['generate_parameters']\n",
    "qmeas['comp_type'].__dict__, script_params['pulse_prepare_function']\n",
    "qmeas['env_type'], files\n",
    "qmeas"
   ]
  },
  {
   "cell_type": "code",
   "execution_count": 115,
   "metadata": {
    "ExecuteTime": {
     "end_time": "2023-10-06T16:11:46.656776+02:00",
     "start_time": "2023-10-06T16:11:46.656776Z"
    }
   },
   "outputs": [],
   "source": [
    "qmeas = script_params['generate_parameters'] \n",
    "#qmeas"
   ]
  },
  {
   "cell_type": "code",
   "execution_count": 74,
   "metadata": {
    "ExecuteTime": {
     "end_time": "2023-09-13T17:06:22.481449+02:00",
     "start_time": "2023-09-13T17:06:22.481449Z"
    }
   },
   "outputs": [
    {
     "data": {
      "text/plain": [
       "{'_value_': 'sin_n', '_name_': 'sin_n', '__objclass__': <enum 'PulseEnvelopeType'>, '_parameters': {'order_n': 1}}"
      ]
     },
     "execution_count": 74,
     "metadata": {},
     "output_type": "execute_result"
    }
   ],
   "source": [
    "# DEBUG only, disable OC\n",
    "qmeas = script_params['generate_parameters'] \n",
    "\n",
    "qmeas['env_type'] = Evm(common.rabi_shaped['env_type'])\n",
    "env = qmeas['env_type']\n",
    "if env.parameters.get('par_drive_on_func'):\n",
    "    env.parameters['par_drive_on_func'] = None\n",
    "    logger.info(f\"Reset par_drive_func for {env}\")\n",
    "\n",
    "script_params['generate_parameters'] = qmeas\n",
    "\n",
    "    \n",
    "script_params['generate_parameters']['env_type'].__dict__"
   ]
  },
  {
   "cell_type": "markdown",
   "metadata": {
    "heading_collapsed": true
   },
   "source": [
    "### oc pi in cnot gate"
   ]
  },
  {
   "cell_type": "code",
   "execution_count": 852,
   "metadata": {
    "hidden": true
   },
   "outputs": [
    {
     "data": {
      "text/plain": [
       "0"
      ]
     },
     "execution_count": 852,
     "metadata": {},
     "output_type": "execute_result"
    }
   ],
   "source": [
    "def get_fname_pulsed_oc(on_nv=1, pix=1):\n",
    "    database = sequencegeneratorlogic._optimal_pulses\n",
    "    for pulse in database:\n",
    "        if pulse._pi_x == pix and pulse._on_nv == on_nv:\n",
    "            return os.path.abspath(pulse.file)\n",
    "    return None\n",
    "\n",
    "\n",
    "def prep_pulse_sts_oc_cnot(inpulse_name, scale_ampls=[1,1]):\n",
    "    \"\"\"\n",
    "    Prepare pulses for use in generate_methods that use auto-loading of optimal control pulses\n",
    "    from an optimal_control_assets folder.\n",
    "    Loads current optimized pulse as saved in run loop.\n",
    "    Scales to respective powers for nv1/nv2 and saves it with filenames as expected from sequencegenerator.\n",
    "    \"\"\"\n",
    "    \n",
    "    def prep_func():\n",
    "        pulse = ArbPulse.load_pulse(folder_path, inpulse_name, unit_t='s', unit_data='V')\n",
    "\n",
    "        out_pulsename_nv1 = os.path.basename(get_fname_pulsed_oc(on_nv=1, pix=1))\n",
    "        out_pulsename_nv2 =  os.path.basename(get_fname_pulsed_oc(on_nv=2, pix=1))\n",
    "        out_pulsenames = [out_pulsename_nv1, out_pulsename_nv2]\n",
    "        if out_pulsename_nv1 is None or out_pulsename_nv2 is None:\n",
    "            raise ValueError(\"Sequencegenerator hasn't loaded pi pulses on nv1 and nv2\")\n",
    "\n",
    "\n",
    "        # alter the calibration curve\n",
    "        save_pulse_params = cp.deepcopy(optimization_dictionary['oc_pulse_params'])\n",
    "\n",
    "        for idx in [0,1]:\n",
    "\n",
    "            # rescale pulse amplitudes\n",
    "            scale_fac = scale_ampls[idx]\n",
    "            if scale_fac > 1:\n",
    "                raise ValueError(\"Please load a base pulse (on_nv=1/2) such that only scaling < 1 can occur for the other NV!\")\n",
    "                \n",
    "            optimization_dictionary['oc_pulse_params'] = cp.deepcopy(save_pulse_params)\n",
    "            ampl_calib = optimization_dictionary['oc_pulse_params']['ampl_rect']\n",
    "            optimization_dictionary['oc_pulse_params']['ampl_rect'] = scale_fac*ampl_calib\n",
    "\n",
    "            t_amplitude = pulse.get_timegrid(unit='s')\n",
    "            t_phase = pulse.get_timegrid(unit='s')\n",
    "            amplitude = scale_fac*pulse.get_data_ampl(unit='V')\n",
    "            phase = scale_fac*pulse.get_data_phase(unit='V')\n",
    "\n",
    "            data_ampl = np.column_stack((t_amplitude, amplitude))\n",
    "            data_phase = np.column_stack((t_phase, phase))\n",
    "\n",
    "            save_pulse(folder_path, data_ampl, data_phase, name=out_pulsenames[idx])\n",
    "            logger.debug(f\"Resaved scaled pulse (fac={scale_fac}) {inpulse_name} -> {out_pulsenames[idx]}\")\n",
    "\n",
    "        optimization_dictionary['oc_pulse_params'] = save_pulse_params\n",
    "    \n",
    "    return prep_func\n",
    "    \n",
    "\n",
    "0\n",
    "\n"
   ]
  },
  {
   "cell_type": "markdown",
   "metadata": {
    "hidden": true
   },
   "source": [
    "Need to rescale same oc pulse to both NVs with different power calibration. ATTENTION: prep function doesn't take currently loaded pulse, but a fixed filename."
   ]
  },
  {
   "cell_type": "code",
   "execution_count": 944,
   "metadata": {
    "hidden": true
   },
   "outputs": [
    {
     "data": {
      "text/plain": [
       "2.24206376309061"
      ]
     },
     "execution_count": 944,
     "metadata": {},
     "output_type": "execute_result"
    }
   ],
   "source": [
    "fac_scale_nv1_2 = 1/((common.mw_amp/common.rabi_period)/(common.mw_amps_2[0]/common.t_rabi_2_rect[0]))\n",
    "fac_scale_nv1_2"
   ]
  },
  {
   "cell_type": "code",
   "execution_count": 858,
   "metadata": {
    "hidden": true
   },
   "outputs": [
    {
     "data": {
      "text/plain": [
       "<function setup_fom_func_sts_cnot.<locals>.calc_fom at 0x0000004C2E69C158>"
      ]
     },
     "execution_count": 858,
     "metadata": {},
     "output_type": "execute_result"
    }
   ],
   "source": [
    "script_params['fom_func_volt_2_rabi'] = None\n",
    "\n",
    "dd_type = DDMethods.XY8\n",
    "dd_order = 2\n",
    "dd_cnot_tau = -225e-9\n",
    "tau_dd_fix = 1.0e-6\n",
    "\n",
    "qmeas = None\n",
    "qmeas = setup_sts_oc_cnot(folder_path, filename, length_oc, tau_dd_fix, dd_cnot_tau,\n",
    "                      dd_type_cnot=dd_type, dd_order=dd_order)\n",
    "                  \n",
    "qmeas['optimize_time'] = 45*60   \n",
    "\n",
    "\n",
    "fom_func = setup_fom_func_sts_cnot()\n",
    "pulse_prep_func = prep_pulse_sts_oc_cnot(filename, scale_ampls=[1/fac_scale_nv1_2, 1])\n",
    "          \n",
    "    \n",
    "script_params['generate_parameters'] = qmeas\n",
    "script_params['fom_function'] = fom_func\n",
    "script_params['pulse_prepare_function'] = pulse_prep_func\n",
    "\n",
    "\n",
    "\n",
    "fom_func"
   ]
  },
  {
   "cell_type": "markdown",
   "metadata": {
    "hidden": true
   },
   "source": [
    "Call prep function to save power rescaled files of same pi pulse to asset folder. ATTENTION: prep function doesn't take currently loaded pulse, but a fixed filename."
   ]
  },
  {
   "cell_type": "code",
   "execution_count": 1168,
   "metadata": {
    "hidden": true
   },
   "outputs": [
    {
     "data": {
      "text/plain": [
       "('C:\\\\Software\\\\qudi_data\\\\optimal_control_assets\\\\on_nv=2_amplitude.txt', 'C:\\\\Software\\\\qudi_data\\\\optimal_control_assets\\\\on_nv=2_phase.txt')"
      ]
     },
     "execution_count": 1168,
     "metadata": {},
     "output_type": "execute_result"
    }
   ],
   "source": [
    "try:\n",
    "    pulse_prep_func()\n",
    "except:\n",
    "    logger.exception(\"\")\n",
    "\n",
    "get_pulse_filename(folder_path, filename)"
   ]
  },
  {
   "cell_type": "code",
   "execution_count": 814,
   "metadata": {
    "hidden": true
   },
   "outputs": [
    {
     "data": {
      "text/plain": [
       "0.9369641701061575"
      ]
     },
     "execution_count": 814,
     "metadata": {},
     "output_type": "execute_result"
    }
   ],
   "source": [
    "try:\n",
    "    a = fom_func()\n",
    "except:\n",
    "    logger.exception(\"\")\n",
    "    \n",
    "a"
   ]
  },
  {
   "cell_type": "code",
   "execution_count": 918,
   "metadata": {
    "hidden": true
   },
   "outputs": [
    {
     "data": {
      "text/plain": [
       "{'name': 'sts_cnot', 'rotations': '[<TomoRotations.c2not1: 6>, <TomoRotations.c2not1: 6>, <TomoRotations.c2not1: 6>, <TomoRotations.c2not1: 6>]', 'init_states': '[<TomoInit.none: 0>, <TomoInit.ux180_on_1: 7>, <TomoInit.ux180_on_2: 8>, <TomoInit.ux180_on_both: 9>]', 'tau_cnot': -2.25e-07, 'dd_type_cnot': <DDMethods.XY8: [0.0, 90.0, 0.0, 90.0, 90.0, 0.0, 90.0, 0.0]>, 'dd_order': 2, 'f_mw_2': '2825300000.0', 'ampl_mw_2': '0.18737600000000001', 'rabi_period_mw_2': '6.14e-08', 'alternating': True, 'init_state_kwargs': '', 'cnot_kwargs': {'tau_dd_fix': 1e-06, 'env_type': <EnvelopeMethods.optimal: 'OptimalControl'>}}"
      ]
     },
     "execution_count": 918,
     "metadata": {},
     "output_type": "execute_result"
    }
   ],
   "source": [
    "qmeas"
   ]
  },
  {
   "cell_type": "code",
   "execution_count": null,
   "metadata": {
    "hidden": true
   },
   "outputs": [],
   "source": []
  },
  {
   "cell_type": "markdown",
   "metadata": {
    "heading_collapsed": true
   },
   "source": [
    "### oc crosstalk (exp) + procTomo (sim)"
   ]
  },
  {
   "cell_type": "markdown",
   "metadata": {
    "hidden": true
   },
   "source": [
    "Measure crosstalk on nv1, which SHOULD BE the one closer to 2.87 GHz to take into account crosstalk to ms=0/+1 transition. Otherwise assume that crosstalk is symmetrical and we don't need to measure explicitly on nv2."
   ]
  },
  {
   "cell_type": "code",
   "execution_count": 1156,
   "metadata": {
    "hidden": true
   },
   "outputs": [
    {
     "data": {
      "text/plain": [
       "<function add_penalty_exp_crosstalk.<locals>.extend_fom at 0x0000004CBF279B70>"
      ]
     },
     "execution_count": 1156,
     "metadata": {},
     "output_type": "execute_result"
    }
   ],
   "source": [
    "script_params['fom_func_volt_2_rabi'] = lambda y: y/ampl_rect*(1e-6/t_rabi_rect)\n",
    "\n",
    "try:\n",
    "    qmeas = setup_oc_crosstalk(folder_path, filename, length_oc, on_nv=\"1,2\")\n",
    "\n",
    "    qmeas['optimize_time'] = 45*60   \n",
    "\n",
    "\n",
    "    f_res = common.mw_freq\n",
    "    fom_func = setup_fom_simulation_proctomo(f_res, delta_hfs=2.1e6)\n",
    "    fom_func = add_penalty_exp_crosstalk(fom_func, fac_penalty=10, first_fom_req_pulse=True)\n",
    "\n",
    "    # oc pulse on nv1, non-oc pi pulse on nv2\n",
    "    # scaling only needed as oc pulse is generated in terms of nv2 amplitude\n",
    "    pulse_prep_func = prep_pulse_sts_oc_cnot(filename, scale_ampls=[1/fac_scale_nv1_2, 1])\n",
    "\n",
    "\n",
    "    script_params['generate_parameters'] = qmeas\n",
    "    script_params['fom_function'] = fom_func\n",
    "    script_params['pulse_prepare_function'] = pulse_prep_func\n",
    "except:\n",
    "    logger.exception(\"\")\n",
    "\n",
    "\n",
    "fom_func"
   ]
  },
  {
   "cell_type": "markdown",
   "metadata": {
    "hidden": true
   },
   "source": [
    "DEBUG section"
   ]
  },
  {
   "cell_type": "code",
   "execution_count": 1148,
   "metadata": {
    "hidden": true
   },
   "outputs": [
    {
     "data": {
      "text/plain": [
       "{'name': 'oc_crosstalk', 'rotations': '[<TomoRotations.none: 0>, <TomoRotations.none: 0>, <TomoRotations.none: 0>]', 'init_states': '[<TomoInit.none: 0>, <TomoInit.ux180_on_1: 7>, <TomoInit.ux180_on_2: 8>]', 'tau_cnot': 0.0, 'dd_type_cnot': <DDMethods.SE: [0.0]>, 'dd_order': 1, 'f_mw_2': '2825300000.0', 'ampl_mw_2': '0.18737600000000001', 'rabi_period_mw_2': '6.14e-08', 'alternating': True, 'pi_on_nv': '1,2', 'init_state_kwargs': {'env_type': <EnvelopeMethods.optimal: 'OptimalControl'>}, 'cnot_kwargs': '', 'experiment': 'tomography_single', 'microwave_amplitude': 0.083328, 'microwave_frequency': 2729700000.0, 'rabi_period': 6.122e-08, 'optimize_time': 2700, 'savetag': 'oc_crosstalk', 'gated': False, 'sequence_mode': False, 'ctr_single_sweeps': False, 'ctr_n_sweeps': 0, 'ctr_n_cycles': 0, 'measurement_time': None, 'freq_optimize_time': None, 'analysis_interval': None, 'sampling_freq': 12000000000.0, 'bin_width': 4e-09, 'wait_time': 1e-06, 'laser_delay': 2e-07, 'laser_safety': 2e-07, 'sync_channel': 'd_ch1', 'gate_channel': '', 'laser_channel': 'd_ch2', 'laser_length': 3e-06, 'wait_length': 1e-06, 'trigger_length': 2e-08, 'delay_length': 1.7e-07, 'channel_amp': 1.0, 'microwave_channel': 'a_ch1', 'optimize_channel': '/Dev1/PFI0', 'readout_end': 3e-07, 'max_tau': 0.001, 'max_tau_start': 0.001, 'max_rabi_period': 0.001, 'min_microwave_frequency': 1, 'max_microwave_amplitude': 0.25}"
      ]
     },
     "execution_count": 1148,
     "metadata": {},
     "output_type": "execute_result"
    }
   ],
   "source": [
    "qmeas"
   ]
  },
  {
   "cell_type": "code",
   "execution_count": 1176,
   "metadata": {
    "hidden": true
   },
   "outputs": [
    {
     "data": {
      "text/plain": [
       "0.0520355778898036"
      ]
     },
     "execution_count": 1176,
     "metadata": {},
     "output_type": "execute_result"
    }
   ],
   "source": [
    "try:\n",
    "    data = fom_func(pulse, script_params['fom_func_volt_2_rabi'])\n",
    "except:\n",
    "    logger.exception()\n",
    "    \n",
    "data"
   ]
  },
  {
   "cell_type": "code",
   "execution_count": 537,
   "metadata": {
    "hidden": true
   },
   "outputs": [
    {
     "data": {
      "text/plain": [
       "nan"
      ]
     },
     "execution_count": 537,
     "metadata": {},
     "output_type": "execute_result"
    }
   ],
   "source": [
    "# debug fom\n",
    "try:\n",
    "    data = add_penalty_freq_bandstop(fom_func, 2615e6, 2710e6)(pulse, func_volt_2_rabi=lambda y: y/0.25*20)\n",
    "except:\n",
    "    logger.exception(\"\")\n",
    "    \n",
    "data"
   ]
  },
  {
   "cell_type": "code",
   "execution_count": 55,
   "metadata": {
    "hidden": true
   },
   "outputs": [],
   "source": [
    "#pulse = #folder = r\"C:\\Software\\qudi_data\\optimal_control_assets\"\n",
    "folder = r\"C:\\Software\\qudi_data\\optimal_control_assets\\20220724_1\"\n",
    "fname = r\"on_nv=2_\"\n",
    "fname = r\"opt_pulse_\"\n",
    "n_bins_init_guess = 1001\n",
    "\n",
    "pulse = TimeDependentSimulation.load_pulse(folder, fname, extension='txt',\n",
    "                                           #func_volt_2_rabi=func_volt_2_rabi,\n",
    "                                           func_t_2_us=lambda x: x*1e6)\n",
    "pulse['timegrid_ampl'][-1]"
   ]
  },
  {
   "cell_type": "code",
   "execution_count": 160,
   "metadata": {
    "hidden": true
   },
   "outputs": [
    {
     "data": {
      "text/plain": [
       "array([0.843, 0.882, 0.896, 0.799])"
      ]
     },
     "execution_count": 160,
     "metadata": {},
     "output_type": "execute_result"
    }
   ],
   "source": [
    "signal_data = pulsedmeasurementlogic.signal_data\n",
    "n_pi = signal_data[0,:]\n",
    "data_mw = signal_data[1,:]\n",
    "data_alt = signal_data[2,:]\n",
    "data_norm = data_mw/data_alt\n",
    "data_mw_0 = (data_norm)[n_pi%2==0]\n",
    "data_mw_1 = (data_norm)[n_pi%2==1]\n",
    "\n",
    "data_mw_1"
   ]
  },
  {
   "cell_type": "code",
   "execution_count": 563,
   "metadata": {
    "hidden": true
   },
   "outputs": [
    {
     "data": {
      "text/plain": [
       "(0.881537621773608, <function setup_fom_func_oc_npi.<locals>.calc_fom at 0x0000004092738AE8>)"
      ]
     },
     "execution_count": 563,
     "metadata": {},
     "output_type": "execute_result"
    }
   ],
   "source": [
    "try:\n",
    "    #a = fom_func(pulse, func_volt_2_rabi=script_params['fom_func_volt_2_rabi'])\n",
    "    a = fom_func()\n",
    "except:\n",
    "    logger.exception(\"\")\n",
    "    \n",
    "a, fom_func"
   ]
  },
  {
   "cell_type": "code",
   "execution_count": 1154,
   "metadata": {
    "hidden": true
   },
   "outputs": [
    {
     "data": {
      "text/plain": [
       "{'name': 'tomography_single_point', 'rotations': '<TomoRotations.none: 0>', 'init_states': '<TomoInit.none: 0>', 'tau_cnot': 0.0, 'dd_type_cnot': <DDMethods.SE: [0.0]>, 'dd_order': 1, 'f_mw_2': '1e9,1e9,1e9', 'ampl_mw_2': '0.125, 0, 0', 'rabi_period_mw_2': '100e-9, 100e-9, 100e-9', 'alternating': False, 'pi_on_nv': '1,2', 'init_state_kwargs': '', 'cnot_kwargs': ''}"
      ]
     },
     "execution_count": 1154,
     "metadata": {},
     "output_type": "execute_result"
    }
   ],
   "source": [
    "dictparamsall = pulsedmasterlogic.generate_method_params\n",
    "\n",
    "dict_qst = dictparamsall[\"tomography_single\"]\n",
    "dict_qst"
   ]
  },
  {
   "cell_type": "code",
   "execution_count": 1170,
   "metadata": {
    "hidden": true
   },
   "outputs": [],
   "source": [
    "qmeas = cp.deepcopy(script_params['generate_parameters'])\n",
    "experiment = qmeas['experiment']\n",
    "exp_name = qmeas['name']\n",
    "try:\n",
    "    optimize_time = qmeas['optimize_time'] \n",
    "except KeyError:\n",
    "    optimize_time = None\n",
    "qmeas.pop('optimize_time', None)\n",
    "qmeas.pop('experiment', None)\n",
    "logger.debug(f\"Generating exp: {qmeas}\")\n",
    "handle_global_gen_params(qmeas)\n",
    "# generate the sequence\n",
    "pulsedmasterlogic.generate_predefined_sequence(experiment,kwarg_dict=qmeas)  \n",
    "time.sleep(1)\n",
    "pulsedmasterlogic.sample_ensemble(exp_name,True)"
   ]
  },
  {
   "cell_type": "code",
   "execution_count": 365,
   "metadata": {
    "ExecuteTime": {
     "end_time": "2023-09-04T15:00:21.920940+02:00",
     "start_time": "2023-09-04T15:00:21.920940Z"
    },
    "hidden": true
   },
   "outputs": [
    {
     "data": {
      "text/plain": [
       "[<TomoRotations.none: 0>, <TomoRotations.ux90_on_1: 1>, <TomoRotations.ux90_on_2: 2>, <TomoRotations.uy90_on_1: 3>, <TomoRotations.uy90_on_2: 4>, <TomoRotations.ux45_on_2: 5>, <TomoRotations.ux45_on_1: 6>, <TomoRotations.uy45_on_1: 35>, <TomoRotations.uy45_on_2: 36>, <TomoRotations.ux45min_on_1: 37>, <TomoRotations.ux45min_on_2: 38>, <TomoRotations.uy45min_on_1: 39>, <TomoRotations.uy45min_on_2: 40>, <TomoRotations.ux90min_on_1: 7>, <TomoRotations.ux90min_on_2: 8>, <TomoRotations.uy90min_on_1: 9>, <TomoRotations.uy90min_on_2: 10>, <TomoRotations.ux180_on_1: 11>, <TomoRotations.ux180_on_2: 12>, <TomoRotations.uy180_on_1: 13>, <TomoRotations.uy180_on_2: 14>, <TomoRotations.ux180min_on_1: 15>, <TomoRotations.ux180min_on_2: 16>, <TomoRotations.uy180min_on_1: 17>, <TomoRotations.uy180min_on_2: 18>, <TomoRotations.c1not2: 19>, <TomoRotations.c2not1: 20>, <TomoRotations.c1not2_ux180_on_2: 21>, <TomoRotations.c2not1_ux180_on_1: 22>, <TomoRotations.c2phase1_dd: 23>, <TomoRotations.ux90_on_both: 24>, <TomoRotations.uy90_on_both: 25>, <TomoRotations.ux90min_on_both: 26>, <TomoRotations.uy90min_on_both: 27>, <TomoRotations.ux180_on_both: 28>, <TomoRotations.uy180_on_both: 29>, <TomoRotations.ux180min_on_both: 30>, <TomoRotations.uy180min_on_both: 31>, <TomoRotations.c2phase1_rot: 32>, <TomoRotations.xy8_par: 33>]"
      ]
     },
     "execution_count": 365,
     "metadata": {},
     "output_type": "execute_result"
    }
   ],
   "source": [
    "[name for name in TomoRotations]"
   ]
  },
  {
   "cell_type": "code",
   "execution_count": 371,
   "metadata": {
    "ExecuteTime": {
     "end_time": "2023-09-04T15:00:36.492203+02:00",
     "start_time": "2023-09-04T15:00:36.492203Z"
    },
    "hidden": true
   },
   "outputs": [
    {
     "data": {
      "text/plain": [
       "<TomoRotations.uy90min_on_2: 10>"
      ]
     },
     "execution_count": 371,
     "metadata": {},
     "output_type": "execute_result"
    }
   ],
   "source": [
    "gates_raw, gates, gates_exp = '', [], []\n",
    "data_dir = r\"C:\\Users\\Setup3-PC\\Desktop\\qudi\\user_scripts\\Timo\\own\\rand_benchmark\"\n",
    "\n",
    "fname = '20230606-1417-44_rb_seq_2q_ncxfix.json'\n",
    "#fname = '20230814-0932-50_rb_seq_2q_ncxfix_noCNOT_noNVTranspile.json'\n",
    "\n",
    "with open(data_dir + \"/\" + fname) as f:\n",
    "    gates_raw = json.load(f)\n",
    "\n",
    "try:\n",
    "    gates_raw = parse_rbjson(gates_raw)\n",
    "    gates, gate_infos = rbjson_2_gates(data_dir + \"/\" + fname)\n",
    "    n_cliff = [info_dict['n_cliff'] for info_dict in gate_infos]\n",
    "except:\n",
    "    logger.exception(\"\")\n",
    "\n",
    "gates[0][0]"
   ]
  },
  {
   "cell_type": "code",
   "execution_count": 718,
   "metadata": {
    "ExecuteTime": {
     "end_time": "2023-09-05T08:47:51.241761+02:00",
     "start_time": "2023-09-05T08:47:51.241761Z"
    },
    "hidden": true
   },
   "outputs": [
    {
     "data": {
      "text/plain": [
       "[[<TomoRotations.ux45_on_1: 6>, <TomoRotations.uy45_on_2: 36>, <TomoRotations.ux45_on_1: 6>, <TomoRotations.uy45_on_2: 36>], [<TomoRotations.uy45_on_2: 36>, <TomoRotations.uy45_on_2: 36>], [<TomoRotations.uy45_on_1: 35>, <TomoRotations.ux45min_on_2: 38>, <TomoRotations.uy45_on_1: 35>, <TomoRotations.ux45min_on_2: 38>], [<TomoRotations.ux45min_on_2: 38>, <TomoRotations.ux45min_on_2: 38>], [<TomoRotations.ux45min_on_1: 37>, <TomoRotations.uy45min_on_2: 40>, <TomoRotations.ux45min_on_1: 37>, <TomoRotations.uy45min_on_2: 40>], [<TomoRotations.uy45min_on_2: 40>, <TomoRotations.uy45min_on_2: 40>], [<TomoRotations.ux45min_on_1: 37>, <TomoRotations.ux45min_on_1: 37>, <TomoRotations.none: 0>], [<TomoRotations.uy45min_on_1: 39>, <TomoRotations.uy45min_on_1: 39>], [<TomoRotations.none: 0>], [<TomoRotations.uy45_on_1: 35>, <TomoRotations.uy45_on_2: 36>, <TomoRotations.uy45_on_1: 35>, <TomoRotations.uy45_on_2: 36>], [<TomoRotations.uy45_on_2: 36>, <TomoRotations.uy45_on_2: 36>], [<TomoRotations.ux45_on_1: 6>, <TomoRotations.ux45_on_2: 5>, <TomoRotations.ux45_on_1: 6>, <TomoRotations.ux45_on_2: 5>], [<TomoRotations.ux45_on_2: 5>, <TomoRotations.ux45_on_2: 5>], [<TomoRotations.ux45min_on_1: 37>, <TomoRotations.uy45min_on_2: 40>, <TomoRotations.ux45min_on_1: 37>, <TomoRotations.uy45min_on_2: 40>], [<TomoRotations.uy45min_on_2: 40>, <TomoRotations.uy45min_on_2: 40>], [<TomoRotations.uy45_on_1: 35>, <TomoRotations.uy45_on_1: 35>, <TomoRotations.none: 0>]]"
      ]
     },
     "execution_count": 718,
     "metadata": {},
     "output_type": "execute_result"
    }
   ],
   "source": [
    "\n",
    "#gates[0], nv_ids\n",
    "gates_exp = gates[5]\n",
    "\n",
    "try:\n",
    "\n",
    "   \n",
    "\n",
    "    \n",
    "\n",
    "\n",
    "    \n",
    "    test = []\n",
    "    test = convert_2_gate_pairs(gates_exp)\n",
    "    test = [convert_2_basis_rots(pair, basis_rot=np.pi/4) for pair in test]\n",
    "    test = [serialize_gate_steps(pair) for pair in test]\n",
    "except:\n",
    "    logger.exception(\"\")\n",
    "    #gates_exp\n",
    "    \n",
    "test"
   ]
  },
  {
   "cell_type": "code",
   "execution_count": 461,
   "metadata": {
    "ExecuteTime": {
     "end_time": "2023-09-04T15:26:09.481219+02:00",
     "start_time": "2023-09-04T15:26:09.481219Z"
    },
    "hidden": true
   },
   "outputs": [
    {
     "data": {
      "text/plain": [
       "([<TomoRotations.uy45_on_1: 35>, <TomoRotations.uy45_on_1: 35>, <TomoRotations.uy45_on_1: 35>, <TomoRotations.uy45_on_1: 35>], [<TomoRotations.uy180_on_1: 13>])"
      ]
     },
     "execution_count": 461,
     "metadata": {},
     "output_type": "execute_result"
    }
   ],
   "source": [
    "convert_2_basis_rots(test[-1], basis_rot=np.pi/4), test[-1]"
   ]
  },
  {
   "cell_type": "code",
   "execution_count": 422,
   "metadata": {
    "ExecuteTime": {
     "end_time": "2023-09-04T15:12:14.794308+02:00",
     "start_time": "2023-09-04T15:12:14.794308Z"
    },
    "hidden": true
   },
   "outputs": [
    {
     "data": {
      "text/plain": [
       "[<TomoRotations.ux90min_on_1: 7>, <TomoRotations.ux45_on_1: 6>, <TomoRotations.uy180_on_1: 13>, <TomoRotations.uy90min_on_2: 10>, <TomoRotations.c2phase1_dd: 23>, <TomoRotations.ux90_on_1: 1>, <TomoRotations.uy90_on_2: 4>, <TomoRotations.uy90_on_1: 3>, <TomoRotations.ux45_on_1: 6>, <TomoRotations.ux90min_on_1: 7>, <TomoRotations.ux90min_on_2: 8>, <TomoRotations.ux90min_on_1: 7>, <TomoRotations.uy90min_on_2: 10>, <TomoRotations.uy90min_on_1: 9>, <TomoRotations.none: 0>, <TomoRotations.uy90_on_1: 3>, <TomoRotations.uy90_on_2: 4>, <TomoRotations.ux90_on_1: 1>, <TomoRotations.ux90_on_2: 2>, <TomoRotations.ux45_on_1: 6>, <TomoRotations.uy90min_on_2: 10>, <TomoRotations.c2phase1_dd: 23>, <TomoRotations.ux90_on_1: 1>, <TomoRotations.uy90_on_2: 4>, <TomoRotations.uy90_on_1: 3>, <TomoRotations.ux45_on_1: 6>, <TomoRotations.ux90min_on_1: 7>, <TomoRotations.none: 0>, <TomoRotations.ux90min_on_1: 7>, <TomoRotations.uy180_on_1: 13>, <TomoRotations.none: 0>]"
      ]
     },
     "execution_count": 422,
     "metadata": {},
     "output_type": "execute_result"
    }
   ],
   "source": [
    "gates_exp"
   ]
  },
  {
   "cell_type": "code",
   "execution_count": 455,
   "metadata": {
    "ExecuteTime": {
     "end_time": "2023-09-04T15:25:50.897283+02:00",
     "start_time": "2023-09-04T15:25:50.897283Z"
    },
    "hidden": true
   },
   "outputs": [],
   "source": [
    "\n",
    "\n",
    "#pulse_parameters('ux90_on_1')\n",
    "\n",
    "try:\n",
    "    TomoRotations(0).from_pulse_parameters({'pulse_area': np.pi / 4, 'phase': 90, 'target': [2]})\n",
    "    TomoRotations._native_gate_translation\n",
    "except:\n",
    "    logger.exception(\"\")"
   ]
  },
  {
   "cell_type": "code",
   "execution_count": 263,
   "metadata": {
    "ExecuteTime": {
     "end_time": "2023-09-04T14:48:29.396502+02:00",
     "start_time": "2023-09-04T14:48:29.396502Z"
    },
    "hidden": true
   },
   "outputs": [
    {
     "data": {
      "text/plain": [
       "<TomoRotations.uy45_on_2: 36>"
      ]
     },
     "execution_count": 263,
     "metadata": {},
     "output_type": "execute_result"
    }
   ],
   "source": [
    "TomoRotations(0).from_pulse_parameters({'pulse_area': np.pi / 4, 'phase': 90, 'target': [2]})"
   ]
  },
  {
   "cell_type": "markdown",
   "metadata": {},
   "source": [
    "## Run experiment"
   ]
  },
  {
   "cell_type": "markdown",
   "metadata": {},
   "source": [
    "ATTENTION: if using rand_bench as experiment, consider inserting pi2 at beginning to not optimize into zero pulse!"
   ]
  },
  {
   "cell_type": "code",
   "execution_count": null,
   "metadata": {
    "ExecuteTime": {
     "start_time": "2023-09-25T19:31:22.187Z"
    }
   },
   "outputs": [],
   "source": [
    "0"
   ]
  },
  {
   "cell_type": "code",
   "execution_count": 187,
   "metadata": {
    "ExecuteTime": {
     "end_time": "2023-10-09T09:04:31.824135+02:00",
     "start_time": "2023-10-09T09:04:31.824135Z"
    }
   },
   "outputs": [],
   "source": [
    "uglobals.abort.clear()\n",
    "upload_qmeas()"
   ]
  },
  {
   "cell_type": "code",
   "execution_count": 183,
   "metadata": {
    "ExecuteTime": {
     "end_time": "2023-09-25T08:56:26.466198+02:00",
     "start_time": "2023-09-25T08:56:26.466198Z"
    }
   },
   "outputs": [],
   "source": [
    "script_params['pulse_prepare_function']()"
   ]
  },
  {
   "cell_type": "code",
   "execution_count": 298,
   "metadata": {
    "ExecuteTime": {
     "end_time": "2023-10-16T08:41:56.911082+02:00",
     "start_time": "2023-10-16T08:41:56.911082Z"
    }
   },
   "outputs": [],
   "source": [
    "uglobals.abort.clear()\n",
    "laser_off()\n",
    "pulsedmeasurementlogic.alternative_data_type = 'None'  # 'FFT' might crash for some FOMs\n",
    "######################################################################################################\n",
    "# Parameters and Settings\n",
    "######################################################################################################\n",
    "\n",
    "# runtime of each experiment\n",
    "runtime = script_params['runtime_per_epoch']\n",
    "length_oc = script_params['length_oc'] \n",
    "\n",
    "# parameter to stop the experiment if its set to False in the console\n",
    "pulsedmasterlogic.globalrun = True\n",
    "uglobals.abort.clear()\n",
    "logger.info(f\"Starting new closed-loop quocs optimization on f_res= {f_res*1e-6} MHz, t_rabi= {1e9*script_params['pulsed_generation_params']['rabi_period']:.1f} ns\")\n",
    "\n",
    "\n",
    "# tell the measurement gui how the sequence looks\n",
    "pulsed_settings = dict()\n",
    "pulsed_settings['invoke_settings'] = True\n",
    "pulsedmasterlogic.set_measurement_settings(pulsed_settings)\n",
    "script_params['pulsed_settings'] = pulsed_settings\n",
    "\n",
    "\n",
    "# make sure everything is finished\n",
    "time.sleep(5)\n",
    "\n",
    "# how the laser response is analyzed    \n",
    "#pulsedmasterlogic.set_analysis_settings(method = 'mean')\n",
    "#pulsedmasterlogic.set_analysis_settings(signal_start = 150e-9)\n",
    "#pulsedmasterlogic.set_analysis_settings(signal_end = 1e-6)\n",
    "#pulsedmasterlogic.set_extraction_settings(method = 'conv_deriv')\n",
    "\n",
    "p_analysis_settings = pulsedmasterlogic.analysis_settings\n",
    "p_extraction_settings = pulsedmasterlogic.extraction_settings\n",
    "script_params['pulsed_analysis_settings'] = p_analysis_settings\n",
    "script_params['pulsed_extraction_settings_settings'] = p_extraction_settings\n",
    "\n",
    "# array to save the fom evolution\n",
    "fom_all = []\n",
    "\n",
    "# This section is devoted to the initialization in the pulsed logic and optimization logic of the main\n",
    "# settings and parameters to be usde in the creation ofthe pulse sequence and the optimization\n",
    "# Iteration, controls and figure of merit to compare with QuOCS\n",
    "# Just an example for debug\n",
    "args_dict = {\"is_noisy\": script_params['is_noisy']}\n",
    "qubit = OneQubit2Fields(args_dict)\n",
    "\n",
    "######################################################################################################\n",
    "# Measurement\n",
    "######################################################################################################\n",
    "counterlogic.stopCount()\n",
    "optimalcontrol.start_optimization()\n",
    "\n",
    "# crucial, maybe it can be much shorter\n",
    "time.sleep(1)\n",
    "\n",
    "# Just a time to check for latent time\n",
    "last_time_fom = time.time()\n",
    "# repeat the whole process until its manually stopped or QuOCS finsihed the optimization\n",
    "# Wait few seconds before starting to get and return data\n",
    "while not optimizationlogic.handle_exit_obj.is_user_running:\n",
    "    time.sleep(0.1)\n",
    "    if (time.time() - last_time_fom) > 30 or uglobals.abort.is_set():\n",
    "        logger.warning(\"Timeout or abort while initializing quocs.\")\n",
    "        uglobals.abort.set()\n",
    "        break\n",
    "\n",
    "# iteration number\n",
    "it_val = 0\n",
    "opt_start_time = time.time()\n",
    "t_last_opt = time.time()  # 0 # 0 to start with optimization\n",
    "try:\n",
    "    # print(\"Check before the loop starts: {0}\".format(optimizationlogic.handle_exit_obj.is_user_running))\n",
    "    while optimizationlogic.handle_exit_obj.is_user_running == True and not uglobals.abort.is_set():\n",
    "        time_stamp=time.time()\n",
    "        # wait until QuOCS optimizes the controls\n",
    "        # print(\"Wait until the controls logic gives the controls\")\n",
    "        while not controlslogic.are_pulses_calculated:\n",
    "            time.sleep(0.1)\n",
    "            # If the waiting time exceed 10 seconds left stop the optimization\n",
    "            if time.time() - last_time_fom > 30:\n",
    "                logger.error(\"Too much time... Exit!\")\n",
    "                optimizationlogic.handle_exit_obj.is_user_running = False\n",
    "                break\n",
    "\n",
    "         \n",
    "        qmeas = cp.deepcopy(script_params['generate_parameters'])\n",
    "        try:\n",
    "            optimize_time = qmeas['optimize_time'] \n",
    "        except KeyError:\n",
    "            optimize_time = None\n",
    "        # optimize/track nv before mes\n",
    "        if optimize_time:\n",
    "            if time.time() - t_last_opt > optimize_time:\n",
    "                uglobals.abort.clear()\n",
    "                laser_on()\n",
    "                time.sleep(1)\n",
    "                optimize_position()\n",
    "                time.sleep(1)\n",
    "                laser_off()\n",
    "                t_last_opt = time.time()\n",
    "        \n",
    "        #######################################################################################################\n",
    "        # Get the Controls\n",
    "        #######################################################################################################\n",
    "        # Change the status of control calculations to avoid to evaluate the fom twice with the same controls\n",
    "        pulses_from_quocs_to_disk()\n",
    "        time.sleep(0.2)\n",
    "        \n",
    "        #######################################################################################################\n",
    "        # Perform the measurement\n",
    "        #######################################################################################################\n",
    "        #raise RuntimeError(\"Debug\")\n",
    "        upload_qmeas()\n",
    "        #raise RuntimeError(\"Debug\")\n",
    "        #print('Finished uploading', dictparams_oc[\"name\"], '!')\n",
    "       \n",
    "        # make sure everything is finished (crucial)\n",
    "        time.sleep(3)#time.sleep(5)  \n",
    "                \n",
    "         # start the measurement\n",
    "        logger.info('Starting the measurement!')\n",
    "        counterlogic.startCount()\n",
    "        pulsedmasterlogic.toggle_pulsed_measurement(True)\n",
    "        time.sleep(1)\n",
    "\n",
    "        # make sure the measurement started\n",
    "        while not pulsedmasterlogic.status_dict['measurement_running'] and not uglobals.abort.is_set():\n",
    "            time.sleep(0.1)\n",
    "\n",
    "        measurement_start_time = time.time()\n",
    "\n",
    "        while time.time() <= measurement_start_time + runtime:\n",
    "            time.sleep(0.2)\n",
    "\n",
    "            # option to stop the measurement\n",
    "            if pulsedmasterlogic.globalrun == False or uglobals.abort.is_set():\n",
    "                print('Stopping the measurement!')\n",
    "                break\n",
    "\n",
    "        # option to stop the measurement\n",
    "        if pulsedmasterlogic.globalrun == False or uglobals.abort.is_set():\n",
    "            print('Stopping the measurement!')\n",
    "            pulsedmasterlogic.toggle_pulsed_measurement(False)\n",
    "            break\n",
    "\n",
    "        #time.sleep(1)\n",
    "\n",
    "        # Stop the measurement\n",
    "        pulsedmasterlogic.toggle_pulsed_measurement(False)\n",
    "        time_stamp_mes = time.time()\n",
    "\n",
    "        # Make sure it stopped (Wait until the Picoscope card sends the data)\n",
    "        while pulsedmasterlogic.status_dict['measurement_running']:\n",
    "            qWait(200)\n",
    "\n",
    "        #######################################################################################################\n",
    "        # Analysis\n",
    "        ######################################################################################################\n",
    "\n",
    "        fom_func = script_params['fom_function']\n",
    "        if script_params['fom_func_volt_2_rabi'] is None:\n",
    "            fom = fom_func()\n",
    "        else:\n",
    "            # fom that includes a simulated penalty\n",
    "            for idx in range(pulses):\n",
    "                if len(pulses) == 1:\n",
    "                    name_ampl, name_phase =\"amplitude.txt\", \"phase.txt\"\n",
    "                else:\n",
    "                    name_ampl, name_phase =f\"p{idx+1}_amplitude.txt\", f\"p{idx+1}_phase.txt\"\n",
    "                    pulses[idx] = ArbPulse.load_pulse(folder_path, filename, unit_t='s', unit_data='V')\n",
    "\n",
    "            if len(pulses) == 1:\n",
    "                fom = fom_func(pulses[0], func_volt_2_rabi=script_params['fom_func_volt_2_rabi'])\n",
    "            else:\n",
    "                fom = fom_func(pulses, func_volt_2_rabi=script_params['fom_func_volt_2_rabi'])\n",
    "                \n",
    "        logger.debug(f\"FOM= {fom}\")\n",
    "        # save the fom to plot its evolution later\n",
    "        fom_all.append([time_stamp_mes, fom])\n",
    "        it_val += 1\n",
    "\n",
    "        # Update the figure of merit and the standard deviation to the fom logic\n",
    "        fomlogic.update_fom(fom, script_params['readout_noise'], status_code=0)   # todo: define above\n",
    "        #fomlogic.update_fom(fom, std, status_code=0)\n",
    "\n",
    "        # update the last time the fom is calculated\n",
    "        last_time_fom = time.time()\n",
    "\n",
    "    # when did the optimization stop?\n",
    "    opt_end_time = time.time()\n",
    "\n",
    "    print('It took QuOCS ' + str(opt_end_time-opt_start_time) + ' s to optimize the pulse!')\n",
    "except:\n",
    "    logger.exception(\"\")\n",
    "finally:\n",
    "    # give a very high fom to the optimization algorithm\n",
    "    # and status code -1, to interrupt the optimization smoothly\n",
    "    uglobals.abort.set()\n",
    "    optimizationlogic.handle_exit_obj.is_user_running = False\n",
    "    logger.info('Stopping the optimization!')\n",
    "    fomlogic.update_fom(10**10, status_code=-1)\n",
    "\n",
    "print(\"Optimization finished\")"
   ]
  },
  {
   "cell_type": "code",
   "execution_count": 239,
   "metadata": {
    "ExecuteTime": {
     "end_time": "2023-10-13T17:18:41.572188+02:00",
     "start_time": "2023-10-13T17:18:41.572188Z"
    },
    "scrolled": false
   },
   "outputs": [
    {
     "data": {
      "text/plain": [
       "<function setup_fom_func_randbench_baseline.<locals>.calc_fom at 0x00000025A5F9AA60>"
      ]
     },
     "execution_count": 239,
     "metadata": {},
     "output_type": "execute_result"
    }
   ],
   "source": [
    "fom_func"
   ]
  },
  {
   "cell_type": "markdown",
   "metadata": {},
   "source": [
    "## Test FOM noise"
   ]
  },
  {
   "cell_type": "markdown",
   "metadata": {},
   "source": [
    "Repeat the same pulse for n_mc times to allow estimation of the FOM noise."
   ]
  },
  {
   "cell_type": "code",
   "execution_count": 326,
   "metadata": {
    "ExecuteTime": {
     "end_time": "2023-08-23T17:27:57.452142+02:00",
     "start_time": "2023-08-23T17:27:57.452142Z"
    }
   },
   "outputs": [
    {
     "data": {
      "text/plain": [
       "{'par_drive_on_func': <function setup_oc_randbench.<locals>._func_par_drive_oc at 0x00000041520B4620>, 'scale_ampl': [1]}"
      ]
     },
     "execution_count": 326,
     "metadata": {},
     "output_type": "execute_result"
    }
   ],
   "source": [
    "qmeas['env_type'].parameters['scale_ampl'] = [1]\n",
    "qmeas['env_type'].parameters"
   ]
  },
  {
   "cell_type": "code",
   "execution_count": 254,
   "metadata": {
    "ExecuteTime": {
     "end_time": "2023-10-13T17:19:25.717378+02:00",
     "start_time": "2023-10-13T17:19:25.717378Z"
    }
   },
   "outputs": [
    {
     "data": {
      "text/plain": [
       "0.7485530431962686"
      ]
     },
     "execution_count": 254,
     "metadata": {},
     "output_type": "execute_result"
    }
   ],
   "source": [
    "fom_func()"
   ]
  },
  {
   "cell_type": "code",
   "execution_count": 224,
   "metadata": {
    "ExecuteTime": {
     "end_time": "2023-10-13T17:15:36.202661+02:00",
     "start_time": "2023-10-13T17:15:36.202661Z"
    }
   },
   "outputs": [],
   "source": [
    "np.mean([fom_func() for i in range(0,10)])  # note: new data in pulsed only every 2 seconds!"
   ]
  },
  {
   "cell_type": "code",
   "execution_count": 56,
   "metadata": {
    "ExecuteTime": {
     "end_time": "2023-10-13T16:16:11.288823+02:00",
     "start_time": "2023-10-13T16:16:11.288823Z"
    }
   },
   "outputs": [
    {
     "data": {
      "text/plain": [
       "(nan, nan)"
      ]
     },
     "execution_count": 56,
     "metadata": {},
     "output_type": "execute_result"
    }
   ],
   "source": [
    "fom2 = setup_fom_func_randbench_inv(cond_x_func=lambda x: x < 1 and x > 0)\n",
    "fom3 = setup_fom_func_randbench_inv(cond_x_func=lambda x: x > 1 and x < 2)\n",
    "fom2(), fom3()"
   ]
  },
  {
   "cell_type": "code",
   "execution_count": 379,
   "metadata": {
    "ExecuteTime": {
     "end_time": "2023-09-15T12:25:06.558083+02:00",
     "start_time": "2023-09-15T12:25:06.558083Z"
    }
   },
   "outputs": [],
   "source": [
    "uglobals.abort.clear()\n",
    "\n",
    "# ATTENTION: need to make sure that the right files are here. QuOCS won't generate for you!\n",
    "assets_folder = r\"C:\\Software\\qudi_data\\optimal_control_assets\"\n",
    "\n",
    "runtime = script_params['runtime_per_epoch']\n",
    "length_oc = script_params['length_oc'] \n",
    "\n",
    "p_generation_dict = pulsedmasterlogic.generation_parameters\n",
    "# load the general measurement parameters for the predefined measurements\n",
    "pulsedmasterlogic.set_generation_parameters(p_generation_dict)\n",
    "script_params['pulsed_generation_params'] = pulsedmasterlogic.generation_parameters\n",
    "\n",
    "\n",
    "pulsed_settings = dict()\n",
    "pulsed_settings['invoke_settings'] = True\n",
    "pulsedmasterlogic.set_measurement_settings(pulsed_settings)\n",
    "script_params['pulsed_settings'] = pulsed_settings\n",
    "\n",
    "\n",
    "fom_all =  []\n",
    "n_mc = 1000\n",
    "idx= 0\n",
    "\n",
    "logger.info(\"Starting new FOM noise test\")\n",
    "\n",
    "try:\n",
    "    while idx<n_mc and not uglobals.abort.is_set():\n",
    "        time_stamp=time.time()\n",
    "        \"\"\"\n",
    "        # load pulse\n",
    "        pulse = pulse\n",
    "        t_amplitude = pulse.get_timegrid(unit='s')\n",
    "        t_phase = pulse.get_timegrid(unit='s')\n",
    "        amplitude = pulse.get_data_ampl(unit='V')\n",
    "        phase = pulse.get_data_phase(unit='V')\n",
    "\n",
    "        # save the pulses as .txt files (predefined methods doesn't allow us to upload a numpy array as \n",
    "        # parameter)\n",
    "        data_ampl = np.column_stack((t_amplitude, amplitude))\n",
    "        data_phase = np.column_stack((t_phase, phase))\n",
    "        save_pulse(folder_path, data_ampl, data_phase, name=filename)\n",
    "        \"\"\"\n",
    "                \n",
    "        pulses_from_quocs_to_disk()\n",
    "        \n",
    "        upload_qmeas()\n",
    "\n",
    "        \n",
    "        # start the measurement\n",
    "        #print('Starting the measurement!')\n",
    "        pulsedmasterlogic.toggle_pulsed_measurement(True)\n",
    "        time.sleep(1)\n",
    "\n",
    "        # make sure the measurement started\n",
    "        while not pulsedmasterlogic.status_dict['measurement_running']:\n",
    "            time.sleep(0.1)\n",
    "\n",
    "        measurement_start_time = time.time()\n",
    "\n",
    "        while time.time() <= measurement_start_time + runtime:\n",
    "            qWait(200)\n",
    "\n",
    "            # option to stop the measurement\n",
    "            if uglobals.abort.is_set():\n",
    "                print('Stopping the measurement!')\n",
    "                break\n",
    "\n",
    "        # option to stop the measurement\n",
    "        if uglobals.abort.is_set():\n",
    "            print('Stopping the measurement!')\n",
    "            pulsedmasterlogic.toggle_pulsed_measurement(False)\n",
    "            break\n",
    "\n",
    "        #time.sleep(1)\n",
    "\n",
    "        # Stop the measurement\n",
    "        pulsedmasterlogic.toggle_pulsed_measurement(False)\n",
    "        time_stamp_mes = time.time()\n",
    "        \n",
    "        # Make sure it stopped (Wait until the Picoscope card sends the data)\n",
    "        while pulsedmasterlogic.status_dict['measurement_running']:\n",
    "            time.sleep(0.1)\n",
    "\n",
    "        #######################################################################################################\n",
    "        # Analysis\n",
    "        ######################################################################################################\n",
    "\n",
    "        fom_func = script_params['fom_function']\n",
    "        if script_params['fom_func_volt_2_rabi'] is None:\n",
    "            fom = fom_func()\n",
    "        else:\n",
    "            # fom that includes a simulated penalty\n",
    "            pulse = ArbPulse.load_pulse(folder_path, filename, unit_t='s', unit_data='V')\n",
    "            fom = fom_func(pulse, func_volt_2_rabi=script_params['fom_func_volt_2_rabi'])\n",
    "        \n",
    "        fom_all.append([time_stamp_mes, fom])\n",
    "\n",
    "        fom_arr = np.asarray(fom_all)[:,1]\n",
    "        logger.info(f\"[{idx}] FOM= {fom}, current mean: {np.mean(fom_arr):4f}, std: {np.std(fom_arr):.4f}\")\n",
    "        \n",
    "\n",
    "        idx += 1\n",
    "except:\n",
    "    logger.exception(\"\")"
   ]
  },
  {
   "cell_type": "code",
   "execution_count": 551,
   "metadata": {
    "ExecuteTime": {
     "end_time": "2023-09-06T15:45:11.763411+02:00",
     "start_time": "2023-09-06T15:45:11.763411Z"
    }
   },
   "outputs": [
    {
     "data": {
      "text/plain": [
       "array([], dtype=float64)"
      ]
     },
     "execution_count": 551,
     "metadata": {},
     "output_type": "execute_result"
    }
   ],
   "source": [
    "np.asarray(fom_all)"
   ]
  },
  {
   "cell_type": "code",
   "execution_count": 386,
   "metadata": {
    "ExecuteTime": {
     "end_time": "2023-09-15T12:25:37.169514+02:00",
     "start_time": "2023-09-15T12:25:37.169514Z"
    }
   },
   "outputs": [
    {
     "data": {
      "text/plain": [
       "0.019204791127959288"
      ]
     },
     "execution_count": 386,
     "metadata": {},
     "output_type": "execute_result"
    }
   ],
   "source": [
    "fom_std"
   ]
  },
  {
   "cell_type": "code",
   "execution_count": 383,
   "metadata": {
    "ExecuteTime": {
     "end_time": "2023-09-15T12:25:31.552572+02:00",
     "start_time": "2023-09-15T12:25:31.552572Z"
    }
   },
   "outputs": [],
   "source": [
    "foms = np.asarray(fom_all)\n",
    "fom_mean = np.mean(foms[:,1])\n",
    "fom_std = np.std(foms[:,1])\n",
    "\n",
    "plt.figure(figsize=(4,3))\n",
    "plt.title(f\"Runtime= {script_params['runtime_per_epoch']/60} min\")\n",
    "plt.plot(foms[:,0]-foms[0,0], foms[:,1])\n",
    "plt.axhspan(fom_mean-fom_std, fom_mean+fom_std, alpha=0.1, color='blue', label=f'std= {fom_std:.4f}')\n",
    "plt.axhline(fom_mean, alpha=0.5, color='blue', label=f'mean= {fom_mean:.4f}')\n",
    "\n",
    "\n",
    "plt.ylabel(\"FOM\")\n",
    "plt.xlabel(\"time (s)\")\n",
    "plt.legend()\n",
    "plt.show()\n"
   ]
  },
  {
   "cell_type": "code",
   "execution_count": 1453,
   "metadata": {},
   "outputs": [
    {
     "data": {
      "text/plain": [
       "time.struct_time(tm_year=2022, tm_mon=8, tm_mday=23, tm_hour=16, tm_min=55, tm_sec=15, tm_wday=1, tm_yday=235, tm_isdst=1)"
      ]
     },
     "execution_count": 1453,
     "metadata": {},
     "output_type": "execute_result"
    }
   ],
   "source": [
    "time.localtime(ts[0])"
   ]
  },
  {
   "cell_type": "code",
   "execution_count": 211,
   "metadata": {},
   "outputs": [],
   "source": [
    "np.mean(foms), np.std(np.asarray(foms))"
   ]
  },
  {
   "cell_type": "code",
   "execution_count": 1573,
   "metadata": {},
   "outputs": [],
   "source": [
    "fom_all = np.column_stack((ts, foms))\n",
    "#fom_all"
   ]
  },
  {
   "cell_type": "code",
   "execution_count": 1553,
   "metadata": {},
   "outputs": [],
   "source": [
    "foms_yest.extend(ts)\n",
    "ts_yest.extend(ts)"
   ]
  },
  {
   "cell_type": "code",
   "execution_count": 1703,
   "metadata": {},
   "outputs": [
    {
     "data": {
      "text/plain": [
       "0.027175321001150343"
      ]
     },
     "execution_count": 1703,
     "metadata": {},
     "output_type": "execute_result"
    }
   ],
   "source": [
    "np.std(np.asarray(foms_yest[100:]))"
   ]
  },
  {
   "cell_type": "code",
   "execution_count": 1503,
   "metadata": {},
   "outputs": [],
   "source": [
    "plt.plot(ts, foms)\n",
    "plt.show()"
   ]
  },
  {
   "cell_type": "markdown",
   "metadata": {},
   "source": [
    "## Save the results"
   ]
  },
  {
   "cell_type": "code",
   "execution_count": null,
   "metadata": {
    "ExecuteTime": {
     "start_time": "2023-09-26T14:19:17.230Z"
    }
   },
   "outputs": [],
   "source": [
    "folder_path + \"/\" + f\"{t_save_str}\""
   ]
  },
  {
   "cell_type": "code",
   "execution_count": 203,
   "metadata": {
    "ExecuteTime": {
     "end_time": "2023-10-10T18:06:39.741365+02:00",
     "start_time": "2023-10-10T18:06:39.741365Z"
    }
   },
   "outputs": [],
   "source": [
    "# todo: for simulated pulses, wrong t_rabi / calibration saved\n",
    "# todo: for pulses with script_params['pulse_prepare_function'], can't create files in different folder\n",
    "try:\n",
    "    t_save = datetime.datetime.now()\n",
    "    #t_save_str = t_save.strftime(\"%Y%m%d_%H%M%S\")\n",
    "    #save_optimization_result(folder_path + \"\\\\\" + f\"{t_save_str}\", \"\")\n",
    "    save_optimization_result(folder_path, \"\")\n",
    "except:\n",
    "    logger.exception(\"\")"
   ]
  },
  {
   "cell_type": "code",
   "execution_count": 47,
   "metadata": {},
   "outputs": [],
   "source": [
    "try:\n",
    "    optimizer_obj = optimizationlogic.optimization_obj\n",
    "    optimizer_obj.get_optimization_algorithm()\n",
    "except:\n",
    "    logger.exception(\"\")"
   ]
  },
  {
   "cell_type": "code",
   "execution_count": 107,
   "metadata": {},
   "outputs": [
    {
     "data": {
      "text/plain": [
       "{'interface_job_name': 'test_dCRAB_Noisy_2_control_fields', 'communication_obj': <quocslib.communication.AllInOneCommunication.AllInOneCommunication object at 0x0000003F9490BB70>, 'results_path': 'C:\\\\Users\\\\Setup3-PC\\\\Desktop\\\\qudi\\\\QuOCS_Results\\\\20220920_222303_test_dCRAB_Noisy_2_control_fields', 'optimizer_attribute': <class 'quocslib.optimizationalgorithms.dCRABAlgorithm.dCRABAlgorithm'>}"
      ]
     },
     "execution_count": 107,
     "metadata": {},
     "output_type": "execute_result"
    }
   ],
   "source": [
    "optimizer_obj.__dict__"
   ]
  },
  {
   "cell_type": "code",
   "execution_count": 962,
   "metadata": {
    "ExecuteTime": {
     "end_time": "2023-08-14T08:41:12.897819+02:00",
     "start_time": "2023-08-14T08:41:12.897819Z"
    }
   },
   "outputs": [
    {
     "data": {
      "text/plain": [
       "'20230814_08:41:12'"
      ]
     },
     "execution_count": 962,
     "metadata": {},
     "output_type": "execute_result"
    }
   ],
   "source": [
    "\n"
   ]
  },
  {
   "cell_type": "markdown",
   "metadata": {},
   "source": [
    "Stop manually if \"optimizer_obj.opt_alg_obj.get_best_controls()\" is not available."
   ]
  },
  {
   "cell_type": "code",
   "execution_count": 102,
   "metadata": {},
   "outputs": [],
   "source": [
    "uglobals.abort.set()\n",
    "optimizationlogic.handle_exit_obj.is_user_running = False\n",
    "fomlogic.update_fom(10**10, status_code=-1)"
   ]
  },
  {
   "cell_type": "code",
   "execution_count": 142,
   "metadata": {},
   "outputs": [],
   "source": [
    "pulses_list, time_grids_list, parameters_list = optimizer_obj.opt_alg_obj.get_best_controls()\n",
    "\n",
    "t_amplitude = time_grids_list[0]\n",
    "amplitude = pulses_list[0]\n",
    "t_phase = time_grids_list[1]\n",
    "phase = pulses_list[1]\n",
    "\n",
    "amplitude"
   ]
  },
  {
   "cell_type": "code",
   "execution_count": 71,
   "metadata": {},
   "outputs": [],
   "source": [
    "best_dict = optimizer_obj.opt_alg_obj.get_best_controls()\n",
    "\n",
    "pulses_list = best_dict['pulses']\n",
    "time_grids_list = best_dict['timegrids']\n",
    "parameters_list = best_dict['parameters']\n",
    "\n",
    "pulses_list"
   ]
  },
  {
   "cell_type": "code",
   "execution_count": 561,
   "metadata": {},
   "outputs": [
    {
     "data": {
      "text/plain": [
       "dict_keys(['pulses', 'parameters', 'timegrids'])"
      ]
     },
     "execution_count": 561,
     "metadata": {},
     "output_type": "execute_result"
    }
   ],
   "source": [
    "optimizer_obj.opt_alg_obj.get_best_controls().keys()"
   ]
  },
  {
   "cell_type": "markdown",
   "metadata": {},
   "source": [
    "### manually extract best pulse from result log"
   ]
  },
  {
   "cell_type": "code",
   "execution_count": 38,
   "metadata": {},
   "outputs": [
    {
     "data": {
      "text/plain": [
       "{'timegrid_ampl': array([0.00e+00, 1.00e-10, 2.00e-10, ..., 9.98e-08, 9.99e-08, 1.00e-07]), 'data_ampl': array([0.25      , 0.25      , 0.25      , ..., 0.15350565, 0.15412781,\n",
       "       0.15446573]), 'timegrid_phase': array([0.00e+00, 1.00e-10, 2.00e-10, ..., 9.98e-08, 9.99e-08, 1.00e-07]), 'data_phase': array([0.14782959, 0.15159753, 0.15526419, ..., 0.09661208, 0.09996444,\n",
       "       0.10314861])}"
      ]
     },
     "execution_count": 38,
     "metadata": {},
     "output_type": "execute_result"
    }
   ],
   "source": [
    "path = r\"C:\\Software\\qudi_data\\optimal_control_assets\\20220724_1\\20220723_202625_test_dCRAB_Noisy_2_control_fields\"\n",
    "file = r\"20220723_202625_best_controls\"\n",
    "pulse = TimeDependentSimulation.load_pulse(path, file, extension='npz')\n",
    "\n",
    "#path = r\"C:\\Software\\qudi_data\\optimal_control_assets\\20220724_1\"\n",
    "#file = r\"on_nv=2_\"\n",
    "#pulse = load_pulse(path, file, extension='txt')\n",
    "\n",
    "pulse"
   ]
  },
  {
   "cell_type": "code",
   "execution_count": 58,
   "metadata": {},
   "outputs": [],
   "source": [
    "import matplotlib.pyplot as plt\n",
    "    \n",
    "t_amplitude = pulse['timegrid_ampl']\n",
    "amplitude = pulse['data_ampl']\n",
    "t_phase = pulse['timegrid_phase']\n",
    "phase = pulse['data_phase']\n",
    "\n",
    "try:\n",
    "    plt.plot(t_amplitude*1e9, amplitude, label=\"Ampl (I)\")\n",
    "    plt.plot(t_phase*1e9, phase, label=\"Phase (Q)\")\n",
    "    plt.xlabel(\"time (ns)\")\n",
    "    plt.legend()\n",
    "    plt.show()\n",
    "except:\n",
    "    logger.exception(\"\")"
   ]
  },
  {
   "cell_type": "code",
   "execution_count": 116,
   "metadata": {},
   "outputs": [],
   "source": [
    "path = folder_path\n",
    "name = \"opt_pulse_\"\n",
    "\n",
    "data_ampl = np.column_stack((t_amplitude, amplitude))\n",
    "data_phase = np.column_stack((t_phase, phase))\n",
    "\n",
    "save_pulse(path, data_ampl, data_phase, name=name)"
   ]
  },
  {
   "cell_type": "markdown",
   "metadata": {},
   "source": [
    "## Scale pulses"
   ]
  },
  {
   "cell_type": "code",
   "execution_count": 266,
   "metadata": {
    "ExecuteTime": {
     "end_time": "2023-08-22T13:53:32.853517+02:00",
     "start_time": "2023-08-22T13:53:32.853517Z"
    }
   },
   "outputs": [
    {
     "data": {
      "text/plain": [
       "60"
      ]
     },
     "execution_count": 266,
     "metadata": {},
     "output_type": "execute_result"
    }
   ],
   "source": [
    "qmeas['env_type'].parameters['scale_ampl'] \n"
   ]
  },
  {
   "cell_type": "code",
   "execution_count": 29,
   "metadata": {
    "ExecuteTime": {
     "end_time": "2023-09-04T14:05:11.489617+02:00",
     "start_time": "2023-09-04T14:05:11.489617Z"
    }
   },
   "outputs": [
    {
     "data": {
      "text/plain": [
       "OrderedDict([('name', 'rand_benchmark_1q'), ('experiment', 'rand_benchmark'), ('savetag', 'rand_benchmark'), ('microwave_amplitude', 0.09648639), ('microwave_frequency', 2751770000.0), ('rabi_period', 1.292e-07), ('rotations_file', 'C:\\\\Users\\\\Setup3-PC\\\\Desktop\\\\qudi\\\\user_scripts\\\\Timo\\\\own\\\\rand_benchmark/20230606-1417-44_rb_seq_2q_ncxfix_noCNOT.json'), ('rotations', '<TomoRotations.none: 0>; <TomoRotations.ux90_on_1: 1>, <TomoRotations.uy90min_on_2: 10>, <TomoRotations.uy90_on_1: 3>, <TomoRotations.ux180min_on_2: 16>, <TomoRotations.ux90min_on_1: 7>, <TomoRotations.ux45min_on_2: 6>, <TomoRotations.uy90_on_1: 3>, <TomoRotations.uy90min_on_2: 10>, <TomoRotations.ux90_on_1: 1>, <TomoRotations.uy90_on_2: 4>, <TomoRotations.ux45min_on_2: 6>, <TomoRotations.ux90min_on_2: 8>, <TomoRotations.uy90min_on_2: 10>, <TomoRotations.none: 0>, <TomoRotations.ux90min_on_1: 7>, <TomoRotations.uy90_on_2: 4>, <TomoRotations.uy90min_on_1: 9>, <TomoRotations.ux90_on_2: 2>, <TomoRotations.ux90_on_1: 1>, <TomoRotations.ux45min_on_2: 6>, <TomoRotations.uy90_on_1: 3>, <TomoRotations.uy90min_on_2: 10>, <TomoRotations.ux90min_on_1: 7>, <TomoRotations.uy90_on_2: 4>, <TomoRotations.uy180min_on_1: 17>, <TomoRotations.ux45min_on_2: 6>, <TomoRotations.ux180min_on_1: 15>, <TomoRotations.uy90min_on_2: 10>, <TomoRotations.ux180min_on_2: 16>, <TomoRotations.uy180min_on_2: 18>, <TomoRotations.ux180min_on_2: 16>; <TomoRotations.ux90min_on_1: 7>, <TomoRotations.uy90_on_2: 4>, <TomoRotations.uy180_on_1: 13>, <TomoRotations.ux90_on_2: 2>, <TomoRotations.ux90_on_1: 1>, <TomoRotations.ux45min_on_2: 6>, <TomoRotations.uy90_on_1: 3>, <TomoRotations.uy90min_on_2: 10>, <TomoRotations.ux90min_on_1: 7>, <TomoRotations.uy90_on_2: 4>, <TomoRotations.ux90min_on_1: 7>, <TomoRotations.ux45min_on_2: 6>, <TomoRotations.uy90min_on_1: 9>, <TomoRotations.ux90min_on_2: 8>, <TomoRotations.uy90min_on_2: 10>, <TomoRotations.none: 0>, <TomoRotations.uy90_on_1: 3>, <TomoRotations.uy90_on_2: 4>, <TomoRotations.ux90_on_1: 1>, <TomoRotations.ux90_on_2: 2>, <TomoRotations.ux90_on_1: 1>, <TomoRotations.ux45min_on_2: 6>, <TomoRotations.uy90_on_1: 3>, <TomoRotations.uy90min_on_2: 10>, <TomoRotations.ux90min_on_1: 7>, <TomoRotations.uy90_on_2: 4>, <TomoRotations.ux90min_on_1: 7>, <TomoRotations.ux45min_on_2: 6>, <TomoRotations.uy180_on_1: 13>, <TomoRotations.ux90min_on_2: 8>, <TomoRotations.uy180_on_1: 13>, <TomoRotations.uy90min_on_2: 10>, <TomoRotations.uy180min_on_2: 18>, <TomoRotations.ux180min_on_2: 16>; <TomoRotations.uy90_on_1: 3>, <TomoRotations.ux90min_on_2: 8>, <TomoRotations.ux90_on_1: 1>, <TomoRotations.uy180_on_2: 14>, <TomoRotations.uy90_on_1: 3>, <TomoRotations.ux45min_on_2: 6>, <TomoRotations.ux90min_on_1: 7>, <TomoRotations.uy90min_on_2: 10>, <TomoRotations.ux90min_on_1: 7>, <TomoRotations.uy90_on_2: 4>, <TomoRotations.uy90min_on_1: 9>, <TomoRotations.ux45min_on_2: 6>, <TomoRotations.none: 0>, <TomoRotations.uy90_on_1: 3>, <TomoRotations.ux45min_on_2: 6>, <TomoRotations.ux90_on_1: 1>, <TomoRotations.uy90min_on_2: 10>, <TomoRotations.ux90_on_1: 1>, <TomoRotations.uy90_on_2: 4>, <TomoRotations.uy90_on_1: 3>, <TomoRotations.ux45min_on_2: 6>, <TomoRotations.ux90min_on_1: 7>, <TomoRotations.ux90min_on_2: 8>, <TomoRotations.uy90min_on_1: 9>, <TomoRotations.uy180_on_2: 14>, <TomoRotations.ux180min_on_1: 15>, <TomoRotations.ux180min_on_2: 16>; <TomoRotations.ux90_on_1: 1>, <TomoRotations.uy90min_on_2: 10>, <TomoRotations.uy90_on_1: 3>, <TomoRotations.ux90_on_2: 2>, <TomoRotations.ux90min_on_1: 7>, <TomoRotations.ux45min_on_2: 6>, <TomoRotations.ux90_on_1: 1>, <TomoRotations.uy90min_on_2: 10>, <TomoRotations.uy90_on_1: 3>, <TomoRotations.uy90_on_2: 4>, <TomoRotations.ux90min_on_1: 7>, <TomoRotations.ux45min_on_2: 6>, <TomoRotations.ux90min_on_1: 7>, <TomoRotations.ux90min_on_2: 8>, <TomoRotations.uy90min_on_1: 9>, <TomoRotations.uy90min_on_2: 10>, <TomoRotations.none: 0>, <TomoRotations.uy90_on_1: 3>, <TomoRotations.uy90_on_2: 4>, <TomoRotations.ux90_on_1: 1>, <TomoRotations.ux90_on_2: 2>, <TomoRotations.ux90_on_1: 1>, <TomoRotations.ux45min_on_2: 6>, <TomoRotations.uy90_on_1: 3>, <TomoRotations.uy90min_on_2: 10>, <TomoRotations.ux90min_on_1: 7>, <TomoRotations.uy90_on_2: 4>, <TomoRotations.ux90min_on_1: 7>, <TomoRotations.ux45min_on_2: 6>, <TomoRotations.uy90_on_1: 3>, <TomoRotations.ux90min_on_2: 8>, <TomoRotations.ux90_on_1: 1>, <TomoRotations.uy90_on_2: 4>, <TomoRotations.uy180min_on_1: 17>, <TomoRotations.uy180min_on_2: 18>, <TomoRotations.ux180min_on_1: 15>, <TomoRotations.ux180min_on_2: 16>; <TomoRotations.ux90_on_1: 1>, <TomoRotations.uy180min_on_2: 18>, <TomoRotations.uy90_on_1: 3>, <TomoRotations.ux180min_on_2: 16>, <TomoRotations.ux90_on_1: 1>, <TomoRotations.ux45min_on_2: 6>, <TomoRotations.uy90_on_1: 3>, <TomoRotations.uy90min_on_2: 10>, <TomoRotations.ux90min_on_1: 7>, <TomoRotations.uy90_on_2: 4>, <TomoRotations.ux45min_on_2: 6>, <TomoRotations.uy90_on_2: 4>, <TomoRotations.ux90_on_2: 2>, <TomoRotations.none: 0>, <TomoRotations.ux90_on_1: 1>, <TomoRotations.ux90min_on_2: 8>, <TomoRotations.uy90_on_1: 3>, <TomoRotations.uy90min_on_2: 10>, <TomoRotations.ux90min_on_1: 7>, <TomoRotations.ux45min_on_2: 6>, <TomoRotations.uy90min_on_1: 9>, <TomoRotations.uy90min_on_2: 10>, <TomoRotations.ux90min_on_1: 7>, <TomoRotations.uy90_on_2: 4>, <TomoRotations.ux180min_on_1: 15>, <TomoRotations.ux45min_on_2: 6>, <TomoRotations.uy180min_on_2: 18>, <TomoRotations.ux180min_on_2: 16>, <TomoRotations.ux180min_on_2: 16>; <TomoRotations.ux90min_on_1: 7>, <TomoRotations.ux45min_on_2: 6>, <TomoRotations.uy180_on_1: 13>, <TomoRotations.uy90min_on_2: 10>, <TomoRotations.ux90_on_1: 1>, <TomoRotations.uy90_on_2: 4>, <TomoRotations.uy90_on_1: 3>, <TomoRotations.ux45min_on_2: 6>, <TomoRotations.ux90min_on_1: 7>, <TomoRotations.ux90min_on_2: 8>, <TomoRotations.ux90min_on_1: 7>, <TomoRotations.uy90min_on_2: 10>, <TomoRotations.uy90min_on_1: 9>, <TomoRotations.none: 0>, <TomoRotations.uy90_on_1: 3>, <TomoRotations.uy90_on_2: 4>, <TomoRotations.ux90_on_1: 1>, <TomoRotations.ux90_on_2: 2>, <TomoRotations.ux90_on_1: 1>, <TomoRotations.ux45min_on_2: 6>, <TomoRotations.uy90_on_1: 3>, <TomoRotations.uy90min_on_2: 10>, <TomoRotations.ux90min_on_1: 7>, <TomoRotations.uy90_on_2: 4>, <TomoRotations.ux90min_on_1: 7>, <TomoRotations.ux45min_on_2: 6>, <TomoRotations.uy180_on_1: 13>, <TomoRotations.ux180min_on_2: 16>, <TomoRotations.uy180_on_1: 13>; <TomoRotations.uy90_on_1: 3>, <TomoRotations.ux90_on_2: 2>, <TomoRotations.ux90_on_1: 1>, <TomoRotations.uy90_on_2: 4>, <TomoRotations.ux90_on_1: 1>, <TomoRotations.ux90min_on_2: 8>, <TomoRotations.uy90_on_1: 3>, <TomoRotations.ux45min_on_2: 6>, <TomoRotations.ux90min_on_1: 7>, <TomoRotations.uy90min_on_2: 10>, <TomoRotations.uy90_on_1: 3>, <TomoRotations.uy90_on_2: 4>, <TomoRotations.ux90_on_1: 1>, <TomoRotations.ux45min_on_2: 6>, <TomoRotations.none: 0>, <TomoRotations.ux90min_on_1: 7>, <TomoRotations.ux45min_on_2: 6>, <TomoRotations.uy90min_on_1: 9>, <TomoRotations.uy90min_on_2: 10>, <TomoRotations.ux90_on_1: 1>, <TomoRotations.uy90_on_2: 4>, <TomoRotations.uy90_on_1: 3>, <TomoRotations.ux45min_on_2: 6>, <TomoRotations.ux90min_on_1: 7>, <TomoRotations.ux90min_on_2: 8>, <TomoRotations.ux90min_on_1: 7>, <TomoRotations.uy90_on_2: 4>, <TomoRotations.uy90min_on_1: 9>, <TomoRotations.ux90_on_2: 2>, <TomoRotations.uy180_on_1: 13>, <TomoRotations.uy180_on_2: 14>; <TomoRotations.ux90min_on_1: 7>, <TomoRotations.ux90min_on_2: 8>, <TomoRotations.uy90_on_1: 3>, <TomoRotations.uy90_on_2: 4>, <TomoRotations.ux90_on_1: 1>, <TomoRotations.ux45min_on_2: 6>, <TomoRotations.uy90_on_1: 3>, <TomoRotations.uy90min_on_2: 10>, <TomoRotations.ux90min_on_1: 7>, <TomoRotations.uy90_on_2: 4>, <TomoRotations.ux90min_on_1: 7>, <TomoRotations.ux45min_on_2: 6>, <TomoRotations.uy90min_on_1: 9>, <TomoRotations.uy90_on_2: 4>, <TomoRotations.ux90_on_2: 2>, <TomoRotations.none: 0>, <TomoRotations.uy90_on_1: 3>, <TomoRotations.ux90min_on_2: 8>, <TomoRotations.ux90_on_1: 1>, <TomoRotations.uy90min_on_2: 10>, <TomoRotations.ux90_on_1: 1>, <TomoRotations.ux45min_on_2: 6>, <TomoRotations.uy90_on_1: 3>, <TomoRotations.uy90min_on_2: 10>, <TomoRotations.ux90min_on_1: 7>, <TomoRotations.uy90_on_2: 4>, <TomoRotations.uy90min_on_1: 9>, <TomoRotations.ux45min_on_2: 6>, <TomoRotations.ux90_on_1: 1>, <TomoRotations.uy90min_on_2: 10>, <TomoRotations.ux180min_on_1: 15>, <TomoRotations.ux90_on_2: 2>, <TomoRotations.uy180_on_2: 14>'), ('xticks', '0, 1, 1, 1, 1, 1, 1, 1, 1'), ('init_state_kwargs', {}), ('cnot_kwargs', {'tau_dd_fix': 8e-07}), ('tau_cnot', -2.12e-07), ('dd_type_cnot', <DDMethods.XY8: [0.0, 90.0, 0.0, 90.0, 90.0, 0.0, 90.0, 0.0]>), ('dd_order', 1), ('alternating', True), ('f_mw_2', '2932200000.0'), ('rabi_period_mw_2', '1.253e-07'), ('ampl_mw_2', '0.117975'), ('mirror_1q_pulses', False), ('measurement_time', None), ('optimize_time', 3600), ('freq_optimize_time', None), ('fit_experiment', 'decay_exp'), ('pulse_envelope', PulseEnvelopeType(sin_n))), ('listfile', False), ('post_select', True), ('fci_fix_t_mw', 5.7156e-05), ('ampl_idle_mult', 0), ('optimize_func_toggle_pause', <function toggle_pg at 0x00000036C7E2E2F0>), ('comp_type', PulseCompositeType(mw_ddxdd))), ('env_type', PulseEnvelopeType(sin_n))), ('gated', True), ('sequence_mode', False), ('ctr_single_sweeps', False), ('ctr_n_sweeps', 0), ('ctr_n_cycles', 18), ('analysis_interval', None), ('sampling_freq', 16250000000.0), ('bin_width', 4e-09), ('wait_time', 1e-06), ('laser_delay', 5e-07), ('laser_safety', 2e-07), ('laser_t_analysis', 3e-07), ('sync_channel', ''), ('gate_channel', 'a_ch2'), ('laser_channel', 'd_ch1'), ('laser_length', 3e-06), ('wait_length', 1e-06), ('trigger_length', 2e-08), ('delay_length', 4.7e-07), ('channel_amp', 1.0), ('microwave_channel', 'a_ch1'), ('optimize_channel', '/Dev1/PFI0'), ('readout_end', 3e-07), ('max_tau', 0.001), ('max_tau_start', 0.001), ('max_rabi_period', 0.001), ('min_microwave_frequency', 1), ('max_microwave_amplitude', 1), ('analog_trigger_voltage', 0.25), ('params', {'alternating': True, 'laser_ignore_list': [], 'controlled_variable': [0.0, 1.0, 1.0, 1.0, 1.0, 1.0, 1.0, 1.0, 1.0], 'units': ('', ''), 'labels': ('idx', 'Signal'), 'number_of_lasers': 18, 'counting_length': 3.5e-06})])"
      ]
     },
     "execution_count": 29,
     "metadata": {},
     "output_type": "execute_result"
    }
   ],
   "source": [
    "\n",
    "uglobals.abort.clear()\n",
    "\n",
    "ampls = np.linspace(0.5, 1.5, 10)\n",
    "\n",
    "\n",
    "fom_all =  []\n",
    "for idx, scale in enumerate(ampls):\n",
    "    if uglobals.abort.is_set():\n",
    "        break\n",
    "    try:\n",
    "        scale_ampl = [scale, 1]\n",
    "        qmeas =  cp.deepcopy(script_params['generate_parameters'])\n",
    "        qmeas['env_type'].parameters['scale_ampl'] = scale_ampl\n",
    "        \n",
    "        qmeas['measurement_time'] = script_params['runtime_per_epoch']\n",
    "        qmeas['measurement_time'] = 1*60\n",
    "        savetag = f\"oc_{qmeas['name']}_scale_ampl={scale_ampl}_idx={idx}\"\n",
    "        run_generic(qmeas, save_tag=savetag)\n",
    "        \n",
    "        fom_all.append(fom_func())\n",
    "        \n",
    "    except Exception as e:\n",
    "        stack_trace = traceback.format_exc()\n",
    "        logger.warning(\"auto run {} failed: {}.\\n{}\".format(i, str(e), stack_trace))\n",
    "\n",
    "qmeas['env_type'].parameters['scale_ampl'] = [1]\n",
    "\n",
    "        \n",
    "qmeas"
   ]
  },
  {
   "cell_type": "code",
   "execution_count": 452,
   "metadata": {
    "ExecuteTime": {
     "end_time": "2023-08-22T16:12:28.340035+02:00",
     "start_time": "2023-08-22T16:12:28.340035Z"
    }
   },
   "outputs": [
    {
     "data": {
      "text/plain": [
       "(array([0.9       , 0.91052632, 0.92105263, 0.93157895, 0.94210526,\n",
       "       0.95263158, 0.96315789, 0.97368421, 0.98421053, 0.99473684,\n",
       "       1.00526316, 1.01578947, 1.02631579, 1.03684211, 1.04736842,\n",
       "       1.05789474, 1.06842105, 1.07894737, 1.08947368, 1.1       ]), array([0.57897865, 0.61736066, 0.59097333, 0.57292758, 0.61673022,\n",
       "       0.57544958, 0.56931302, 0.59266605, 0.56972569, 0.59360858,\n",
       "       0.61208519, 0.55136519, 0.60676719, 0.58153348, 0.63184236,\n",
       "       0.60830784, 0.60411577, 0.59421819, 0.64781057, 0.60513447]))"
      ]
     },
     "execution_count": 452,
     "metadata": {},
     "output_type": "execute_result"
    }
   ],
   "source": [
    "ampls \n",
    "fom_all = np.asarray(fom_all)\n",
    "\n",
    "ampls, fom_all"
   ]
  },
  {
   "cell_type": "markdown",
   "metadata": {},
   "source": [
    "## Simulation only"
   ]
  },
  {
   "cell_type": "markdown",
   "metadata": {},
   "source": [
    "Setup a fom that simulates and quantifies pulse reponse. Currently,\n",
    "1. Simulate pi pulse/ 1 qubit, sigma_z\n",
    "2. Simualte pi pulse/ 1 qubit, process tomo\n",
    "3. (BUGGY) Simulate sequence of pi pulses / 1 qubit\n",
    "4. Simulate crosstalk / add penalty\n",
    "5. Simulate wolfram gate perforamnce\n",
    "\n",
    "Then use \"run simulation\" below to start optimization via qudi/quocs"
   ]
  },
  {
   "cell_type": "code",
   "execution_count": 833,
   "metadata": {},
   "outputs": [
    {
     "data": {
      "text/plain": [
       "(0, 2825300000.0, 2729300000.0, [2921300000.0, 2935600000.0])"
      ]
     },
     "execution_count": 833,
     "metadata": {},
     "output_type": "execute_result"
    }
   ],
   "source": [
    "script_params['readout_noise'] = 0#0.01*np.sqrt(2)\n",
    "\n",
    "script_params['fom_func_volt_2_rabi'] = lambda y: y/ampl_rect*(1e-6/t_rabi_rect)\n",
    "\n",
    "# sigma z\n",
    "fom_func = setup_fom_simulation_sigz(f_res)\n",
    "# process tomography\n",
    "fom_func = setup_fom_simulation_proctomo(f_res, delta_hfs=2.1e6)\n",
    "\n",
    "#fom_func = add_penalty_freq_bandstop(fom_func, f_res, f_block, fac_penalty=100, n_f_sim=75, \n",
    "#                                     symm_block=True, first_fom_req_pulse=True)\n",
    "\n",
    "fom_func = add_penalty_tomo_freq_bandstop(fom_func, f_res, f_block, fac_penalty=100, n_f_sim=25, \n",
    "                                     symm_block=True, first_fom_req_pulse=True, df=5e6) # True\n",
    "\n",
    "\n",
    "script_params['readout_noise'], f_res1, f_res2, f_block"
   ]
  },
  {
   "cell_type": "code",
   "execution_count": null,
   "metadata": {},
   "outputs": [],
   "source": [
    "# Mathematica sim\n",
    "# ATTENTION: file names must be correct. Loaded not from pulse object, but disk!\n",
    "f_res1 = f_res\n",
    "f_res2 = f_res - 96e6\n",
    "fom_func = setup_fom_simulation_mathematica(f_res1, f_res2, g_dip=70e3, deltas=[0],#, 2.1e6, -2.1e6],\n",
    "                                            dd_type=DDMethods.XY8, dd_order=2, omega_rabi_rect=16e6)\n",
    "\n",
    "\n",
    "\n",
    "script_params['fom_function'] = fom_func\n",
    "\n",
    "\n",
    "script_params['readout_noise'], f_res1, f_res2, f_block"
   ]
  },
  {
   "cell_type": "code",
   "execution_count": 337,
   "metadata": {},
   "outputs": [
    {
     "name": "stderr",
     "output_type": "stream",
     "text": [
      "Traceback (most recent call last):\n",
      "  File \"C:\\Users\\Setup3-PC\\Desktop\\qudi\\logic\\jupyterkernel\\qzmqkernel.py\", line 679, in run_code\n",
      "    exec(code_obj, self.user_global_ns, self.user_ns)\n",
      "  File \"<ipython-input-337-349c7ff61388>\", line 1, in <module>\n",
      "    sequence\n",
      "NameError: name 'sequence' is not defined\n"
     ]
    }
   ],
   "source": [
    "sequence"
   ]
  },
  {
   "cell_type": "markdown",
   "metadata": {},
   "source": [
    "### (Optional) Simulate whole sequence instead of pulse "
   ]
  },
  {
   "cell_type": "code",
   "execution_count": 67,
   "metadata": {},
   "outputs": [
    {
     "data": {
      "text/plain": [
       "<user_scripts.Timo.own.optimalcontrol.oc_simlib.ArbPulse object at 0x000000A15F04CB38>"
      ]
     },
     "execution_count": 67,
     "metadata": {},
     "output_type": "execute_result"
    }
   ],
   "source": [
    "sequence = -1\n",
    "sequence = _debug_pulse_2_seq(pulse, func_pulse_2_seq=exp_oc_nrep_from_pulse,\n",
    "                              t_gap=500e-9, n_rep=8, pi_x_initread=0.5, dd_type=DDMethods.XY8,\n",
    "                              #t_gap=1/2.1e6, n_rep=8, pi_x_initread=0.5, dd_type=DDMethods.XY8,\n",
    "                              symmetrize=True)\n",
    "sequence"
   ]
  },
  {
   "cell_type": "code",
   "execution_count": 398,
   "metadata": {},
   "outputs": [
    {
     "data": {
      "text/plain": [
       "array([ 0., 90.,  0., 90., 90.,  0., 90.,  0.])"
      ]
     },
     "execution_count": 398,
     "metadata": {},
     "output_type": "execute_result"
    }
   ],
   "source": [
    "DDMethods.XY8.phases"
   ]
  },
  {
   "cell_type": "code",
   "execution_count": 676,
   "metadata": {},
   "outputs": [
    {
     "data": {
      "image/png": "[encoded data removed]"
     },
     "metadata": {
      "image/png": {
       "height": 375,
       "width": 627
      }
     },
     "output_type": "display_data"
    }
   ],
   "source": [
    "# ATTENTION: the plot is only correct, if params for 'sequence' == params of 'fom_func'\n",
    "\n",
    "try:\n",
    "    sequence = exp_oc_nrep_from_pulse(pulse, t_gap=500e-9, n_rep=1*8, pi_x_initread=0.5,\n",
    "                                      #pulse, t_gap=1/2.1e6, n_rep=1*8, pi_x_initread=0.5,\n",
    "                                      symmetrize=True, dd_type=DDMethods.XY8)\n",
    "\n",
    "    t_amplitude = sequence.get_timegrid(unit='us')\n",
    "    amplitude = sequence.get_data_ampl(unit='V')\n",
    "    t_phase = sequence.get_timegrid(unit='us')\n",
    "    phase = sequence.get_data_phase(unit='V')\n",
    "\n",
    "\n",
    "    plt.figure(figsize=(10,6))\n",
    "    plt.plot(t_amplitude, amplitude, label=\"Ampl (I)\")\n",
    "    plt.plot(t_phase, phase, label=\"Phase (Q)\")\n",
    "   # plt.plot(t_phase, phase+amplitude, label=\"I+Q\")\n",
    "    plt.ylabel(\"Rabi freq (V)\")\n",
    "    plt.xlabel(\"time (us)\")\n",
    "    plt.legend(loc='best', prop={'size': 20})\n",
    "    plt.show()\n",
    "except:\n",
    "    logger.exception(\"\")\n",
    "    \n",
    "    \n",
    "fom_func = setup_fom_simulation_sigz(f_res, func_pulse_2_seq=exp_oc_nrep_from_pulse, \n",
    "                                     #scan_kwarg_key='n_rep', scan_list=[1,2,3,4], scan_fom_target=[1,1,0,0],\n",
    "                                      scan_kwarg_key='n_rep', scan_list=[1,2,3,4,5,6,7,8],\n",
    "                                     scan_fom_target=[1,1,0,0,0,1,1,0],\n",
    "                                     t_gap=1/2.1e6, n_rep=2, pi_x_initread=0.5, \n",
    "                                     symmetrize=True, dd_type=DDMethods.XY8)\n",
    "#fom_func = setup_fom_simulation_sigz(f_res, func_pulse_2_seq=exp_oc_nrep_from_pulse,\n",
    "#                                     t_gap=1/2.1e6, n_rep=8, pi_x_initread=0.5, dd_type=DDMethods.XY8,\n",
    "#                                     symmetrize=True)\n",
    "\n",
    "fom_func = add_penalty_freq_bandstop(fom_func, f_res, f_block, fac_penalty=10, n_f_sim=25, \n",
    "                                     symm_block=True, first_fom_req_pulse=True)\n",
    "\n",
    "script_params['fom_function'] = fom_func\n"
   ]
  },
  {
   "cell_type": "code",
   "execution_count": 494,
   "metadata": {},
   "outputs": [
    {
     "data": {
      "text/plain": [
       "(709044, 1.01e-07)"
      ]
     },
     "execution_count": 494,
     "metadata": {},
     "output_type": "execute_result"
    }
   ],
   "source": [
    "len(t_amplitude), t_oc_pulse"
   ]
  },
  {
   "cell_type": "code",
   "execution_count": 131,
   "metadata": {},
   "outputs": [
    {
     "data": {
      "text/plain": [
       "(52.015604681404426, 52.015604681404426)"
      ]
     },
     "execution_count": 131,
     "metadata": {},
     "output_type": "execute_result"
    }
   ],
   "source": [
    "script_params['fom_func_volt_2_rabi'](1), pulse._func_ampl_v_2_omega_mhz(1)\n",
    "\n"
   ]
  },
  {
   "cell_type": "code",
   "execution_count": 143,
   "metadata": {},
   "outputs": [],
   "source": [
    "#fom_func(get_pulse_from_logic(get_best=False), func_volt_2_rabi=script_params['fom_func_volt_2_rabi'])\n",
    "fom_func(pulse, func_volt_2_rabi=script_params['fom_func_volt_2_rabi'])"
   ]
  },
  {
   "cell_type": "markdown",
   "metadata": {},
   "source": [
    "### Simulate first guess"
   ]
  },
  {
   "cell_type": "code",
   "execution_count": 178,
   "metadata": {},
   "outputs": [
    {
     "data": {
      "text/plain": [
       "<function <lambda> at 0x0000004C0E0CAD08>"
      ]
     },
     "execution_count": 178,
     "metadata": {},
     "output_type": "execute_result"
    }
   ],
   "source": [
    "script_params['fom_func_volt_2_rabi']"
   ]
  },
  {
   "cell_type": "code",
   "execution_count": 244,
   "metadata": {},
   "outputs": [
    {
     "data": {
      "text/plain": [
       "(0.04729710950028043, <function setup_fom_simulation_mathematica.<locals>.fom_func at 0x0000004C07D67048>)"
      ]
     },
     "execution_count": 244,
     "metadata": {},
     "output_type": "execute_result"
    }
   ],
   "source": [
    "fom_func = script_params['fom_function']\n",
    "\n",
    "fom = -1\n",
    "if script_params['fom_func_volt_2_rabi'] is None:\n",
    "    fom = fom_func()\n",
    "else:\n",
    "    #pulse = ArbPulse.load_pulse(folder_path, filename, unit_t='s', unit_data='V')\n",
    "    fom = fom_func(pulse, func_volt_2_rabi=script_params['fom_func_volt_2_rabi'])\n",
    "\n",
    "fom,  fom_func"
   ]
  },
  {
   "cell_type": "code",
   "execution_count": 254,
   "metadata": {},
   "outputs": [
    {
     "data": {
      "text/plain": [
       "{'sim_backend': 'CNOTTwoQubitsV6', 'shift_ratio': None, 'pi_pulse_params': ('optimal', 'optimal'), 'rho_init': array([[0, 0, 0, 0],\n",
       "       [0, 1, 0, 0],\n",
       "       [0, 0, 0, 0],\n",
       "       [0, 0, 0, 0]]), 'params_input': {'gRun': 0.439822971502571, 'crossTalkRun': 1, 'δ1Run': 0.0, 'δ2Run': 0.0, 'Ω1max': 100.53096491487338, 'Ω2max': 100.53096491487338, 'ω1Run': 17751.883448374487, 'ω2Run': 17148.697658885245}, 'exp_params': {'init_state': <TomoInit.ux180_on_2: 8>, 'rotation': <TomoRotations.c2not1: 6>}, 'wolfram_sim_params': {'g': 0.439822971502571, 'Subscript[ω, 1]': 17751.883448374487, 'Subscript[ω, 2]': 17148.697658885245, 'Δ': Times[-182, Pi], 'Subscript[δ, 1]': 0.0, 'Subscript[δ, 2]': 0.0, 'crossTalk': 1, 'pulseParamsP1': {'type': 'optimal', 'func_ampl_v_2_rabi_2piMHz': 502.6548245743669, 'fileAmpl': 'C:\\\\Software\\\\qudi_data\\\\optimal_control_assets\\\\on_nv=2_amplitude.txt', 'filePhase': 'C:\\\\Software\\\\qudi_data\\\\optimal_control_assets\\\\on_nv=2_phase.txt', 'fileTimestamp': '2022/09/26-08:35:03'}, 'pulseParamsP2': {'type': 'optimal', 'func_ampl_v_2_rabi_2piMHz': 502.6548245743669, 'fileAmpl': 'C:\\\\Software\\\\qudi_data\\\\optimal_control_assets\\\\on_nv=2_amplitude.txt', 'filePhase': 'C:\\\\Software\\\\qudi_data\\\\optimal_control_assets\\\\on_nv=2_phase.txt', 'fileTimestamp': '2022/09/26-08:35:03'}, 'havePi2P1': 1, 'havePi2P2': 0, 'τscanP1': 0.2857142857142857, 'τscanP2': 0.2857142857142857, 'τfreeP1': 0.1847142857142857, 'τfreeP2': 0.1847142857142857, 'TpiP1Run': 0.03125, 'TpiP2Run': 0.03125, 'τShiftRatioRunP1': 0, 'τShiftRatioRunP2': 0.109375, 'keepLastPiP1Fixed': 0, 'keepLastPiP2Fixed': 0, 'tXCnot': 1, 'crosstalk': 1}, 'dd_params': 'XY8-2'}"
      ]
     },
     "execution_count": 254,
     "metadata": {},
     "output_type": "execute_result"
    }
   ],
   "source": [
    "def print_pretty_qsim(qsim):\n",
    "    excl_keys = ['dd_params', '\\u03a91[t]','\\u03a91conj[t]', '\\u03a92[t]', '\\u03a92conj[t]',\n",
    "                'sim_finished', 'result']\n",
    "    new_dict = delete_keys_from_dict(qsim, excl_keys)\n",
    "    \n",
    "    new_dict['dd_params'] =  dd_2_str(qsim['dd_params'])\n",
    "    return new_dict\n",
    "\n",
    "print_pretty_qsim(script_params['wolf_sim_params_last'])"
   ]
  },
  {
   "cell_type": "code",
   "execution_count": 243,
   "metadata": {},
   "outputs": [
    {
     "data": {
      "text/plain": [
       "(\"script_params['fom_func_volt_2_rabi'] = lambda y: y/ampl_rect*(1e-6/t_rabi_rect)\\n\", <user_scripts.Timo.own.optimalcontrol.oc_simlib.ArbPulse object at 0x000000B7E92E1C88>)"
      ]
     },
     "execution_count": 243,
     "metadata": {},
     "output_type": "execute_result"
    }
   ],
   "source": [
    "\n",
    "lambda_2_str(script_params['fom_func_volt_2_rabi']), pulse\n"
   ]
  },
  {
   "cell_type": "markdown",
   "metadata": {},
   "source": [
    "### Mathematica sim"
   ]
  },
  {
   "cell_type": "code",
   "execution_count": 441,
   "metadata": {},
   "outputs": [
    {
     "data": {
      "text/plain": [
       "{'sim_backend': 'CNOTTwoQubitsV6', 'sim_finished': False, 'shift_ratio': None, 'dd_params': ((Times[Rational[1, 2], Pi], Times[Rational[1, 2], Pi]), 2, 0, Times[Rational[1, 2], Pi], 'CPMG', 1), 'pi_pulse_params': ('optimal', 'optimal'), 'rho_init': array([[0, 0, 0, 0],\n",
       "       [0, 0, 0, 0],\n",
       "       [0, 0, 1, 0],\n",
       "       [0, 0, 0, 0]]), 'params_input': {'gRun': 0.09424777960769379, 'δ1Run': 0, 'δ2Run': 0, 'crossTalkRun': 1, 'Ω1max': 125.66370614359172, 'Ω2max': 125.66370614359172, 'ω1Run': 17592.91886010284, 'ω2Run': 16964.600329384884}, 'exp_params': {'init_state': <TomoInit.ux180_on_1: 7>, 'rotation': <TomoRotations.c2not1: 6>}}"
      ]
     },
     "execution_count": 441,
     "metadata": {},
     "output_type": "execute_result"
    }
   ],
   "source": [
    "\n",
    "dd_order = 1\n",
    "dd_params = wolf.evaluate(wsim.loadSequenceCPMG(dd_order))\n",
    "#dd_params = wolf.evaluate(wsim.loadSequenceXY8(dd_order))\n",
    "pulse_params = setup_pi_pulse_params('optimal_both')\n",
    "#pulse_params = setup_pi_pulse_params()\n",
    "\n",
    "delta_f = 0#2*np.pi*0.2  # MHz rad\n",
    "omega_rabi = 2*np.pi*20 # MHz rad\n",
    "f_res1 = 2800 # MHz\n",
    "f_res2 = 2700 # MHz\n",
    "\n",
    "wsim_params = {'gRun':2*np.pi*0.015, '\\u03b41Run':delta_f, '\\u03b42Run':delta_f, 'crossTalkRun':1,\n",
    "              '\\u03a91max':omega_rabi, '\\u03a92max':omega_rabi,#\n",
    "               '\\u03c91Run':2*np.pi*f_res1, '\\u03c92Run':2*np.pi*f_res2,\n",
    "              }\n",
    "\n",
    "qsim = setup_sim_params(dd_params, pi_pulse_params=pulse_params,\n",
    "                        init=TomoInit.ux180_on_1, sim_params=wsim_params)\n",
    "\n",
    "qsim\n"
   ]
  },
  {
   "cell_type": "code",
   "execution_count": 214,
   "metadata": {},
   "outputs": [],
   "source": [
    "#rho = run_wsim(qsim)\n",
    "qsim"
   ]
  },
  {
   "cell_type": "code",
   "execution_count": 193,
   "metadata": {},
   "outputs": [
    {
     "data": {
      "text/plain": [
       "0.5883122995069907"
      ]
     },
     "execution_count": 193,
     "metadata": {},
     "output_type": "execute_result"
    }
   ],
   "source": [
    "\n",
    "rho_opt = get_opt_rho(qsim, True)\n",
    "fidelity, sph_err = state_fidelity(rho, rho_opt), calc_sph_error(rho, qsim)\n",
    "fidelity "
   ]
  },
  {
   "cell_type": "code",
   "execution_count": 297,
   "metadata": {},
   "outputs": [
    {
     "data": {
      "text/plain": [
       "True"
      ]
     },
     "execution_count": 297,
     "metadata": {},
     "output_type": "execute_result"
    }
   ],
   "source": [
    "func_ampl_v_2_2pimhz = qsim['wolfram_sim_params']['pulseParamsP1']['func_ampl_v_2_rabi_2piMHz']\n",
    "script_params['fom_func_volt_2_rabi'](1)*2*np.pi == func_ampl_v_2_2pimhz\n"
   ]
  },
  {
   "cell_type": "markdown",
   "metadata": {},
   "source": [
    "### Run Sim Optimization"
   ]
  },
  {
   "cell_type": "code",
   "execution_count": 201,
   "metadata": {},
   "outputs": [],
   "source": [
    "#f_res = script_params['pulsed_generation_params']['microwave_frequency']\n",
    "try:\n",
    "    script_params['fom_func_volt_2_rabi'] = lambda y: y/ampl_rect*(1e-6/t_rabi_rect)\n",
    "\n",
    "\n",
    "\n",
    "    ######################################################################################################\n",
    "    # Parameters and Settings\n",
    "    ######################################################################################################\n",
    "\n",
    "    # runtime of each experiment\n",
    "    runtime = script_params['runtime_per_epoch']\n",
    "    length_oc = script_params['length_oc'] \n",
    "\n",
    "    # parameter to stop the experiment if its set to False in the console\n",
    "    pulsedmasterlogic.globalrun = True\n",
    "    uglobals.abort.clear()\n",
    "    logger.info(\"Starting new closed-loop quocs optimization\")\n",
    "\n",
    "\n",
    "    # array to save the fom evolution\n",
    "    fom_all = []\n",
    "\n",
    "    # This section is devoted to the initialization in the pulsed logic and optimization logic of the main\n",
    "    # settings and parameters to be usde in the creation ofthe pulse sequence and the optimization\n",
    "    # Iteration, controls and figure of merit to compare with QuOCS\n",
    "    # Just an example for debug\n",
    "    args_dict = {\"is_noisy\": script_params['is_noisy']}\n",
    "    qubit = OneQubit2Fields(args_dict)\n",
    "\n",
    "    ######################################################################################################\n",
    "    # Measurement\n",
    "    ######################################################################################################\n",
    "    optimalcontrol.start_optimization()\n",
    "\n",
    "    # crucial, maybe it can be much shorter\n",
    "    time.sleep(1)\n",
    "\n",
    "    # Just a time to check for latent time\n",
    "    last_time_fom = time.time()\n",
    "    # repeat the whole process until its manually stopped or QuOCS finsihed the optimization\n",
    "    # Wait few seconds before starting to get and return data\n",
    "    while not optimizationlogic.handle_exit_obj.is_user_running:\n",
    "        time.sleep(0.1)\n",
    "        if (time.time() - last_time_fom) > 30 or uglobals.abort.is_set():\n",
    "            logger.warning(\"Timeout or abort while initializing quocs.\")\n",
    "            uglobals.abort.set()\n",
    "            break\n",
    "\n",
    "    # iteration number\n",
    "    it_val = 0\n",
    "\n",
    "    # when did the optimization start?\n",
    "    opt_start_time = time.time()\n",
    "    try:\n",
    "        # print(\"Check before the loop starts: {0}\".format(optimizationlogic.handle_exit_obj.is_user_running))\n",
    "        while optimizationlogic.handle_exit_obj.is_user_running == True and not uglobals.abort.is_set():\n",
    "            time_stamp=time.time()\n",
    "            # wait until QuOCS optimizes the controls\n",
    "            # print(\"Wait until the controls logic gives the controls\")\n",
    "            while not controlslogic.are_pulses_calculated:\n",
    "                qWait(100)\n",
    "                # If the waiting time exceed 10 seconds left stop the optimization\n",
    "                if time.time() - last_time_fom > 20:\n",
    "                    logger.error(\"Too much time... Exit!\")\n",
    "                    optimizationlogic.handle_exit_obj.is_user_running = False\n",
    "                    break\n",
    "\n",
    "\n",
    "            #######################################################################################################\n",
    "            # Get the Controls\n",
    "            #######################################################################################################\n",
    "            # Change the status of control calculations to avoid to evaluate the fom twice with the same controls\n",
    "            controlslogic.are_pulses_calculated = False\n",
    "            # Get the controls from the controls logic\n",
    "            pulse = get_pulse_from_logic(get_best=False)\n",
    "            t_amplitude = pulse.get_timegrid(unit='s')\n",
    "            t_phase = pulse.get_timegrid(unit='s')\n",
    "            amplitude = pulse.get_data_ampl(unit='V')\n",
    "            phase = pulse.get_data_phase(unit='V')\n",
    "            #######################################################################################################\n",
    "            # Perform the measurement\n",
    "            #######################################################################################################\n",
    "\n",
    "            # save the pulses as .txt files (predefined methods doesn't allow us to upload a numpy array as \n",
    "            # parameter)\n",
    "            data_ampl = np.column_stack((t_amplitude, amplitude))\n",
    "            data_phase = np.column_stack((t_phase, phase))\n",
    "            save_pulse(folder_path, data_ampl, data_phase, name=filename)\n",
    "            save_pulse(folder_path + '/tmp_pulses', data_ampl, data_phase, name=filename + f\"idx={it_val}_\")\n",
    "\n",
    "            qWait(1500)\n",
    "\n",
    "\n",
    "            measurement_start_time = time.time()\n",
    "\n",
    "            # option to stop the measurement\n",
    "            if pulsedmasterlogic.globalrun == False or uglobals.abort.is_set():\n",
    "                print('Stopping the measurement!')\n",
    "                break\n",
    "\n",
    "\n",
    "            #######################################################################################################\n",
    "            # Analysis\n",
    "            ######################################################################################################\n",
    "\n",
    "            fom_func = script_params['fom_function']\n",
    "            if script_params['fom_func_volt_2_rabi'] is None:\n",
    "                fom = fom_func()\n",
    "            else:\n",
    "                pulse = ArbPulse.load_pulse(folder_path, filename, unit_t='s', unit_data='V')\n",
    "                fom = fom_func(pulse, func_volt_2_rabi=script_params['fom_func_volt_2_rabi'])\n",
    "\n",
    "            fom += np.random.normal(0, script_params['readout_noise'])\n",
    "            fom = abs(fom)\n",
    "\n",
    "            fom_all.append(fom)\n",
    "\n",
    "            # Update the figure of merit and the standard deviation to the fom logic\n",
    "            fomlogic.update_fom(fom, script_params['readout_noise'], status_code=0)   # todo: define above\n",
    "            #fomlogic.update_fom(fom, std, status_code=0)\n",
    "\n",
    "            # update the last time the fom is calculated\n",
    "            last_time_fom = time.time()\n",
    "            \n",
    "            # for safety: continously safe best result\n",
    "            try:\n",
    "                save_optimization_result(folder_path)\n",
    "            except:\n",
    "                logger.exception(\"\")\n",
    "\n",
    "            qWait(200)\n",
    "\n",
    "        # when did the optimization stop?\n",
    "        opt_end_time = time.time()\n",
    "\n",
    "        print('It took QuOCS ' + str(opt_end_time-opt_start_time) + ' s to optimize the pulse!')\n",
    "    except:\n",
    "        logger.exception(\"\")\n",
    "    finally:\n",
    "        # give a very high fom to the optimization algorithm\n",
    "        # and status code -1, to interrupt the optimization smoothly\n",
    "        uglobals.abort.set()\n",
    "        optimizationlogic.handle_exit_obj.is_user_running = False\n",
    "        logger.info('Stopping the optimization!')\n",
    "        fomlogic.update_fom(10**10, status_code=-1)\n",
    "\n",
    "    print(\"Optimization finished\")\n",
    "except:\n",
    "    logger.exception(\"\")"
   ]
  },
  {
   "cell_type": "code",
   "execution_count": 3,
   "metadata": {},
   "outputs": [
    {
     "data": {
      "text/plain": [
       "0"
      ]
     },
     "execution_count": 3,
     "metadata": {},
     "output_type": "execute_result"
    }
   ],
   "source": [
    "0"
   ]
  },
  {
   "cell_type": "markdown",
   "metadata": {},
   "source": [
    "# Simulate pulse response"
   ]
  },
  {
   "cell_type": "markdown",
   "metadata": {},
   "source": [
    "Shaddowed from oc_pulse_analysis"
   ]
  },
  {
   "cell_type": "code",
   "execution_count": 59,
   "metadata": {},
   "outputs": [
    {
     "data": {
      "text/plain": [
       "100"
      ]
     },
     "execution_count": 59,
     "metadata": {},
     "output_type": "execute_result"
    }
   ],
   "source": [
    "import qutip\n",
    "def get_f_limits(f_res, f_centers_block, df=10e6, symm_block=False):\n",
    "    f_centers_block_mhz = 1e-6 * np.asarray(f_centers_block).flatten()\n",
    "    f_res_mhz = f_res*1e-6\n",
    "    df_mhz = df*1e-6\n",
    "    freqs = []\n",
    "    if symm_block:\n",
    "        deltas = []\n",
    "        for f_mhz in f_centers_block_mhz:\n",
    "            deltas.append(abs(f_mhz - f_res_mhz))\n",
    "        \n",
    "        f_centers = []\n",
    "        for d_mhz in deltas:\n",
    "            f_center_2_mhz_min = f_res_mhz - d_mhz\n",
    "            f_center_2_mhz_plus = f_res_mhz + d_mhz\n",
    "            f_centers.append(f_center_2_mhz_min)\n",
    "            f_centers.append(f_center_2_mhz_plus)\n",
    "    else:\n",
    "        f_centers = f_centers_block_mhz\n",
    "\n",
    "    for f in f_centers:\n",
    "        freqs.append([1e6*(f-df_mhz), 1e6*(f+df_mhz)])\n",
    "    return freqs\n",
    "\n",
    "    \n",
    "def calc_crosstalk_penalty(freqs, spin_pop, f_res, f_center_block, df, symm_block=False, fac_penalty=1):\n",
    "\n",
    "    \n",
    "    idxs = np.empty((0), dtype=int)\n",
    "    for (f_min, f_max) in get_f_limits(f_res, f_center_block, df, symm_block=symm_block):      \n",
    "        idxs = np.append(idxs, np.where(np.logical_and(freqs >= f_min, freqs <= f_max)))\n",
    "    \n",
    "    #return idxs\n",
    "    spin_pop = np.mean(spin_pop[idxs])\n",
    "    \n",
    "    # as in optimalcontrol_quocs.ipynb\n",
    "    fom_sim = (1 + fac_penalty*(abs(1-spin_pop)))\n",
    "    \n",
    "    return fom_sim\n",
    "\n",
    "\n",
    "def run_sim(pulse, B_gauss, sim_params, delta_f=0e6, nv_init_ux=None, nv_read_ux=None,\n",
    "                  n_timebins=None, t_idle_extension=-1e-9):\n",
    "    \n",
    "    sim = TimeDependentSimulation()\n",
    "\n",
    "    return sim.run_sim(pulse, B_gauss, sim_params, delta_f, nv_init_ux, nv_read_ux,\n",
    "                  n_timebins, t_idle_extension)\n",
    "    \n",
    "def run_sim_OLD(self, pulse, B_gauss, sim_params, delta_f=0e6, nv_init_ux=None, nv_read_ux=None,\n",
    "                  n_timebins=None, t_idle_extension=-1e-9):\n",
    "    # for compability reason, accept pulse as dict or ArbPulse object\n",
    "    # if supplying a dict, you are responsible for correct units!\n",
    "    if type(pulse) == ArbPulse:\n",
    "        pulse.set_unit_time('us')\n",
    "        pulse.set_unit_data('MHz')\n",
    "        pulse = pulse.as_dict()\n",
    "    \n",
    "    if n_timebins is None:\n",
    "        n_timebins = len(pulse['timegrid_ampl'])\n",
    "    \n",
    "    B = B_gauss\n",
    "    simp = sim_params\n",
    "    oc_length = pulse['timegrid_ampl'][-1] + t_idle_extension*1e6\n",
    "    delta_f_mhz = delta_f*1e-6\n",
    "    \n",
    "    t = np.linspace(0, oc_length, n_timebins)\n",
    "     \n",
    "    #logger.info(f\"solver steps: {int(1e8*oc_length/0.1)}\")\n",
    "        \n",
    "    options=qutip.Options(atol=1e-15, rtol=1e-15, nsteps=int(1e8), store_final_state=True)\n",
    "\n",
    "    init_state = simp.rho_ms0\n",
    "    if nv_init_ux is not None:\n",
    "        u = np.asarray(nv_init_ux)\n",
    "        init_state = np.matmul(np.matmul(u,init_state),u.conj().T)\n",
    "        init_state = qutip.Qobj(init_state, dims=sim_params.dims)\n",
    "    \n",
    "    freq = simp.D - simp.gamma_nv * B \n",
    "    \n",
    "    # perform the measurement\n",
    "    oc_el = TimeDependentSimulation.oc_element(t, pulse['timegrid_ampl'], pulse['data_ampl'], pulse['data_phase'],\n",
    "                                               freq+delta_f_mhz, B, 1, simp)\n",
    "    #return oc_el\n",
    "    results_measurement = qutip.mesolve(oc_el, init_state, t, [], [simp.P_nv],\n",
    "                                            options=options, progress_bar=None)\n",
    "    \n",
    "    rho_final = results_measurement.final_state\n",
    "    if nv_read_ux is not None:\n",
    "        u = np.asarray(nv_read_ux)\n",
    "        rho_final = np.matmul(np.matmul(u,rho_final),u.conj().T)\n",
    "        rho_final = qutip.Qobj(rho_final, dims=sim_params.dims)\n",
    "    \n",
    "    return rho_final\n",
    "\n",
    "def run_sim_mult_nv(self, pulses, B_gauss, sim_params, delta_f=0e6, nv_init_ux=None, nv_read_ux=None,\n",
    "                  n_timebins=None, t_idle_extension=-1e-9):\n",
    "    raise NotImplemetend #cant calculate crosstalk this way!\n",
    "    if not (len(B_gauss) == len(pulses)):\n",
    "        raise ValueError\n",
    "    \n",
    "    rhos_res, rhos_ct = [],[]\n",
    "    rhos_per_nv = []\n",
    "    for j, B in enumerate(B_gauss):\n",
    "        rhos = []\n",
    "        for i, pulse in enumerate(pulses):\n",
    "            if i==j:\n",
    "                # resonant\n",
    "                rho = run_sim(self, pulse, B, sim_params, delta_f=delta_f, nv_init_ux=nv_init_ux, nv_read_ux=nv_read_ux,\n",
    "                              n_timebins=n_timebins, t_idle_extension=t_idle_extension)\n",
    "                rhos.append(rho)\n",
    "                rhos_res.append(rho)\n",
    "            else:\n",
    "                # crosstalk\n",
    "                B_res = B_gauss[j]\n",
    "                B_crosstalk = B - B_res\n",
    "                delta_f_i = delta_f + simp.gamma_nv*B_crosstalk\n",
    "                rho =run_sim(self, pulse, B_res, sim_params, delta_f=delta_f_i, nv_init_ux=nv_init_ux, nv_read_ux=nv_read_ux,\n",
    "                          n_timebins=n_timebins, t_idle_extension=t_idle_extension)\n",
    "                rhos.append(rho)\n",
    "                rhos_ct.append(rho)\n",
    "                \n",
    "        # sum over rho_res + rho_cross\n",
    "        rhos_per_nv.append(sum(rhos))\n",
    "    \n",
    "    return rhos, rhos_res, rhos_ct\n",
    "\n",
    "\n",
    "def sim_process_tomo(pulse, B, delta_f=0e6):\n",
    "    \n",
    "    is_multi_pulse = isinstance(pulse, list)\n",
    "    \n",
    "    rhos = []\n",
    "    # convention in calc_chi: [1, pix, pi2x, pi2y]\n",
    "    us_init = [None, 2*simp.S_x, scipy.linalg.sqrtm(2*simp.S_x) , scipy.linalg.sqrtm(2*simp.S_y)]\n",
    "\n",
    "    for u_x in us_init:\n",
    "        if is_multi_pulse:\n",
    "            rho = sim.run_sim_multi(pulse, B, simp, delta_f=delta_f, nv_init_ux=u_x, nv_read_ux=None)\n",
    "        else:\n",
    "            rho = sim.run_sim(pulse, B, simp, delta_f=delta_f, nv_init_ux=u_x, nv_read_ux=None)\n",
    "        rho_nv = partial_trace(rho, sub=0, dims=simp.dims)\n",
    "        rho_nv = swap_basis_def(rho_nv)  # basis definition in Philip V. code is different\n",
    "\n",
    "        rhos.append(rho_nv)\n",
    "\n",
    "    chi_tomo = calc_chi(rhos[0], rhos[1], rhos[2], rhos[3])\n",
    "    chi_tomo = swap_basis_def(chi_tomo)\n",
    "    \n",
    "    return chi_tomo\n",
    "\n",
    "def sim_process_tomo_avg_hfs(pulse, B, delta_hfs=2.1e6):\n",
    "    res_chi = []\n",
    "    for delta in [0,-delta_hfs,+delta_hfs]:\n",
    "        res_chi.append(sim_process_tomo(pulse, B, delta_f=delta))\n",
    "    sim_process_tomo\n",
    "    return sum(res_chi)/3\n",
    "\n",
    "def sim_process_tomo_avg(pulse, B, deltas=[0e6]):\n",
    "    res_chi = []\n",
    "    for delta in deltas:\n",
    "        res_chi.append(sim_process_tomo(pulse, B, delta_f=delta))\n",
    "    \n",
    "    return sum(res_chi)/len(res_chi)\n",
    "\n",
    "def partial_trace(rho, sub=0, dims=None):\n",
    "    if dims is None:\n",
    "        dims = [[2,2],[2,2]]\n",
    "    return np.asarray(qutip.Qobj(rho, dims=dims).ptrace(sub))    \n",
    "\n",
    "def swap_basis_def(rho):\n",
    "    # Genkos state definition is different!\n",
    "    return np.rot90(rho,2).T\n",
    "    \n",
    "\n",
    "B = 100\n",
    "simp = SimParameters() \n",
    "sim = TimeDependentSimulation()\n",
    "B"
   ]
  },
  {
   "cell_type": "code",
   "execution_count": 28,
   "metadata": {},
   "outputs": [
    {
     "name": "stderr",
     "output_type": "stream",
     "text": [
      "Traceback (most recent call last):\n",
      "  File \"C:\\Users\\Setup3-PC\\Desktop\\qudi\\logic\\jupyterkernel\\qzmqkernel.py\", line 679, in run_code\n",
      "    exec(code_obj, self.user_global_ns, self.user_ns)\n",
      "  File \"<ipython-input-28-0625ca131436>\", line 1, in <module>\n",
      "    partial_trace(rho_nv[1], sub=0, dims=simp.dims)\n",
      "NameError: name 'rho_nv' is not defined\n"
     ]
    }
   ],
   "source": [
    "partial_trace(rho_nv[1], sub=0, dims=simp.dims)"
   ]
  },
  {
   "cell_type": "code",
   "execution_count": 431,
   "metadata": {},
   "outputs": [
    {
     "data": {
      "text/plain": [
       "<staticmethod object at 0x0000000CF7F34978>"
      ]
     },
     "execution_count": 431,
     "metadata": {},
     "output_type": "execute_result"
    }
   ],
   "source": [
    "\n",
    "\n",
    "#sim = TimeDependentSimulation()\n",
    "#sim.run_sim_multi = run_sim_multi\n",
    "#sim.oc_element_multi_pulse = oc_element_multi_pulse\n",
    "#sim.oc_element_multi_pulse\n",
    "#TimeDependentSimulation.oc_element_multi_pulse = oc_element_multi_pulse\n",
    "#oc_element_multi_pulse"
   ]
  },
  {
   "cell_type": "code",
   "execution_count": 147,
   "metadata": {},
   "outputs": [
    {
     "data": {
      "text/plain": [
       "2500"
      ]
     },
     "execution_count": 147,
     "metadata": {},
     "output_type": "execute_result"
    }
   ],
   "source": [
    "len(pulse.timegrid)"
   ]
  },
  {
   "cell_type": "code",
   "execution_count": 379,
   "metadata": {},
   "outputs": [
    {
     "data": {
      "text/plain": [
       "array([[0.00741748+0.j        , 0.05949306+0.03622606j],\n",
       "       [0.05949306-0.03622606j, 0.99258252+0.j        ]])"
      ]
     },
     "execution_count": 379,
     "metadata": {},
     "output_type": "execute_result"
    }
   ],
   "source": [
    "rho = -1\n",
    "try:\n",
    "    rho = sim.run_sim_multi([pulse, pulse2], [ 91.44, 62.17], simp,# scale_ampl=[1,1/1.747],\n",
    "                            delta_f=0, \n",
    "                            n_timebins=None, nv_init_ux=None, nv_read_ux=None)\n",
    "except:\n",
    "    logger.exception(\"\")\n",
    "partial_trace(rho, sub=0, dims=simp.dims)"
   ]
  },
  {
   "cell_type": "code",
   "execution_count": 339,
   "metadata": {},
   "outputs": [
    {
     "data": {
      "text/plain": [
       "0.5724098454493417"
      ]
     },
     "execution_count": 339,
     "metadata": {},
     "output_type": "execute_result"
    }
   ],
   "source": [
    "1/1.747"
   ]
  },
  {
   "cell_type": "code",
   "execution_count": 383,
   "metadata": {},
   "outputs": [
    {
     "data": {
      "text/plain": [
       "array([[0.10230949+0.j        , 0.00967988-0.23158768j],\n",
       "       [0.00967988+0.23158768j, 0.89769051+0.j        ]])"
      ]
     },
     "execution_count": 383,
     "metadata": {},
     "output_type": "execute_result"
    }
   ],
   "source": [
    "rho = -1\n",
    "try:\n",
    "    rho = sim.run_sim_multi([pulse2, pulse], [62.17, 91.44], simp,# scale_ampl=[1/1.747,1],\n",
    "                            delta_f=0, \n",
    "                            n_timebins=None, nv_init_ux=None, nv_read_ux=None)\n",
    "except:\n",
    "    logger.exception(\"\")\n",
    "partial_trace(rho, sub=0, dims=simp.dims)"
   ]
  },
  {
   "cell_type": "code",
   "execution_count": 387,
   "metadata": {},
   "outputs": [
    {
     "data": {
      "text/plain": [
       "0.24418524595860924"
      ]
     },
     "execution_count": 387,
     "metadata": {},
     "output_type": "execute_result"
    },
    {
     "data": {
      "image/png": "[encoded data removed]"
     },
     "metadata": {
      "image/png": {
       "height": 453,
       "width": 622
      }
     },
     "output_type": "display_data"
    },
    {
     "data": {
      "image/png": "[encoded data removed]"
     },
     "metadata": {
      "image/png": {
       "height": 453,
       "width": 622
      }
     },
     "output_type": "display_data"
    }
   ],
   "source": [
    "idx = 1\n",
    "\n",
    "# ATTENTION: parallel pi pulse might have some scaling between NV1/NV2\n",
    "# here need to balance this during loading of pulse\n",
    "\n",
    "try:\n",
    "    if idx == 0:\n",
    "        chi = sim_process_tomo([pulse, pulse2], [ 91.44, 62.17])\n",
    "    else:\n",
    "        chi = sim_process_tomo([pulse2, pulse], [62.17 , 91.44])\n",
    "        \n",
    "    fom = np.real(1 - fidelity_chi_pi_x(chi))\n",
    "except:\n",
    "    logger.exception(\"\")\n",
    "    \n",
    "chi, fom\n",
    "\n",
    "qutip.matrix_histogram(np.real(chi), limits=[-1,1],\n",
    "                       xlabels=[\"1\", \"sig_x\", \"sig_y\", \"sig_z\"], \n",
    "                       ylabels=[\"1\", \"sig_x\", \"sig_y\", \"sig_z\"])\n",
    "\n",
    "\n",
    "plt.show()\n",
    "qutip.matrix_histogram(np.imag(chi), limits=[-1,1],\n",
    "                       xlabels=[\"1\", \"sig_x\", \"sig_y\", \"sig_z\"], \n",
    "                       ylabels=[\"1\", \"sig_x\", \"sig_y\", \"sig_z\"])\n",
    "\n",
    "\n",
    "plt.show()\n",
    "fom"
   ]
  },
  {
   "cell_type": "markdown",
   "metadata": {},
   "source": [
    "### Test solver: Vary time discretization"
   ]
  },
  {
   "cell_type": "code",
   "execution_count": 221,
   "metadata": {},
   "outputs": [
    {
     "data": {
      "image/png": "[encoded data removed]"
     },
     "metadata": {
      "image/png": {
       "height": 374,
       "width": 551
      }
     },
     "output_type": "display_data"
    }
   ],
   "source": [
    "# Vary the solving/ pulse discretization steps. \n",
    "# When big enough, the results shouldn't change anymore with the step settigns\n",
    "\n",
    "n_steps = np.linspace(100, 1e8, 3)\n",
    "res = []\n",
    "for ns in n_steps:\n",
    "    rho = sim.run_sim_multi(None, [pulse, pulse2], [100,200], simp, scale_ampl=[1,1], delta_f=0, \n",
    "                            n_timebins=None, n_sol_step=ns, nv_init_ux=None, nv_read_ux=None)\n",
    "\n",
    "    res.append(partial_trace(rho, sub=0, dims=simp.dims)[1][1])\n",
    "    \n",
    "res\n",
    "plt.plot(n_steps, res)\n",
    "plt.yscale('log')\n",
    "plt.show(res)"
   ]
  },
  {
   "cell_type": "code",
   "execution_count": 230,
   "metadata": {},
   "outputs": [
    {
     "data": {
      "image/png": "[encoded data removed]"
     },
     "metadata": {
      "image/png": {
       "height": 368,
       "width": 539
      }
     },
     "output_type": "display_data"
    }
   ],
   "source": [
    "n_steps = np.linspace(500, 5e4, 10)\n",
    "res = []\n",
    "for ns in n_steps:\n",
    "    rho = sim.run_sim_multi(None, [pulse, pulse2], [100,200], simp, scale_ampl=[1,1], delta_f=0, \n",
    "                            n_timebins=ns, n_sol_step=1e8, nv_init_ux=None, nv_read_ux=None)\n",
    "\n",
    "    res.append(partial_trace(rho, sub=0, dims=simp.dims)[1][1])\n",
    "    \n",
    "plt.plot(n_steps, res)\n",
    "#plt.yscale('log')\n",
    "plt.show(res)"
   ]
  },
  {
   "cell_type": "markdown",
   "metadata": {},
   "source": [
    "## Density matrix evolution"
   ]
  },
  {
   "cell_type": "code",
   "execution_count": 683,
   "metadata": {},
   "outputs": [],
   "source": [
    "# take a sequence made from a pulse to calculate the spectrum+\n",
    "tmp_pulse = pulse\n",
    "pulse = sequence\n"
   ]
  },
  {
   "cell_type": "code",
   "execution_count": 667,
   "metadata": {},
   "outputs": [],
   "source": [
    "pulse.as_dict()['timegrid_ampl'][-1]"
   ]
  },
  {
   "cell_type": "code",
   "execution_count": 407,
   "metadata": {},
   "outputs": [],
   "source": [
    "try:\n",
    "    rho = -1\n",
    "    rho = run_sim(pulse, B, simp, delta_f=0e6, nv_init_ux=None, nv_read_ux=None)\n",
    "\n",
    "    #partial_trace(rho, sub=0, dims=simp.dims)\n",
    "except:\n",
    "    logger.exception(\"\")"
   ]
  },
  {
   "cell_type": "code",
   "execution_count": 410,
   "metadata": {},
   "outputs": [
    {
     "data": {
      "text/plain": [
       "array([[0.00666856+0.j        , 0.0398083 +0.01811997j],\n",
       "       [0.0398083 -0.01811997j, 0.99333144+0.j        ]])"
      ]
     },
     "execution_count": 410,
     "metadata": {},
     "output_type": "execute_result"
    }
   ],
   "source": [
    "partial_trace(rho, sub=0, dims=simp.dims)"
   ]
  },
  {
   "cell_type": "code",
   "execution_count": 472,
   "metadata": {},
   "outputs": [
    {
     "data": {
      "text/plain": [
       "array([0.        , 0.00019952, 0.00082317, ..., 0.05953341, 0.05121275,\n",
       "       0.04356924])"
      ]
     },
     "execution_count": 472,
     "metadata": {},
     "output_type": "execute_result"
    }
   ],
   "source": [
    "rho[2][1]"
   ]
  },
  {
   "cell_type": "markdown",
   "metadata": {},
   "source": [
    "## Process tomo"
   ]
  },
  {
   "cell_type": "code",
   "execution_count": 413,
   "metadata": {},
   "outputs": [
    {
     "name": "stderr",
     "output_type": "stream",
     "text": [
      "Traceback (most recent call last):\n",
      "  File \"C:\\Users\\Setup3-PC\\Desktop\\qudi\\logic\\jupyterkernel\\qzmqkernel.py\", line 679, in run_code\n",
      "    exec(code_obj, self.user_global_ns, self.user_ns)\n",
      "  File \"<ipython-input-413-663b16176d94>\", line 1, in <module>\n",
      "    func_volt_2_rabi=script_params['fom_func_volt_2_rabi']\n",
      "NameError: name 'script_params' is not defined\n"
     ]
    }
   ],
   "source": [
    "func_volt_2_rabi=script_params['fom_func_volt_2_rabi']\n",
    "# sim units are MHz!\n",
    "B_gauss = (simp.D - f_res*1e-6)/ simp.gamma_nv\n",
    "pulse_sim = copy_pulse(pulse)\n",
    "pulse_sim._func_ampl_v_2_omega_mhz = func_volt_2_rabi\n",
    "\n",
    "try:\n",
    "    chi_avg = sim_process_tomo_avg_hfs(pulse_sim,  B_gauss, delta_hfs=2.1e6)\n",
    "    fom = np.real(1 - fidelity_chi_pi_x(chi_avg))\n",
    "except:\n",
    "    logger.exception(\"\")\n",
    "\n",
    " \n",
    "fom, chi_avg"
   ]
  },
  {
   "cell_type": "code",
   "execution_count": 201,
   "metadata": {},
   "outputs": [
    {
     "data": {
      "text/plain": [
       "2799990000.0"
      ]
     },
     "execution_count": 201,
     "metadata": {},
     "output_type": "execute_result"
    }
   ],
   "source": [
    "f_res-25.31e6"
   ]
  },
  {
   "cell_type": "code",
   "execution_count": 239,
   "metadata": {},
   "outputs": [
    {
     "data": {
      "text/plain": [
       "0.1679425542515418"
      ]
     },
     "execution_count": 239,
     "metadata": {},
     "output_type": "execute_result"
    }
   ],
   "source": [
    "# procTomo at blockband, should be chi=1\n",
    "\n",
    "B_gauss = (simp.D - f_res*1e-6)/ simp.gamma_nv\n",
    "chi = -1\n",
    "try:\n",
    "    chi = sim_process_tomo_avg(pulse,  B_gauss, deltas= [-25300001, -25299999.])\n",
    "except:\n",
    "    logger.exception(\"\")\n",
    "\n",
    "chi\n",
    "np.real(1 - fidelity_chi_pi_x(chi, u_target='1'))#, B_gauss, B_gauss, pulse._func_ampl_v_2_omega_mhz"
   ]
  },
  {
   "cell_type": "markdown",
   "metadata": {},
   "source": [
    "## Spectrum"
   ]
  },
  {
   "cell_type": "code",
   "execution_count": null,
   "metadata": {},
   "outputs": [],
   "source": []
  },
  {
   "cell_type": "code",
   "execution_count": 1034,
   "metadata": {},
   "outputs": [
    {
     "data": {
      "text/plain": [
       "0"
      ]
     },
     "execution_count": 1034,
     "metadata": {},
     "output_type": "execute_result"
    }
   ],
   "source": [
    "import qutip\n",
    "try:\n",
    "    def run_sim_fsweep(freq_array, pulse, B_gauss, sim_params, n_timebins=None, t_idle_extension=-1e-9,\n",
    "                       ampl_err=0):\n",
    "\n",
    "        # for compability reason, accept pulse as dict or ArbPulse object\n",
    "        # if supplying a dict, you are responsible for correct units!\n",
    "        if type(pulse) == ArbPulse:\n",
    "            pulse.set_unit_time('us')\n",
    "            pulse.set_unit_data('MHz')\n",
    "            pulse = pulse.as_dict()\n",
    "\n",
    "        if n_timebins is None:\n",
    "            n_timebins = len(pulse['timegrid_ampl'])\n",
    "\n",
    "        B = B_gauss\n",
    "        simp = sim_params\n",
    "        oc_length = pulse['timegrid_ampl'][-1] + t_idle_extension*1e6\n",
    "\n",
    "        t = np.linspace(0, oc_length, n_timebins)\n",
    "        options=qutip.Options(atol=1e-15, rtol=1e-15, nsteps=1e8, store_final_state=True)\n",
    "\n",
    "        init_state = simp.rho_ms0\n",
    "\n",
    "        # perform the measurement\n",
    "        data_freq_detuning = np.zeros(len(freq_array))\n",
    "        for idx,freq in enumerate(freq_array):\n",
    "            oc_el = TimeDependentSimulation.oc_element(t, pulse['timegrid_ampl'], pulse['data_ampl'], pulse['data_phase'],\n",
    "                                                       freq, B, 1+ampl_err, simp)\n",
    "            results_measurement = qutip.mesolve(oc_el, init_state, t, [], [simp.P_nv],\n",
    "                                                options=options, progress_bar=None)\n",
    "            data_freq_detuning[idx] = results_measurement.expect[0][-1]\n",
    "\n",
    "        return data_freq_detuning\n",
    "except:\n",
    "    logger.exception(\"\")\n",
    "0"
   ]
  },
  {
   "cell_type": "code",
   "execution_count": 945,
   "metadata": {},
   "outputs": [
    {
     "data": {
      "text/plain": [
       "(2825300000.0, [2921300000.0, 2935600000.0])"
      ]
     },
     "execution_count": 945,
     "metadata": {},
     "output_type": "execute_result"
    }
   ],
   "source": [
    "f_res, f_block"
   ]
  },
  {
   "cell_type": "code",
   "execution_count": 354,
   "metadata": {},
   "outputs": [
    {
     "data": {
      "text/plain": [
       "'20220729_1_guessFromReisserMsc_penalty_fac=100/opt_res_'"
      ]
     },
     "execution_count": 354,
     "metadata": {},
     "output_type": "execute_result"
    }
   ],
   "source": [
    "tmp_pulse.name"
   ]
  },
  {
   "cell_type": "code",
   "execution_count": 543,
   "metadata": {},
   "outputs": [],
   "source": [
    "# take a sequence made from a pulse to calculate the spectrum+\n",
    "tmp_pulse = pulse\n",
    "pulse = sequence\n"
   ]
  },
  {
   "cell_type": "code",
   "execution_count": 1055,
   "metadata": {},
   "outputs": [],
   "source": [
    "\n",
    "B = abs(f_res*1e-6-simp.D)/simp.gamma_nv\n",
    "df = 50 #120#120 # MHz\n",
    "\n",
    "f_block_sim = np.asarray(f_block) *1e-6 # MHz\n",
    "df_block = 10\n",
    "symm_block = True\n",
    "fac_penalty = 100\n",
    "f_mw = simp.D - simp.gamma_nv * B\n",
    "\n",
    "\n",
    "n_f = np.min([int(df/0.25), 500])\n",
    "n_f= 50\n",
    "\n",
    "\n",
    "\n",
    "sim = TimeDependentSimulation()\n",
    "\n",
    "freq_array = np.linspace(simp.D - simp.gamma_nv * B - df, simp.D - simp.gamma_nv * B + df, n_f)\n",
    "#freq_array = np.linspace(3000, 3200, n_f)\n",
    "#freq_array = np.linspace(2000, 3200, n_f)\n",
    "\n",
    "\n",
    "# ATTENTION: limits sampling rate to 1 GSa/s\n",
    "n_tbins = int(pulse.get_timegrid(unit='s')[-1]/1e-9)\n",
    "#data_freq_detuning = sim.run_sim_fsweep(freq_array, pulse, B, simp, n_timebins=n_tbins)\n",
    "data_freq_detuning = run_sim_fsweep(freq_array, pulse, B, simp)\n",
    "#data_freq_detuning = run_sim_fsweep(None, freq_array, pulse, B, simp)\n",
    "penalty = calc_crosstalk_penalty(1e6*freq_array, data_freq_detuning, 1e6*f_mw, 1e6*f_block_sim, 1e6*df_block,\n",
    "                                 symm_block=symm_block, fac_penalty=fac_penalty)\n"
   ]
  },
  {
   "cell_type": "code",
   "execution_count": 550,
   "metadata": {},
   "outputs": [
    {
     "data": {
      "text/plain": [
       "4826"
      ]
     },
     "execution_count": 550,
     "metadata": {},
     "output_type": "execute_result"
    }
   ],
   "source": [
    "int(pulse.get_timegrid(unit='s')[-1]/1e-9)"
   ]
  },
  {
   "cell_type": "code",
   "execution_count": 452,
   "metadata": {},
   "outputs": [
    {
     "data": {
      "text/plain": [
       "(2712223, '20220729_1_guessFromReisserMsc_penalty_fac=100/opt_res_')"
      ]
     },
     "execution_count": 452,
     "metadata": {},
     "output_type": "execute_result"
    }
   ],
   "source": [
    "len(pulse.timegrid), tmp_pulse.name"
   ]
  },
  {
   "cell_type": "code",
   "execution_count": 585,
   "metadata": {},
   "outputs": [],
   "source": [
    "pulse = tmp_pulse"
   ]
  },
  {
   "cell_type": "code",
   "execution_count": 1069,
   "metadata": {},
   "outputs": [
    {
     "data": {
      "text/plain": [
       "0"
      ]
     },
     "execution_count": 1069,
     "metadata": {},
     "output_type": "execute_result"
    },
    {
     "data": {
      "image/png": "[encoded data removed]"
     },
     "metadata": {
      "image/png": {
       "height": 604,
       "width": 1176
      }
     },
     "output_type": "display_data"
    }
   ],
   "source": [
    "try:\n",
    "    delta_hfs = 2.1 # MHz\n",
    "    f_mw = simp.D - simp.gamma_nv * B\n",
    "\n",
    "    # value at the HFS values\n",
    "    vals = []\n",
    "    deltas = [0, -delta_hfs, delta_hfs]\n",
    "    for delta in deltas:\n",
    "        idx = np.argmin(abs(freq_array-(f_mw+delta)))\n",
    "        vals.append(data_freq_detuning[idx])\n",
    "\n",
    "\n",
    "    title_str = \"\"\n",
    "\n",
    "    # visualize the results\n",
    "    fig1, ax = plt.subplots(figsize=(20,10))\n",
    "    ax.plot(freq_array, data_freq_detuning, lw=4, label=r'NV${}^{-}~|m_s=0\\rangle$')\n",
    "    #ax.plot(freq_array+2*(B-B_nv2)/2*simp.gamma_nv, data_freq_detuning, lw=4, label=r'NV${}^{-}~|m_s=0\\rangle$')\n",
    "    #ax.plot(f_exp_mhz, y_exp, label=\"exp\")\n",
    "    #ax.plot(f_exp_mhz_mirr, y_exp, label=\"mirrored(exp)\")\n",
    "    #ax.set_xlim([2603,2653])\n",
    "\n",
    "    # vertical dots at values of HFS transitions\n",
    "    ax.scatter(f_mw+deltas[0], vals[0], color='black', label=f\"s_0= {vals[0]:.2e}\")\n",
    "    ax.scatter(f_mw+deltas[1], vals[1], color='grey', label=f\"s_-1= {vals[1]:.2e}\", alpha=0.8)\n",
    "    ax.scatter(f_mw+deltas[2], vals[2], color='blue', label=f\"s_+1= {vals[2]:.2e}\", alpha=0.5)\n",
    "\n",
    "    ax.axvline(f_mw, label=f\"transition= {f_mw:.1f} MHz\")\n",
    "    ax.axvspan(f_mw-2.1, f_mw+2.1, alpha=0.1, color='blue', label='15-N HFS')\n",
    "\n",
    "\n",
    "    # blockbands\n",
    "    f_lims = get_f_limits(1e6*f_mw, 1e6*f_block_sim, 1e6*df_block, symm_block=symm_block)\n",
    "    for f_min, f_max in f_lims:\n",
    "        f_center = (f_max + f_min) / 2\n",
    "        if 1e-6*f_center > freq_array[0] and 1e-6*f_center < freq_array[-1]: \n",
    "            ax.axvline(1e-6*f_center, label=f\"NV1 blockband ({1e-6*f_center:.1f} +- {df_block} MHz)\", color='red')\n",
    "            ax.axvspan(1e-6*f_min, 1e-6*f_max, alpha=0.1, color='red')\n",
    "\n",
    "    title_str += f\"penalty(fac={fac_penalty})= {penalty:.3f}, delta= {abs(f_mw-f_block_sim)} MHz\"\n",
    "\n",
    "    # grid\n",
    "    ax.axhline(0, color='black')\n",
    "    #ax.axhline(1, color='black')\n",
    "    plt.grid(axis='x', color='0.5')\n",
    "    plt.grid(axis='y', color='0.5')\n",
    "\n",
    "\n",
    "\n",
    "\n",
    "    ax.set_xlabel(r'Frequency (MHz)')\n",
    "    ax.set_ylabel(r'Spin state ()')\n",
    "    plt.title(title_str)\n",
    "    ax.legend(loc='best', prop={'size': 20})\n",
    "    plt.show(fig1)\n",
    "\n",
    "except:\n",
    "    logger.exception(\"\")\n",
    "0"
   ]
  },
  {
   "cell_type": "code",
   "execution_count": 203,
   "metadata": {},
   "outputs": [
    {
     "data": {
      "text/plain": [
       "[2921300000.0, 2935600000.0]"
      ]
     },
     "execution_count": 203,
     "metadata": {},
     "output_type": "execute_result"
    }
   ],
   "source": [
    "f_block"
   ]
  },
  {
   "cell_type": "markdown",
   "metadata": {},
   "source": [
    "## Amplitude error"
   ]
  },
  {
   "cell_type": "code",
   "execution_count": 173,
   "metadata": {},
   "outputs": [],
   "source": [
    "B= 90 #gauss\n",
    "\n",
    "\n",
    "sim = TimeDependentSimulation()\n",
    "\n",
    "# scanned amplitude steps\n",
    "amp_array = np.linspace(-0.35, 0.35, 30)\n",
    "data_amp_detuning = sim.run_sim_ampsweep(amp_array, pulse, B, simp)\n",
    "\n"
   ]
  },
  {
   "cell_type": "code",
   "execution_count": 176,
   "metadata": {},
   "outputs": [
    {
     "data": {
      "image/png": "[encoded data removed]"
     },
     "metadata": {
      "image/png": {
       "height": 592,
       "width": 1177
      }
     },
     "output_type": "display_data"
    }
   ],
   "source": [
    "# visualize the results\n",
    "fig2, ax = plt.subplots(figsize=(20,10))\n",
    "ax.plot(amp_array*100, data_amp_detuning, lw=4, label=r'NV${}^{-}~|m_s=0\\rangle$')\n",
    "ax.set_xlabel(r'Amplitude Error (\\%)')\n",
    "ax.set_ylabel(r'Spin state ()')\n",
    "\n",
    "# value at the minimum\n",
    "vals_x, vals_y = [], []\n",
    "idx = np.argmin(data_amp_detuning)\n",
    "vals_x.append(100*amp_array[idx])\n",
    "vals_y.append(data_amp_detuning[idx])\n",
    "\n",
    "plt.scatter(vals_x, vals_y, label=f\"best, ampl_err= {vals_x[0]:.2f} %, s= {vals_y[0]:.3e}\", s=150)\n",
    "\n",
    "vals_x, vals_y = [], []\n",
    "idx = np.argmin(abs(amp_array))\n",
    "vals_x.append(amp_array[idx])\n",
    "vals_y.append(data_amp_detuning[idx])\n",
    "\n",
    "plt.scatter(vals_x, vals_y, label=f\"like calib, ampl_err= {vals_x[0]:.0f} %, s= {vals_y[0]:.3e}\", s=150)\n",
    "\n",
    "\n",
    "\n",
    "plt.legend()\n",
    "plt.show(fig2) "
   ]
  },
  {
   "cell_type": "code",
   "execution_count": 1472,
   "metadata": {},
   "outputs": [
    {
     "data": {
      "text/plain": [
       "array([0.52830133, 0.50118982, 0.47417666, 0.44734311, 0.42076835,\n",
       "       0.39452924, 0.36870006, 0.34335231, 0.31855458, 0.29437232,\n",
       "       0.27086773, 0.24809966, 0.22612349, 0.20499109, 0.18475073,\n",
       "       0.16544708, 0.14712119, 0.12981046, 0.11354871, 0.09836618,\n",
       "       0.08428957, 0.07134209, 0.05954358, 0.0489105 , 0.03945607,\n",
       "       0.03119032, 0.0241202 , 0.01824965, 0.01357969, 0.01010855])"
      ]
     },
     "execution_count": 1472,
     "metadata": {},
     "output_type": "execute_result"
    }
   ],
   "source": [
    "data_amp_detuning"
   ]
  },
  {
   "cell_type": "code",
   "execution_count": null,
   "metadata": {},
   "outputs": [],
   "source": []
  }
 ],
 "metadata": {
  "kernelspec": {
   "display_name": "Qudi",
   "language": "python",
   "name": "qudi"
  },
  "language_info": {
   "codemirror_mode": {
    "name": "ipython",
    "version": "3.6.5"
   },
   "file_extension": ".py",
   "mimetype": "text/x-python",
   "name": "python",
   "nbconvert_exporter": "python",
   "pygments_lexer": "ipython3",
   "version": "3.6.5"
  },
  "toc": {
   "base_numbering": 1,
   "nav_menu": {},
   "number_sections": true,
   "sideBar": true,
   "skip_h1_title": false,
   "title_cell": "Table of Contents",
   "title_sidebar": "Contents",
   "toc_cell": false,
   "toc_position": {
    "height": "calc(100% - 180px)",
    "left": "10px",
    "top": "150px",
    "width": "292px"
   },
   "toc_section_display": true,
   "toc_window_display": true
  },
  "varInspector": {
   "cols": {
    "lenName": 16,
    "lenType": 16,
    "lenVar": 40
   },
   "kernels_config": {
    "python": {
     "delete_cmd_postfix": "",
     "delete_cmd_prefix": "del ",
     "library": "var_list.py",
     "varRefreshCmd": "print(var_dic_list())"
    },
    "r": {
     "delete_cmd_postfix": ") ",
     "delete_cmd_prefix": "rm(",
     "library": "var_list.r",
     "varRefreshCmd": "cat(var_dic_list()) "
    }
   },
   "position": {
    "height": "751px",
    "left": "1539px",
    "right": "20px",
    "top": "120px",
    "width": "325px"
   },
   "types_to_exclude": [
    "module",
    "function",
    "builtin_function_or_method",
    "instance",
    "_Feature"
   ],
   "window_display": true
  }
 },
 "nbformat": 4,
 "nbformat_minor": 2
}
