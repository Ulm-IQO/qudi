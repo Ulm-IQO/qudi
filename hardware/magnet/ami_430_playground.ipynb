{
 "metadata": {
  "language_info": {
   "codemirror_mode": {
    "name": "ipython",
    "version": 3
   },
   "file_extension": ".py",
   "mimetype": "text/x-python",
   "name": "python",
   "nbconvert_exporter": "python",
   "pygments_lexer": "ipython3",
   "version": "3.6.5"
  },
  "orig_nbformat": 4,
  "kernelspec": {
   "name": "python3",
   "display_name": "Python 3.6.5 64-bit ('qudi': conda)"
  },
  "interpreter": {
   "hash": "68ed31d244ea03ebcb4af0069c603fb73dc9cf8c342d64e0a71f83dbe03c0013"
  }
 },
 "nbformat": 4,
 "nbformat_minor": 2,
 "cells": [
  {
   "cell_type": "code",
   "execution_count": 1,
   "metadata": {},
   "outputs": [],
   "source": [
    "# Packed depends on PyVISA.\n",
    "# Install packet with \"pip install easy-scpi\" the - instead of _ is intentional.\n",
    "import easy_scpi as scpi\n"
   ]
  },
  {
   "cell_type": "code",
   "execution_count": null,
   "metadata": {},
   "outputs": [],
   "source": [
    "port = 'TCPIP0::192.168.55.122::inst0::INSTR' # port over which to communicate with the instrument\n",
    "inst = scpi.Instrument(port)\n",
    "\n",
    "# commands are structred via the hierachy relationship. For more info look up \"SCPI (Standard Commands for Programmable Instruments)\".\n",
    "# here, the abbreviations are used and te : are replaced with .\n",
    "# e.g. if you would like to execute the MEASure:VOLTage:DC 1 command, you would use inst.meas.volt.dc(1),\n",
    "# where inst is the python instance of the instrument."
   ]
  }
 ]
}