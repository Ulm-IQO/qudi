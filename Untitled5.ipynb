{
 "cells": [
  {
   "cell_type": "code",
   "execution_count": 2,
   "metadata": {
    "collapsed": true
   },
   "outputs": [],
   "source": [
    "import time\n",
    "\n",
    "zval = -2e-6\n",
    "scanner.start_scanning()\n",
    "while zval < 2e-6 :\n",
    "    if scanner.getState() is 'idle' :\n",
    "        scanner.save_xy_data()\n",
    "        while scanner.getState() is 'locked':\n",
    "            time.sleep(1)\n",
    "        zval += 2e-7\n",
    "        scanner.set_position('Change pos',z=zval)\n",
    "        while scanner.getState() is 'locked':\n",
    "            time.sleep(1)\n",
    "        scanner.start_scanning()\n",
    "    else: time.sleep(1)\n",
    "    "
   ]
  }
 ],
 "metadata": {
  "kernelspec": {
   "display_name": "Qudi",
   "language": "python",
   "name": "qudi"
  },
  "language_info": {
   "codemirror_mode": {
    "name": "ipython",
    "version": "3.6.0"
   },
   "file_extension": ".py",
   "mimetype": "text/x-python",
   "name": "python",
   "nbconvert_exporter": "python",
   "pygments_lexer": "ipython3",
   "version": "3.6.0"
  }
 },
 "nbformat": 4,
 "nbformat_minor": 2
}
