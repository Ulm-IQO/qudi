{
 "cells": [
  {
   "cell_type": "code",
   "execution_count": 15,
   "metadata": {
    "collapsed": false
   },
   "outputs": [
    {
     "name": "stderr",
     "output_type": "stream",
     "text": [
      "Traceback (most recent call last):\n",
      "  File \"C:\\Users\\it064639-admin\\qudi\\logic\\jupyterkernel\\qzmqkernel.py\", line 795, in run_code\n",
      "    exec(code_obj, self.user_global_ns, self.user_ns)\n",
      "  File \"<ipython-input-15-0514b6431b1a>\", line 23, in <module>\n",
      "    current[i]=keithley.srs.query('print(defbuffer1[{0}])'.format(n))\n",
      "ValueError: could not convert string to float: 'nil\\n'\n"
     ]
    }
   ],
   "source": [
    "import pylab as plt\n",
    "\n",
    "keithley.srs.write('reset()')\n",
    "keithley.srs.write('num = 56')\n",
    "\n",
    "keithley.srs.write('smu.measure.func =smu.FUNC_DC_CURRENT')\n",
    "keithley.srs.write('smu.measure.autorange = smu.ON')\n",
    "keithley.srs.write('smu.source.func = smu.FUNC_DC_VOLTAGE')\n",
    "#keithley.srs.write('smu.source.level = 6')\n",
    "keithley.srs.write('smu.source.ilimit.level = 100E-6')\n",
    "keithley.srs.write('smu.source.output = smu.ON')\n",
    "\n",
    "keithley.srs.write('smu.source.sweeplinear(\"IV\", 1, 1, num, 0.1)')\n",
    "\n",
    "keithley.srs.write('trigger.model.initiate()')\n",
    "keithley.srs.write('waitcomplete()')\n",
    "\n",
    "voltage = np.zeros(51)\n",
    "current = np.zeros(51)\n",
    "\n",
    "for n in range(1,50):\n",
    "    #voltage[i]= keithley.srs.query('print(defbuffer1.sourcevalues[{0}])'.format(n))\n",
    "    current[i]=keithley.srs.query('print(defbuffer1[{0}])'.format(n))\n",
    "#urrent = keithley.srs.query('print(defbuffer1)')\n",
    "\n",
    "keithley.srs.write('smu.source.output = smu.OFF')\n",
    "\n",
    "#plt.plot(voltage,current)"
   ]
  },
  {
   "cell_type": "code",
   "execution_count": null,
   "metadata": {
    "collapsed": true
   },
   "outputs": [],
   "source": [
    "voltage"
   ]
  },
  {
   "cell_type": "code",
   "execution_count": 6,
   "metadata": {
    "collapsed": false
   },
   "outputs": [],
   "source": [
    "import numpy as np\n",
    "voltage = np.zeros(51)\n"
   ]
  },
  {
   "cell_type": "code",
   "execution_count": 4,
   "metadata": {
    "collapsed": false
   },
   "outputs": [],
   "source": [
    "import pylab as plt"
   ]
  },
  {
   "cell_type": "code",
   "execution_count": 1,
   "metadata": {
    "collapsed": false
   },
   "outputs": [],
   "source": [
    "import time \n",
    "keithley.srs.write('reset()')\n",
    "\n",
    "keithley.srs.write('display.changescreen(display.SCREEN_USER_SWIPE)')\n",
    "keithley.srs.write('display.settext(display.TEXT1, \"QUDI CONTROL\")')\n",
    "keithley.srs.write('smu.measure.func =smu.FUNC_DC_CURRENT')\n",
    "keithley.srs.write('smu.measure.autorange = smu.ON')\n",
    "keithley.srs.write('smu.source.ilimit.level = 100E-6')\n",
    "keithley.srs.write('smu.source.func = smu.FUNC_DC_VOLTAGE')\n",
    "\n",
    "\n",
    "# Broad I-V curve\n",
    "\n",
    "current = []\n",
    "for i in np.arange(-9,1,0.1):\n",
    "    keithley.srs.write('smu.source.level = {0}'.format(i))\n",
    "    #keithley.srs.write('smu.measure.autorange = smu.ON')\n",
    "    keithley.srs.write('smu.source.output = smu.ON')\n",
    "    time.sleep(0.1)\n",
    "    current.append((float(keithley.srs.query('print(smu.measure.read())'))))\n",
    "    keithley.srs.write('smu.source.output = smu.OFF')\n",
    "    time.sleep(0.1)\n",
    "    \n",
    "\n"
   ]
  },
  {
   "cell_type": "code",
   "execution_count": 7,
   "metadata": {
    "collapsed": true
   },
   "outputs": [],
   "source": [
    "\n",
    "currentneg = []\n",
    "for i in np.arange(-8.7,-8,0.001):\n",
    "    keithley.srs.write('smu.source.level = {0}'.format(i))\n",
    "    #keithley.srs.write('smu.measure.autorange = smu.ON')\n",
    "    keithley.srs.write('smu.source.output = smu.ON')\n",
    "    time.sleep(0.1)\n",
    "    currentneg.append((float(keithley.srs.query('print(smu.measure.read())'))))\n",
    "    keithley.srs.write('smu.source.output = smu.OFF')\n",
    "    time.sleep(0.1)\n",
    "    "
   ]
  },
  {
   "cell_type": "code",
   "execution_count": 13,
   "metadata": {
    "collapsed": false
   },
   "outputs": [],
   "source": [
    "thefile = open('IVdarkbroad.txt', 'w')\n",
    "volts = np.arange(-9, 1, 0.1)\n",
    "thefile.write( '#Voltage(V),Current(A)\\n')\n",
    "for i, item in enumerate(current):\n",
    "    #print(\"{0}, {1}\\n\".format(volts[i], item))\n",
    "    thefile.write(\"{0}, {1}\\n\".format(volts[i], item))\n",
    "thefile.close()"
   ]
  },
  {
   "cell_type": "code",
   "execution_count": 3,
   "metadata": {
    "collapsed": false
   },
   "outputs": [
    {
     "data": {
      "image/png": "[encoded data removed]"
     },
     "metadata": {
      "image/png": {
       "height": 361,
       "width": 583
      }
     },
     "output_type": "display_data"
    }
   ],
   "source": [
    "import pylab as plt\n",
    "plt.plot(np.arange(-9, 1, 0.1),current, '.')\n",
    "plt.show()"
   ]
  },
  {
   "cell_type": "code",
   "execution_count": 6,
   "metadata": {
    "collapsed": false
   },
   "outputs": [
    {
     "data": {
      "image/png": "[encoded data removed]"
     },
     "metadata": {
      "image/png": {
       "height": 361,
       "width": 554
      }
     },
     "output_type": "display_data"
    }
   ],
   "source": [
    "import pylab as plt\n",
    "plt.plot(np.arange(-9, -8, 0.01),[i*1e6 for i in currentneg], '.')\n",
    "plt.show()"
   ]
  },
  {
   "cell_type": "code",
   "execution_count": 8,
   "metadata": {
    "collapsed": false,
    "scrolled": true
   },
   "outputs": [
    {
     "data": {
      "image/png": "[encoded data removed]"
     },
     "metadata": {
      "image/png": {
       "height": 361,
       "width": 548
      }
     },
     "output_type": "display_data"
    }
   ],
   "source": [
    "import pylab as plt\n",
    "plt.plot(np.arange(-8.7,-8,0.001),[i*1e6 for i in currentneg], '.')\n",
    "plt.show()"
   ]
  },
  {
   "cell_type": "code",
   "execution_count": 40,
   "metadata": {
    "collapsed": true
   },
   "outputs": [],
   "source": [
    "current.append((float(keithley.srs.query('print(smu.measure.read())'))*1e15))"
   ]
  },
  {
   "cell_type": "code",
   "execution_count": 10,
   "metadata": {
    "collapsed": false
   },
   "outputs": [],
   "source": [
    "current2 = current"
   ]
  },
  {
   "cell_type": "code",
   "execution_count": 11,
   "metadata": {
    "collapsed": false
   },
   "outputs": [
    {
     "data": {
      "text/plain": [
       "[-9.9996577774e-05, -9.9996563222e-05, -9.9996519566e-05, -9.999654867e-05, -9.9996563222e-05, -9.9996555946e-05, -9.999658505e-05, -9.999658505e-05, -9.9996563222e-05, -9.9996534118e-05, -9.9996577774e-05, -9.9996592326e-05, -9.9996577774e-05, -9.9996599602e-05, -9.9996577774e-05, -9.9996650533e-05, -9.9996628705e-05, -9.9996635981e-05, -9.999654867e-05, -9.9996599602e-05, -9.999658505e-05, -9.9996614153e-05, -9.9996577774e-05, -9.9996635981e-05, -9.9996592326e-05, -9.9996505014e-05, -9.9996519566e-05, -9.5235765912e-05, -7.5087133155e-05, -5.6215259974e-05, -4.0252565668e-05, -2.5818451832e-05, -1.4142824512e-05, -6.6974685069e-06, -2.6510692805e-06, -9.3722752581e-07, -3.7196110725e-07, -1.7006452424e-07, -8.076558089e-08, -5.6554942063e-08, -3.6810071435e-08, -2.6440138967e-08, -1.8974047222e-08, -1.4741513787e-08, -1.2229263824e-08, -1.0051121713e-08, -8.8715088609e-09, -7.9681159448e-09, -7.2739378965e-09, -6.7055601072e-09, -6.2426237513e-09, -5.8865561314e-09, -5.5613553762e-09, -5.3446180814e-09, -5.1325028672e-09, -4.9695274562e-09, -4.8430863764e-09, -4.7045491947e-09, -4.6120893771e-09, -4.4994425963e-09, -4.3986783105e-09, -4.3354004831e-09, -4.2608951922e-09, -4.2050878335e-09, -4.1537586704e-09, -4.1137595552e-09, -4.0656962241e-09, -4.0079228825e-09, -3.9633545335e-09, -3.9158281062e-09, -3.8853369411e-09, -3.8559040405e-09, -3.8208991526e-09, -3.7954848153e-09, -3.7776284323e-09, -3.737912202e-09, -3.7008673903e-09, -3.6679785875e-09, -3.6535159342e-09, -3.6192198127e-09, -3.6060101571e-09, -3.5856049241e-09, -3.5600875581e-09, -3.5291227718e-09, -3.5130551801e-09, -3.4945162319e-09, -3.4754665812e-09, -3.4574927366e-09, -3.4440608143e-09, -3.4317730879e-09, -3.4123111003e-09, -3.3968690083e-09, -3.3808069677e-09, -3.3695741752e-09, -3.355987932e-09, -3.3444533809e-09, -3.3319731418e-09, -3.3188207738e-09, -3.3093956464e-09, -3.2942053529e-09, -3.2908491487e-09, -3.2766767077e-09, -3.2674072337e-09, -3.2571250141e-09, -3.246152902e-09, -3.2323344001e-09, -3.2283582474e-09, -3.2206548539e-09, -3.2096429958e-09, -3.1946179035e-09, -3.1837499304e-09, -3.1730087446e-09, -3.1606215423e-09, -3.1515918764e-09, -3.145940175e-09, -3.1359081998e-09, -3.1243543308e-09, -3.1177587179e-09, -3.1039286696e-09, -3.093252765e-09, -3.0870204171e-09, -3.0783160465e-09, -3.0690350261e-09, -3.0624724978e-09, -3.0541511542e-09, -3.0491762448e-09, -3.0408657814e-09, -3.0349189828e-09, -3.0242863769e-09, -3.0151012798e-09, -3.0088871394e-09, -3.0046558575e-09, -2.9967071047e-09, -2.9958282521e-09, -2.9827511572e-09, -2.9756392905e-09, -2.970932389e-09, -2.9604543261e-09, -2.9561297854e-09, -2.9481945774e-09, -2.9439741756e-09, -2.9358488973e-09, -2.9250959432e-09, -2.9197111395e-09, -2.9125817314e-09, -2.9074334051e-09, -2.8975053468e-09, -2.8912048311e-09, -2.8867932489e-09, -2.8771200977e-09, -2.871919369e-09, -2.8679547626e-09, -2.8590354528e-09, -2.8572386679e-09, -2.8447473266e-09, -2.8393003504e-09, -2.8314968148e-09, -2.8252609141e-09, -2.8247157946e-09, -2.8185958012e-09, -2.8116333706e-09, -2.8005910924e-09, -2.793385967e-09, -2.789961373e-09, -2.7868305441e-09, -2.7788371604e-09, -2.7745350462e-09, -2.7709194939e-09, -2.7629545318e-09, -2.7575701722e-09, -2.7503246347e-09, -2.7433701977e-09, -2.7388953328e-09, -2.7316671147e-09, -2.7293773908e-09, -2.7235225186e-09, -2.7197386565e-09, -2.7113049583e-09, -2.7050626183e-09, -2.7004256609e-09, -2.6937769793e-09, -2.6896449512e-09, -2.684108269e-09, -2.6769619854e-09, -2.6683664167e-09, -2.664997556e-09, -2.6613753423e-09, -2.6563973243e-09, -2.6514295204e-09, -2.6443334189e-09, -2.6387751983e-09, -2.6345903237e-09, -2.6300583933e-09, -2.6260003061e-09, -2.6178392787e-09, -2.6126401043e-09, -2.6073234682e-09, -2.6045012813e-09, -2.6000206432e-09, -2.5937900716e-09, -2.5843320817e-09, -2.580366143e-09, -2.5745754417e-09, -2.5703965623e-09, -2.565949675e-09, -2.5610527032e-09, -2.5567350459e-09, -2.5486608379e-09, -2.5458553043e-09, -2.5429220951e-09, -2.5366966305e-09, -2.5304063289e-09, -2.5254112135e-09, -2.5183279906e-09, -2.5136328574e-09, -2.5103616963e-09, -2.5086599464e-09, -2.501563845e-09, -2.4954089906e-09, -2.4889068584e-09, -2.4860997705e-09, -2.4809869714e-09, -2.478321548e-09, -2.4736332982e-09, -2.4675801402e-09, -2.4608459714e-09, -2.4549573485e-09, -2.4489801298e-09, -2.4469934967e-09, -2.4433002288e-09, -2.4393178588e-09, -2.4305606416e-09, -2.4284445566e-09, -2.4231996409e-09, -2.4197963633e-09, -2.4140400789e-09, -2.4104920282e-09, -2.402854582e-09, -2.3986865827e-09, -2.392435805e-09, -2.3869088928e-09, -2.3862187781e-09, -2.380787345e-09, -2.3764339385e-09, -2.3682154016e-09, -2.3662440896e-09, -2.3626509638e-09, -2.3579849184e-09, -2.351705275e-09, -2.3478985423e-09, -2.3420221318e-09, -2.3347483946e-09, -2.3321677922e-09, -2.3281103712e-09, -2.3234620894e-09, -2.3183956976e-09, -2.3135964256e-09, -2.30690822e-09, -2.3054227416e-09, -2.3009718575e-09, -2.2965322977e-09, -2.2928665633e-09, -2.2863764215e-09, -2.2818267276e-09, -2.2749055972e-09, -2.2738562144e-09, -2.2687685064e-09, -2.2651691634e-09, -2.259870957e-09, -2.2541501998e-09, -2.2476980277e-09, -2.2439237135e-09, -2.2407995459e-09, -2.2368307206e-09, -2.2332373728e-09, -2.2264947663e-09, -2.2210586703e-09, -2.2169541758e-09, -2.212689143e-09, -2.2105268727e-09, -2.2053794346e-09, -2.201119953e-09, -2.1953288076e-09, -2.1890504964e-09, -2.1853068244e-09, -2.1826571661e-09, -2.1793127303e-09, -2.1767267988e-09, -2.1702544206e-09, -2.1636230585e-09, -2.1577850617e-09, -2.1541866069e-09, -2.1523030025e-09, -2.1473236522e-09, -2.1426702634e-09, -2.1373542936e-09, -2.1320842869e-09, -2.126723686e-09, -2.1230373015e-09, -2.1219539459e-09, -2.1166433051e-09, -2.1111952186e-09, -2.1062860345e-09, -2.0994925798e-09, -2.0961647973e-09, -2.0933315081e-09, -2.089945994e-09, -2.0859005634e-09, -2.080318362e-09, -2.0741453e-09, -2.0697985548e-09, -2.0651149679e-09, -2.0645467558e-09, -2.0591504057e-09, -2.054119097e-09, -2.0473494011e-09, -2.0422890046e-09, -2.0382475707e-09, -2.036452118e-09, -2.0335881867e-09, -2.0275547907e-09, -2.0218222652e-09, -2.0195261019e-09, -2.0127273181e-09, -2.0087267405e-09, -2.007360056e-09, -2.0019705893e-09, -1.9975066046e-09, -1.9921335692e-09, -1.9896877479e-09, -1.9855832534e-09, -1.980309694e-09, -1.9765644677e-09, -1.9715626909e-09, -1.9656718475e-09, -1.9623116465e-09, -1.9580836952e-09, -1.9542836238e-09, -1.9510895122e-09, -1.9476471547e-09, -1.9421113606e-09, -1.937190186e-09, -1.932186855e-09, -1.9274586371e-09, -1.9245882665e-09, -1.9228270087e-09, -1.9164503318e-09, -1.9118779893e-09, -1.9065744539e-09, -1.9016401787e-09, -1.8995203188e-09, -1.8943264735e-09, -1.8920025546e-09, -1.8874921626e-09, -1.8821137981e-09, -1.8782824185e-09, -1.8717845052e-09, -1.8672114965e-09, -1.8627017706e-09, -1.860742449e-09, -1.8580650352e-09, -1.8528139023e-09, -1.848859732e-09, -1.8431740578e-09, -1.8378062405e-09, -1.8347111608e-09, -1.8301494764e-09, -1.827210494e-09, -1.8219946663e-09, -1.8197163776e-09, -1.8134272972e-09, -1.8090913212e-09, -1.8048487149e-09, -1.8011035996e-09, -1.7962762389e-09, -1.7918582174e-09, -1.789083548e-09, -1.7843007072e-09, -1.781188752e-09, -1.7772753269e-09, -1.7734903546e-09, -1.7690974241e-09, -1.7638566163e-09, -1.7573893452e-09, -1.7546005759e-09, -1.7505826788e-09, -1.748004963e-09, -1.7456854851e-09, -1.7406488473e-09, -1.7363119831e-09, -1.7314735201e-09, -1.7245471717e-09, -1.7219611292e-09, -1.7180901146e-09, -1.7141075226e-09, -1.7124374141e-09, -1.7061664304e-09, -1.7023241705e-09, -1.698224894e-09, -1.6934383895e-09, -1.68823866e-09, -1.6838221928e-09, -1.682558981e-09, -1.6781128709e-09, -1.6737830011e-09, -1.6705942185e-09, -1.6651234835e-09, -1.6600750774e-09, -1.6568395544e-09, -1.651530912e-09, -1.6468884034e-09, -1.6444018369e-09, -1.6420188542e-09, -1.6365643285e-09, -1.6313428386e-09, -1.6283228099e-09, -1.6237030609e-09, -1.6186243457e-09, -1.6151997517e-09, -1.6110673906e-09, -1.607345923e-09, -1.6039841677e-09, -1.5983213641e-09, -1.5948945498e-09, -1.5915683216e-09, -1.5868726333e-09, -1.5845782464e-09, -1.5788451657e-09, -1.5753154337e-09, -1.5701159262e-09, -1.5673211617e-09, -1.5625343242e-09, -1.5604829651e-09, -1.5557527488e-09, -1.551950124e-09, -1.5479794113e-09, -1.5422072508e-09, -1.5373726736e-09, -1.5333849746e-09, -1.5301098166e-09, -1.5268233344e-09, -1.5242792584e-09, -1.5190382285e-09, -1.5142807008e-09, -1.5107503026e-09, -1.5062686654e-09, -1.5028379652e-09, -1.4982705077e-09, -1.4935408466e-09, -1.4902717949e-09, -1.4862246989e-09, -1.4818442029e-09, -1.4802905568e-09, -1.4742687071e-09, -1.4697293382e-09, -1.4656200698e-09, -1.4612964172e-09, -1.4570359363e-09, -1.4527061776e-09, -1.450786602e-09, -1.446196829e-09, -1.442040487e-09, -1.4373169321e-09, -1.4331489329e-09, -1.4295383766e-09, -1.4254116776e-09, -1.4213362709e-09, -1.4172329976e-09, -1.412734929e-09, -1.4098183732e-09, -1.4074716947e-09, -1.4021218631e-09, -1.3998028292e-09, -1.3937060395e-09, -1.3886277683e-09, -1.3849069669e-09, -1.3811678468e-09, -1.377012282e-09, -1.3742882388e-09, -1.3703927992e-09, -1.3667983412e-09, -1.3617441619e-09, -1.3574849023e-09, -1.3525743858e-09, -1.3488248296e-09, -1.3445528024e-09, -1.3440601965e-09, -1.3378576025e-09, -1.3346640459e-09, -1.3313025127e-09, -1.32722211e-09, -1.3210086358e-09, -1.317704057e-09, -1.3138038435e-09, -1.3089639372e-09, -1.3067430471e-09, -1.3029702872e-09, -1.2971278496e-09, -1.2932378501e-09, -1.2901075763e-09, -1.2862471088e-09, -1.2824679096e-09, -1.2793150983e-09, -1.2750843714e-09, -1.2712702002e-09, -1.2660187343e-09, -1.2622045631e-09, -1.258709581e-09, -1.2548899697e-09, -1.2509715486e-09, -1.2469374422e-09, -1.2429720586e-09, -1.2397783911e-09, -1.2359475665e-09, -1.2322720622e-09, -1.2270557903e-09, -1.2230906288e-09, -1.2177178155e-09, -1.2139446115e-09, -1.2119333315e-09, -1.2083385403e-09, -1.2054466314e-09, -1.2008563033e-09, -1.1967523639e-09, -1.1917563603e-09, -1.1877160366e-09, -1.183849907e-09, -1.1808010125e-09, -1.1761056573e-09, -1.1737237848e-09, -1.1690863833e-09, -1.1654173182e-09, -1.1610301609e-09, -1.1575522763e-09, -1.1527647725e-09, -1.1495532304e-09, -1.1443660464e-09, -1.1415601797e-09, -1.1380361098e-09, -1.1348419982e-09, -1.1318631588e-09, -1.1266003686e-09, -1.1211749307e-09, -1.1176159997e-09, -1.1119181131e-09, -1.1093902463e-09, -1.1061973559e-09, -1.1028639113e-09, -1.098830249e-09, -1.0962385444e-09, -1.0902286851e-09, -1.0864662503e-09, -1.0819514173e-09, -1.0779691584e-09, -1.074004552e-09, -1.0707355003e-09, -1.0673156803e-09, -1.0637392078e-09, -1.0601569622e-09, -1.0558506292e-09, -1.0513931947e-09, -1.0482689161e-09, -1.0447097631e-09, -1.0391105754e-09, -1.035499797e-09, -1.0309262333e-09, -1.0278082829e-09, -1.0240747139e-09, -1.0207243939e-09, -1.0178614618e-09, -1.0132248374e-09, -1.0083323065e-09, -1.0051788291e-09, -1.001295491e-09, -9.9675134813e-10, -9.9261265873e-10, -9.8944807903e-10, -9.8561658834e-10, -9.8208119415e-10, -9.7873653626e-10, -9.7338082039e-10, -9.7145058664e-10, -9.6537577932e-10, -9.6229835211e-10, -9.5716845561e-10, -9.5296026625e-10, -9.5075802786e-10, -9.4605068224e-10, -9.4339092094e-10, -9.3982610583e-10, -9.3480623242e-10, -9.3024432601e-10, -9.2655261241e-10, -9.2445395783e-10, -9.1978236139e-10, -9.1544083425e-10, -9.1072255293e-10, -9.0700202904e-10, -9.0364571381e-10, -9.0004592668e-10, -8.9693963368e-10, -8.9386709146e-10, -8.8940388387e-10, -8.8444257473e-10, -8.819036057e-10, -8.7669271842e-10, -8.7426998974e-10, -8.7013141137e-10, -8.6663021204e-10, -8.6224827278e-10, -8.5780765824e-10, -8.5367501956e-10, -8.4963580615e-10, -8.4822054935e-10, -8.4394952138e-10, -8.3956658292e-10, -8.3536544349e-10, -8.3102341675e-10, -8.2660644996e-10, -8.2347695329e-10, -8.2119910871e-10, -8.1769235827e-10, -8.1304929456e-10, -8.0938522551e-10, -8.0589068752e-10, -8.0124235025e-10, -7.9887135795e-10, -7.9406642373e-10, -7.8966699846e-10, -7.8562145678e-10, -7.8125073077e-10, -7.7817818855e-10, -7.7499084927e-10, -7.7314193936e-10, -7.6770406698e-10, -7.6364742307e-10, -7.5976974712e-10, -7.5532985422e-10, -7.5086070694e-10, -7.4706990594e-10, -7.4401512729e-10, -7.4080969137e-10, -7.3758166241e-10, -7.3435291181e-10, -7.2979156052e-10, -7.2563516307e-10, -7.2299810583e-10, -7.1869721285e-10, -7.1456479622e-10, -7.0997946411e-10, -7.0607891756e-10, -7.0257794027e-10, -6.9985933715e-10, -6.9701344696e-10, -6.9333844221e-10, -6.8882899384e-10, -6.8452804536e-10, -6.7990807429e-10, -6.7572925033e-10, -6.7112126967e-10, -6.69950595e-10, -6.6595640114e-10, -6.6207900273e-10, -6.5736105448e-10, -6.5348321199e-10, -6.495765037e-10, -6.4743754802e-10, -6.4372790431e-10, -6.4041261183e-10, -6.3575816833e-10, -6.3183391852e-10, -6.2844901505e-10, -6.2535387979e-10, -6.2259475353e-10, -6.1814892094e-10, -6.129322605e-10, -6.0852117789e-10, -6.0497978849e-10, -6.0148458436e-10, -5.9767624183e-10, -5.9558391552e-10, -5.9187438284e-10, -5.8739957343e-10, -5.8381166568e-10, -5.805715908e-10, -5.7668214648e-10, -5.7371457585e-10, -5.6899041034e-10, -5.6453319797e-10, -5.6152488215e-10, -5.5887772188e-10, -5.552030502e-10, -5.5129034671e-10, -5.4686211115e-10, -5.4344817535e-10, -5.4011489725e-10, -5.3537962952e-10, -5.3116550047e-10, -5.2824977725e-10, -5.2422749475e-10, -5.2199572442e-10, -5.1823978442e-10, -5.1465770534e-10, -5.1040321969e-10, -5.0717469113e-10, -5.0273474272e-10, -4.9899007148e-10, -4.9485177067e-10, -4.9088116905e-10, -4.8750181669e-10, -4.8541526354e-10, -4.8190806901e-10, -4.7841908213e-10, -4.7479042919e-10, -4.7128961844e-10, -4.6706971624e-10, -4.632384476e-10, -4.5890852229e-10, -4.5533804505e-10, -4.5211540067e-10, -4.4905451579e-10, -4.4500886309e-10, -4.4190803794e-10, -4.3886472234e-10, -4.3512049519e-10, -4.3045453313e-10, -4.2648970466e-10, -4.2202658035e-10, -4.1916314863e-10, -4.1633443915e-10, -4.1281031371e-10, -4.089789063e-10, -4.058489933e-10, -4.0222056241e-10, -3.9912537164e-10, -3.9487665915e-10, -3.909871038e-10, -3.8748049214e-10, -3.8359701526e-10, -3.7912809003e-10, -3.7696015753e-10, -3.7403305453e-10, -3.7041619771e-10, -3.6718755814e-10, -3.6272440607e-10, -3.5929886844e-10, -3.5609337701e-10, -3.522039882e-10, -3.4752650757e-10, -3.4486019596e-10, -3.4100547386e-10, -3.378869684e-10, -3.346701527e-10, -3.3162694812e-10, -3.2825925311e-10, -3.2504832159e-10, -3.2119965021e-10, -3.1686978041e-10, -3.1311372939e-10, -3.0905628057e-10, -3.0630886716e-10, -3.0244851068e-10, -2.9925478762e-10, -2.9646082811e-10, -2.9294847104e-10, -2.8940097541e-10, -2.8637520133e-10, -2.8221930348e-10, -2.7809229919e-10, -2.7494503896e-10, -2.7108465472e-10, -2.6732868696e-10, -2.6449420432e-10, -2.6135837938e-10, -2.5857041508e-10, -2.5542873372e-10, -2.5169602513e-10, -2.4745305804e-10, -2.4362753481e-10, -2.3990043285e-10, -2.3599380783e-10, -2.3306667707e-10, -2.3008156491e-10, -2.2647625442e-10, -2.2374618824e-10, -2.2025684054e-10, -2.1737600608e-10, -2.1355031632e-10, -2.0940610357e-10, -2.0592832994e-10, -2.0238094534e-10, -1.991002363e-10, -1.956049489e-10, -1.9152449071e-10, -1.8873644314e-10, -1.8542672953e-10, -1.8276627434e-10, -1.7951456988e-10, -1.760599444e-10, -1.7190979196e-10, -1.6792775503e-10, -1.6419493543e-10, -1.6111126322e-10, -1.5807979925e-10, -1.5486864569e-10, -1.5155313116e-10, -1.4873025034e-10, -1.4523521275e-10, -1.4208198507e-10, -1.3896936379e-10, -1.3497572504e-10, -1.312313036e-10, -1.2713330388e-10, -1.2377140979e-10, -1.2063564037e-10, -1.1783599096e-10, -1.1496103375e-10, -1.1187745869e-10, -1.0853299509e-10, -1.0494507346e-10, -1.0160054048e-10, -9.7496809237e-11, -9.4592882138e-11, -9.101074061e-11, -8.7527186887e-11, -8.5197029986e-11, -8.1591754186e-11, -7.8200911025e-11, -7.4033341957e-11, -7.0225124327e-11, -6.7477752552e-11, -6.4602760641e-11, -6.1669822027e-11, -5.8296430183e-11, -5.5015686451e-11, -5.1352436192e-11, -4.8674529685e-11, -4.4733057536e-11, -4.1805912898e-11, -3.7754317034e-11, -3.4380883557e-11, -3.0149566871e-11, -2.8230983523e-11, -2.5176343649e-11, -2.2115888981e-11, -1.8922131223e-11, -1.5571866713e-11, -1.1931781951e-11, -8.5177594145e-12, -5.3703742842e-12, -1.1274939316e-12, 1.6779130169e-12, 4.8716707751e-12, 7.1554125472e-12, 1.0169498924e-11, 1.2887954592e-11, 1.7791622342e-11, 2.1187473651e-11, 2.4652783287e-11, 2.7671889086e-11, 3.0546128127e-11, 3.2545348361e-11, 3.6010645854e-11, 3.9226788484e-11, 4.3271580763e-11, 4.6864373493e-11, 5.0926547701e-11, 5.4264377713e-11, 5.677353726e-11, 5.9688337606e-11, 6.2400321021e-11, 6.5732350119e-11, 6.8954286725e-11, 7.1585112837e-11, 7.5554576484e-11, 7.9234320494e-11, 8.28329072e-11, 8.6338783345e-11, 8.9259301339e-11, 9.0980438461e-11, 9.4422560049e-11, 9.7656084608e-11, 1.0158499042e-10, 1.049517695e-10, 1.0847503451e-10, 1.1157525598e-10, 1.1440892678e-10, 1.175671227e-10, 1.2061521226e-10, 1.236342001e-10, 1.2625350765e-10, 1.2953328687e-10, 1.3345075045e-10, 1.3740275584e-10, 1.4052034536e-10, 1.4331349996e-10, 1.4599074727e-10, 1.4857520769e-10, 1.5209847271e-10, 1.560447882e-10, 1.5980561319e-10, 1.6236109679e-10, 1.6500931177e-10, 1.6804582725e-10, 1.7210219361e-10, 1.757819168e-10, 1.794210891e-10, 1.8296753002e-10, 1.8602716589e-10, 1.8909263044e-10, 1.9166554455e-10, 1.9583187849e-10, 1.9962761999e-10, 2.0417662006e-10, 2.0867904627e-10, 2.1328022681e-10, 2.1764368086e-10, 2.2286489321e-10, 2.2892629459e-10, 2.3469795551e-10, 2.4189508729e-10, 2.5067997678e-10, 2.6128460506e-10, 2.737838567e-10, 2.8752353276e-10, 3.032331608e-10, 3.2238506309e-10, 3.458079656e-10, 3.7328104496e-10, 4.0798039946e-10, 4.5043349606e-10, 5.0214638003e-10, 5.6537968751e-10, 6.4374283681e-10, 7.381869005e-10, 8.540196883e-10, 9.9465979897e-10, 1.1714428316e-09, 1.3867613724e-09, 1.6517817114e-09, 1.9797512518e-09, 2.3782953384e-09, 2.872994731e-09, 3.4774521041e-09, 4.2247463306e-09, 5.1456985339e-09, 6.2773177767e-09, 7.6676025529e-09, 9.3518810473e-09, 1.1388962662e-08, 1.3970182344e-08, 1.7139335284e-08, 2.1053869759e-08, 2.5799565151e-08, 3.1706150594e-08, 3.8889254483e-08, 4.7681474769e-08, 5.8660972968e-08, 7.2079807012e-08, 8.8439527701e-08, 1.0756612312e-07, 1.3277154665e-07, 1.6331267716e-07, 2.0123033551e-07, 2.473325651e-07, 3.0439852594e-07, 3.7452787183e-07, 4.5936769766e-07, 5.6437869489e-07, 6.9252979529e-07, 8.5199809519e-07, 1.0469603922e-06, 1.2664354472e-06, 1.5625449805e-06, 1.9253375285e-06, 2.3722923288e-06, 2.9184220693e-06, 3.5922130337e-06, 4.4372486627e-06, 5.484115718e-06, 6.7969649535e-06, 8.4357079686e-06, 1.0499935343e-05, 1.3049259906e-05, 1.6375774067e-05, 2.0610761567e-05, 2.602621862e-05, 3.2971649489e-05, 4.1813786083e-05, 5.3135539929e-05, 6.7623914219e-05, 8.5777319327e-05, 9.9998709629e-05, 9.9998826045e-05, 9.9998615042e-05, 9.9998622318e-05, 9.9998687801e-05, 9.9998724181e-05, 9.9998724181e-05, 9.9998702353e-05]"
      ]
     },
     "execution_count": 11,
     "metadata": {},
     "output_type": "execute_result"
    }
   ],
   "source": [
    "current2"
   ]
  },
  {
   "cell_type": "code",
   "execution_count": null,
   "metadata": {
    "collapsed": true
   },
   "outputs": [],
   "source": []
  }
 ],
 "metadata": {
  "kernelspec": {
   "display_name": "Qudi",
   "language": "python",
   "name": "qudi"
  },
  "language_info": {
   "codemirror_mode": {
    "name": "ipython",
    "version": "3.6.0"
   },
   "file_extension": ".py",
   "mimetype": "text/x-python",
   "name": "python",
   "nbconvert_exporter": "python",
   "pygments_lexer": "ipython3",
   "version": "3.6.0"
  }
 },
 "nbformat": 4,
 "nbformat_minor": 2
}
