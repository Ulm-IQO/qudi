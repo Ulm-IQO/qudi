{
 "cells": [
  {
   "cell_type": "code",
   "execution_count": 16,
   "metadata": {
    "collapsed": false
   },
   "outputs": [],
   "source": [
    "import visa"
   ]
  },
  {
   "cell_type": "code",
   "execution_count": 2,
   "metadata": {
    "collapsed": false
   },
   "outputs": [
    {
     "data": {
      "text/plain": [
       "('ASRL1::INSTR', 'ASRL3::INSTR', 'ASRL4::INSTR', 'ASRL5::INSTR', 'ASRL10::INSTR', 'GPIB0::3::INSTR')"
      ]
     },
     "execution_count": 2,
     "metadata": {},
     "output_type": "execute_result"
    }
   ],
   "source": [
    "rm = visa.ResourceManager()\n",
    "rm.list_resources()"
   ]
  },
  {
   "cell_type": "code",
   "execution_count": 3,
   "metadata": {
    "collapsed": false
   },
   "outputs": [
    {
     "data": {
      "text/plain": [
       "'Stanford_Research_Systems,SR865,002604,V1.25\\n'"
      ]
     },
     "execution_count": 3,
     "metadata": {},
     "output_type": "execute_result"
    }
   ],
   "source": [
    "dmm = rm.open_resource('GPIB0::3::INSTR')\n",
    "dmm.query('*IDN?')"
   ]
  },
  {
   "cell_type": "code",
   "execution_count": 9,
   "metadata": {
    "collapsed": false
   },
   "outputs": [
    {
     "data": {
      "text/plain": [
       "'10.078900337\\n'"
      ]
     },
     "execution_count": 9,
     "metadata": {},
     "output_type": "execute_result"
    }
   ],
   "source": [
    "dmm.query('AUXV? 2')"
   ]
  },
  {
   "cell_type": "code",
   "execution_count": 8,
   "metadata": {
    "collapsed": false
   },
   "outputs": [
    {
     "data": {
      "text/plain": [
       "(17, <StatusCode.success: 0>)"
      ]
     },
     "execution_count": 8,
     "metadata": {},
     "output_type": "execute_result"
    }
   ],
   "source": [
    "dmm.write('AUXV 2, 10.0789')"
   ]
  },
  {
   "cell_type": "code",
   "execution_count": 20,
   "metadata": {
    "collapsed": false
   },
   "outputs": [
    {
     "name": "stdout",
     "output_type": "stream",
     "text": [
      "Devices not found\n"
     ]
    }
   ],
   "source": [
    "try:\n",
    "    dmm = rm.open_resource('GPB0::3::INSTR')\n",
    "except visa.VisaIOError:\n",
    "    self.log.error('GPIO device not found')\n"
   ]
  },
  {
   "cell_type": "code",
   "execution_count": null,
   "metadata": {
    "collapsed": true
   },
   "outputs": [],
   "source": [
    "'''\n",
    "\n",
    "When using the GPIB interface, serial polling may be used to\n",
    "check the Interface Ready \n",
    "bit in the Serial Poll Byte while an operation is in progress. After the Interface Ready bit \n",
    "becomes set, \n",
    "signaling\n",
    "the completion of the command, then the ERR or ESB bit may be \n",
    "checked to verify successful completion of the command\n",
    "\n",
    "http://www.thinksrs.com/downloads/PDFs/Manuals/SR865Am.pdf\n",
    "\n",
    "A command to the \n",
    "SR865A\n",
    "consist\n",
    "s of a command mnemonic, a space followed by \n",
    "arguments if necessary, and a command terminator. \n",
    "There MUST be at least one space \n",
    "between the command and the first argument.\n",
    "\n",
    "\n",
    "The command\n",
    "terminator must be a \n",
    "linefeed <lf> on \n",
    "RS-232\n",
    ", or a linefeed <lf> or EOI on GPIB. No command processing \n",
    "occurs until a command terminator is received\n",
    "\n",
    "\n",
    "Multiple commands may be sent separated with semicolons ; \n",
    "\n",
    "\n",
    "No space between command and ?\n",
    "\n",
    "\n",
    "Command and arguments may be in either upper or lower case\n",
    "\n",
    "Base unit volts\n",
    "\n",
    "AUXV? 2  returns aux out3 in v\n",
    "\n",
    "AUXV 2, 0.6789 sets aux3 out to that voltage\n",
    "\n",
    "\n",
    "'''"
   ]
  }
 ],
 "metadata": {
  "kernelspec": {
   "display_name": "Qudi",
   "language": "python",
   "name": "qudi"
  },
  "language_info": {
   "codemirror_mode": {
    "name": "ipython",
    "version": "3.6.0"
   },
   "file_extension": ".py",
   "mimetype": "text/x-python",
   "name": "python",
   "nbconvert_exporter": "python",
   "pygments_lexer": "ipython3",
   "version": "3.6.0"
  }
 },
 "nbformat": 4,
 "nbformat_minor": 2
}
