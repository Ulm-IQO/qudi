{
 "cells": [
  {
   "cell_type": "markdown",
   "metadata": {},
   "source": [
    "# Import"
   ]
  },
  {
   "cell_type": "code",
   "execution_count": 1,
   "metadata": {
    "collapsed": true
   },
   "outputs": [],
   "source": [
    "from logic.sequence_generator_logic import Pulse_Block_Element, Pulse_Block, Pulse_Block_Ensemble\n",
    "import time"
   ]
  },
  {
   "cell_type": "markdown",
   "metadata": {},
   "source": [
    "# Load modules"
   ]
  },
  {
   "cell_type": "code",
   "execution_count": 2,
   "metadata": {
    "collapsed": false
   },
   "outputs": [
    {
     "name": "stdout",
     "output_type": "stream",
     "text": [
      "Loading module \".hardware.awg.tektronix_awg70k\"\n",
      "Configuring AWG70K as pulser\n",
      "<module 'hardware.awg.tektronix_awg70k' from 'C:\\\\Software\\\\qudi\\\\hardware\\\\awg\\\\tektronix_awg70k.py'> AWG70K\n",
      "Loading module \".logic.sequence_generator_logic\"\n",
      "Configuring SequenceGeneratorLogic as sequencegenerator\n",
      "<module 'logic.sequence_generator_logic' from 'C:\\\\Software\\\\qudi\\\\logic\\\\sequence_generator_logic.py'> SequenceGeneratorLogic\n",
      "Loading module \".hardware.ni_card\"\n",
      "Configuring NICard as nicard\n",
      "<module 'hardware.ni_card' from 'C:\\\\Software\\\\qudi\\\\hardware\\\\ni_card.py'> NICard\n",
      "Loading module \".hardware.fpga_fastcounter.fast_counter_fpga_pi3\"\n",
      "Configuring FastCounterFGAPiP3 as fastcounter\n",
      "<module 'hardware.fpga_fastcounter.fast_counter_fpga_pi3' from 'C:\\\\Software\\\\qudi\\\\hardware\\\\fpga_fastcounter\\\\fast_counter_fpga_pi3.py'> FastCounterFGAPiP3\n",
      "Loading module \".logic.pulse_extraction_logic\"\n",
      "Configuring PulseExtractionLogic as pulseextraction\n",
      "<module 'logic.pulse_extraction_logic' from 'C:\\\\Software\\\\qudi\\\\logic\\\\pulse_extraction_logic.py'> PulseExtractionLogic\n",
      "Loading module \".hardware.microwave.mw_source_dummy\"\n",
      "Configuring MicrowaveDummy as microwave\n",
      "<module 'hardware.microwave.mw_source_dummy' from 'C:\\\\Software\\\\qudi\\\\hardware\\\\microwave\\\\mw_source_dummy.py'> MicrowaveDummy\n",
      "Loading module \".logic.save_logic\"\n",
      "Configuring SaveLogic as save\n",
      "<module 'logic.save_logic' from 'C:\\\\Software\\\\qudi\\\\logic\\\\save_logic.py'> SaveLogic\n",
      "Loading module \".logic.confocal_logic\"\n",
      "Configuring ConfocalLogic as scanner\n",
      "<module 'logic.confocal_logic' from 'C:\\\\Software\\\\qudi\\\\logic\\\\confocal_logic.py'> ConfocalLogic\n",
      "Loading module \".logic.fit_logic\"\n",
      "Configuring FitLogic as fit\n",
      "<module 'logic.fit_logic' from 'C:\\\\Software\\\\qudi\\\\logic\\\\fit_logic.py'> FitLogic\n",
      "Loading module \".logic.optimizer_logic\"\n",
      "Configuring OptimizerLogic as optimizer\n",
      "<module 'logic.optimizer_logic' from 'C:\\\\Software\\\\qudi\\\\logic\\\\optimizer_logic.py'> OptimizerLogic\n",
      "Loading module \".logic.pulse_analysis_logic\"\n",
      "Configuring PulseAnalysisLogic as pulseanalysis\n",
      "<module 'logic.pulse_analysis_logic' from 'C:\\\\Software\\\\qudi\\\\logic\\\\pulse_analysis_logic.py'> PulseAnalysisLogic\n",
      "Loading module \".logic.pulsed_measurement_logic\"\n",
      "Configuring PulsedMeasurementLogic as pulsedmeasurement\n",
      "<module 'logic.pulsed_measurement_logic' from 'C:\\\\Software\\\\qudi\\\\logic\\\\pulsed_measurement_logic.py'> PulsedMeasurementLogic\n"
     ]
    },
    {
     "data": {
      "text/plain": [
       "0"
      ]
     },
     "execution_count": 2,
     "metadata": {},
     "output_type": "execute_result"
    }
   ],
   "source": [
    "manager.startModule('logic', 'sequencegenerator')\n",
    "manager.startModule('logic', 'pulsedmeasurement')"
   ]
  },
  {
   "cell_type": "markdown",
   "metadata": {},
   "source": [
    "# Input parameters"
   ]
  },
  {
   "cell_type": "code",
   "execution_count": 3,
   "metadata": {
    "collapsed": true
   },
   "outputs": [],
   "source": [
    "# static hardware parameters:\n",
    "mrkr_idle = [False, False, False, False]\n",
    "mrkr_laser_detect = [False, False, True, True]\n",
    "mrkr_laser = [False, False, False, True]\n",
    "mrkr_detect = [False, False, True, False]\n",
    "mrkr_seqtrig = [True, False, False, False]\n",
    "activation_config = ['a_ch1', 'd_ch1', 'a_ch2', 'd_ch3', 'd_ch4']\n",
    "sampling_freq = 25e9\n",
    "fc_binwidth = 1e-9\n",
    "aom_delay = 800e-9\n",
    "seqtrig_time = 20e-9\n",
    "seqtrig_safety = 100e-9\n",
    "# convert time intervals to integer number of samples\n",
    "aom_bins = int(np.rint(aom_delay*sampling_freq))\n",
    "seqtrig_bins = int(np.rint(seqtrig_time*sampling_freq))\n",
    "seqtrig_safety_bins = int(np.rint(seqtrig_safety*sampling_freq))\n",
    "\n",
    "\n",
    "# measurement start input parameters\n",
    "# for pulsed ODMR:\n",
    "odmr_laser_length = 3000e-9\n",
    "odmr_wait_time = 1000e-9\n",
    "odmr_mw_amp = 0.075\n",
    "odmr_pi = 300e-9\n",
    "odmr_resonance_freq = 968.068e6\n",
    "odmr_freq_res = 200e3\n",
    "odmr_points = 100\n",
    "odmr_measurement_time = 600\n",
    "# for Rabi:\n",
    "rabi_laser_length = 3000e-9\n",
    "rabi_wait_time = 1000e-9\n",
    "rabi_mw_amp = 0.05\n",
    "rabi_mw_freq = 968.068e6\n",
    "rabi_tau_start = 10e-9\n",
    "rabi_tau_res = 20e-9\n",
    "rabi_points = 100\n",
    "rabi_measurement_time = 60\n"
   ]
  },
  {
   "cell_type": "markdown",
   "metadata": {},
   "source": [
    "# Method definitions"
   ]
  },
  {
   "cell_type": "markdown",
   "metadata": {},
   "source": [
    "### sequence generation methods:"
   ]
  },
  {
   "cell_type": "code",
   "execution_count": 4,
   "metadata": {
    "collapsed": false
   },
   "outputs": [],
   "source": [
    "def generate_pulsed_odmr(laser_time, wait_time, mw_pi_time, mw_amp, center_freq, freq_res, num_of_points):\n",
    "    \"\"\"\n",
    "    This method generates the Pulse_Block_Ensemble object defining a pulsed ODMR measurement.\n",
    "    \"\"\"\n",
    "    # Create ticks array\n",
    "    start_freq = center_freq - (num_of_points//2)*freq_res\n",
    "    freq_arr = start_freq + np.array(range(num_of_points))*freq_res\n",
    "    # Convert times into number of samples\n",
    "    laser_bins = int(np.rint(laser_time*sampling_freq))\n",
    "    wait_bins = int(np.rint(wait_time*sampling_freq))\n",
    "    mw_pi_bins = int(np.rint(mw_pi_time*sampling_freq))\n",
    "    # Create parameter sets\n",
    "    param_idle = [{},{}]\n",
    "    param_mw = [{},{}]\n",
    "    param_mw[0]['amplitude1'] = mw_amp\n",
    "    param_mw[0]['phase1'] = 0\n",
    "\n",
    "    # Create ODMR Pulse_Block object and Pulse_Block_Elements\n",
    "    laser_detect_element = Pulse_Block_Element(laser_bins, 2, 4, 0, ['Idle', 'Idle'], mrkr_laser_detect, param_idle)\n",
    "    detect_element = Pulse_Block_Element(aom_bins, 2, 4, 0, ['Idle', 'Idle'], mrkr_detect, param_idle)\n",
    "    wait_element = Pulse_Block_Element(wait_bins, 2, 4, 0, ['Idle', 'Idle'], mrkr_idle, param_idle)\n",
    "\n",
    "    odmr_elements = []\n",
    "    for n in range(num_of_points):\n",
    "        param_tmp = [param_mw[0].copy(), {}]\n",
    "        param_tmp[0]['frequency1'] = freq_arr[n]\n",
    "        mw_element = Pulse_Block_Element(mw_pi_bins, 2, 4, 0, ['Sin', 'Idle'], mrkr_idle, param_tmp)\n",
    "\n",
    "        odmr_elements.append(mw_element)\n",
    "        odmr_elements.append(laser_detect_element)\n",
    "        odmr_elements.append(detect_element)\n",
    "        odmr_elements.append(wait_element)\n",
    "\n",
    "    odmr_block = Pulse_Block('pulsedodmr_block', odmr_elements, 2)\n",
    "\n",
    "    # Create sequence trigger Pulse_Block object and Pulse_Block_Elements\n",
    "    laser_element = Pulse_Block_Element(laser_bins, 2, 4, 0, ['Idle', 'Idle'], mrkr_laser, param_idle)\n",
    "    seqtrig_element = Pulse_Block_Element(seqtrig_bins, 2, 4, 0, ['Idle', 'Idle'], mrkr_seqtrig, param_idle)\n",
    "    safety_element = Pulse_Block_Element(seqtrig_safety_bins, 2, 4, 0, ['Idle', 'Idle'], mrkr_idle, param_idle)\n",
    "    wait_element = Pulse_Block_Element(wait_bins, 2, 4, 0, ['Idle', 'Idle'], mrkr_idle, param_idle)\n",
    "\n",
    "    seqtrig_elements = []\n",
    "    seqtrig_elements.append(safety_element)\n",
    "    seqtrig_elements.append(seqtrig_element)\n",
    "    seqtrig_elements.append(safety_element)\n",
    "    seqtrig_elements.append(laser_element)\n",
    "    seqtrig_elements.append(wait_element)\n",
    "\n",
    "    seqtrig_block = Pulse_Block('pulsedodmr_seqtrig_laser_block', seqtrig_elements, 2)\n",
    "\n",
    "    # Create Pulse_Block_Ensemble for pulsed ODMR\n",
    "    block_list = [(seqtrig_block, 0), (odmr_block, 0)]\n",
    "    pulsed_odmr_ensemble = Pulse_Block_Ensemble('pulsed_odmr', block_list, 2, True)\n",
    "    pulsed_odmr_ensemble.measurement_ticks_list = freq_arr\n",
    "\n",
    "    # Save blocks and ensembles to file\n",
    "    sequencegenerator.save_block('pulsedodmr_block', odmr_block)\n",
    "    sequencegenerator.save_block('pulsedodmr_seqtrig_laser_block', seqtrig_block)\n",
    "    sequencegenerator.save_ensemble('pulsed_odmr', pulsed_odmr_ensemble)\n",
    "    return\n",
    "\n",
    "def generate_rabi(laser_time, wait_time, mw_freq, mw_amp, start_tau, tau_res, num_of_points):\n",
    "    \"\"\"\n",
    "    This method generates the Pulse_Block_Ensemble object defining a rabi measurement.\n",
    "    \"\"\"\n",
    "    # Create ticks array\n",
    "    tau_arr = start_tau + np.array(range(num_of_points))*tau_res\n",
    "    # Convert times into number of samples\n",
    "    laser_bins = int(np.rint(laser_time*sampling_freq))\n",
    "    wait_bins = int(np.rint(wait_time*sampling_freq))\n",
    "    tau_arr_bins = np.rint(tau_arr*sampling_freq).astype(int)\n",
    "    # Create parameter sets\n",
    "    param_idle = [{},{}]\n",
    "    param_mw = [{},{}]\n",
    "    param_mw[0]['frequency1'] = mw_freq\n",
    "    param_mw[0]['amplitude1'] = mw_amp\n",
    "    param_mw[0]['phase1'] = 0\n",
    "    \n",
    "    # Create rabi Pulse_Block object and Pulse_Block_Elements\n",
    "    laser_detect_element = Pulse_Block_Element(laser_bins, 2, 4, 0, ['Idle', 'Idle'], mrkr_laser_detect, param_idle)\n",
    "    detect_element = Pulse_Block_Element(aom_bins, 2, 4, 0, ['Idle', 'Idle'], mrkr_detect, param_idle)\n",
    "    wait_element = Pulse_Block_Element(wait_bins, 2, 4, 0, ['Idle', 'Idle'], mrkr_idle, param_idle)\n",
    "\n",
    "    rabi_elements = []\n",
    "    for tau in tau_arr_bins:\n",
    "        mw_element = Pulse_Block_Element(tau, 2, 4, 0, ['Sin', 'Idle'], mrkr_idle, param_mw)\n",
    "\n",
    "        rabi_elements.append(mw_element)\n",
    "        rabi_elements.append(laser_detect_element)\n",
    "        rabi_elements.append(detect_element)\n",
    "        rabi_elements.append(wait_element)\n",
    "\n",
    "    rabi_block = Pulse_Block('rabi_block', rabi_elements, 2)\n",
    "\n",
    "    # Create sequence trigger Pulse_Block object and Pulse_Block_Elements\n",
    "    laser_element = Pulse_Block_Element(laser_bins, 2, 4, 0, ['Idle', 'Idle'], mrkr_laser, param_idle)\n",
    "    seqtrig_element = Pulse_Block_Element(seqtrig_bins, 2, 4, 0, ['Idle', 'Idle'], mrkr_seqtrig, param_idle)\n",
    "    safety_element = Pulse_Block_Element(seqtrig_safety_bins, 2, 4, 0, ['Idle', 'Idle'], mrkr_idle, param_idle)\n",
    "    wait_element = Pulse_Block_Element(wait_bins, 2, 4, 0, ['Idle', 'Idle'], mrkr_idle, param_idle)\n",
    "\n",
    "    seqtrig_elements = []\n",
    "    seqtrig_elements.append(safety_element)\n",
    "    seqtrig_elements.append(seqtrig_element)\n",
    "    seqtrig_elements.append(safety_element)\n",
    "    seqtrig_elements.append(laser_element)\n",
    "    seqtrig_elements.append(wait_element)\n",
    "\n",
    "    seqtrig_block = Pulse_Block('rabi_seqtrig_laser_block', seqtrig_elements, 2)\n",
    "    \n",
    "    # Create Pulse_Block_Ensemble for rabi\n",
    "    block_list = [(seqtrig_block, 0), (rabi_block, 0)]\n",
    "    rabi_ensemble = Pulse_Block_Ensemble('rabi', block_list, 2, True)\n",
    "    rabi_ensemble.measurement_ticks_list = tau_arr\n",
    "\n",
    "    # Save blocks and ensembles to file\n",
    "    sequencegenerator.save_block('rabi_block', rabi_block)\n",
    "    sequencegenerator.save_block('rabi_seqtrig_laser_block', seqtrig_block)\n",
    "    sequencegenerator.save_ensemble('rabi', rabi_ensemble)\n",
    "    return"
   ]
  },
  {
   "cell_type": "markdown",
   "metadata": {},
   "source": [
    "### Measurement methods:"
   ]
  },
  {
   "cell_type": "code",
   "execution_count": 5,
   "metadata": {
    "collapsed": false
   },
   "outputs": [],
   "source": [
    "def do_rabi():\n",
    "    \"\"\"\n",
    "    This method performs a Rabi measurement and returns the pi and pi/2 times in s as well as the period in Hz\n",
    "    \"\"\"\n",
    "    # Generate rabi\n",
    "    generate_rabi(rabi_laser_length, rabi_wait_time, rabi_mw_freq, rabi_mw_amp, rabi_tau_start, rabi_tau_res, rabi_points)\n",
    "    # Sample and upload to AWG\n",
    "    sequencegenerator.sample_pulse_block_ensemble('rabi', True, False)\n",
    "    sequencegenerator.upload_asset('rabi')\n",
    "    # Load into AWG channels\n",
    "    pulser.load_asset('rabi')\n",
    "    \n",
    "    # Get ensemble object to have all parameters\n",
    "    rabi_ens = sequencegenerator.get_pulse_block_ensemble('rabi', True)\n",
    "    # Set up measurement parameters in logic\n",
    "    pulsedmeasurement.aom_delay_s = aom_delay\n",
    "    pulsedmeasurement.laser_length_s = rabi_laser_length\n",
    "    pulsedmeasurement.number_of_lasers = rabi_points\n",
    "    pulsedmeasurement.fast_counter_binwidth = fc_binwidth\n",
    "    pulsedmeasurement.signal_start_bin = 5\n",
    "    pulsedmeasurement.signal_width_bin = 200\n",
    "    pulsedmeasurement.norm_start_bin = 1500\n",
    "    pulsedmeasurement.norm_width_bin = 1000\n",
    "    pulsedmeasurement.measurement_ticks_list = rabi_ens.measurement_ticks_list\n",
    "    pulsedmeasurement.timer_interval = 3\n",
    "    \n",
    "    # Configure fast counter\n",
    "    pulsedmeasurement.configure_fast_counter()\n",
    "    \n",
    "    # Start measurement\n",
    "    pulsedmeasurement.start_pulsed_measurement()\n",
    "    time.sleep(rabi_measurement_time)\n",
    "    # Stop measurement\n",
    "    pulsedmeasurement.stop_pulsed_measurement()\n",
    "    # Save data\n",
    "    pulsedmeasurement._save_data(tag = 'rabi')\n",
    "    \n",
    "    # Fit data\n",
    "    fit_x, fit_y, fit_result = pulsedmeasurement.do_fit('Sine')\n",
    "    return fit_x, fit_y, fit_result\n",
    "\n",
    "def do_odmr():\n",
    "    \"\"\"\n",
    "    This method performs a pulsed ODMR measurement and returns the resonance frequency and line width in Hz \n",
    "    as well as the contrast in %.\n",
    "    \"\"\"\n",
    "    # Generate pulsed ODMR\n",
    "    generate_pulsed_odmr(odmr_laser_length, odmr_wait_time, odmr_pi, odmr_mw_amp, odmr_resonance_freq, odmr_freq_res, odmr_points)\n",
    "    # Sample and upload to AWG\n",
    "    sequencegenerator.sample_pulse_block_ensemble('pulsed_odmr', True, False)\n",
    "    pulser.upload_asset('pulsed_odmr')\n",
    "    # Load into AWG channels\n",
    "    pulser.load_asset('pulsed_odmr')\n",
    "    \n",
    "    # Get ensemble object to have all parameters\n",
    "    odmr_ens = sequencegenerator.get_pulse_block_ensemble('pulsed_odmr', True)\n",
    "    # Set up measurement parameters in logic\n",
    "    pulsedmeasurement.aom_delay_s = aom_delay\n",
    "    pulsedmeasurement.laser_length_s = odmr_laser_length\n",
    "    pulsedmeasurement.sequence_length_s = odmr_ens.length_bins/sampling_freq\n",
    "    pulsedmeasurement.number_of_lasers = odmr_points\n",
    "    pulsedmeasurement.fast_counter_binwidth = fc_binwidth\n",
    "    pulsedmeasurement.signal_start_bin = 5\n",
    "    pulsedmeasurement.signal_width_bin = 200\n",
    "    pulsedmeasurement.norm_start_bin = 1500\n",
    "    pulsedmeasurement.norm_width_bin = 1000\n",
    "    pulsedmeasurement.measurement_ticks_list = odmr_ens.measurement_ticks_list\n",
    "    pulsedmeasurement.timer_interval = 3\n",
    "    \n",
    "    # Configure fast counter\n",
    "    pulsedmeasurement.configure_fast_counter()\n",
    "    \n",
    "    # Start measurement\n",
    "    pulsedmeasurement.start_pulsed_measurement()\n",
    "    time.sleep(odmr_measurement_time)\n",
    "    # Stop measurement\n",
    "    pulsedmeasurement.stop_pulsed_measurement()\n",
    "    # Save data\n",
    "    pulsedmeasurement._save_data(tag = 'pulsed_odmr')\n",
    "    \n",
    "    # Fit data\n",
    "    fit_x, fit_y, fit_result = pulsedmeasurement.do_fit('Lorentian (neg)')\n",
    "    return fit_x, fit_y, fit_result"
   ]
  },
  {
   "cell_type": "markdown",
   "metadata": {},
   "source": [
    "# Set up AWG"
   ]
  },
  {
   "cell_type": "code",
   "execution_count": 6,
   "metadata": {
    "collapsed": false
   },
   "outputs": [],
   "source": [
    "# active channels:\n",
    "current_channel_state = pulser.get_active_channels()\n",
    "future_channel_state = current_channel_state.copy()\n",
    "for chnl in future_channel_state:\n",
    "    if chnl in activation_config:\n",
    "        future_channel_state[chnl] = True\n",
    "    else:\n",
    "        future_channel_state[chnl] = False\n",
    "        \n",
    "if current_channel_state != future_channel_state:\n",
    "    pulser.set_active_channels(future_channel_state)\n",
    "    print('Set/changed active channels in HW.')\n",
    "\n",
    "# sample rate:\n",
    "current_sample_rate = pulser.get_sample_rate()\n",
    "if current_sample_rate != sampling_freq:\n",
    "    pulser.set_sample_rate(sampling_freq)\n",
    "    print('Set/changed sample rate in HW.')\n",
    "    \n",
    "# clear AWG:\n",
    "pulser.clear_all()\n",
    "\n",
    "# sample mode:\n",
    "current_mode = pulser.current_sample_mode\n",
    "if current_mode != pulser.sample_mode['wfmx-file']:\n",
    "    pulser.current_sample_mode = pulser.sample_mode['wfmx-file']"
   ]
  },
  {
   "cell_type": "markdown",
   "metadata": {},
   "source": [
    "# Perform measurements"
   ]
  },
  {
   "cell_type": "code",
   "execution_count": 8,
   "metadata": {
    "collapsed": false
   },
   "outputs": [
    {
     "name": "stderr",
     "output_type": "stream",
     "text": [
      "Traceback (most recent call last):\n",
      "  File \"C:\\Software\\qudi\\logic\\jupyterkernel\\qzmqkernel.py\", line 789, in run_code\n",
      "    exec(code_obj, self.user_global_ns, self.user_ns)\n",
      "  File \"<ipython-input-8-8aed31f2c315>\", line 2, in <module>\n",
      "    odmr_fit_x, odmr_fit_y, odmr_fit_result = do_odmr()\n",
      "  File \"<ipython-input-5-2c3607c9eea6>\", line 81, in do_odmr\n",
      "    fit_x, fit_y, fit_result = pulsedmeasurement.do_fit('Lorentian (neg)')\n",
      "  File \"C:\\Software\\qudi\\logic\\pulsed_measurement_logic.py\", line 798, in do_fit\n",
      "    error_per = 1/(result.params['frequency'].value/1e9)**2 * result.params['frequency'].stderr/1e9\n",
      "ZeroDivisionError: float division by zero\n"
     ]
    }
   ],
   "source": [
    "\n",
    "odmr_fit_x, odmr_fit_y, odmr_fit_result = do_odmr()\n",
    "\n",
    "#rabi_fit_x, rabi_fit_y, rabi_fit_result = do_rabi()\n",
    "\n",
    "\n",
    "# first perform an ODMR measurement\n",
    "#new_freq, new_linewidth, contrast = do_odmr()\n",
    "#if contrast < 5:\n",
    "#    print('====================\\nWARNING: ODMR FAILED!!!\\n====================')\n",
    "#    print('ODMR result:\\nfrequency = {0} Hz, linewidth = {1} Hz, contrast = {2} %'.format(new_freq, new_linewidth, contrast))\n",
    "#else:\n",
    "#    while new_linewidth > 200e3:\n",
    "#        new_freq, new_linewidth, contrast = do_odmr()\n",
    "#        print('ODMR result:\\nfrequency = {0} Hz, linewidth = {1} Hz, contrast = {2} %'.format(new_freq, new_linewidth, contrast))\n",
    "#\n",
    "#        rabi_mw_amp = 0.75*odmr_mw_amp\n",
    "#        rabi_mw_freq = new_freq\n",
    "#        odmr_resonance_freq = new_freq\n",
    "#        odmr_freq_res = new_linewidth/10\n",
    "#\n",
    "#        pihalf, pi, rabi_period, contrast = do_rabi()\n",
    "#        print('Rabi result:\\npihalf = {0} s, pi = {1} s, period = {2} s'.format(pihalf, pi, rabi_period))\n",
    "#        \n",
    "#        odmr_pi = pi\n",
    "#        odmr_mw_amp = rabi_mw_amp"
   ]
  },
  {
   "cell_type": "code",
   "execution_count": null,
   "metadata": {
    "collapsed": true
   },
   "outputs": [],
   "source": []
  }
 ],
 "metadata": {
  "kernelspec": {
   "display_name": "Qudi",
   "language": "python",
   "name": "qudi"
  },
  "language_info": {
   "codemirror_mode": {
    "name": "ipython",
    "version": "3.4.4"
   },
   "file_extension": ".py",
   "mimetype": "text/x-python",
   "name": "python",
   "nbconvert_exporter": "python",
   "pygments_lexer": "ipython3",
   "version": "3.4.4"
  }
 },
 "nbformat": 4,
 "nbformat_minor": 0
}
