{
 "cells": [
  {
   "cell_type": "markdown",
   "metadata": {},
   "source": [
    "# Script for fitting N14 from pulsed odmr"
   ]
  },
  {
   "cell_type": "code",
   "execution_count": 1,
   "metadata": {
    "collapsed": true
   },
   "outputs": [],
   "source": [
    "import pylab as pb\n",
    "import time"
   ]
  },
  {
   "cell_type": "code",
   "execution_count": 2,
   "metadata": {
    "collapsed": false
   },
   "outputs": [
    {
     "data": {
      "image/png": "[encoded data removed]"
     },
     "metadata": {
      "image/png": {
       "height": 381,
       "width": 549
      }
     },
     "output_type": "display_data"
    }
   ],
   "source": [
    "pb.plot(pulsedmeasurement.signal_plot_x, pulsedmeasurement.signal_plot_y)\n",
    "pb.show()"
   ]
  },
  {
   "cell_type": "code",
   "execution_count": 3,
   "metadata": {
    "collapsed": false
   },
   "outputs": [],
   "source": [
    "# multiply the x axis with whatever scaling factor you have\n",
    "\n",
    "freqs = pulsedmeasurement.signal_plot_x * 10**6\n",
    "norm_vals = pulsedmeasurement.signal_plot_y"
   ]
  },
  {
   "cell_type": "code",
   "execution_count": 4,
   "metadata": {
    "collapsed": false
   },
   "outputs": [],
   "source": [
    "results = fitlogic.make_N14_fit(axis=freqs, data=norm_vals)"
   ]
  },
  {
   "cell_type": "code",
   "execution_count": 5,
   "metadata": {
    "collapsed": false
   },
   "outputs": [],
   "source": [
    "mod, params = fitlogic.make_multiplelorentzian_model(no_of_lor=3)"
   ]
  },
  {
   "cell_type": "code",
   "execution_count": 6,
   "metadata": {
    "collapsed": false
   },
   "outputs": [
    {
     "data": {
      "text/plain": [
       "<class 'lmfit.model.CompositeModel'>"
      ]
     },
     "execution_count": 6,
     "metadata": {},
     "output_type": "execute_result"
    }
   ],
   "source": [
    "type(mod)"
   ]
  },
  {
   "cell_type": "code",
   "execution_count": 7,
   "metadata": {
    "collapsed": false
   },
   "outputs": [
    {
     "name": "stdout",
     "output_type": "stream",
     "text": [
      "Name                   Value      Min      Max   Stderr     Vary     Expr\n",
      "c                      1.031     -inf      inf 0.002403     True     None\n",
      "lorentz0_amplitude  -9.092e+04     -inf   -1e-06 1.935e+04     True     None\n",
      "lorentz0_center     1.795e+10     -inf      inf 5.496e+04     True     None\n",
      "lorentz0_sigma      3.258e+05  7.5e+04 2.97e+07 6.619e+04     True     None\n",
      "lorentz1_amplitude  -9.618e+04     -inf   -1e-06 1.907e+04     True     None\n",
      "lorentz1_center     1.795e+10     -inf      inf 5.496e+04    False lorentz0_center+2.15*1e6\n",
      "lorentz1_sigma      3.258e+05  7.5e+04 2.97e+07 6.619e+04    False lorentz0_sigma\n",
      "lorentz2_amplitude  -6.129e+04     -inf   -1e-06 1.772e+04     True     None\n",
      "lorentz2_center     1.796e+10     -inf      inf 5.496e+04    False lorentz0_center+4.3*1e6\n",
      "lorentz2_sigma      3.258e+05  7.5e+04 2.97e+07 6.619e+04    False lorentz0_sigma\n"
     ]
    }
   ],
   "source": [
    "results.params.pretty_print()"
   ]
  },
  {
   "cell_type": "code",
   "execution_count": 8,
   "metadata": {
    "collapsed": false
   },
   "outputs": [
    {
     "data": {
      "text/plain": [
       "(17951708743.68941, 17953858743.68941, 17956008743.68941)"
      ]
     },
     "execution_count": 8,
     "metadata": {},
     "output_type": "execute_result"
    }
   ],
   "source": [
    "# values of the center peaks\n",
    "results.params['lorentz0_center'].value, results.params['lorentz1_center'].value, results.params['lorentz2_center'].value"
   ]
  },
  {
   "cell_type": "code",
   "execution_count": 9,
   "metadata": {
    "collapsed": false
   },
   "outputs": [
    {
     "name": "stdout",
     "output_type": "stream",
     "text": [
      "Name                   Value      Min      Max   Stderr     Vary     Expr\n",
      "c                      1.031     -inf      inf 0.002403     True     None\n",
      "lorentz0_amplitude  -9.092e+04     -inf   -1e-06 1.935e+04     True     None\n",
      "lorentz0_center     1.795e+10     -inf      inf 5.496e+04     True     None\n",
      "lorentz0_sigma      3.258e+05  7.5e+04 2.97e+07 6.619e+04     True     None\n",
      "lorentz1_amplitude  -9.618e+04     -inf   -1e-06 1.907e+04     True     None\n",
      "lorentz1_center     1.795e+10     -inf      inf 5.496e+04    False lorentz0_center+2.15*1e6\n",
      "lorentz1_sigma      3.258e+05  7.5e+04 2.97e+07 6.619e+04    False lorentz0_sigma\n",
      "lorentz2_amplitude  -6.129e+04     -inf   -1e-06 1.772e+04     True     None\n",
      "lorentz2_center     1.796e+10     -inf      inf 5.496e+04    False lorentz0_center+4.3*1e6\n",
      "lorentz2_sigma      3.258e+05  7.5e+04 2.97e+07 6.619e+04    False lorentz0_sigma\n"
     ]
    }
   ],
   "source": [
    "results.params.pretty_print()"
   ]
  },
  {
   "cell_type": "code",
   "execution_count": 10,
   "metadata": {
    "collapsed": true
   },
   "outputs": [],
   "source": [
    "a0 = results.params['c'] + results.params['lorentz0_amplitude']/(results.params['lorentz0_sigma'] * np.pi)\n",
    "a1 = results.params['c'] + results.params['lorentz1_amplitude']/(results.params['lorentz1_sigma'] * np.pi)\n",
    "a2 = results.params['c'] + results.params['lorentz2_amplitude']/(results.params['lorentz2_sigma'] * np.pi)"
   ]
  },
  {
   "cell_type": "code",
   "execution_count": 11,
   "metadata": {
    "collapsed": false
   },
   "outputs": [
    {
     "data": {
      "image/png": "[encoded data removed]"
     },
     "metadata": {
      "image/png": {
       "height": 381,
       "width": 550
      }
     },
     "output_type": "display_data"
    }
   ],
   "source": [
    "pb.plot(freqs, pulsedmeasurement.signal_plot_y, 'o')\n",
    "pb.plot(freqs, results.eval())\n",
    "pb.plot([results.params['lorentz0_center'].value, results.params['lorentz0_center'].value], [a0, results.params['c'].value], 'r')\n",
    "pb.plot([results.params['lorentz1_center'].value, results.params['lorentz1_center'].value], [a1, results.params['c'].value], 'b')\n",
    "pb.plot([results.params['lorentz2_center'].value, results.params['lorentz2_center'].value], [a2, results.params['c'].value], 'k')\n",
    "pb.show()"
   ]
  },
  {
   "cell_type": "code",
   "execution_count": 12,
   "metadata": {
    "collapsed": false
   },
   "outputs": [
    {
     "data": {
      "text/plain": [
       "(0.08611664665094203, 0.09109838726776659, 0.05805026316111551)"
      ]
     },
     "execution_count": 12,
     "metadata": {},
     "output_type": "execute_result"
    }
   ],
   "source": [
    "# calculate sum of contrast \n",
    "c0 = (results.params['c'].value - a0) / results.params['c']\n",
    "c1 = (results.params['c'].value - a1) / results.params['c']\n",
    "c2 = (results.params['c'].value - a2) / results.params['c']\n",
    "c0, c1, c2"
   ]
  },
  {
   "cell_type": "code",
   "execution_count": null,
   "metadata": {
    "collapsed": false
   },
   "outputs": [],
   "source": [
    "# summed contrasts\n",
    "c0 + c1 + c2"
   ]
  },
  {
   "cell_type": "code",
   "execution_count": null,
   "metadata": {
    "collapsed": false
   },
   "outputs": [],
   "source": [
    "results.params['c'].value"
   ]
  },
  {
   "cell_type": "code",
   "execution_count": null,
   "metadata": {
    "collapsed": false
   },
   "outputs": [],
   "source": [
    "results.params['c'] + results.params['lorentz0_amplitude']/(results.params['lorentz0_sigma'] * np.pi)"
   ]
  },
  {
   "cell_type": "code",
   "execution_count": null,
   "metadata": {
    "collapsed": true
   },
   "outputs": [],
   "source": []
  }
 ],
 "metadata": {
  "kernelspec": {
   "display_name": "QuDi",
   "language": "python",
   "name": "qudi"
  },
  "language_info": {
   "codemirror_mode": {
    "name": "ipython",
    "version": "3.5.2"
   },
   "file_extension": ".py",
   "mimetype": "text/x-python",
   "name": "python",
   "nbconvert_exporter": "python",
   "pygments_lexer": "ipython3",
   "version": "3.5.2"
  }
 },
 "nbformat": 4,
 "nbformat_minor": 0
}
