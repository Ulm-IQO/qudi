{
 "cells": [
  {
   "cell_type": "markdown",
   "metadata": {},
   "source": [
    "# Script for fitting N14 from pulsed odmr"
   ]
  },
  {
   "cell_type": "code",
   "execution_count": 1,
   "metadata": {
    "collapsed": true
   },
   "outputs": [],
   "source": [
    "import pylab as pb\n",
    "import time"
   ]
  },
  {
   "cell_type": "code",
   "execution_count": 2,
   "metadata": {
    "collapsed": false
   },
   "outputs": [
    {
     "ename": "NameError",
     "evalue": "name 'pulsedmeasurement' is not defined",
     "output_type": "error",
     "traceback": [
      "\u001b[1;31m---------------------------------------------------------------------------\u001b[0m",
      "\u001b[1;31mNameError\u001b[0m                                 Traceback (most recent call last)",
      "\u001b[1;32m<ipython-input-2-8a3f6a2432c1>\u001b[0m in \u001b[0;36m<module>\u001b[1;34m()\u001b[0m\n\u001b[1;32m----> 1\u001b[1;33m \u001b[0mpb\u001b[0m\u001b[1;33m.\u001b[0m\u001b[0mplot\u001b[0m\u001b[1;33m(\u001b[0m\u001b[0mpulsedmeasurement\u001b[0m\u001b[1;33m.\u001b[0m\u001b[0msignal_plot_x\u001b[0m\u001b[1;33m,\u001b[0m \u001b[0mpulsedmeasurement\u001b[0m\u001b[1;33m.\u001b[0m\u001b[0msignal_plot_y\u001b[0m\u001b[1;33m)\u001b[0m\u001b[1;33m\u001b[0m\u001b[0m\n\u001b[0m\u001b[0;32m      2\u001b[0m \u001b[0mpb\u001b[0m\u001b[1;33m.\u001b[0m\u001b[0mshow\u001b[0m\u001b[1;33m(\u001b[0m\u001b[1;33m)\u001b[0m\u001b[1;33m\u001b[0m\u001b[0m\n",
      "\u001b[1;31mNameError\u001b[0m: name 'pulsedmeasurement' is not defined"
     ]
    }
   ],
   "source": [
    "pb.plot(pulsedmeasurement.signal_plot_x, pulsedmeasurement.signal_plot_y)\n",
    "pb.show()"
   ]
  },
  {
   "cell_type": "code",
   "execution_count": 3,
   "metadata": {
    "collapsed": false
   },
   "outputs": [],
   "source": [
    "freqs = pulsedmeasurement.signal_plot_x * 10**6\n",
    "norm_vals = pulsedmeasurement.signal_plot_y"
   ]
  },
  {
   "cell_type": "code",
   "execution_count": 4,
   "metadata": {
    "collapsed": false
   },
   "outputs": [],
   "source": [
    "results = fitlogic.make_N14_fit(axis=freqs, data=norm_vals)"
   ]
  },
  {
   "cell_type": "code",
   "execution_count": 5,
   "metadata": {
    "collapsed": false
   },
   "outputs": [],
   "source": [
    "mod, params = fitlogic.make_multiplelorentzian_model(no_of_lor=3)"
   ]
  },
  {
   "cell_type": "code",
   "execution_count": 6,
   "metadata": {
    "collapsed": false
   },
   "outputs": [
    {
     "data": {
      "text/plain": [
       "<class 'lmfit.model.CompositeModel'>"
      ]
     },
     "execution_count": 6,
     "metadata": {},
     "output_type": "execute_result"
    }
   ],
   "source": [
    "type(mod)"
   ]
  },
  {
   "cell_type": "code",
   "execution_count": 7,
   "metadata": {
    "collapsed": false
   },
   "outputs": [
    {
     "name": "stdout",
     "output_type": "stream",
     "text": [
      "Name                   Value      Min      Max   Stderr     Vary     Expr\n",
      "c                     0.8861     -inf      inf 0.004801     True     None\n",
      "lorentz0_amplitude  -1.171e+05     -inf   -1e-06 2.07e+04     True     None\n",
      "lorentz0_center     1.597e+10     -inf      inf 4.165e+04     True     None\n",
      "lorentz0_sigma      3.945e+05  2.5e+04  9.9e+06 6.836e+04     True     None\n",
      "lorentz1_amplitude  -8.78e+04     -inf   -1e-06 1.739e+04     True     None\n",
      "lorentz1_center     1.597e+10     -inf      inf 4.165e+04    False lorentz0_center+2.15*1e6\n",
      "lorentz1_sigma      3.945e+05  2.5e+04  9.9e+06 6.836e+04    False lorentz0_sigma\n",
      "lorentz2_amplitude  -7.466e+04     -inf   -1e-06 1.79e+04     True     None\n",
      "lorentz2_center     1.597e+10     -inf      inf 4.165e+04    False lorentz0_center+4.3*1e6\n",
      "lorentz2_sigma      3.945e+05  2.5e+04  9.9e+06 6.836e+04    False lorentz0_sigma\n"
     ]
    }
   ],
   "source": [
    "results.params.pretty_print()"
   ]
  },
  {
   "cell_type": "code",
   "execution_count": 8,
   "metadata": {
    "collapsed": false
   },
   "outputs": [
    {
     "data": {
      "text/plain": [
       "15965510803.570164"
      ]
     },
     "execution_count": 8,
     "metadata": {},
     "output_type": "execute_result"
    }
   ],
   "source": [
    "results.params['lorentz0_center'].value"
   ]
  },
  {
   "cell_type": "code",
   "execution_count": 9,
   "metadata": {
    "collapsed": false
   },
   "outputs": [
    {
     "data": {
      "image/png": "[encoded data removed]"
     },
     "metadata": {
      "image/png": {
       "height": 381,
       "width": 550
      }
     },
     "output_type": "display_data"
    }
   ],
   "source": [
    "pb.plot(freqs, pulsedmeasurement.signal_plot_y, 'o')\n",
    "pb.plot(freqs, results.best_fit)\n",
    "pb.show()"
   ]
  },
  {
   "cell_type": "code",
   "execution_count": 33,
   "metadata": {
    "collapsed": false
   },
   "outputs": [
    {
     "data": {
      "text/plain": [
       "(7475563108.547321, 7477713108.547321, 7479863108.547321)"
      ]
     },
     "execution_count": 33,
     "metadata": {},
     "output_type": "execute_result"
    }
   ],
   "source": [
    "results.params['lorentz0_center'].value, results.params['lorentz1_center'].value, results.params['lorentz2_center'].value"
   ]
  },
  {
   "cell_type": "code",
   "execution_count": 28,
   "metadata": {
    "collapsed": true
   },
   "outputs": [],
   "source": [
    "while True:\n",
    "    time.wait(30)\n",
    "    confocal.refocus_clicked()"
   ]
  }
 ],
 "metadata": {
  "anaconda-cloud": {},
  "kernelspec": {
   "display_name": "Python [conda env:qudi]",
   "language": "python",
   "name": "conda-env-qudi-py"
  },
  "language_info": {
   "codemirror_mode": {
    "name": "ipython",
    "version": 3
   },
   "file_extension": ".py",
   "mimetype": "text/x-python",
   "name": "python",
   "nbconvert_exporter": "python",
   "pygments_lexer": "ipython3",
   "version": "3.4.5"
  }
 },
 "nbformat": 4,
 "nbformat_minor": 0
}
