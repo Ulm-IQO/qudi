{
 "cells": [
  {
   "cell_type": "markdown",
   "metadata": {
    "deletable": true,
    "editable": true
   },
   "source": [
    "# Script for fitting N14 from pulsed odmr"
   ]
  },
  {
   "cell_type": "code",
   "execution_count": null,
   "metadata": {
    "deletable": true,
    "editable": true
   },
   "outputs": [],
   "source": [
    "import pylab as pb\n",
    "import time"
   ]
  },
  {
   "cell_type": "code",
   "execution_count": null,
   "metadata": {
    "deletable": true,
    "editable": true
   },
   "outputs": [],
   "source": [
    "pb.plot(pulsedmeasurement.signal_plot_x, pulsedmeasurement.signal_plot_y)\n",
    "pb.show()"
   ]
  },
  {
   "cell_type": "code",
   "execution_count": null,
   "metadata": {
    "deletable": true,
    "editable": true
   },
   "outputs": [],
   "source": [
    "# multiply the x axis with whatever scaling factor you have coming from the pulsedmeasurement gui\n",
    "scale = 10**6\n",
    "freqs = pulsedmeasurement.signal_plot_x * scale\n",
    "norm_vals = pulsedmeasurement.signal_plot_y"
   ]
  },
  {
   "cell_type": "code",
   "execution_count": null,
   "metadata": {
    "deletable": true,
    "editable": true
   },
   "outputs": [],
   "source": [
    "results = fitlogic.make_N14_fit(freqs, norm_vals)"
   ]
  },
  {
   "cell_type": "code",
   "execution_count": null,
   "metadata": {
    "deletable": true,
    "editable": true
   },
   "outputs": [],
   "source": [
    "results.params.pretty_print()"
   ]
  },
  {
   "cell_type": "code",
   "execution_count": null,
   "metadata": {
    "deletable": true,
    "editable": true
   },
   "outputs": [],
   "source": [
    "# values of the center peaks\n",
    "results.params['l0_center'].value, results.params['l1_center'].value, results.params['l2_center'].value"
   ]
  },
  {
   "cell_type": "code",
   "execution_count": null,
   "metadata": {
    "deletable": true,
    "editable": true
   },
   "outputs": [],
   "source": [
    "results.params.pretty_print()"
   ]
  },
  {
   "cell_type": "code",
   "execution_count": null,
   "metadata": {
    "deletable": true,
    "editable": true
   },
   "outputs": [],
   "source": [
    "a0 = results.params['offset'] + results.params['l0_amplitude']/(results.params['l0_sigma'] * np.pi)\n",
    "a1 = results.params['offset'] + results.params['l1_amplitude']/(results.params['l1_sigma'] * np.pi)\n",
    "a2 = results.params['offset'] + results.params['l2_amplitude']/(results.params['l2_sigma'] * np.pi)"
   ]
  },
  {
   "cell_type": "code",
   "execution_count": null,
   "metadata": {
    "deletable": true,
    "editable": true
   },
   "outputs": [],
   "source": [
    "pb.plot(freqs, pulsedmeasurement.signal_plot_y, 'o')\n",
    "pb.plot(freqs, results.eval())\n",
    "pb.plot([results.params['l0_center'].value, results.params['l0_center'].value], [a0, results.params['offset'].value], 'r')\n",
    "pb.plot([results.params['l1_center'].value, results.params['l1_center'].value], [a1, results.params['offset'].value], 'b')\n",
    "pb.plot([results.params['l2_center'].value, results.params['l2_center'].value], [a2, results.params['offset'].value], 'k')\n",
    "pb.show()"
   ]
  },
  {
   "cell_type": "code",
   "execution_count": null,
   "metadata": {
    "deletable": true,
    "editable": true
   },
   "outputs": [],
   "source": [
    "# calculate sum of contrast \n",
    "c0 = (results.params['offset'].value - a0) / results.params['offset']\n",
    "c1 = (results.params['offset'].value - a1) / results.params['offset']\n",
    "c2 = (results.params['offset'].value - a2) / results.params['offset']\n",
    "c0, c1, c2"
   ]
  },
  {
   "cell_type": "code",
   "execution_count": null,
   "metadata": {
    "deletable": true,
    "editable": true
   },
   "outputs": [],
   "source": [
    "# summed contrasts\n",
    "c0 + c1 + c2"
   ]
  },
  {
   "cell_type": "code",
   "execution_count": null,
   "metadata": {
    "deletable": true,
    "editable": true
   },
   "outputs": [],
   "source": []
  },
  {
   "cell_type": "code",
   "execution_count": null,
   "metadata": {
    "deletable": true,
    "editable": true
   },
   "outputs": [],
   "source": []
  }
 ],
 "metadata": {
  "kernelspec": {
   "display_name": "Qudi",
   "language": "python",
   "name": "qudi"
  },
  "language_info": {
   "codemirror_mode": {
    "name": "ipython",
    "version": "3.6.0"
   },
   "file_extension": ".py",
   "mimetype": "text/x-python",
   "name": "python",
   "nbconvert_exporter": "python",
   "pygments_lexer": "ipython3",
   "version": "3.6.0"
  }
 },
 "nbformat": 4,
 "nbformat_minor": 0
}
