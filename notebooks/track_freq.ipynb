{
 "cells": [
  {
   "cell_type": "markdown",
   "metadata": {},
   "source": [
    "# Track frequency shift"
   ]
  },
  {
   "cell_type": "markdown",
   "metadata": {},
   "source": [
    "Script intended to measure the frequency over a specific timeframe"
   ]
  },
  {
   "cell_type": "code",
   "execution_count": null,
   "metadata": {},
   "outputs": [],
   "source": [
    "import pylab as pb\n",
    "import time\n",
    "import os\n",
    "import numpy as np"
   ]
  },
  {
   "cell_type": "code",
   "execution_count": null,
   "metadata": {},
   "outputs": [],
   "source": [
    "confocal.refocus_clicked()"
   ]
  },
  {
   "cell_type": "code",
   "execution_count": null,
   "metadata": {},
   "outputs": [],
   "source": [
    "# some parameters (total time, time for individual measurement, refocus rate)\n",
    "T_tot = 60*60\n",
    "T_meas = 5* 60\n",
    "refocus_rate = 1/(5*60)"
   ]
  },
  {
   "cell_type": "code",
   "execution_count": null,
   "metadata": {},
   "outputs": [],
   "source": [
    "os.chdir(r'C:\\Users\\Quantum Optics\\QuDi\\qudi\\notebooks\\FreqShift')"
   ]
  },
  {
   "cell_type": "code",
   "execution_count": null,
   "metadata": {},
   "outputs": [],
   "source": [
    "# first I need to be able to actually start a single measurement  \n",
    "time_start = time.time()\n",
    "pulsedmasterlogic.start_measurement()\n",
    "confocal.refocus_clicked()\n",
    "time.sleep(120)\n",
    "pulsedmasterlogic.stop_measurement()\n",
    "time_meas = time.time() - time_start\n",
    "# till here it works, then data needs to be processed and saved\n",
    "freqs = pulsedmeasurement.signal_plot_x * 10**6\n",
    "signal = pulsedmeasurement.signal_plot_y\n",
    "pb.plot(pulsedmeasurement.signal_plot_x, pulsedmeasurement.signal_plot_y)\n",
    "fname = 'freq_over_time_{0}.pdf'.format(time_meas)\n",
    "sname = 'freq_over_time_{0}.txt'.format(time_meas)\n",
    "pb.savefig(fname)\n",
    "np.savetxt(sname, np.array([freqs, signal]).T)\n",
    "# now everything is saved, lets do the fitting\n",
    "results = fitlogic.make_N14_fit(axis=freqs, data=signal)\n",
    "freq_peaks = [time_meas, results.params['lorentz0_center'].value, results.params['lorentz1_center'].value, results.params['lorentz2_center'].value]\n",
    "file = open('peak_freqs.txt', 'a')\n",
    "file.write(\" \".join(map(str, freq_peaks)))\n",
    "file.write(\"\\n\")\n",
    "file.close()"
   ]
  },
  {
   "cell_type": "code",
   "execution_count": null,
   "metadata": {},
   "outputs": [],
   "source": [
    "# Lets make test run for about 12 hours\n",
    "time_start = time.time()\n",
    "for i in range(120):\n",
    "    pulsedmasterlogic.start_measurement()\n",
    "    confocal.refocus_clicked()\n",
    "    time.sleep(150)\n",
    "    confocal.refocus_clicked()\n",
    "    time.sleep(150)\n",
    "    pulsedmasterlogic.stop_measurement()\n",
    "    time_meas = time.time() - time_start\n",
    "    # till here it works, then data needs to be processed and saved\n",
    "    freqs = pulsedmeasurement.signal_plot_x * 10**6\n",
    "    signal = pulsedmeasurement.signal_plot_y\n",
    "    pb.plot(pulsedmeasurement.signal_plot_x, pulsedmeasurement.signal_plot_y)\n",
    "    fname = 'freq_over_time_{0}.pdf'.format(time_meas)\n",
    "    sname = 'freq_over_time_{0}.txt'.format(time_meas)\n",
    "    pb.savefig(fname)\n",
    "    pb.close()\n",
    "    np.savetxt(sname, np.array([freqs, signal]).T)\n",
    "    # now everything is saved, lets do the fitting\n",
    "    results = fitlogic.make_N14_fit(axis=freqs, data=signal)\n",
    "    freq_peaks = [time_meas, results.params['lorentz0_center'].value, results.params['lorentz1_center'].value, results.params['lorentz2_center'].value]\n",
    "    file = open('peak_freqs.txt', 'a')\n",
    "    file.write(\" \".join(map(str, freq_peaks)))\n",
    "    file.write(\"\\n\")\n",
    "    file.close()\n",
    "    "
   ]
  },
  {
   "cell_type": "code",
   "execution_count": null,
   "metadata": {},
   "outputs": [],
   "source": [
    "# lets test it for 5 hourse hours\n",
    "for "
   ]
  },
  {
   "cell_type": "code",
   "execution_count": null,
   "metadata": {},
   "outputs": [],
   "source": [
    "time.time()"
   ]
  },
  {
   "cell_type": "code",
   "execution_count": null,
   "metadata": {},
   "outputs": [],
   "source": [
    "np.savetxt('test.txt', np.array([pulsedmeasurement.signal_plot_x*10**6, pulsedmeasurement.signal_plot_y].T))"
   ]
  },
  {
   "cell_type": "code",
   "execution_count": null,
   "metadata": {},
   "outputs": [],
   "source": [
    "data = np.loadtxt('test.txt')"
   ]
  },
  {
   "cell_type": "code",
   "execution_count": null,
   "metadata": {},
   "outputs": [],
   "source": [
    "data[:,0]"
   ]
  },
  {
   "cell_type": "code",
   "execution_count": null,
   "metadata": {},
   "outputs": [],
   "source": [
    "file = open('peak_freqs.txt', 'a')"
   ]
  },
  {
   "cell_type": "code",
   "execution_count": null,
   "metadata": {},
   "outputs": [],
   "source": [
    "testvec = np.array([i for i in range(10)])\n",
    "testvec2 = np.array([i*2 for i in range(10)])"
   ]
  },
  {
   "cell_type": "code",
   "execution_count": null,
   "metadata": {},
   "outputs": [],
   "source": [
    "file.write(\" \".join(map(str, testvec2)))"
   ]
  },
  {
   "cell_type": "code",
   "execution_count": null,
   "metadata": {},
   "outputs": [],
   "source": [
    "freq_peaks"
   ]
  },
  {
   "cell_type": "code",
   "execution_count": null,
   "metadata": {},
   "outputs": [],
   "source": []
  }
 ],
 "metadata": {
  "kernelspec": {
   "display_name": "QuDi",
   "language": "python",
   "name": "qudi"
  },
  "language_info": {
   "codemirror_mode": {
    "name": "ipython",
    "version": "3.5.2"
   },
   "file_extension": ".py",
   "mimetype": "text/x-python",
   "name": "python",
   "nbconvert_exporter": "python",
   "pygments_lexer": "ipython3",
   "version": "3.5.2"
  }
 },
 "nbformat": 4,
 "nbformat_minor": 0
}
