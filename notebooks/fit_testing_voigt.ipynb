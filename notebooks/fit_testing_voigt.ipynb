{
 "cells": [
  {
   "cell_type": "code",
   "execution_count": 5,
   "metadata": {
    "collapsed": true
   },
   "outputs": [],
   "source": [
    "from lmfit import Parameters, models\n",
    "import matplotlib\n",
    "import matplotlib.pyplot as plt\n",
    "from scipy.interpolate import InterpolatedUnivariateSpline\n",
    "from scipy.signal import wiener, filtfilt, butter, gaussian, freqz\n",
    "from scipy.ndimage import filters\n",
    "from core.util.units import compute_dft"
   ]
  },
  {
   "cell_type": "code",
   "execution_count": 18,
   "metadata": {
    "collapsed": true
   },
   "outputs": [],
   "source": [
    "def voigt_testing():\n",
    "\n",
    "    x_axis = np.linspace(800, 1000, 301)\n",
    "\n",
    "    mod, params = fitlogic.make_lorentzian_model()\n",
    "    p = Parameters()\n",
    "\n",
    "    params.add('amplitude',value=30.)\n",
    "    params.add('center',value=920.)\n",
    "    params.add('sigma',value=10)\n",
    "    params.add('c',value=10.)\n",
    "\n",
    "    data_noisy = (mod.eval(x=x_axis, params=params) + 0.2*np.random.normal(size=x_axis.shape))\n",
    "\n",
    "    para = Parameters()\n",
    "\n",
    "    voigt_mod = models.VoigtModel()\n",
    "\n",
    "    plt.figure()\n",
    "    plt.plot(x_axis, data_noisy, label='measured data')\n",
    "    plt.xlabel('Time micro-s')\n",
    "    plt.ylabel('signal')\n",
    "    plt.legend(bbox_to_anchor=(0., 1.02, 1., .102), loc=3, ncol=2, mode=\"expand\", borderaxespad=0.)\n",
    "    plt.show()\n",
    "\n",
    "    error, amplitude, x_zero, sigma, offset = fitlogic.estimate_lorentzian_peak(\n",
    "        x_axis,\n",
    "        data_noisy,\n",
    "        params)\n",
    "\n",
    "    params = mod.make_params()\n",
    "\n",
    "    # auxiliary variables\n",
    "    stepsize = x_axis[1] - x_axis[0]\n",
    "    n_steps = len(x_axis)\n",
    "\n",
    "    if x_axis[1] - x_axis[0] > 0:\n",
    "\n",
    "        params['amplitude'].set(value=amplitude, vary=True, min=2e-12, max=np.inf)\n",
    "        params['sigma'].set(value=sigma, vary=True, min=(x_axis[1]-x_axis[0])/2,\n",
    "                            max=(x_axis[-1]-x_axis[0])*10)\n",
    "        params['center'].set(value=amplitude, vary=True,\n",
    "                             min=(x_axis[0])-n_steps*stepsize,\n",
    "                             max=(x_axis[-1])+n_steps*stepsize)\n",
    "\n",
    "    if x_axis[0] - x_axis[1] > 0:\n",
    "\n",
    "        params['amplitude'].set(value=amplitude, vary=True, min=2e-12, max=np.inf)\n",
    "        params['sigma'].set(value=sigma, vary=True, min=(x_axis[0]-x_axis[1])/2,\n",
    "                            max=(x_axis[0]-x_axis[1])*10)\n",
    "        params['center'].set(value=amplitude, vary=True,\n",
    "                             min=x_axis[-1],\n",
    "                             max=x_axis[0])\n",
    "\n",
    "\n",
    "    result = mod.fit(data_noisy, x=x_axis, params=params)\n",
    "\n",
    "    plt.figure()\n",
    "    plt.plot(x_axis, data_noisy, label='measured data')\n",
    "    plt.plot(x_axis, result.best_fit, label='fit')\n",
    "    plt.xlabel('Time micro-s')\n",
    "    plt.ylabel('signal')\n",
    "    plt.legend(bbox_to_anchor=(0., 1.02, 1., .102), loc=3, ncol=2, mode=\"expand\", borderaxespad=0.)\n",
    "    plt.show()"
   ]
  },
  {
   "cell_type": "code",
   "execution_count": 19,
   "metadata": {
    "collapsed": false
   },
   "outputs": [
    {
     "name": "stderr",
     "output_type": "stream",
     "text": [
      "Traceback (most recent call last):\n",
      "  File \"/home/jan/qo/qudi/logic/jupyterkernel/qzmqkernel.py\", line 795, in run_code\n",
      "    exec(code_obj, self.user_global_ns, self.user_ns)\n",
      "  File \"<ipython-input-19-0e83b90194d9>\", line 1, in <module>\n",
      "    voigt_testing()\n",
      "  File \"<ipython-input-18-1c37b8fb210a>\", line 29, in voigt_testing\n",
      "    params)\n",
      "  File \"/home/jan/qo/qudi/logic/fitmethods/lorentzianlikemethods.py\", line 406, in estimate_lorentzian_peak\n",
      "    params_dip)\n",
      "  File \"/home/jan/qo/qudi/logic/fitmethods/lorentzianlikemethods.py\", line 350, in estimate_lorentzian_dip\n",
      "    data_smooth, offset = self.find_offset_parameter(x_axis, data)\n",
      "  File \"/home/jan/qo/qudi/logic/fitmethods/generalmethods.py\", line 480, in find_offset_parameter\n",
      "    hist = np.histogram(data_smooth, bins=10)\n",
      "  File \"/usr/lib/python3/dist-packages/numpy/lib/function_base.py\", line 669, in histogram\n",
      "    'range parameter must be finite.')\n",
      "ValueError: range parameter must be finite.\n"
     ]
    },
    {
     "data": {
      "image/png": "[encoded data removed]"
     },
     "metadata": {
      "image/png": {
       "height": 396,
       "width": 571
      }
     },
     "output_type": "display_data"
    }
   ],
   "source": [
    "voigt_testing()"
   ]
  },
  {
   "cell_type": "code",
   "execution_count": null,
   "metadata": {
    "collapsed": true
   },
   "outputs": [],
   "source": []
  }
 ],
 "metadata": {
  "kernelspec": {
   "display_name": "QuDi",
   "language": "python",
   "name": "qudi"
  },
  "language_info": {
   "codemirror_mode": {
    "name": "ipython",
    "version": "3.5.3"
   },
   "file_extension": ".py",
   "mimetype": "text/x-python",
   "name": "python",
   "nbconvert_exporter": "python",
   "pygments_lexer": "ipython3",
   "version": "3.5.3"
  }
 },
 "nbformat": 4,
 "nbformat_minor": 0
}
