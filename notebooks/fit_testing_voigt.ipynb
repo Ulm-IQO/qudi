{
 "cells": [
  {
   "cell_type": "code",
   "execution_count": null,
   "metadata": {},
   "outputs": [],
   "source": [
    "from lmfit import Parameters, models\n",
    "import matplotlib.pyplot as plt\n",
    "from scipy.interpolate import InterpolatedUnivariateSpline\n",
    "from scipy.signal import wiener\n",
    "from scipy.ndimage import filters"
   ]
  },
  {
   "cell_type": "code",
   "execution_count": null,
   "metadata": {},
   "outputs": [],
   "source": [
    "def voigt_testing():\n",
    "\n",
    "    x_axis = np.linspace(800, 1000, 301)\n",
    "\n",
    "    mod, params = fitlogic.make_lorentzian_model()\n",
    "    \n",
    "    p = Parameters()\n",
    "    p.add('amplitude',value=30.)\n",
    "    p.add('center',value=920.)\n",
    "    p.add('sigma',value=10)\n",
    "    p.add('offset',value=10.)\n",
    "\n",
    "    data_noisy = (mod.eval(x=x_axis, params=p) + 10 * np.random.normal(size=x_axis.shape))\n",
    "\n",
    "    voigt_mod = models.VoigtModel()\n",
    "\n",
    "    error, par = fitlogic.estimate_lorentzian_peak(\n",
    "        x_axis,\n",
    "        data_noisy,\n",
    "        params)\n",
    "    print(par)\n",
    "    \n",
    "    params = mod.make_params()\n",
    "    print(params)\n",
    "\n",
    "    # auxiliary variables\n",
    "    stepsize = x_axis[1] - x_axis[0]\n",
    "    n_steps = len(x_axis)\n",
    "\n",
    "    if x_axis[1] - x_axis[0] > 0:\n",
    "\n",
    "        params['amplitude'].set(\n",
    "            value=par['amplitude'].value,\n",
    "            vary=True,\n",
    "            min=2e-12,\n",
    "            max=np.inf)\n",
    "        params['sigma'].set(\n",
    "            value=par['sigma'].value,\n",
    "            vary=True,\n",
    "            min=(x_axis[1] - x_axis[0])/2,\n",
    "            max=(x_axis[-1] - x_axis[0])*10)\n",
    "        params['center'].set(\n",
    "            value=par['center'].value,\n",
    "            vary=True,\n",
    "            min=(x_axis[0]) - n_steps * stepsize,\n",
    "            max=(x_axis[-1]) + n_steps * stepsize)\n",
    "        params['offset'].set(\n",
    "            value=par['offset'].value,\n",
    "            vary=True,\n",
    "            min=-1000,\n",
    "            max=1000)\n",
    "        \n",
    "    if x_axis[0] - x_axis[1] > 0:\n",
    "\n",
    "        params['amplitude'].set(\n",
    "            value=par['amplitude'].value,\n",
    "            vary=True,\n",
    "            min=2e-12,\n",
    "            max=np.inf)\n",
    "        params['sigma'].set(\n",
    "            value=par['sigma'].value,\n",
    "            vary=True,\n",
    "            min=(x_axis[0] - x_axis[1])/2,\n",
    "            max=(x_axis[0]-x_axis[1])*10)\n",
    "        params['center'].set(\n",
    "            value=par['center'].value,\n",
    "            vary=True,\n",
    "            min=x_axis[-1],\n",
    "            max=x_axis[0])\n",
    "        params['offset'].set(\n",
    "            value=par['offset'].value,\n",
    "            vary=True,\n",
    "            min=-1000,\n",
    "            max=1000)\n",
    "\n",
    "    result = mod.fit(data_noisy, x=x_axis, params=params)\n",
    "\n",
    "    plt.figure()\n",
    "    plt.plot(x_axis, data_noisy, label='measured data')\n",
    "    plt.plot(x_axis, mod.eval(x=x_axis, params=p), label='original function')\n",
    "    plt.plot(x_axis, result.best_fit, 'r', label='fit')\n",
    "    plt.xlabel('Time micro-s')\n",
    "    plt.ylabel('signal')\n",
    "    plt.legend(bbox_to_anchor=(0., 1.02, 1., .102), loc=3, ncol=2, mode=\"expand\", borderaxespad=0.)\n",
    "    plt.show()"
   ]
  },
  {
   "cell_type": "code",
   "execution_count": null,
   "metadata": {},
   "outputs": [],
   "source": [
    "voigt_testing()"
   ]
  },
  {
   "cell_type": "code",
   "execution_count": null,
   "metadata": {},
   "outputs": [],
   "source": [
    ""
   ]
  }
 ],
 "metadata": {
  "kernelspec": {
   "display_name": "QuDi",
   "language": "python",
   "name": "qudi"
  },
  "language_info": {
   "codemirror_mode": {
    "name": "ipython",
    "version": "3.5.3"
   },
   "file_extension": ".py",
   "mimetype": "text/x-python",
   "name": "python",
   "nbconvert_exporter": "python",
   "pygments_lexer": "ipython3",
   "version": "3.5.3"
  }
 },
 "nbformat": 4,
 "nbformat_minor": 0
}