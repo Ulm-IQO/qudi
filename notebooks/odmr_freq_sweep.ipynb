{
 "cells": [
  {
   "cell_type": "markdown",
   "metadata": {},
   "source": [
    "# Frequency sweep odmr"
   ]
  },
  {
   "cell_type": "markdown",
   "metadata": {},
   "source": [
    "Trying to make a script now, which is going to \n",
    "measure odmr over a range of frequencies. \n",
    "This should help to find the frequency, where the\n",
    "wire is most efficient."
   ]
  },
  {
   "cell_type": "code",
   "execution_count": 7,
   "metadata": {
    "collapsed": true
   },
   "outputs": [],
   "source": [
    "import time"
   ]
  },
  {
   "cell_type": "code",
   "execution_count": null,
   "metadata": {
    "collapsed": true
   },
   "outputs": [],
   "source": [
    "    def perform_odmr_measurement(self, freq_start, freq_step, freq_stop, power,\n",
    "                                 runtime, fit_function='Lorentzian',\n",
    "                                 save_after_meas=True, name_tag=''):"
   ]
  },
  {
   "cell_type": "code",
   "execution_count": 8,
   "metadata": {
    "collapsed": true
   },
   "outputs": [],
   "source": [
    "freq_range = 0.1 * 10**(9)\n",
    "freq_step = 2 * 10**(6)\n",
    "steps = 40\n",
    "freq_sweep_start = 4.1*10**(9)\n",
    "freq_sweep_stop = 9.0 * 10**(9)\n",
    "power = -20\n",
    "runtime = 120.0\n",
    "freq_step2 = (freq_sweep_stop-freq_sweep_start)/steps\n",
    "freq_list = [freq_sweep_start + i*freq_step2 for i in range(steps+1)]\n",
    "mag_list = [(i-2.87*10**9)/(28*10**9) for i in freq_list]\n",
    "y_data = []\n",
    "x_data = []"
   ]
  },
  {
   "cell_type": "code",
   "execution_count": 6,
   "metadata": {
    "collapsed": false
   },
   "outputs": [
    {
     "data": {
      "text/plain": [
       "2.0"
      ]
     },
     "execution_count": 6,
     "metadata": {},
     "output_type": "execute_result"
    }
   ],
   "source": [
    "freq_step/10**6"
   ]
  },
  {
   "cell_type": "code",
   "execution_count": 9,
   "metadata": {
    "collapsed": false
   },
   "outputs": [
    {
     "name": "stdout",
     "output_type": "stream",
     "text": [
      "set cw\n",
      "off\n",
      "set cw\n",
      "off\n",
      "set cw\n",
      "off\n",
      "set cw\n",
      "off\n",
      "set cw\n",
      "off\n",
      "set cw\n",
      "off\n",
      "set cw\n",
      "off\n",
      "set cw\n",
      "off\n",
      "set cw\n",
      "off\n",
      "set cw\n",
      "off\n",
      "set cw\n",
      "off\n",
      "set cw\n",
      "off\n",
      "set cw\n",
      "off\n",
      "set cw\n",
      "off\n",
      "set cw\n",
      "off\n",
      "set cw\n",
      "off\n",
      "set cw\n",
      "off\n",
      "set cw\n",
      "off\n",
      "set cw\n",
      "off\n",
      "set cw\n",
      "off\n",
      "set cw\n",
      "off\n",
      "set cw\n",
      "off\n",
      "set cw\n",
      "off\n",
      "set cw\n",
      "off\n",
      "set cw\n",
      "off\n",
      "set cw\n",
      "off\n",
      "set cw\n",
      "off\n",
      "set cw\n",
      "off\n",
      "set cw\n",
      "off\n",
      "set cw\n",
      "off\n",
      "set cw\n",
      "off\n",
      "set cw\n",
      "off\n",
      "set cw\n",
      "off\n",
      "set cw\n",
      "off\n",
      "set cw\n",
      "off\n",
      "set cw\n",
      "off\n",
      "set cw\n",
      "off\n",
      "set cw\n",
      "off\n",
      "set cw\n",
      "off\n",
      "set cw\n",
      "off\n",
      "set cw\n",
      "off\n"
     ]
    }
   ],
   "source": [
    "for ii, freq in enumerate(freq_list):\n",
    "    save_data = {}\n",
    "    myscmagnet.move_abs({'rho': mag_list[ii]})\n",
    "    while magnet_logic._check_is_moving():\n",
    "        time.sleep(1)\n",
    "    confocal.refocus_clicked()\n",
    "    time.sleep(30)\n",
    "    # odmrlogic.perform_odmr_measurement(freq, freq_step, freq + freq_range, power, runtime, save_after_meas=False)\n",
    "    odmrlogic.mw_start = freq\n",
    "    odmrlogic.mw_step = freq_step\n",
    "    odmrlogic.mw_stop = freq + freq_range\n",
    "    odmrlogic.mw_power = power\n",
    "    odmrlogic.run_time = runtime\n",
    "    odmrlogic.start_odmr_scan()\n",
    "    while odmrlogic.getState() != 'idle':\n",
    "        time.sleep(1)\n",
    "    freq_vals = odmrlogic.ODMR_plot_x\n",
    "    sig_vals = odmrlogic.ODMR_plot_y\n",
    "    save_data['freq_vals'] = freq_vals\n",
    "    save_data['sig_vals'] = sig_vals\n",
    "    filepath = savelogic.get_path_for_module(module_name='ODMR')\n",
    "    filelabel = 'ODMR_FREQ_SWEEP_' + str(freq)\n",
    "    savelogic.save_data(save_data, filepath, filelabel=filelabel, as_text=True)\n",
    "    \n",
    "    \n",
    "    \n",
    "    "
   ]
  },
  {
   "cell_type": "code",
   "execution_count": 7,
   "metadata": {
    "collapsed": true
   },
   "outputs": [],
   "source": [
    "freq_start = 7.45 * 10**(9)\n",
    "freq_step = 2 * 10**(6)\n",
    "freq_stop = 7.55 * 10**(9)\n",
    "power = -20\n",
    "runtime = 60.0\n",
    "name_tag = 'frequency_sweep'"
   ]
  },
  {
   "cell_type": "code",
   "execution_count": 8,
   "metadata": {
    "collapsed": false
   },
   "outputs": [
    {
     "name": "stdout",
     "output_type": "stream",
     "text": [
      "set cw\n",
      "off\n"
     ]
    }
   ],
   "source": [
    "save_data = {}\n",
    "confocal.refocus_clicked()\n",
    "time.sleep(30)\n",
    "# odmrlogic.perform_odmr_measurement(freq, freq_step, freq + freq_range, power, runtime, save_after_meas=False)\n",
    "odmrlogic.mw_start = freq_start\n",
    "odmrlogic.mw_step = freq_step\n",
    "odmrlogic.mw_stop = freq_stop\n",
    "odmrlogic.mw_power = power\n",
    "odmrlogic.run_time = runtime\n",
    "odmrlogic.start_odmr_scan()\n",
    "while odmrlogic.getState() != 'idle':\n",
    "    time.sleep(1)\n",
    "freq_vals = odmrlogic.ODMR_plot_x\n",
    "sig_vals = odmrlogic.ODMR_plot_y\n",
    "save_data['freq_vals'] = freq_vals\n",
    "save_data['sig_vals'] = sig_vals\n",
    "filepath = savelogic.get_path_for_module(module_name='ODMR')\n",
    "filelabel = 'ODMR_FREQ_SWEEP_1'\n",
    "savelogic.save_data(save_data, filepath, filelabel=filelabel, as_text=True)"
   ]
  },
  {
   "cell_type": "code",
   "execution_count": 5,
   "metadata": {
    "collapsed": false
   },
   "outputs": [
    {
     "data": {
      "text/plain": [
       "array([  4.95000000e+09,   4.95200000e+09,   4.95400000e+09,\n",
       "         4.95600000e+09,   4.95800000e+09,   4.96000000e+09,\n",
       "         4.96200000e+09,   4.96400000e+09,   4.96600000e+09,\n",
       "         4.96800000e+09,   4.97000000e+09,   4.97200000e+09,\n",
       "         4.97400000e+09,   4.97600000e+09,   4.97800000e+09,\n",
       "         4.98000000e+09,   4.98200000e+09,   4.98400000e+09,\n",
       "         4.98600000e+09,   4.98800000e+09,   4.99000000e+09,\n",
       "         4.99200000e+09,   4.99400000e+09,   4.99600000e+09,\n",
       "         4.99800000e+09,   5.00000000e+09,   5.00200000e+09,\n",
       "         5.00400000e+09,   5.00600000e+09,   5.00800000e+09,\n",
       "         5.01000000e+09,   5.01200000e+09,   5.01400000e+09,\n",
       "         5.01600000e+09,   5.01800000e+09,   5.02000000e+09,\n",
       "         5.02200000e+09,   5.02400000e+09,   5.02600000e+09,\n",
       "         5.02800000e+09,   5.03000000e+09,   5.03200000e+09,\n",
       "         5.03400000e+09,   5.03600000e+09,   5.03800000e+09,\n",
       "         5.04000000e+09,   5.04200000e+09,   5.04400000e+09,\n",
       "         5.04600000e+09,   5.04800000e+09,   5.05000000e+09])"
      ]
     },
     "execution_count": 5,
     "metadata": {},
     "output_type": "execute_result"
    }
   ],
   "source": [
    "odmrlogic.ODMR_plot_x"
   ]
  },
  {
   "cell_type": "code",
   "execution_count": 8,
   "metadata": {
    "collapsed": false
   },
   "outputs": [],
   "source": [
    "x = odmrlogic.ODMR_plot_x\n",
    "y = odmrlogic.ODMR_plot_y"
   ]
  },
  {
   "cell_type": "code",
   "execution_count": 9,
   "metadata": {
    "collapsed": true
   },
   "outputs": [],
   "source": [
    "from matplotlib import pyplot"
   ]
  },
  {
   "cell_type": "code",
   "execution_count": 11,
   "metadata": {
    "collapsed": false
   },
   "outputs": [
    {
     "data": {
      "image/png": "[encoded data removed]"
     },
     "metadata": {
      "image/png": {
       "height": 381,
       "width": 563
      }
     },
     "output_type": "display_data"
    }
   ],
   "source": [
    "pyplot.plot(x,y)\n",
    "pyplot.show()"
   ]
  },
  {
   "cell_type": "code",
   "execution_count": 12,
   "metadata": {
    "collapsed": true
   },
   "outputs": [],
   "source": [
    "result = fitlogic.make_lorentzian_fit(axis=x, data=y)"
   ]
  },
  {
   "cell_type": "code",
   "execution_count": 14,
   "metadata": {
    "collapsed": false
   },
   "outputs": [
    {
     "name": "stdout",
     "output_type": "stream",
     "text": [
      "Name          Value      Min      Max   Stderr     Vary     Expr\n",
      "amplitude  -6.227e+10     -inf   -1e-12 7.496e+09     True     None\n",
      "c          9.554e+04     -inf      inf    92.65     True     None\n",
      "center     4.983e+09 4.848e+09 5.152e+09 4.466e+05     True     None\n",
      "fwhm       1.018e+07     -inf      inf 1.483e+06    False 2.0000000*sigma\n",
      "height        -3894     -inf      inf    342.8    False 0.3183099*amplitude/sigma\n",
      "sigma      5.091e+06    1e+06    1e+09 7.417e+05     True     None\n"
     ]
    }
   ],
   "source": [
    "result.params.pretty_print()"
   ]
  },
  {
   "cell_type": "code",
   "execution_count": 38,
   "metadata": {
    "collapsed": false
   },
   "outputs": [
    {
     "data": {
      "text/plain": [
       "0"
      ]
     },
     "execution_count": 38,
     "metadata": {},
     "output_type": "execute_result"
    }
   ],
   "source": [
    "myscmagnet.move_abs({'rho':0.078})"
   ]
  },
  {
   "cell_type": "code",
   "execution_count": null,
   "metadata": {
    "collapsed": true
   },
   "outputs": [],
   "source": [
    "    def refocus_clicked(self):\n",
    "        \"\"\" Start optimize position. \"\"\"\n",
    "        self.disable_scan_actions()\n",
    "        # Get the current crosshair position to send to optimizer\n",
    "        crosshair_pos = self._scanning_logic.get_position()\n",
    "        self.sigStartOptimizer.emit(crosshair_pos, 'confocalgui')"
   ]
  },
  {
   "cell_type": "code",
   "execution_count": 39,
   "metadata": {
    "collapsed": true
   },
   "outputs": [],
   "source": [
    "confocal.refocus_clicked()"
   ]
  },
  {
   "cell_type": "code",
   "execution_count": 63,
   "metadata": {
    "collapsed": false
   },
   "outputs": [],
   "source": [
    "meas_param = {}\n",
    "meas_param['ODMR frequency start (Hz)'] = [2]\n",
    "meas_param['ODMR frequency step (Hz)'] = [3]\n",
    "meas_param['ODMR frequency stop (Hz)'] = [4]\n",
    "meas_param['ODMR power (dBm)'] = [5]\n",
    "meas_param['ODMR run time (s)'] = [6]"
   ]
  },
  {
   "cell_type": "code",
   "execution_count": 64,
   "metadata": {
    "collapsed": false
   },
   "outputs": [],
   "source": [
    "filelabel = 'test'"
   ]
  },
  {
   "cell_type": "code",
   "execution_count": 65,
   "metadata": {
    "collapsed": true
   },
   "outputs": [],
   "source": [
    "filepath = savelogic.get_path_for_module(module_name='ODMR')\n",
    "savelogic.save_data(meas_param, filepath, filelabel=filelabel, as_text=True)"
   ]
  },
  {
   "cell_type": "code",
   "execution_count": 48,
   "metadata": {
    "collapsed": false
   },
   "outputs": [
    {
     "data": {
      "text/plain": [
       "5050000000.0"
      ]
     },
     "execution_count": 48,
     "metadata": {},
     "output_type": "execute_result"
    }
   ],
   "source": [
    "odmrlogic.mw_stop"
   ]
  },
  {
   "cell_type": "code",
   "execution_count": 52,
   "metadata": {
    "collapsed": false
   },
   "outputs": [
    {
     "data": {
      "text/plain": [
       "(60.0, -16, 5050000000.0, 2000000, 4950000000.0)"
      ]
     },
     "execution_count": 52,
     "metadata": {},
     "output_type": "execute_result"
    }
   ],
   "source": [
    "odmrlogic.run_time, odmrlogic.mw_power, odmrlogic.mw_stop, odmrlogic.mw_step, odmrlogic.mw_start"
   ]
  },
  {
   "cell_type": "code",
   "execution_count": 2,
   "metadata": {
    "collapsed": false
   },
   "outputs": [],
   "source": [
    "test_x = [i for i in range(9)]\n",
    "test_y = [i**2 for i in test_x]"
   ]
  },
  {
   "cell_type": "code",
   "execution_count": 4,
   "metadata": {
    "collapsed": false
   },
   "outputs": [],
   "source": [
    "filepath = savelogic.get_path_for_module(module_name='ODMR')\n",
    "filelabel = 'ODMR_FREQ_SWEEP_'\n",
    "savelogic.save_data({'x': test_x}, filepath, filelabel=filelabel, as_text=True)"
   ]
  },
  {
   "cell_type": "code",
   "execution_count": 7,
   "metadata": {
    "collapsed": false
   },
   "outputs": [
    {
     "data": {
      "text/plain": [
       "array([ 76370.,  76763.,  76170.,  76323.,  75733.,  76031.,  75720.,\n",
       "        75771.,  76537.,  76385.,  75892.,  76111.,  76011.,  75933.,\n",
       "        75914.,  75556.,  76296.,  76665.,  76046.,  76283.,  75653.,\n",
       "        76155.,  76173.,  75240.,  76002.,  76232.,  76035.,  76234.,\n",
       "        75524.,  76185.,  76107.,  76110.,  76600.,  76203.,  76724.,\n",
       "        76340.,  76320.,  76243.,  76345.,  76829.,  76247.,  76505.,\n",
       "        76527.,  75630.,  76774.,  76692.,  76451.,  76789.,  76031.,\n",
       "        76253.,  75940.])"
      ]
     },
     "execution_count": 7,
     "metadata": {},
     "output_type": "execute_result"
    }
   ],
   "source": [
    "odmrlogic.ODMR_plot_y"
   ]
  },
  {
   "cell_type": "code",
   "execution_count": 6,
   "metadata": {
    "collapsed": false
   },
   "outputs": [],
   "source": [
    "confocal.refocus_clicked()\n",
    "while confocal.getState() != 'idle':\n",
    "    time.sleep(1)\n",
    "    print('wait until ready')"
   ]
  },
  {
   "cell_type": "code",
   "execution_count": 9,
   "metadata": {
    "collapsed": false
   },
   "outputs": [
    {
     "data": {
      "text/plain": [
       "122500000.0"
      ]
     },
     "execution_count": 9,
     "metadata": {},
     "output_type": "execute_result"
    }
   ],
   "source": [
    "freq_step"
   ]
  },
  {
   "cell_type": "code",
   "execution_count": null,
   "metadata": {
    "collapsed": true
   },
   "outputs": [],
   "source": []
  }
 ],
 "metadata": {
  "kernelspec": {
   "display_name": "QuDi",
   "language": "python",
   "name": "qudi"
  },
  "language_info": {
   "codemirror_mode": {
    "name": "ipython",
    "version": "3.5.2"
   },
   "file_extension": ".py",
   "mimetype": "text/x-python",
   "name": "python",
   "nbconvert_exporter": "python",
   "pygments_lexer": "ipython3",
   "version": "3.5.2"
  }
 },
 "nbformat": 4,
 "nbformat_minor": 0
}
