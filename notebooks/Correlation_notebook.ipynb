{
 "cells": [
  {
   "cell_type": "markdown",
   "id": "8f728ae7",
   "metadata": {},
   "source": [
    "# Imports/Definitions"
   ]
  },
  {
   "cell_type": "code",
   "execution_count": null,
   "id": "eb621270",
   "metadata": {
    "ExecuteTime": {
     "end_time": "2023-05-15T17:17:24.427439Z",
     "start_time": "2023-05-15T17:17:22.305143Z"
    },
    "code_folding": [],
    "init_cell": true
   },
   "outputs": [],
   "source": [
    "import PIL.Image\n",
    "import PIL.ImageOps\n",
    "import matplotlib.pyplot as plt\n",
    "from mpl_toolkits.axes_grid1 import make_axes_locatable\n",
    "import numpy as np\n",
    "from rpyc.utils.classic import obtain\n",
    "plt.rcParams[\"image.origin\"] = 'lower'\n",
    "import numpy as np\n",
    "import scipy\n",
    "from PIL import Image, ImageOps\n",
    "\n",
    "#Interactive plotting\n",
    "#%matplotlib qt\n",
    "\n",
    "from scipy.optimize import curve_fit\n",
    "from qudi.logic.correlation_logic import Rotation\n",
    "import skimage"
   ]
  },
  {
   "cell_type": "code",
   "execution_count": null,
   "id": "2ac92db1",
   "metadata": {
    "ExecuteTime": {
     "end_time": "2023-05-15T17:17:24.480300Z",
     "start_time": "2023-05-15T17:17:24.427439Z"
    },
    "code_folding": [
     0
    ],
    "init_cell": true
   },
   "outputs": [],
   "source": [
    "def show(image, vmax=60000, title=None, label='\\si{Photons\\per\\second}'):\n",
    "    # get np array from rpyc netref object\n",
    "    image = obtain(image)\n",
    "    # y_range, x_range = image._image.shape\n",
    "    tick_extent = [0, image.range_xy[0]*1e6, 0, image.range_xy[1]*1e6]\n",
    "    tick_extent = np.array(tick_extent)\n",
    "    #fig_size = calc_plot_size(image._image)\n",
    "    fig = plt.figure()\n",
    "    if vmax is None:\n",
    "        vmax = np.max(image.array)\n",
    "    if type(image.array) is not PIL.Image.Image and image.array.dtype == np.dtype('uint8') and vmax > 255:\n",
    "        vmax = 255\n",
    "    ax = plt.subplot()\n",
    "    image_plot = plt.imshow(image.array, vmax=vmax, extent=tick_extent)\n",
    "    plt.xlabel(r'X position (\\si{\\micro\\metre})')\n",
    "    plt.ylabel(r'Y position (\\si{\\micro\\metre})')\n",
    "    plt.title(title)\n",
    "\n",
    "    image_plot.set_cmap('inferno')\n",
    "    div = make_axes_locatable(ax)\n",
    "    cax = div.append_axes('right', size='5%', pad=0.1)\n",
    "    # plt.colorbar(shrink=.5)\n",
    "    colorbar = plt.colorbar(image_plot, cax=cax)\n",
    "    colorbar.set_label(label)\n",
    "    colorbar.outline.set_edgecolor('black')\n",
    "    # plt.tight_layout()\n",
    "    plt.show()"
   ]
  },
  {
   "cell_type": "code",
   "execution_count": null,
   "id": "69d712e3",
   "metadata": {
    "ExecuteTime": {
     "end_time": "2023-05-15T17:17:24.542842Z",
     "start_time": "2023-05-15T17:17:24.480300Z"
    },
    "code_folding": [
     1
    ],
    "init_cell": true
   },
   "outputs": [],
   "source": [
    "# white_1='red', white_2='blue'\n",
    "def imshow_composite(xy_1, xy_2, trans_vec, white_1='yellow', white_2='red', black='black', plot=False, title=None,\n",
    "                     ratio=None, alpha=128, lines_color=None, xlabel=None, ylabel=None, edges=True, return_composite = False):\n",
    "    \"\"\"shows the composite image of array xy_1 and xy_2 after translating xy_1 according to the given translation\n",
    "    vector and then overlapping xy_2 over xy_1. The color of the two arrays can be individually set with white_1 and\n",
    "    white_2. Arrays don't have to be of same shape. \"\"\"\n",
    "\n",
    "    # convert the arrays to Images, change the color and make im_after transparent\n",
    "    im_before = Image.fromarray(xy_1).convert('L')\n",
    "    im_after = Image.fromarray(xy_2).convert('L')\n",
    "    im_before = ImageOps.colorize(im_before, black=black, white=white_1)\n",
    "    im_after = ImageOps.colorize(im_after, black=black, white=white_2)\n",
    "    im_after.putalpha(alpha)\n",
    "    im_before = im_before.convert('RGBA')\n",
    "\n",
    "    # now translate im_before according to the translation vector and paste in im_after:\n",
    "    im_before_width, im_before_height = im_before.size\n",
    "    im_after_width, im_after_height = im_after.size\n",
    "\n",
    "    # if translation in one direction is positive, im_before is put at the end of im_before_trans , else at the\n",
    "    # beginning (0). For im_after the opposite is true ( because im_before is translated, im_after stays stationary)\n",
    "    if trans_vec[0] > 0:\n",
    "        before_x_start = trans_vec[0]\n",
    "        after_x_start = 0\n",
    "        im_composite_width = max(im_before_width + trans_vec[0], im_after_width)\n",
    "    else:\n",
    "        before_x_start = 0\n",
    "        after_x_start = np.abs(trans_vec[0])\n",
    "        im_composite_width = max(im_before_width, np.abs(trans_vec[0]) + im_after_width)\n",
    "    if trans_vec[1] > 0:\n",
    "        before_y_start = trans_vec[1]\n",
    "        after_y_start = 0\n",
    "        im_composite_height = max(im_before_height + trans_vec[1], im_after_height)\n",
    "    else:\n",
    "        before_y_start = 0\n",
    "        after_y_start = np.abs(trans_vec[1])\n",
    "        im_composite_height = max(im_before_height, np.abs(trans_vec[1]) + im_after_height)\n",
    "\n",
    "    # new image with bigger size because of translation\n",
    "    im_composite = Image.new(\"RGBA\",\n",
    "                             (im_composite_width,\n",
    "                              im_composite_height))\n",
    "\n",
    "    im_composite.paste(im_before, (before_x_start, before_y_start))\n",
    "    im_composite.alpha_composite(im_after, dest=(after_x_start, after_y_start))\n",
    "    # plot the result with PIL\n",
    "    im_composite.transpose(method=Image.Transpose.FLIP_TOP_BOTTOM).show(title=title)\n",
    "    if return_composite:\n",
    "        return im_composite"
   ]
  },
  {
   "cell_type": "code",
   "execution_count": null,
   "id": "361b43d7",
   "metadata": {
    "ExecuteTime": {
     "end_time": "2023-05-15T17:17:24.596279Z",
     "start_time": "2023-05-15T17:17:24.549359Z"
    },
    "code_folding": [
     1,
     5,
     27,
     40
    ],
    "init_cell": true
   },
   "outputs": [],
   "source": [
    "# functions for rotation detection\n",
    "def gaussian(x, a, x_0, sigma, c):\n",
    "    exponent = (x-x_0)**2/(2*sigma**2)\n",
    "    return a*np.exp(-exponent)+c\n",
    "\n",
    "def fit_sweep(results, plot=True):\n",
    "    values = [result['sweep_value'] for result in results]\n",
    "    maxima = [result['max_correlation_value'] for result in results]\n",
    "    max_index = np.argmax(maxima)\n",
    "\n",
    "    # fit gaussian\n",
    "    param_est = [np.max(maxima) - np.min(maxima), values[np.argmax(maxima)], 1, np.min(maxima)]\n",
    "    fit = curve_fit(gaussian, values, maxima, param_est)\n",
    "    fit_params = fit[0]\n",
    "\n",
    "    # x_0 from fit is value with maximum max correlation value\n",
    "    value_fit_max = fit_params[1]\n",
    "    # amplitude a + displacement c is the maximum max correlation value of the fit\n",
    "    fit_max = fit_params[0] + fit_params[3]\n",
    "\n",
    "    values_for_fit = np.linspace(np.min(values), np.max(values), 10 * len(values))\n",
    "    evaluated_fit = gaussian(values_for_fit, *fit_params)\n",
    "    if plot:\n",
    "        plot_sweep(value_fit_max, fit_max, values_for_fit, evaluated_fit, values, maxima)\n",
    "    # return rotation with maximum fit value\n",
    "    return value_fit_max\n",
    "\n",
    "def plot_sweep(value_fit_max, fit_max, values_for_fit, evaluated_fit, values, maxima):\n",
    "    plt.figure()\n",
    "#   plt.plot(x,y, label='Interpolation')\n",
    "    plt.plot(values_for_fit, evaluated_fit, 'c--', label='Gaussian fit')\n",
    "#     plt.plot(values[max_index], maxima[max_index], 'kx', label=f'Max maxima at {values[max_index]:.4f}° rotation')\n",
    "    plt.vlines(value_fit_max, np.min(maxima), fit_max*1.5, linestyles='dashed', colors='grey',\n",
    "                   label=f'Gaussian maximum at {value_fit_max:.2f}° rotation')\n",
    "    plt.plot(values, maxima, 'r.', label='Correlation maxima for different values')\n",
    "    plt.xlabel('Rotation (°\\,)')\n",
    "    plt.ylabel('Correlation maxima (\\si{(photons\\per\\second)\\squared})')\n",
    "    plt.legend()\n",
    "    plt.grid()\n",
    "    plt.show()\n",
    "#   print(f'Fit: {fit_params}')\n",
    "#     print(f'Maximum correlation maxima {maxima[max_index]:.1f} for {values[max_index]:.3f}° rotation')\n",
    "#    print(f'Maximum correlation maxima {fit_max:.1f} for {value_fit_max:.3f}° rotation with fit')"
   ]
  },
  {
   "cell_type": "markdown",
   "id": "b7d8b063",
   "metadata": {},
   "source": [
    "# Import correlation images"
   ]
  },
  {
   "cell_type": "code",
   "execution_count": null,
   "id": "b878a90f",
   "metadata": {
    "ExecuteTime": {
     "end_time": "2023-05-15T17:17:26.108872Z",
     "start_time": "2023-05-15T17:17:24.596279Z"
    },
    "init_cell": true
   },
   "outputs": [],
   "source": [
    "# import image 1 from absolute path\n",
    "path_1 = r\"\"\n",
    "correlation_logic.import_image(1, path_1)\n",
    "\n",
    "#import image 2 from absolute path\n",
    "path_2 = r\"\"\n",
    "correlation_logic.import_image(2, path_2)"
   ]
  },
  {
   "cell_type": "markdown",
   "id": "f480f3ce",
   "metadata": {},
   "source": [
    "# Correlate images without rotation detection"
   ]
  },
  {
   "cell_type": "code",
   "execution_count": null,
   "id": "35e445dd",
   "metadata": {
    "ExecuteTime": {
     "end_time": "2023-05-15T17:05:53.780458Z",
     "start_time": "2023-05-15T17:05:41.895581Z"
    }
   },
   "outputs": [],
   "source": [
    "correlation_logic.default_init_process_steps()\n",
    "correlation_logic.run()\n",
    "\n",
    "# results are stored in correlation_logic.result_dict:\n",
    "translation_pixels = obtain(correlation_logic.result_dict['translation_vector_xy_pixels'])\n",
    "translation_meters = obtain(correlation_logic.result_dict['translation_vector_xy_meters'])\n",
    "print(f'Found translation: {translation_pixels} pixels or {translation_meters*10**6} micrometers')"
   ]
  },
  {
   "cell_type": "code",
   "execution_count": null,
   "id": "3b74dc16",
   "metadata": {
    "ExecuteTime": {
     "end_time": "2023-05-15T17:06:00.950793Z",
     "start_time": "2023-05-15T17:05:54.459956Z"
    }
   },
   "outputs": [],
   "source": [
    "# show image composite\n",
    "display_image_1 = obtain(correlation_logic.display_image_1)\n",
    "display_image_2 = obtain(correlation_logic.display_image_2)\n",
    "comp = imshow_composite(display_image_1.array, display_image_2.array, translation_pixels)"
   ]
  },
  {
   "cell_type": "code",
   "execution_count": null,
   "id": "9d5fbc57",
   "metadata": {
    "ExecuteTime": {
     "end_time": "2023-05-15T17:06:01.734064Z",
     "start_time": "2023-05-15T17:06:00.950793Z"
    }
   },
   "outputs": [],
   "source": [
    "# show image 1 or 2\n",
    "show(correlation_logic.display_image_1)"
   ]
  },
  {
   "cell_type": "code",
   "execution_count": null,
   "id": "4876dcf8",
   "metadata": {
    "ExecuteTime": {
     "end_time": "2023-05-15T17:07:17.400554Z",
     "start_time": "2023-05-15T17:07:13.118355Z"
    }
   },
   "outputs": [],
   "source": [
    "# plot correlation image\n",
    "show(correlation_logic.result_dict['correlation_image'], label='\\si{(Photons\\per\\second)^2}')"
   ]
  },
  {
   "cell_type": "markdown",
   "id": "2229a8df",
   "metadata": {},
   "source": [
    "# Find rotation and correlate with corrected rotation"
   ]
  },
  {
   "cell_type": "markdown",
   "id": "41ce18f3",
   "metadata": {},
   "source": [
    "## Start by finding the rotation"
   ]
  },
  {
   "cell_type": "code",
   "execution_count": null,
   "id": "65b1e7b8",
   "metadata": {
    "ExecuteTime": {
     "end_time": "2023-05-15T17:02:04.923922Z",
     "start_time": "2023-05-15T17:02:04.844214Z"
    }
   },
   "outputs": [],
   "source": [
    "# print current step list and their state\n",
    "print([(step.name, step.parameters['enabled']) for step in correlation_logic.process_steps])"
   ]
  },
  {
   "cell_type": "code",
   "execution_count": null,
   "id": "00a44450",
   "metadata": {
    "ExecuteTime": {
     "end_time": "2023-05-15T17:02:05.930169Z",
     "start_time": "2023-05-15T17:02:05.846964Z"
    }
   },
   "outputs": [],
   "source": [
    "# initialize step list for rotation\n",
    "correlation_logic.rotation_init_process_steps()\n",
    "print([(step.name, step.parameters['enabled']) for step in correlation_logic.process_steps])"
   ]
  },
  {
   "cell_type": "code",
   "execution_count": null,
   "id": "9ac18cf3",
   "metadata": {
    "ExecuteTime": {
     "end_time": "2023-05-15T17:02:56.340871Z",
     "start_time": "2023-05-15T17:02:07.352626Z"
    }
   },
   "outputs": [],
   "source": [
    "# sweep through the rotation angle\n",
    "rot_min = -5\n",
    "rot_max = 5\n",
    "number_of_rotations = 25\n",
    "results = correlation_logic.sweep('Rotation','rotation_angle', np.linspace(rot_min, rot_max, number_of_rotations))"
   ]
  },
  {
   "cell_type": "code",
   "execution_count": null,
   "id": "e5751f24",
   "metadata": {
    "ExecuteTime": {
     "end_time": "2023-05-15T17:02:58.441296Z",
     "start_time": "2023-05-15T17:02:58.381660Z"
    }
   },
   "outputs": [],
   "source": [
    "# get the results for further calculations\n",
    "results = obtain(results)"
   ]
  },
  {
   "cell_type": "code",
   "execution_count": null,
   "id": "536193d4",
   "metadata": {
    "ExecuteTime": {
     "end_time": "2023-05-15T17:03:02.025256Z",
     "start_time": "2023-05-15T17:03:00.072422Z"
    },
    "scrolled": true
   },
   "outputs": [],
   "source": [
    "# fit the correlation maxima for the different rotations, if no optimal parameters are found go to next code block\n",
    "detected_rotation = fit_sweep(results)"
   ]
  },
  {
   "cell_type": "code",
   "execution_count": null,
   "id": "d307988b",
   "metadata": {
    "ExecuteTime": {
     "end_time": "2023-05-15T17:03:18.661030Z",
     "start_time": "2023-05-15T17:03:18.344613Z"
    }
   },
   "outputs": [],
   "source": [
    "# if no optimal parameters were found, one can plot the values by hand and maybe find the rotation and set it manually\n",
    "values = [result['sweep_value'] for result in results]\n",
    "maxima = [result['max_correlation_value'] for result in results]\n",
    "plt.plot(values, maxima, 'x--')\n",
    "print(f'Maximum for a rotation of {values[np.argmax(maxima)]}°')\n",
    "# can set detected_rotation to maximum value, but only if there is a clear peak in the plot and the fit_sweep function wasn't successfull\n",
    "# detected_rotation = values[np.argmax(maxima)]"
   ]
  },
  {
   "cell_type": "markdown",
   "id": "e35327d3",
   "metadata": {},
   "source": [
    "## Now correct detected rotation and correlate"
   ]
  },
  {
   "cell_type": "code",
   "execution_count": null,
   "id": "a2e87789",
   "metadata": {
    "ExecuteTime": {
     "end_time": "2023-05-15T17:03:34.232142Z",
     "start_time": "2023-05-15T17:03:34.133522Z"
    }
   },
   "outputs": [],
   "source": [
    "# initialize process steps to default, but put a Rotation step, which corrects the detected rotation, as a first step \n",
    "correlation_logic.default_init_process_steps()\n",
    "rotation_step = Rotation({'index': -1, 'enabled': True, 'rotation_angle': detected_rotation})\n",
    "correlation_logic.add_process_step(rotation_step)\n",
    "print(f'Rotation set to {detected_rotation:.3f}°')\n",
    "print([(step.name, step.parameters['enabled']) for step in correlation_logic.process_steps])"
   ]
  },
  {
   "cell_type": "code",
   "execution_count": null,
   "id": "c73aea47",
   "metadata": {
    "ExecuteTime": {
     "end_time": "2023-05-15T17:03:49.618247Z",
     "start_time": "2023-05-15T17:03:37.600884Z"
    },
    "scrolled": true
   },
   "outputs": [],
   "source": [
    "# run correlation\n",
    "correlation_logic.run()\n",
    "print(correlation_logic.result_dict)\n",
    "translation_pixels = obtain(correlation_logic.result_dict['translation_vector_xy_pixels'])\n",
    "translation_meters = obtain(correlation_logic.result_dict['translation_vector_xy_meters'])\n",
    "print(f'Found translation: {translation_pixels} pixels or {translation_meters*10**6} micrometers')"
   ]
  },
  {
   "cell_type": "code",
   "execution_count": null,
   "id": "036c3dda",
   "metadata": {
    "ExecuteTime": {
     "end_time": "2023-05-15T17:03:56.728014Z",
     "start_time": "2023-05-15T17:03:50.235855Z"
    }
   },
   "outputs": [],
   "source": [
    "# show image composite\n",
    "display_image_1 = obtain(correlation_logic.display_image_1)\n",
    "display_image_2 = obtain(correlation_logic.display_image_2)\n",
    "comp = imshow_composite(display_image_1.array, display_image_2.array, translation_pixels)"
   ]
  },
  {
   "cell_type": "code",
   "execution_count": null,
   "id": "8e014523",
   "metadata": {
    "ExecuteTime": {
     "end_time": "2023-05-15T17:04:06.090696Z",
     "start_time": "2023-05-15T17:04:03.296892Z"
    }
   },
   "outputs": [],
   "source": [
    "# plot correlation image\n",
    "plt.imshow(correlation_logic.result_dict['correlation_image'].array)"
   ]
  },
  {
   "cell_type": "code",
   "execution_count": null,
   "id": "11bfe377",
   "metadata": {},
   "outputs": [],
   "source": []
  }
 ],
 "metadata": {
  "kernelspec": {
   "display_name": "qudi",
   "language": "python",
   "name": "qudi"
  },
  "language_info": {
   "codemirror_mode": {
    "name": "ipython",
    "version": 3
   },
   "file_extension": ".py",
   "mimetype": "text/x-python",
   "name": "python",
   "nbconvert_exporter": "python",
   "pygments_lexer": "ipython3",
   "version": "3.9.16"
  },
  "toc": {
   "base_numbering": 1,
   "nav_menu": {},
   "number_sections": true,
   "sideBar": true,
   "skip_h1_title": false,
   "title_cell": "Table of Contents",
   "title_sidebar": "Contents",
   "toc_cell": false,
   "toc_position": {
    "height": "calc(100% - 180px)",
    "left": "10px",
    "top": "150px",
    "width": "165px"
   },
   "toc_section_display": true,
   "toc_window_display": false
  },
  "varInspector": {
   "cols": {
    "lenName": "30",
    "lenType": 16,
    "lenVar": 40
   },
   "kernels_config": {
    "python": {
     "delete_cmd_postfix": "",
     "delete_cmd_prefix": "del ",
     "library": "var_list.py",
     "varRefreshCmd": "print(var_dic_list())"
    },
    "r": {
     "delete_cmd_postfix": ") ",
     "delete_cmd_prefix": "rm(",
     "library": "var_list.r",
     "varRefreshCmd": "cat(var_dic_list()) "
    }
   },
   "position": {
    "height": "144.188px",
    "left": "769.333px",
    "right": "20px",
    "top": "71px",
    "width": "350px"
   },
   "types_to_exclude": [
    "module",
    "function",
    "builtin_function_or_method",
    "instance",
    "_Feature"
   ],
   "window_display": false
  }
 },
 "nbformat": 4,
 "nbformat_minor": 5
}
