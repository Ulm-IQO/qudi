{
 "cells": [
  {
   "cell_type": "code",
   "execution_count": null,
   "metadata": {
    "collapsed": true
   },
   "outputs": [],
   "source": [
    "from lmfit import Parameters\n",
    "import matplotlib.pyplot as plt\n",
    "from scipy.interpolate import InterpolatedUnivariateSpline\n",
    "from scipy.signal import wiener\n",
    "from scipy.ndimage import filters"
   ]
  },
  {
   "cell_type": "code",
   "execution_count": null,
   "metadata": {
    "collapsed": true
   },
   "outputs": [],
   "source": [
    "# Set this flag to True if you want to plot the results\n",
    "plot_results = False\n",
    "# This is the number of repetitions for each test function\n",
    "repetitions = 100"
   ]
  },
  {
   "cell_type": "code",
   "execution_count": null,
   "metadata": {
    "collapsed": true
   },
   "outputs": [],
   "source": [
    "def powerfluorescence_testing():\n",
    "    x = np.linspace(1, 1000, 101)\n",
    "    mod, params = fitlogic.make_hyperbolicsaturation_model()\n",
    "\n",
    "    p = Parameters()\n",
    "    p.add('I_sat', value=200)\n",
    "    p.add('slope', value=0.25)\n",
    "    p.add('offset', value=2)\n",
    "    p.add('P_sat', value=100)\n",
    "    \n",
    "    data_noisy = (mod.eval(x=x, params=p) + 10*np.random.normal(size=x.shape))\n",
    "\n",
    "    result = fitlogic.make_hyperbolicsaturation_fit(\n",
    "        x_axis=x,\n",
    "        data=data_noisy,\n",
    "        estimator=fitlogic.estimate_hyperbolicsaturation)\n",
    "\n",
    "    if plot_results:\n",
    "        plt.plot(x, data_noisy,'-b', label='noisy data')\n",
    "        plt.plot(x, mod.eval(x=x, params=params), '-g', label='original')\n",
    "        plt.plot(x, mod.eval(x=x, params=result.params),'-r', label='fit result')\n",
    "        plt.legend(bbox_to_anchor=(0, 1.02, 1, .102), loc=3, ncol=2, mode=\"expand\", borderaxespad=0)\n",
    "        plt.show()"
   ]
  },
  {
   "cell_type": "code",
   "execution_count": null,
   "metadata": {
    "collapsed": true
   },
   "outputs": [],
   "source": [
    "for i in range(repetitions):\n",
    "    powerfluorescence_testing()"
   ]
  },
  {
   "cell_type": "code",
   "execution_count": null,
   "metadata": {
    "collapsed": true
   },
   "outputs": [],
   "source": []
  }
 ],
 "metadata": {
  "kernelspec": {
   "display_name": "Qudi",
   "language": "python",
   "name": "qudi"
  },
  "language_info": {
   "codemirror_mode": {
    "name": "ipython",
    "version": "3.6.0"
   },
   "file_extension": ".py",
   "mimetype": "text/x-python",
   "name": "python",
   "nbconvert_exporter": "python",
   "pygments_lexer": "ipython3",
   "version": "3.6.0"
  }
 },
 "nbformat": 4,
 "nbformat_minor": 0
}
