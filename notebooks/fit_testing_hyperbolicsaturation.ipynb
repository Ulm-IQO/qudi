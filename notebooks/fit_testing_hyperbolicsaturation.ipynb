{
 "cells": [
  {
   "cell_type": "code",
   "execution_count": 1,
   "metadata": {
    "collapsed": true
   },
   "outputs": [],
   "source": [
    "from lmfit import Parameters\n",
    "import matplotlib\n",
    "import matplotlib.pyplot as plt\n",
    "from scipy.interpolate import InterpolatedUnivariateSpline\n",
    "from scipy.signal import wiener, filtfilt, butter, gaussian, freqz\n",
    "from scipy.ndimage import filters\n",
    "from core.util.units import compute_dft"
   ]
  },
  {
   "cell_type": "code",
   "execution_count": 2,
   "metadata": {
    "collapsed": false
   },
   "outputs": [],
   "source": [
    "def powerfluorescence_testing():\n",
    "    x = np.linspace(1, 1000, 101)\n",
    "    mod, params = fitlogic.make_hyperbolicsaturation_model()\n",
    "    \n",
    "    print('Parameters of the model',mod.param_names,' with the independet variable',mod.independent_vars)\n",
    "\n",
    "    p = Parameters()\n",
    "    p.add('I_sat', value=200)\n",
    "    p.add('slope', value=0.25)\n",
    "    p.add('offset', value=2)\n",
    "    p.add('P_sat', value=100)\n",
    "    \n",
    "    data_noisy = (mod.eval(x=x, params=p) + 10*np.random.normal(size=x.shape))\n",
    "\n",
    "    result = fitlogic.make_hyperbolicsaturation_fit(\n",
    "        x_axis=x,\n",
    "        data=data_noisy,\n",
    "        estimator=fitlogic.estimate_hyperbolicsaturation)\n",
    "\n",
    "    print(result.fit_report())\n",
    "\n",
    "    plt.plot(x, data_noisy,'-b', label='noisy data')\n",
    "    plt.plot(x, mod.eval(x=x, params=params), '-g', label='original')\n",
    "    plt.plot(x, mod.eval(x=x, params=result.params),'-r', label='fit result')\n",
    "    plt.legend(bbox_to_anchor=(0, 1.02, 1, .102), loc=3, ncol=2, mode=\"expand\", borderaxespad=0)\n",
    "    plt.show()\n",
    "\n",
    "    print(result.message)\n"
   ]
  },
  {
   "cell_type": "code",
   "execution_count": 3,
   "metadata": {
    "collapsed": false
   },
   "outputs": [
    {
     "name": "stdout",
     "output_type": "stream",
     "text": [
      "Parameters of the model ['I_sat', 'P_sat', 'slope', 'offset']  with the independet variable x\n"
     ]
    },
    {
     "name": "stderr",
     "output_type": "stream",
     "text": [
      "Traceback (most recent call last):\n",
      "  File \"/home/jan/qo/qudi/logic/jupyterkernel/qzmqkernel.py\", line 795, in run_code\n",
      "    exec(code_obj, self.user_global_ns, self.user_ns)\n",
      "  File \"<ipython-input-3-e3c21dcf471d>\", line 1, in <module>\n",
      "    powerfluorescence_testing()\n",
      "  File \"<ipython-input-2-4a4e29b0a4e6>\", line 18, in powerfluorescence_testing\n",
      "    estimator=fitlogic.estimate_hyperbolicsaturation)\n",
      "  File \"/home/jan/qo/qudi/logic/fitmethods/hyperbolicsaturationmethods.py\", line 108, in make_hyperbolicsaturation_fit\n",
      "    result = mod_final.fit(data, x=x_axis, params=params)\n",
      "  File \"/usr/lib/python3/dist-packages/lmfit/model.py\", line 541, in fit\n",
      "    output.fit(data=data, weights=weights)\n",
      "  File \"/usr/lib/python3/dist-packages/lmfit/model.py\", line 747, in fit\n",
      "    _ret = self.minimize(method=self.method)\n",
      "  File \"/usr/lib/python3/dist-packages/lmfit/minimizer.py\", line 1242, in minimize\n",
      "    return function(**kwargs)\n",
      "  File \"/usr/lib/python3/dist-packages/lmfit/minimizer.py\", line 1072, in leastsq\n",
      "    lsout = scipy_leastsq(self.__residual, vars, **lskws)\n",
      "  File \"/usr/lib/python3/dist-packages/scipy/optimize/minpack.py\", line 377, in leastsq\n",
      "    shape, dtype = _check_func('leastsq', 'func', func, x0, args, n)\n",
      "  File \"/usr/lib/python3/dist-packages/scipy/optimize/minpack.py\", line 26, in _check_func\n",
      "    res = atleast_1d(thefunc(*((x0[:numinputs],) + args)))\n",
      "  File \"/usr/lib/python3/dist-packages/lmfit/minimizer.py\", line 371, in __residual\n",
      "    out = _nan_policy(out, nan_policy=self.nan_policy)\n",
      "  File \"/usr/lib/python3/dist-packages/lmfit/minimizer.py\", line 1432, in _nan_policy\n",
      "    raise ValueError(\"The input contains nan values\")\n",
      "ValueError: The input contains nan values\n"
     ]
    }
   ],
   "source": [
    "powerfluorescence_testing()"
   ]
  },
  {
   "cell_type": "code",
   "execution_count": null,
   "metadata": {
    "collapsed": true
   },
   "outputs": [],
   "source": []
  }
 ],
 "metadata": {
  "kernelspec": {
   "display_name": "QuDi",
   "language": "python",
   "name": "qudi"
  },
  "language_info": {
   "codemirror_mode": {
    "name": "ipython",
    "version": "3.5.3"
   },
   "file_extension": ".py",
   "mimetype": "text/x-python",
   "name": "python",
   "nbconvert_exporter": "python",
   "pygments_lexer": "ipython3",
   "version": "3.5.3"
  }
 },
 "nbformat": 4,
 "nbformat_minor": 0
}
