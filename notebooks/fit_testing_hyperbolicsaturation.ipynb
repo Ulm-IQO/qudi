{
 "cells": [
  {
   "cell_type": "code",
   "execution_count": 1,
   "metadata": {
    "collapsed": true
   },
   "outputs": [],
   "source": [
    "from lmfit import Parameters\n",
    "import matplotlib\n",
    "import matplotlib.pyplot as plt\n",
    "from scipy.interpolate import InterpolatedUnivariateSpline\n",
    "from scipy.signal import wiener, filtfilt, butter, gaussian, freqz\n",
    "from scipy.ndimage import filters\n",
    "from core.util.units import compute_dft"
   ]
  },
  {
   "cell_type": "code",
   "execution_count": 6,
   "metadata": {
    "collapsed": true
   },
   "outputs": [],
   "source": [
    "def powerfluorescence_testing():\n",
    "    x = np.linspace(1, 1000, 101)\n",
    "    mod, params = fitlogic.make_hyperbolicsaturation_model()\n",
    "    print('Parameters of the model',mod.param_names,' with the independet variable',mod.independent_vars)\n",
    "\n",
    "    params['I_saturation'].value = 200\n",
    "    params['slope'].value = 0.25\n",
    "    params['intercept'].value = 2\n",
    "    params['P_saturation'].value = 100\n",
    "    data_noisy = (mod.eval(x=x, params=params) + 10*np.random.normal(size=x.shape))\n",
    "\n",
    "    para=dict()\n",
    "    para['I_saturation']={\"value\":152.}\n",
    "    para['slope']={\"value\":0.3,\"vary\":True}\n",
    "    para['intercept']={\"value\":0.3,\"vary\":False,\"min\":0.}\n",
    "    para['P_saturation']={\"value\":130.}\n",
    "\n",
    "    result = fitlogic.make_hyperbolicsaturation_fit(\n",
    "        x_axis=x,\n",
    "        data=data_noisy,\n",
    "        estimator=fitlogic.estimate_hyperbolicsaturation)\n",
    "\n",
    "    print(result.fit_report())\n",
    "\n",
    "    plt.plot(x, data_noisy,'-b', label='noisy data')\n",
    "    plt.plot(x, mod.eval(x=x, params=params), '-g', label='original')\n",
    "    plt.plot(x, mod.eval(x=x, params=result.params),'-r', label='fit result')\n",
    "    plt.legend(bbox_to_anchor=(0, 1.02, 1, .102), loc=3, ncol=2, mode=\"expand\", borderaxespad=0)\n",
    "    plt.show()\n",
    "\n",
    "    print(result.message)\n"
   ]
  },
  {
   "cell_type": "code",
   "execution_count": 7,
   "metadata": {
    "collapsed": false
   },
   "outputs": [
    {
     "name": "stdout",
     "output_type": "stream",
     "text": [
      "Parameters of the model ['I_sat', 'P_sat', 'slope', 'offset']  with the independet variable x\n"
     ]
    },
    {
     "name": "stderr",
     "output_type": "stream",
     "text": [
      "Traceback (most recent call last):\n",
      "  File \"/home/jan/qo/qudi/logic/jupyterkernel/qzmqkernel.py\", line 795, in run_code\n",
      "    exec(code_obj, self.user_global_ns, self.user_ns)\n",
      "  File \"<ipython-input-7-e3c21dcf471d>\", line 1, in <module>\n",
      "    powerfluorescence_testing()\n",
      "  File \"<ipython-input-6-1973642de66b>\", line 6, in powerfluorescence_testing\n",
      "    params['I_saturation'].value = 200\n",
      "KeyError: 'I_saturation'\n"
     ]
    }
   ],
   "source": [
    "powerfluorescence_testing()"
   ]
  },
  {
   "cell_type": "code",
   "execution_count": null,
   "metadata": {
    "collapsed": true
   },
   "outputs": [],
   "source": []
  }
 ],
 "metadata": {
  "kernelspec": {
   "display_name": "QuDi",
   "language": "python",
   "name": "qudi"
  },
  "language_info": {
   "codemirror_mode": {
    "name": "ipython",
    "version": "3.5.3"
   },
   "file_extension": ".py",
   "mimetype": "text/x-python",
   "name": "python",
   "nbconvert_exporter": "python",
   "pygments_lexer": "ipython3",
   "version": "3.5.3"
  }
 },
 "nbformat": 4,
 "nbformat_minor": 0
}
