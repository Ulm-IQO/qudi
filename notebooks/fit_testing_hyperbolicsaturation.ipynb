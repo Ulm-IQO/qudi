{
 "cells": [
  {
   "cell_type": "code",
   "execution_count": null,
   "metadata": {},
   "outputs": [],
   "source": [
    "from lmfit import Parameters\n",
    "import matplotlib.pyplot as plt\n",
    "from scipy.interpolate import InterpolatedUnivariateSpline\n",
    "from scipy.signal import wiener\n",
    "from scipy.ndimage import filters"
   ]
  },
  {
   "cell_type": "code",
   "execution_count": null,
   "metadata": {},
   "outputs": [],
   "source": [
    "def powerfluorescence_testing():\n",
    "    x = np.linspace(1, 1000, 101)\n",
    "    mod, params = fitlogic.make_hyperbolicsaturation_model()\n",
    "    \n",
    "    print('Parameters of the model',mod.param_names,' with the independet variable',mod.independent_vars)\n",
    "\n",
    "    p = Parameters()\n",
    "    p.add('I_sat', value=200)\n",
    "    p.add('slope', value=0.25)\n",
    "    p.add('offset', value=2)\n",
    "    p.add('P_sat', value=100)\n",
    "    \n",
    "    data_noisy = (mod.eval(x=x, params=p) + 10*np.random.normal(size=x.shape))\n",
    "\n",
    "    result = fitlogic.make_hyperbolicsaturation_fit(\n",
    "        x_axis=x,\n",
    "        data=data_noisy,\n",
    "        estimator=fitlogic.estimate_hyperbolicsaturation)\n",
    "\n",
    "    print(result.fit_report())\n",
    "\n",
    "    plt.plot(x, data_noisy,'-b', label='noisy data')\n",
    "    plt.plot(x, mod.eval(x=x, params=params), '-g', label='original')\n",
    "    plt.plot(x, mod.eval(x=x, params=result.params),'-r', label='fit result')\n",
    "    plt.legend(bbox_to_anchor=(0, 1.02, 1, .102), loc=3, ncol=2, mode=\"expand\", borderaxespad=0)\n",
    "    plt.show()\n",
    "\n",
    "    print(result.message)"
   ]
  },
  {
   "cell_type": "code",
   "execution_count": null,
   "metadata": {},
   "outputs": [],
   "source": [
    "powerfluorescence_testing()"
   ]
  },
  {
   "cell_type": "code",
   "execution_count": null,
   "metadata": {},
   "outputs": [],
   "source": [
    ""
   ]
  }
 ],
 "metadata": {
  "kernelspec": {
   "display_name": "QuDi",
   "language": "python",
   "name": "qudi"
  },
  "language_info": {
   "codemirror_mode": {
    "name": "ipython",
    "version": "3.5.2"
   },
   "file_extension": ".py",
   "mimetype": "text/x-python",
   "name": "python",
   "nbconvert_exporter": "python",
   "pygments_lexer": "ipython3",
   "version": "3.5.2"
  }
 },
 "nbformat": 4,
 "nbformat_minor": 0
}