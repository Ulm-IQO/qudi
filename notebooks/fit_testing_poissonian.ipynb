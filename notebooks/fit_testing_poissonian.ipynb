{
 "cells": [
  {
   "cell_type": "code",
   "execution_count": null,
   "metadata": {},
   "outputs": [],
   "source": [
    "from lmfit import Parameters\n",
    "import matplotlib.pyplot as plt\n",
    "from scipy.interpolate import InterpolatedUnivariateSpline\n",
    "from scipy.signal import wiener, gaussian\n",
    "from scipy.ndimage import filters"
   ]
  },
  {
   "cell_type": "code",
   "execution_count": null,
   "metadata": {},
   "outputs": [],
   "source": [
    "def poissonian_testing():\n",
    "    start=0\n",
    "    stop=30\n",
    "    mu=8\n",
    "    num_points=1000\n",
    "    x = np.array(np.linspace(start, stop, num_points))\n",
    "    mod, params = fitlogic.make_poissonian_model()\n",
    "    print('Parameters of the model',mod.param_names)\n",
    "\n",
    "    p=Parameters()\n",
    "    p.add('mu',value=mu)\n",
    "    p.add('amplitude',value=200.)\n",
    "\n",
    "    data_noisy=(mod.eval(x=x,params=p) *\n",
    "                np.array((1+0.001*np.random.normal(size=x.shape) *\n",
    "                p['amplitude'].value ) ) )\n",
    "\n",
    "    print('all int',all(isinstance(item, (np.int32,int, np.int64)) for item in x))\n",
    "    print('int',isinstance(x[1], int),float(x[1]).is_integer())\n",
    "    print(type(x[1]))\n",
    "    #make the filter an extra function shared and usable for other functions\n",
    "    gaus=gaussian(10,10)\n",
    "    data_smooth = filters.convolve1d(data_noisy, gaus/gaus.sum(),mode='mirror')\n",
    "\n",
    "\n",
    "    result = fitlogic.make_poissonian_fit(x, data_noisy, estimator=fitlogic.estimate_poissonian)\n",
    "    print(result.fit_report())\n",
    "\n",
    "    plt.figure()\n",
    "    plt.plot(x, data_noisy, '-b', label='noisy data')\n",
    "    plt.plot(x, data_smooth, '-g', label='smoothed data')\n",
    "    plt.plot(x,result.init_fit,'-y', label='initial values')\n",
    "    plt.plot(x,result.best_fit,'-r',linewidth=2.0, label='fit')\n",
    "    plt.xlabel('counts')\n",
    "    plt.ylabel('occurences')\n",
    "    plt.legend(bbox_to_anchor=(0., 1.02, 1., .102), loc=3, ncol=2, mode=\"expand\", borderaxespad=0.)\n",
    "    plt.show()"
   ]
  },
  {
   "cell_type": "code",
   "execution_count": null,
   "metadata": {},
   "outputs": [],
   "source": [
    "poissonian_testing()"
   ]
  },
  {
   "cell_type": "code",
   "execution_count": null,
   "metadata": {},
   "outputs": [],
   "source": [
    "def double_poissonian_testing():\n",
    "    \"\"\" Testing of double poissonian with self created data.\n",
    "    First version of double poissonian fit.\"\"\"\n",
    "\n",
    "    start=100\n",
    "    stop=300\n",
    "    num_points=int((stop-start)+1)*100\n",
    "    x = np.linspace(start, stop, num_points)\n",
    "\n",
    "    # double poissonian\n",
    "    mod,params = fitlogic.make_poissoniandouble_model()\n",
    "    print('Parameters of the model',mod.param_names)\n",
    "    parameter=Parameters()\n",
    "    parameter.add('p0_mu',value=200)\n",
    "    parameter.add('p1_mu',value=240)\n",
    "    parameter.add('p0_amplitude',value=1)\n",
    "    parameter.add('p1_amplitude',value=1)\n",
    "    data_noisy = ( np.array(mod.eval(x=x,params=parameter)) *\n",
    "                   np.array((1+0.2*np.random.normal(size=x.shape) )*\n",
    "                   parameter['p1_amplitude'].value) )\n",
    "\n",
    "\n",
    "    #make the filter an extra function shared and usable for other functions\n",
    "    gaus=gaussian(10,10)\n",
    "    data_smooth = filters.convolve1d(data_noisy, gaus/gaus.sum(),mode='mirror')\n",
    "\n",
    "    result = fitlogic.make_poissoniandouble_fit(x, data_noisy, estimator=fitlogic.estimate_poissoniandouble)\n",
    "    print(result.fit_report())\n",
    "\n",
    "    plt.figure()\n",
    "    plt.plot(x, data_noisy, '-b', label='noisy data')\n",
    "    plt.plot(x, data_smooth, '-g', label='smoothed data')\n",
    "    plt.plot(x,result.init_fit,'-y', label='initial values')\n",
    "    plt.plot(x,result.best_fit,'-r',linewidth=2.0, label='fit')\n",
    "    plt.xlabel('counts')\n",
    "    plt.ylabel('occurences')\n",
    "    plt.legend(bbox_to_anchor=(0., 1.02, 1., .102), loc=3, ncol=2, mode=\"expand\", borderaxespad=0.)\n",
    "    plt.show()"
   ]
  },
  {
   "cell_type": "code",
   "execution_count": null,
   "metadata": {},
   "outputs": [],
   "source": [
    "double_poissonian_testing()"
   ]
  },
  {
   "cell_type": "code",
   "execution_count": null,
   "metadata": {},
   "outputs": [],
   "source": [
    ""
   ]
  }
 ],
 "metadata": {
  "kernelspec": {
   "display_name": "QuDi",
   "language": "python",
   "name": "qudi"
  },
  "language_info": {
   "codemirror_mode": {
    "name": "ipython",
    "version": "3.5.3"
   },
   "file_extension": ".py",
   "mimetype": "text/x-python",
   "name": "python",
   "nbconvert_exporter": "python",
   "pygments_lexer": "ipython3",
   "version": "3.5.3"
  }
 },
 "nbformat": 4,
 "nbformat_minor": 0
}