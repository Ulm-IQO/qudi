{
 "cells": [
  {
   "cell_type": "code",
   "execution_count": 1,
   "metadata": {
    "collapsed": true
   },
   "outputs": [],
   "source": [
    "from lmfit import Parameters\n",
    "import matplotlib\n",
    "import matplotlib.pyplot as plt\n",
    "from scipy.interpolate import InterpolatedUnivariateSpline\n",
    "from scipy.signal import wiener, filtfilt, butter, gaussian, freqz\n",
    "from scipy.ndimage import filters\n",
    "from core.util.units import compute_dft"
   ]
  },
  {
   "cell_type": "code",
   "execution_count": 4,
   "metadata": {
    "collapsed": true
   },
   "outputs": [],
   "source": [
    "def poissonian_testing():\n",
    "    start=0\n",
    "    stop=30\n",
    "    mu=8\n",
    "    num_points=1000\n",
    "    x = np.array(np.linspace(start, stop, num_points))\n",
    "#            x = np.array(x,dtype=np.int64)\n",
    "    mod, params = fitlogic.make_poissonian_model()\n",
    "    print('Parameters of the model',mod.param_names)\n",
    "\n",
    "    p=Parameters()\n",
    "    p.add('mu',value=mu)\n",
    "    p.add('amplitude',value=200.)\n",
    "\n",
    "    data_noisy=(mod.eval(x=x,params=p) *\n",
    "                np.array((1+0.001*np.random.normal(size=x.shape) *\n",
    "                p['amplitude'].value ) ) )\n",
    "\n",
    "    print('all int',all(isinstance(item, (np.int32,int, np.int64)) for item in x))\n",
    "    print('int',isinstance(x[1], int),float(x[1]).is_integer())\n",
    "    print(type(x[1]))\n",
    "    #make the filter an extra function shared and usable for other functions\n",
    "    gaus=gaussian(10,10)\n",
    "    data_smooth = filters.convolve1d(data_noisy, gaus/gaus.sum(),mode='mirror')\n",
    "\n",
    "\n",
    "    result = fitlogic.make_poissonian_fit(x, data_noisy, estimator=fitlogic.estimate_poissonian)\n",
    "    print(result.fit_report())\n",
    "\n",
    "    plt.figure()\n",
    "    plt.plot(x, data_noisy, '-b', label='noisy data')\n",
    "    plt.plot(x, data_smooth, '-g', label='smoothed data')\n",
    "    plt.plot(x,result.init_fit,'-y', label='initial values')\n",
    "    plt.plot(x,result.best_fit,'-r',linewidth=2.0, label='fit')\n",
    "    plt.xlabel('counts')\n",
    "    plt.ylabel('occurences')\n",
    "    plt.legend(bbox_to_anchor=(0., 1.02, 1., .102), loc=3, ncol=2, mode=\"expand\", borderaxespad=0.)\n",
    "    plt.show()"
   ]
  },
  {
   "cell_type": "code",
   "execution_count": 5,
   "metadata": {},
   "outputs": [
    {
     "name": "stdout",
     "output_type": "stream",
     "text": [
      "Parameters of the model ['amplitude', 'mu']\n",
      "all int False\n",
      "int False False\n",
      "<class 'numpy.float64'>\n",
      "[[Model]]\n",
      "    (Model(amplitude_function) * Model(poisson_function))\n",
      "[[Fit Statistics]]\n",
      "    # function evals   = 15\n",
      "    # data points      = 1000\n",
      "    # variables        = 2\n",
      "    chi-square         = 5877.517\n",
      "    reduced chi-square = 5.889\n",
      "[[Variables]]\n",
      "    amplitude:   198.975937 +/- 1.335744 (0.67%) (init= 217.6834)\n",
      "    mu:          7.97120363 +/- 0.026581 (0.33%) (init= 7.447447)\n",
      "[[Correlations]] (unreported correlations are <  0.100)\n",
      "    C(amplitude, mu)             =  0.126 \n",
      "\n"
     ]
    }
   ],
   "source": [
    "poissonian_testing()"
   ]
  },
  {
   "cell_type": "code",
   "execution_count": 12,
   "metadata": {
    "collapsed": true
   },
   "outputs": [],
   "source": [
    "def double_poissonian_testing():\n",
    "    \"\"\" Testing of double poissonian with self created data.\n",
    "    First version of double poissonian fit.\"\"\"\n",
    "\n",
    "    start=100\n",
    "    stop=300\n",
    "    num_points=int((stop-start)+1)*100\n",
    "    x = np.linspace(start, stop, num_points)\n",
    "\n",
    "    # double poissonian\n",
    "    mod,params = fitlogic.make_poissoniandouble_model()\n",
    "    print('Parameters of the model',mod.param_names)\n",
    "    parameter=Parameters()\n",
    "    parameter.add('p0_mu',value=200)\n",
    "    parameter.add('p1_mu',value=240)\n",
    "    parameter.add('p0_amplitude',value=1)\n",
    "    parameter.add('p1_amplitude',value=1)\n",
    "    data_noisy = ( np.array(mod.eval(x=x,params=parameter)) *\n",
    "                   np.array((1+0.2*np.random.normal(size=x.shape) )*\n",
    "                   parameter['p1_amplitude'].value) )\n",
    "\n",
    "\n",
    "    #make the filter an extra function shared and usable for other functions\n",
    "    gaus=gaussian(10,10)\n",
    "    data_smooth = filters.convolve1d(data_noisy, gaus/gaus.sum(),mode='mirror')\n",
    "\n",
    "    result = fitlogic.make_poissoniandouble_fit(x, data_noisy, estimator=fitlogic.estimate_poissoniandouble)\n",
    "    print(result.fit_report())\n",
    "\n",
    "    plt.figure()\n",
    "    plt.plot(x, data_noisy, '-b', label='noisy data')\n",
    "    plt.plot(x, data_smooth, '-g', label='smoothed data')\n",
    "    plt.plot(x,result.init_fit,'-y', label='initial values')\n",
    "    plt.plot(x,result.best_fit,'-r',linewidth=2.0, label='fit')\n",
    "    plt.xlabel('counts')\n",
    "    plt.ylabel('occurences')\n",
    "    plt.legend(bbox_to_anchor=(0., 1.02, 1., .102), loc=3, ncol=2, mode=\"expand\", borderaxespad=0.)\n",
    "    plt.show()"
   ]
  },
  {
   "cell_type": "code",
   "execution_count": 13,
   "metadata": {},
   "outputs": [
    {
     "name": "stderr",
     "output_type": "stream",
     "text": [
      "Traceback (most recent call last):\n",
      "  File \"/home/jan/qo/qudi/logic/jupyterkernel/qzmqkernel.py\", line 795, in run_code\n",
      "    exec(code_obj, self.user_global_ns, self.user_ns)\n",
      "  File \"<ipython-input-13-4c7ef16d294d>\", line 1, in <module>\n",
      "    double_poissonian_testing()\n",
      "  File \"<ipython-input-12-4367317c7e35>\", line 11, in double_poissonian_testing\n",
      "    mod,params = fitlogic.make_poissoniandouble_model()\n",
      "  File \"/home/jan/qo/qudi/logic/fitmethods/poissonianlikemethods.py\", line 148, in make_poissoniandouble_model\n",
      "    return self.make_multiplepoissonian_model(2)\n",
      "  File \"/home/jan/qo/qudi/core/base.py\", line 138, in __getattr__\n",
      "    return Fysom.__getattr__(self, name)\n",
      "  File \"/home/jan/qo/qudi/core/FysomAdapter.py\", line 36, in __getattr__\n",
      "    self.__class__, name))\n",
      "AttributeError: '<class 'logic.fit_logic.FitLogic'>' object has no attribute 'make_multiplepoissonian_model'\n"
     ]
    }
   ],
   "source": [
    "double_poissonian_testing()"
   ]
  },
  {
   "cell_type": "code",
   "execution_count": null,
   "metadata": {
    "collapsed": true
   },
   "outputs": [],
   "source": []
  }
 ],
 "metadata": {
  "kernelspec": {
   "display_name": "QuDi",
   "language": "python",
   "name": "qudi"
  },
  "language_info": {
   "codemirror_mode": {
    "name": "ipython",
    "version": "3.5.2"
   },
   "file_extension": ".py",
   "mimetype": "text/x-python",
   "name": "python",
   "nbconvert_exporter": "python",
   "pygments_lexer": "ipython3",
   "version": "3.5.2"
  }
 },
 "nbformat": 4,
 "nbformat_minor": 2
}
