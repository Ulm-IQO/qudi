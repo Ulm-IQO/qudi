{
 "cells": [
  {
   "cell_type": "code",
   "execution_count": null,
   "metadata": {
    "collapsed": true
   },
   "outputs": [],
   "source": [
    "import matplotlib.pyplot as plt\n",
    "from scipy.interpolate import InterpolatedUnivariateSpline\n",
    "from scipy.signal import wiener\n",
    "from scipy.ndimage import filters"
   ]
  },
  {
   "cell_type": "code",
   "execution_count": null,
   "metadata": {
    "collapsed": true
   },
   "outputs": [],
   "source": [
    "# Set this flag to True if you want to plot the results\n",
    "plot_results = False\n",
    "# This is the number of repetitions for each test function\n",
    "repetitions = 100"
   ]
  },
  {
   "cell_type": "code",
   "execution_count": null,
   "metadata": {
    "collapsed": true
   },
   "outputs": [],
   "source": [
    "def exponentialdecay_testing():\n",
    "    #generation of data for testing\n",
    "    x_axis = np.linspace(1, 51, 20)\n",
    "    x_nice = np.linspace(x_axis[0], x_axis[-1], 100)\n",
    "    \n",
    "    mod, params = fitlogic.make_decayexponential_model()\n",
    "\n",
    "    params['amplitude'].value = -100 + abs(np.random.normal(0,200))\n",
    "    params['lifetime'].value = 1 + abs(np.random.normal(0,20))\n",
    "    params['offset'].value = 1 + abs(np.random.normal(0, 200))\n",
    "\n",
    "    data_noisy = (mod.eval(x=x_axis, params=params) + 7* np.random.normal(size=x_axis.shape))\n",
    "    \n",
    "    result = fitlogic.make_decayexponential_fit(\n",
    "        x_axis=x_axis,\n",
    "        data=data_noisy,\n",
    "        estimator=fitlogic.estimate_decayexponential)\n",
    "    \n",
    "    data = data_noisy\n",
    "    offset = data[-max(1,int(len(x_axis)/10)):].mean()\n",
    "\n",
    "    #substraction of offset\n",
    "    if data[0]<data[-1]:\n",
    "        data_level = offset - data\n",
    "    else:\n",
    "        data_level = data - offset\n",
    "    for i in range(0, len(x_axis)):\n",
    "        if data_level[i] <= data_level.std():\n",
    "            break\n",
    "    \n",
    "    try:\n",
    "        data_level_log = np.log(data_level[0:i])\n",
    "        linear_result = fitlogic.make_linear_fit(\n",
    "            x_axis=x_axis[0:i],\n",
    "            data=data_level_log,\n",
    "            estimator=fitlogic.estimate_linear)\n",
    "        if plot_results:\n",
    "            plt.plot(x_axis[0:i], data_level_log, 'ob')\n",
    "            plt.plot(x_axis[0:i], linear_result.best_fit,'-r')\n",
    "            plt.plot(x_axis[0:i], linear_result.init_fit,'-y')\n",
    "            plt.show()\n",
    "    except:\n",
    "        if plot_results:\n",
    "            plt.plot(x_axis, np.log(data_level), 'or')\n",
    "            plt.show()\n",
    "        \n",
    "    if plot_results:\n",
    "        plt.plot(x_axis, data_noisy, 'ob')\n",
    "        plt.plot(x_nice, mod.eval(x=x_nice, params=params), '-g')\n",
    "        plt.plot(x_axis, result.init_fit, '-y', linewidth=2.0)\n",
    "        plt.plot(x_axis, result.best_fit, '-r', linewidth=2.0)\n",
    "        plt.show()"
   ]
  },
  {
   "cell_type": "code",
   "execution_count": null,
   "metadata": {
    "collapsed": false
   },
   "outputs": [],
   "source": [
    "for i in range(repetitions):\n",
    "    exponentialdecay_testing()"
   ]
  },
  {
   "cell_type": "code",
   "execution_count": null,
   "metadata": {
    "collapsed": true
   },
   "outputs": [],
   "source": [
    "def bareexponentialdecay_testing():\n",
    "    #generation of data for testing\n",
    "    x_axis = np.linspace(1, 100, 70)\n",
    "    x_nice = np.linspace(x_axis[0], x_axis[-1], 200)\n",
    "\n",
    "    mod, params = fitlogic.make_bareexponentialdecay_model()\n",
    "\n",
    "    params['lifetime'].value = 1 + abs(np.random.normal(0,25))\n",
    "\n",
    "    data_noisy = abs(mod.eval(x=x_axis, params=params) + 0.125 * np.random.normal(size=x_axis.shape))\n",
    "\n",
    "    nice_data = mod.eval(x=x_nice, params=params)\n",
    "\n",
    "    offset = data_noisy.min()\n",
    "\n",
    "    leveled_data = data_noisy - offset\n",
    "\n",
    "    if plot_results:\n",
    "        plt.figure()\n",
    "        plt.plot(x_nice, nice_data, label='ref exp. decay data no offest')\n",
    "        plt.plot(x_nice, nice_data + 1, label='ref exp. decay data +1 offset')\n",
    "        plt.legend(bbox_to_anchor=(0., 1.02, 1., .102), loc=3,\n",
    "                   ncol=2, mode=\"expand\", borderaxespad=0.,\n",
    "                   prop={'size':12}, title='ref nice data')\n",
    "        plt.show()\n",
    "\n",
    "        plt.figure()\n",
    "        plt.plot(x_nice, np.log(nice_data), label='ref exp. decay data no offest, log')\n",
    "        plt.plot(x_nice, np.log(nice_data+1), label='ref exp. decay data +1 offset, log')\n",
    "        plt.legend(bbox_to_anchor=(0., 1.02, 1., .102), loc=3,\n",
    "                   ncol=2, mode=\"expand\", borderaxespad=0.,\n",
    "                   prop={'size':12}, title='ref nice data, log')\n",
    "        plt.show()\n",
    "\n",
    "\n",
    "    data_log = np.log(leveled_data)\n",
    "    \n",
    "    # Get all indices where entry is infinity  \n",
    "    indices = np.where(np.isinf(data_log))\n",
    "\n",
    "    # and remove those value, since they screw up the fit:\n",
    "    x_axis = np.delete(x_axis, indices)\n",
    "    data_noisy = np.delete(data_noisy, indices)\n",
    "    data_log = np.delete(data_log, indices)\n",
    "\n",
    "    linear_result = fitlogic.make_linear_fit(\n",
    "        x_axis=x_axis,\n",
    "        data=data_log,\n",
    "        estimator=fitlogic.estimate_linear)\n",
    "    \n",
    "    if plot_results:\n",
    "        plt.figure()\n",
    "        plt.plot(x_axis, data_log, 'ob', label='logarithmic data')\n",
    "        plt.plot(x_axis, linear_result.best_fit,'-r', label='best fit')\n",
    "        plt.plot(x_axis, linear_result.init_fit,'-y', label='initial fit')\n",
    "        plt.xlabel('Time x')\n",
    "        plt.ylabel('signal')\n",
    "        plt.legend(bbox_to_anchor=(0, 1.02, 1, .102), loc=3, ncol=2, mode=\"expand\", borderaxespad=0)\n",
    "        plt.show()\n",
    "\n",
    "    result = fitlogic.make_decayexponential_fit(\n",
    "        x_axis=x_axis,\n",
    "        data=data_noisy,\n",
    "        estimator=fitlogic.estimate_decayexponential)\n",
    "\n",
    "    if plot_results:\n",
    "        plt.figure()\n",
    "        plt.plot(x_axis, data_noisy, 'ob',label='noisy data')\n",
    "        plt.plot(x_nice, mod.eval(x=x_nice, params=params), '-g', label='simulated data')\n",
    "        plt.plot(x_axis, result.init_fit, '-y', linewidth=1.0, label='initial values')\n",
    "        plt.plot(x_axis, result.best_fit, '-r', linewidth=1.0, label='best fit')\n",
    "        plt.legend(bbox_to_anchor=(0, 1.02, 1, .102), loc=3, ncol=2, mode=\"expand\", borderaxespad=0)\n",
    "        plt.xlabel('Time x')\n",
    "        plt.ylabel('signal')\n",
    "        plt.show()"
   ]
  },
  {
   "cell_type": "code",
   "execution_count": null,
   "metadata": {
    "collapsed": true
   },
   "outputs": [],
   "source": [
    "for i in range(repetitions):\n",
    "    bareexponentialdecay_testing()"
   ]
  },
  {
   "cell_type": "code",
   "execution_count": null,
   "metadata": {
    "collapsed": true
   },
   "outputs": [],
   "source": [
    "def stretchedexponentialdecay_testing():\n",
    "    x_axis = np.linspace(0, 51, 100)\n",
    "    x_nice = np.linspace(x_axis[0], x_axis[-1], 100)\n",
    "\n",
    "    mod, params = fitlogic.make_decayexponentialstretched_model()\n",
    "\n",
    "    params['beta'].value = 2 + abs(np.random.normal(0,0.5))\n",
    "    params['amplitude'].value = 10 #- abs(np.random.normal(0,20))\n",
    "    params['lifetime'].value =1 + abs(np.random.normal(0,30))\n",
    "    params['offset'].value = 1 + abs(np.random.normal(0, 20))\n",
    "\n",
    "    data_noisy = (mod.eval(x=x_axis, params=params) + 1.5* np.random.normal(size=x_axis.shape))\n",
    "\n",
    "    result = fitlogic.make_decayexponentialstretched_fit(\n",
    "        x_axis=x_axis,\n",
    "        data=data_noisy,\n",
    "        estimator=fitlogic.estimate_decayexponentialstretched)\n",
    "\n",
    "    data = data_noisy\n",
    "    #calculation of offset\n",
    "    offset = data[-max(1,int(len(x_axis)/10)):].mean()\n",
    "    if data[0]<data[-1]:\n",
    "        params['amplitude'].max = 0-data.std()\n",
    "        data_sub = offset - data\n",
    "    else:\n",
    "        params['amplitude'].min = data.std()\n",
    "        data_sub = data-offset\n",
    "\n",
    "    amplitude = (data_sub.max()\n",
    "                 - data_sub[-max(1, int(len(x_axis)/10)):].mean() \n",
    "                 - data_sub[-max(1,int(len(x_axis)/10)):].std())\n",
    "    \n",
    "    data_level = data_sub / amplitude\n",
    "\n",
    "    a = 0\n",
    "    b = len(data_sub)\n",
    "    for i in range(0,len(data_sub)):\n",
    "        if data_level[i]>=1:\n",
    "            a=i+1\n",
    "        if data_level[i] <=data_level.std():\n",
    "            b=i\n",
    "            break\n",
    "\n",
    "    try:\n",
    "        double_lg_data = np.log(-np.log(data_level[a:b]))\n",
    "\n",
    "        #linear fit, see linearmethods.py\n",
    "        X = np.log(x_axis[a:b])\n",
    "        linear_result = fitlogic.make_linear_fit(axis=X, data=double_lg_data, add_parameters= None)\n",
    "        \n",
    "        if plot_results:\n",
    "            plt.plot(np.log(x_axis),np.log(-np.log(data_level)),'ob')\n",
    "            plt.plot(np.log(x_axis[a:b]),linear_result.best_fit,'-r')\n",
    "            plt.plot(np.log(x_axis[a:b]),linear_result.init_fit,'-y')\n",
    "            plt.show()\n",
    "    except:\n",
    "        print(\"except\")\n",
    "        \n",
    "    if plot_results:\n",
    "        plt.plot(x_axis, data_noisy, 'ob')\n",
    "        plt.plot(x_nice, mod.eval(x=x_nice, params=params), '-g', label='original')\n",
    "        plt.plot(x_axis, result.best_fit, '-r', linewidth=2.0, label='best fit')\n",
    "        plt.plot(x_axis, result.init_fit, '-y', linewidth=2.0, label='init fit')\n",
    "        plt.legend(bbox_to_anchor=(0, 1.02, 1, .102), loc=3, ncol=2, mode=\"expand\", borderaxespad=0)\n",
    "        plt.show()"
   ]
  },
  {
   "cell_type": "code",
   "execution_count": null,
   "metadata": {
    "collapsed": false
   },
   "outputs": [],
   "source": [
    "for i in range(repetitions):\n",
    "    stretchedexponentialdecay_testing()"
   ]
  },
  {
   "cell_type": "code",
   "execution_count": null,
   "metadata": {
    "collapsed": true
   },
   "outputs": [],
   "source": []
  }
 ],
 "metadata": {
  "kernelspec": {
   "display_name": "Qudi",
   "language": "python",
   "name": "qudi"
  },
  "language_info": {
   "codemirror_mode": {
    "name": "ipython",
    "version": "3.6.0"
   },
   "file_extension": ".py",
   "mimetype": "text/x-python",
   "name": "python",
   "nbconvert_exporter": "python",
   "pygments_lexer": "ipython3",
   "version": "3.6.0"
  }
 },
 "nbformat": 4,
 "nbformat_minor": 0
}
