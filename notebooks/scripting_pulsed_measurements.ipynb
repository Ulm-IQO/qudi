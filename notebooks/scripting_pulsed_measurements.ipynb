{
 "cells": [
  {
   "cell_type": "code",
   "execution_count": null,
   "metadata": {},
   "outputs": [],
   "source": [
    "import numpy as np\n",
    "import time"
   ]
  },
  {
   "cell_type": "markdown",
   "metadata": {},
   "source": [
    "# Create a pulse sequence for the measurement"
   ]
  },
  {
   "cell_type": "markdown",
   "metadata": {},
   "source": [
    "### Set desired common parameters for predefined sequence generation"
   ]
  },
  {
   "cell_type": "code",
   "execution_count": null,
   "metadata": {},
   "outputs": [],
   "source": [
    "# To change some parameters you need to use \"pulsedmasterlogic.set_generation_parameters()\"\n",
    "# You can either set each parameter by passing it as keyword argument or give the method a dictionary containing the \n",
    "# parameters to change or a combination of both where the first argument must be the dictionary followed by a number \n",
    "# of keyword arguments.\n",
    "pulsedmasterlogic.set_generation_parameters(sync_channel='d_ch4', microwave_amplitude=0.25, rabi_period=200e-9)\n",
    "pulsedmasterlogic.set_generation_parameters({'sync_channel': 'd_ch4', 'microwave_amplitude': 0.25, 'rabi_period': 200e-9})\n",
    "pulsedmasterlogic.set_generation_parameters({'sync_channel': 'd_ch4', 'microwave_amplitude': 0.25}, rabi_period=200e-9)\n",
    "\n",
    "# Read-only access to all available and currently set global generation parameters as dictionary via property\n",
    "for param, value in pulsedmasterlogic.generation_parameters.items():\n",
    "    print('{0}: {1}'.format(param, value))"
   ]
  },
  {
   "cell_type": "markdown",
   "metadata": {},
   "source": [
    "### Call the desired predefined generation method with additional sequence specific parameters"
   ]
  },
  {
   "cell_type": "code",
   "execution_count": null,
   "metadata": {},
   "outputs": [],
   "source": [
    "# This property contains all available predefined generate method names together with the respective set \n",
    "# of parameters with default values.\n",
    "for method, params in pulsedmasterlogic.generate_method_params.items():\n",
    "    print('{0}:\\n  {1}'.format(method, params))"
   ]
  },
  {
   "cell_type": "code",
   "execution_count": null,
   "metadata": {},
   "outputs": [],
   "source": [
    "# Get the dictionary containing the default parameters for the desired sequence and alter the values as needed.\n",
    "generate_params = pulsedmasterlogic.generate_method_params['rabi']\n",
    "generate_params['name'] = 'my_rabi'\n",
    "generate_params['number_of_taus'] = 50\n",
    "\n",
    "# Call the actual generation method using a wrapper method and pass the parameter set\n",
    "pulsedmasterlogic.generate_predefined_sequence('rabi', generate_params)\n",
    "# Give it a moment to generate\n",
    "time.sleep(0.5)\n",
    "\n",
    "# The created object is a PulseBlockEnsemble instance, a recipe to create a waveform.\n",
    "# You can get all created PulseBlockEnsembles using this property (keys are ensemble names, values are the object instances):\n",
    "for ensemble_name in pulsedmasterlogic.saved_pulse_block_ensembles.keys():\n",
    "    print(ensemble_name)"
   ]
  },
  {
   "cell_type": "markdown",
   "metadata": {},
   "source": [
    "### Sample the created PulseBlockEnsemble and write a waveform to the pulse generator (AWG)"
   ]
  },
  {
   "cell_type": "code",
   "execution_count": null,
   "metadata": {},
   "outputs": [],
   "source": [
    "# The \"with_load\" flag can be used to also load the waveform into the channels after creating it\n",
    "pulsedmasterlogic.sample_ensemble('my_rabi', with_load=True)\n",
    "# Wait for the sampling to finish. There is a status dictionary that can be used to check for process status.\n",
    "while pulsedmasterlogic.status_dict['sampload_busy']:\n",
    "    time.sleep(0.1)"
   ]
  },
  {
   "cell_type": "code",
   "execution_count": null,
   "metadata": {},
   "outputs": [],
   "source": [
    "# You can check on the currently loaded asset on the pulse generator by using the following property:\n",
    "print('currently loaded asset:', pulsedmasterlogic.loaded_asset)\n",
    "# You can check on all created waveforms on the pulse generator by using the following property:\n",
    "print('Available waveforms on device:', pulsedmasterlogic.sampled_waveforms)"
   ]
  },
  {
   "cell_type": "markdown",
   "metadata": {},
   "source": [
    "# Set up the actual measurement"
   ]
  },
  {
   "cell_type": "markdown",
   "metadata": {},
   "source": [
    "### Set the measurement settings"
   ]
  },
  {
   "cell_type": "code",
   "execution_count": null,
   "metadata": {},
   "outputs": [],
   "source": [
    "# If the pulse sequence has been generated not using predefined methods (e.g. using the graphical table editor) the \n",
    "# measurement settings have to be given manually.\n",
    "# In the same way as setting the generation parameters you can either pass a settings dictionary or single keyword \n",
    "# arguments or a combination of both:\n",
    "pulsedmasterlogic.set_measurement_settings(invoke_settings=False, \n",
    "                                           controlled_variable=1e-8 + np.arange(50) * 1e-8,\n",
    "                                           number_of_lasers=50, \n",
    "                                           laser_ignore_list=[], \n",
    "                                           alternating=False, \n",
    "                                           units=('s', 'arb. u.'))\n",
    "time.sleep(0.5)\n",
    "\n",
    "# If the pulse sequence to run has been generated using predefined methods, the measurement settings can be invoked \n",
    "# from the PulseBlockEnsemble attribute \"measurement_information\". In that case it is enough to execute the following:\n",
    "pulsedmasterlogic.set_measurement_settings(invoke_settings=True)\n",
    "time.sleep(0.5)"
   ]
  },
  {
   "cell_type": "code",
   "execution_count": null,
   "metadata": {},
   "outputs": [],
   "source": [
    "# You can get a read-only view of the current measurement settings by using this property:\n",
    "for setting, value in pulsedmasterlogic.measurement_settings.items():\n",
    "    print('{0}:\\n  {1}'.format(setting, value))"
   ]
  },
  {
   "cell_type": "markdown",
   "metadata": {},
   "source": [
    "### Set the fast counter settings (when NOT using \"invoke_settings\")"
   ]
  },
  {
   "cell_type": "code",
   "execution_count": null,
   "metadata": {},
   "outputs": [],
   "source": [
    "# In case you used \"invoke_Settings\" this part is not necessary\n",
    "# The number_of_gates is only used in case of a hardware gated fast counter. It will always be set to 0 otherwise.\n",
    "# The record length should be the length of the pulse sequence for an ungated counter and the length of the longest \n",
    "# gate for a gated counter.\n",
    "pulsedmasterlogic.set_fast_counter_settings(record_length=237.8e-6, number_of_gates=50)\n",
    "time.sleep(0.5)"
   ]
  },
  {
   "cell_type": "code",
   "execution_count": null,
   "metadata": {},
   "outputs": [],
   "source": [
    "# You can see the current fast counter settings with the this property:\n",
    "for setting, value in pulsedmasterlogic.fast_counter_settings.items():\n",
    "    print('{0}: {1}'.format(setting, value))"
   ]
  },
  {
   "cell_type": "markdown",
   "metadata": {},
   "source": [
    "### Set extraction settings"
   ]
  },
  {
   "cell_type": "code",
   "execution_count": null,
   "metadata": {},
   "outputs": [],
   "source": [
    "# You can also change how qudi will extract laser pulses from the raw fast counter timetrace.\n",
    "# You can get all available extraction methods with the following property:\n",
    "print(list(pulsedmasterlogic.extraction_methods))"
   ]
  },
  {
   "cell_type": "code",
   "execution_count": null,
   "metadata": {},
   "outputs": [],
   "source": [
    "# To change the current extraction method:\n",
    "pulsedmasterlogic.set_extraction_settings(method='threshold')\n",
    "time.sleep(0.2)\n",
    "\n",
    "# You can get the current extraction method along with all needed settings with the read-only property:\n",
    "for setting, value in pulsedmasterlogic.extraction_settings.items():\n",
    "    print('{0}: {1}'.format(setting, value))"
   ]
  },
  {
   "cell_type": "code",
   "execution_count": null,
   "metadata": {},
   "outputs": [],
   "source": [
    "# Set the extraction settings in the same way as you set other settings\n",
    "pulsedmasterlogic.set_extraction_settings(count_threshold=20, min_laser_length=100e-9, threshold_tolerance=10e-9)\n",
    "time.sleep(0.2)"
   ]
  },
  {
   "cell_type": "markdown",
   "metadata": {},
   "source": [
    "### Set analysis settings"
   ]
  },
  {
   "cell_type": "code",
   "execution_count": null,
   "metadata": {},
   "outputs": [],
   "source": [
    "# Completely analogous to the extraction method\n",
    "print(list(pulsedmasterlogic.analysis_methods))"
   ]
  },
  {
   "cell_type": "code",
   "execution_count": null,
   "metadata": {},
   "outputs": [],
   "source": [
    "# To change the current analysis method:\n",
    "pulsedmasterlogic.set_analysis_settings(method='mean_norm')\n",
    "time.sleep(0.2)\n",
    "\n",
    "# You can get the current analysis method along with all needed settings with the read-only property:\n",
    "for setting, value in pulsedmasterlogic.analysis_settings.items():\n",
    "    print('{0}: {1}'.format(setting, value))"
   ]
  },
  {
   "cell_type": "code",
   "execution_count": null,
   "metadata": {},
   "outputs": [],
   "source": [
    "# Set the analysis settings in the same way as you set other settings\n",
    "pulsedmasterlogic.set_analysis_settings(signal_start=0.0, signal_end=2e-7, norm_start=4e-7, norm_end=7e-7)\n",
    "time.sleep(0.2)"
   ]
  },
  {
   "cell_type": "markdown",
   "metadata": {},
   "source": [
    "### When using an additional external CW microwave, set microwave settings"
   ]
  },
  {
   "cell_type": "code",
   "execution_count": null,
   "metadata": {},
   "outputs": [],
   "source": [
    "# Set new values\n",
    "pulsedmasterlogic.set_ext_microwave_settings(power=-20, frequency=2.5e9, use_ext_microwave=True)\n",
    "time.sleep(0.5)\n",
    "\n",
    "# get the current settings with the following property:\n",
    "for setting, value in pulsedmasterlogic.ext_microwave_settings.items():\n",
    "    print('{0}: {1}'.format(setting, value))"
   ]
  },
  {
   "cell_type": "markdown",
   "metadata": {},
   "source": [
    "### You can set if a second plot should be shown with a certain data transformation"
   ]
  },
  {
   "cell_type": "code",
   "execution_count": null,
   "metadata": {},
   "outputs": [],
   "source": [
    "pulsedmasterlogic.set_alternative_data_type('FFT')\n",
    "time.sleep(0.5)\n",
    "print(pulsedmasterlogic.alternative_data_type)"
   ]
  },
  {
   "cell_type": "markdown",
   "metadata": {},
   "source": [
    "### Set the refresh rate for the measurement data"
   ]
  },
  {
   "cell_type": "code",
   "execution_count": null,
   "metadata": {},
   "outputs": [],
   "source": [
    "# This will set the time interval for reading the raw data from the fast counter and analyzing it. \n",
    "# Don't set this interval too small since it can lead to heavy CPU load and crashes.\n",
    "# If you want to update the data on demand you can always click the \"pull and analyze data\" button in the GUI.\n",
    "pulsedmasterlogic.set_timer_interval(5)\n",
    "time.sleep(0.2)\n",
    "print(pulsedmasterlogic.timer_interval)"
   ]
  },
  {
   "cell_type": "markdown",
   "metadata": {},
   "source": [
    "# Start the pulsed measurement"
   ]
  },
  {
   "cell_type": "code",
   "execution_count": null,
   "metadata": {},
   "outputs": [],
   "source": [
    "# If everything is properly set, we can start a measurement simply by calling:\n",
    "pulsedmasterlogic.toggle_pulsed_measurement(True)\n",
    "# Wait until the pulsedmeasurementlogic is actually busy and the measurement is running\n",
    "while pulsedmeasurementlogic.module_state() != 'locked':\n",
    "    time.sleep(0.2)"
   ]
  },
  {
   "cell_type": "markdown",
   "metadata": {},
   "source": [
    "# Stop the pulsed measurement"
   ]
  },
  {
   "cell_type": "code",
   "execution_count": null,
   "metadata": {},
   "outputs": [],
   "source": [
    "pulsedmasterlogic.toggle_pulsed_measurement(False)\n",
    "# Wait until the pulsedmeasurementlogic is actually idle and the measurement is stopped\n",
    "while pulsedmeasurementlogic.module_state() == 'locked':\n",
    "    time.sleep(0.2)"
   ]
  },
  {
   "cell_type": "markdown",
   "metadata": {},
   "source": [
    "# Save the measurement data"
   ]
  },
  {
   "cell_type": "code",
   "execution_count": null,
   "metadata": {},
   "outputs": [],
   "source": [
    "pulsedmasterlogic.save_measurement_data(tag='my_dummy_measurement', with_error=True)"
   ]
  }
 ],
 "metadata": {
  "kernelspec": {
   "display_name": "Qudi",
   "language": "python",
   "name": "qudi"
  },
  "language_info": {
   "codemirror_mode": {
    "name": "ipython",
    "version": "3.6.5"
   },
   "file_extension": ".py",
   "mimetype": "text/x-python",
   "name": "python",
   "nbconvert_exporter": "python",
   "pygments_lexer": "ipython3",
   "version": "3.6.5"
  }
 },
 "nbformat": 4,
 "nbformat_minor": 2
}
