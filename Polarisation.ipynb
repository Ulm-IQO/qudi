{
 "cells": [
  {
   "cell_type": "code",
   "execution_count": 18,
   "metadata": {
    "collapsed": false
   },
   "outputs": [
    {
     "data": {
      "image/png": "[encoded data removed]"
     },
     "metadata": {
      "image/png": {
       "height": 361,
       "width": 363
      }
     },
     "output_type": "display_data"
    }
   ],
   "source": [
    "import matplotlib.pyplot as plt\n",
    "\n",
    "plt.imshow(scanner.xy_image[:,:,3],cmap='hot')\n",
    "plt.show()"
   ]
  },
  {
   "cell_type": "code",
   "execution_count": 23,
   "metadata": {
    "collapsed": false
   },
   "outputs": [
    {
     "data": {
      "image/png": "[encoded data removed]"
     },
     "metadata": {
      "image/png": {
       "height": 361,
       "width": 373
      }
     },
     "output_type": "display_data"
    }
   ],
   "source": [
    "plt.imshow(optimizer.xy_refocus_image[:,:,3])\n",
    "plt.show()"
   ]
  },
  {
   "cell_type": "code",
   "execution_count": 24,
   "metadata": {
    "collapsed": true
   },
   "outputs": [],
   "source": [
    "import numpy as np\n",
    "\n",
    "np.savetxt('deg0.txt', optimizer.xy_refocus_image[:,:,3], fmt='%d')\n",
    "\n"
   ]
  },
  {
   "cell_type": "code",
   "execution_count": 34,
   "metadata": {
    "collapsed": false
   },
   "outputs": [],
   "source": [
    "optimizer.start_refocus()"
   ]
  },
  {
   "cell_type": "code",
   "execution_count": 28,
   "metadata": {
    "collapsed": false
   },
   "outputs": [],
   "source": [
    "b = np.loadtxt('deg0.txt', dtype=int)"
   ]
  },
  {
   "cell_type": "code",
   "execution_count": 31,
   "metadata": {
    "collapsed": false
   },
   "outputs": [
    {
     "data": {
      "image/png": "[encoded data removed]"
     },
     "metadata": {
      "image/png": {
       "height": 361,
       "width": 373
      }
     },
     "output_type": "display_data"
    }
   ],
   "source": [
    "plt.imshow(b)\n",
    "plt.show()"
   ]
  },
  {
   "cell_type": "code",
   "execution_count": 30,
   "metadata": {
    "collapsed": false
   },
   "outputs": [
    {
     "data": {
      "text/plain": [
       "array([[  2476.,   2552.,   2661.,   2823.,   2920.,   3680.,   3244.,\n",
       "          3789.,   3430.,   3479.,   2684.,   4104.,   4668.,   3889.,\n",
       "          3777.,   4017.,   3613.,   3788.,   3535.,   2989.],\n",
       "       [  2151.,   2531.,   2866.,   2673.,   3049.,   3143.,   3735.,\n",
       "          4468.,   4103.,   3935.,   4385.,   4366.,   4640.,   4308.,\n",
       "          4458.,   4341.,   3713.,   3814.,   3232.,   2997.],\n",
       "       [  2259.,   2962.,   3516.,   3001.,   3736.,   3693.,   3894.,\n",
       "          4396.,   5167.,   3991.,   5127.,   5204.,   4646.,   5240.,\n",
       "          4396.,   4038.,   4825.,   4014.,   3930.,   3600.],\n",
       "       [  2968.,   3597.,   2990.,   4195.,   3796.,   4642.,   4122.,\n",
       "          4120.,   3827.,   5414.,   4523.,   6054.,   5368.,   4841.,\n",
       "          5181.,   4852.,   4315.,   4264.,   5411.,   4121.],\n",
       "       [  3109.,   2969.,   3052.,   3251.,   3014.,   4589.,   5137.,\n",
       "          5050.,   5491.,   5986.,   6314.,   6669.,   5190.,   5417.,\n",
       "          6026.,   5618.,   5491.,   4695.,   4237.,   3758.],\n",
       "       [  2756.,   2960.,   3017.,   4235.,   4225.,   5105.,   5369.,\n",
       "          6191.,   6217.,   6419.,   7638.,   6412.,   6965.,   4776.,\n",
       "          4335.,   6989.,   5602.,   5226.,   5448.,   4021.],\n",
       "       [  2902.,   2500.,   4228.,   3492.,   4989.,   5531.,   5920.,\n",
       "          7215.,   7422.,   6189.,   8699.,   7545.,   7954.,   7459.,\n",
       "          6451.,   5846.,   4971.,   6654.,   5628.,   4659.],\n",
       "       [  3189.,   2585.,   3971.,   3682.,   5325.,   5818.,   5254.,\n",
       "          7393.,   6880.,   7981.,   7910.,   8180.,   8111.,   8135.,\n",
       "          7198.,   5867.,   6091.,   5977.,   5950.,   5239.],\n",
       "       [  3638.,   2922.,   3659.,   4228.,   5149.,   5059.,   6799.,\n",
       "          6194.,   7123.,   8800.,  11007.,   8414.,   7734.,   8207.,\n",
       "          7253.,   8434.,   7254.,   6026.,   6139.,   5536.],\n",
       "       [  3836.,   3928.,   3057.,   5182.,   5547.,   5471.,   7048.,\n",
       "          7163.,   7682.,   8802.,   9548.,   8451.,   6361.,   9316.,\n",
       "          6782.,   6528.,   6754.,   5764.,   5683.,   4704.],\n",
       "       [  3240.,   3553.,   3868.,   4183.,   5813.,   6786.,   6702.,\n",
       "          7990.,   8996.,   8936.,   9296.,   7823.,   8620.,   6767.,\n",
       "          6484.,   6487.,   6700.,   6627.,   6144.,   4431.],\n",
       "       [  4084.,   3735.,   4022.,   4221.,   5475.,   6571.,   7134.,\n",
       "          7086.,   8360.,   8874.,   7893.,   8638.,   8731.,   8224.,\n",
       "          6367.,   6084.,   6351.,   6139.,   4755.,   5664.],\n",
       "       [  3012.,   3526.,   3665.,   4843.,   4195.,   5726.,   5890.,\n",
       "          5606.,   8666.,   5852.,   7756.,   7529.,   7630.,   6446.,\n",
       "          6581.,   5749.,   5512.,   5822.,   5090.,   5362.],\n",
       "       [  3381.,   2992.,   3726.,   3668.,   4418.,   5545.,   6282.,\n",
       "          6235.,   7271.,   7743.,   7470.,   6319.,   7367.,   4818.,\n",
       "          5726.,   5260.,   5729.,   5358.,   5614.,   4852.],\n",
       "       [  3165.,   3228.,   3480.,   4118.,   3640.,   5289.,   5631.,\n",
       "          6008.,   5327.,   6855.,   6263.,   6474.,   5545.,   5664.,\n",
       "          5145.,   4580.,   4560.,   4816.,   4997.,   4752.],\n",
       "       [  3362.,   3252.,   3688.,   3569.,   3770.,   5027.,   4894.,\n",
       "          5497.,   5990.,   6124.,   5778.,   5738.,   4708.,   4378.,\n",
       "          4825.,   4578.,   4412.,   4751.,   4370.,   3213.],\n",
       "       [  3050.,   3083.,   3377.,   3155.,   4037.,   4779.,   5390.,\n",
       "          5254.,   5356.,   5127.,   4804.,   5818.,   4288.,   4201.,\n",
       "          5187.,   3753.,   3676.,   4024.,   3759.,   4124.],\n",
       "       [  3045.,   2791.,   3401.,   3868.,   3857.,   4296.,   4858.,\n",
       "          3544.,   5119.,   3633.,   4691.,   5075.,   4712.,   3242.,\n",
       "          3248.,   3638.,   2791.,   3544.,   3487.,   3384.],\n",
       "       [  2729.,   2647.,   2762.,   3136.,   3979.,   4058.,   4294.,\n",
       "          4478.,   3754.,   4639.,   3933.,   3983.,   3720.,   4633.,\n",
       "          3244.,   3445.,   3418.,   2966.,   3116.,   2980.],\n",
       "       [  2641.,   2700.,   2818.,   2545.,   3515.,   4006.,   4039.,\n",
       "          4133.,   4477.,   3981.,   3934.,   3016.,   3706.,   3366.,\n",
       "          4085.,   2885.,   3096.,   3067.,   2707.,   2694.]])"
      ]
     },
     "execution_count": 30,
     "metadata": {},
     "output_type": "execute_result"
    }
   ],
   "source": [
    "optimizer.xy_refocus_image[:,:,3]"
   ]
  },
  {
   "cell_type": "code",
   "execution_count": null,
   "metadata": {
    "collapsed": true
   },
   "outputs": [],
   "source": []
  }
 ],
 "metadata": {
  "kernelspec": {
   "display_name": "Qudi",
   "language": "python",
   "name": "qudi"
  },
  "language_info": {
   "codemirror_mode": {
    "name": "ipython",
    "version": "3.6.0"
   },
   "file_extension": ".py",
   "mimetype": "text/x-python",
   "name": "python",
   "nbconvert_exporter": "python",
   "pygments_lexer": "ipython3",
   "version": "3.6.0"
  }
 },
 "nbformat": 4,
 "nbformat_minor": 2
}
