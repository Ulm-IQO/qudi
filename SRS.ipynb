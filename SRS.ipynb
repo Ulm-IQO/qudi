{
 "cells": [
  {
   "cell_type": "code",
   "execution_count": 16,
   "metadata": {
    "collapsed": false
   },
   "outputs": [],
   "source": [
    "import visa"
   ]
  },
  {
   "cell_type": "code",
   "execution_count": 2,
   "metadata": {
    "collapsed": false
   },
   "outputs": [
    {
     "data": {
      "text/plain": [
       "('ASRL1::INSTR', 'ASRL3::INSTR', 'ASRL4::INSTR', 'ASRL5::INSTR', 'ASRL10::INSTR', 'GPIB0::3::INSTR')"
      ]
     },
     "execution_count": 2,
     "metadata": {},
     "output_type": "execute_result"
    }
   ],
   "source": [
    "rm = visa.ResourceManager()\n",
    "rm.list_resources()"
   ]
  },
  {
   "cell_type": "code",
   "execution_count": 3,
   "metadata": {
    "collapsed": false
   },
   "outputs": [
    {
     "data": {
      "text/plain": [
       "'Stanford_Research_Systems,SR865,002604,V1.25\\n'"
      ]
     },
     "execution_count": 3,
     "metadata": {},
     "output_type": "execute_result"
    }
   ],
   "source": [
    "dmm = rm.open_resource('GPIB0::3::INSTR')\n",
    "dmm.query('*IDN?')"
   ]
  },
  {
   "cell_type": "code",
   "execution_count": 23,
   "metadata": {
    "collapsed": false
   },
   "outputs": [],
   "source": [
    "volt = float(dmm.query('AUXV? 2'))"
   ]
  },
  {
   "cell_type": "code",
   "execution_count": 8,
   "metadata": {
    "collapsed": false
   },
   "outputs": [
    {
     "data": {
      "text/plain": [
       "(17, <StatusCode.success: 0>)"
      ]
     },
     "execution_count": 8,
     "metadata": {},
     "output_type": "execute_result"
    }
   ],
   "source": [
    "\n",
    "\n",
    "if volt < 0 or volt > 10:\n",
    "    self.log.info('Voltage out of range of piezo driver'\n",
    "else:\n",
    "    dmm.write('AUXV 2, 10.0789')"
   ]
  },
  {
   "cell_type": "code",
   "execution_count": 20,
   "metadata": {
    "collapsed": false
   },
   "outputs": [
    {
     "name": "stdout",
     "output_type": "stream",
     "text": [
      "Devices not found\n"
     ]
    }
   ],
   "source": [
    "try:\n",
    "    dmm = rm.open_resource('GPIB0::3::INSTR')\n",
    "except visa.VisaIOError:\n",
    "    self.log.error('GPIB device not found')\n"
   ]
  },
  {
   "cell_type": "code",
   "execution_count": 26,
   "metadata": {
    "collapsed": false
   },
   "outputs": [
    {
     "name": "stderr",
     "output_type": "stream",
     "text": [
      "Traceback (most recent call last):\n",
      "  File \"C:\\Users\\it064639-admin\\qudi\\logic\\jupyterkernel\\qzmqkernel.py\", line 795, in run_code\n",
      "    exec(code_obj, self.user_global_ns, self.user_ns)\n",
      "  File \"<ipython-input-26-26b69105e1df>\", line 1, in <module>\n",
      "    dmm\n",
      "  File \"C:\\Users\\it064639-admin\\qudi\\logic\\jupyterkernel\\helpers.py\", line 76, in __call__\n",
      "    self.result.result.append(repr(obj))\n",
      "  File \"C:\\Users\\it064639-admin\\Anaconda3\\envs\\qudi\\lib\\site-packages\\pyvisa\\resources\\resource.py\", line 114, in __repr__\n",
      "    return \"<%r(%r)>\" % (self.__class__.__name__, self.resource_name)\n",
      "  File \"C:\\Users\\it064639-admin\\Anaconda3\\envs\\qudi\\lib\\site-packages\\pyvisa\\attributes.py\", line 104, in __get__\n",
      "    return self.post_get(instance.get_visa_attribute(self.attribute_id))\n",
      "  File \"C:\\Users\\it064639-admin\\Anaconda3\\envs\\qudi\\lib\\site-packages\\pyvisa\\resources\\resource.py\", line 257, in get_visa_attribute\n",
      "    return self.visalib.get_attribute(self.session, name)[0]\n",
      "  File \"C:\\Users\\it064639-admin\\Anaconda3\\envs\\qudi\\lib\\site-packages\\pyvisa\\resources\\resource.py\", line 100, in session\n",
      "    raise errors.InvalidSession()\n",
      "pyvisa.errors.InvalidSession: Invalid session handle. The resource might be closed.\n"
     ]
    }
   ],
   "source": [
    "dmm"
   ]
  },
  {
   "cell_type": "code",
   "execution_count": null,
   "metadata": {
    "collapsed": true
   },
   "outputs": [],
   "source": [
    "'''\n",
    "\n",
    "When using the GPIB interface, serial polling may be used to\n",
    "check the Interface Ready \n",
    "bit in the Serial Poll Byte while an operation is in progress. After the Interface Ready bit \n",
    "becomes set, \n",
    "signaling\n",
    "the completion of the command, then the ERR or ESB bit may be \n",
    "checked to verify successful completion of the command\n",
    "\n",
    "http://www.thinksrs.com/downloads/PDFs/Manuals/SR865Am.pdf\n",
    "\n",
    "A command to the \n",
    "SR865A\n",
    "consist\n",
    "s of a command mnemonic, a space followed by \n",
    "arguments if necessary, and a command terminator. \n",
    "There MUST be at least one space \n",
    "between the command and the first argument.\n",
    "\n",
    "\n",
    "The command\n",
    "terminator must be a \n",
    "linefeed <lf> on \n",
    "RS-232\n",
    ", or a linefeed <lf> or EOI on GPIB. No command processing \n",
    "occurs until a command terminator is received\n",
    "\n",
    "\n",
    "Multiple commands may be sent separated with semicolons ; \n",
    "\n",
    "\n",
    "No space between command and ?\n",
    "\n",
    "\n",
    "Command and arguments may be in either upper or lower case\n",
    "\n",
    "Base unit volts\n",
    "\n",
    "AUXV? 2  returns aux out3 in v\n",
    "\n",
    "AUXV 2, 0.6789 sets aux3 out to that voltage\n",
    "\n",
    "\n",
    "'''"
   ]
  }
 ],
 "metadata": {
  "kernelspec": {
   "display_name": "Qudi",
   "language": "python",
   "name": "qudi"
  },
  "language_info": {
   "codemirror_mode": {
    "name": "ipython",
    "version": "3.6.0"
   },
   "file_extension": ".py",
   "mimetype": "text/x-python",
   "name": "python",
   "nbconvert_exporter": "python",
   "pygments_lexer": "ipython3",
   "version": "3.6.0"
  }
 },
 "nbformat": 4,
 "nbformat_minor": 2
}
